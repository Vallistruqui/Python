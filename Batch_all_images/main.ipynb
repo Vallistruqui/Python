{
 "cells": [
  {
   "cell_type": "code",
   "execution_count": 7,
   "metadata": {},
   "outputs": [],
   "source": [
    "import PIL\n",
    "import os\n",
    "import os.path\n",
    "from PIL import Image"
   ]
  },
  {
   "cell_type": "code",
   "execution_count": 12,
   "metadata": {},
   "outputs": [],
   "source": [
    "def resize_img(pix_x, pix_y, input_path = r'C://Users//Pedro Vallarino//Downloads//chapas_jpg', output_path = r'C://Users//Pedro Vallarino//Downloads//chapas_resized'):\n",
    "    for file in os.listdir(input_path):\n",
    "        input_img = input_path + \"/\" + file\n",
    "        img = Image.open(input_img)\n",
    "        img = img.resize((pix_x,pix_y))\n",
    "        \n",
    "        output_img = output_path + \"/\" + file\n",
    "        img.save(output_img)"
   ]
  },
  {
   "cell_type": "code",
   "execution_count": 13,
   "metadata": {},
   "outputs": [],
   "source": [
    "resize_img(512,512)"
   ]
  }
 ],
 "metadata": {
  "kernelspec": {
   "display_name": "Python 3.11.0 64-bit",
   "language": "python",
   "name": "python3"
  },
  "language_info": {
   "codemirror_mode": {
    "name": "ipython",
    "version": 3
   },
   "file_extension": ".py",
   "mimetype": "text/x-python",
   "name": "python",
   "nbconvert_exporter": "python",
   "pygments_lexer": "ipython3",
   "version": "3.11.0"
  },
  "orig_nbformat": 4,
  "vscode": {
   "interpreter": {
    "hash": "ac4fed40ad656cfc3f59e7889496edb860660c5a9e53bb1a6ba089aa06c69f0e"
   }
  }
 },
 "nbformat": 4,
 "nbformat_minor": 2
}
