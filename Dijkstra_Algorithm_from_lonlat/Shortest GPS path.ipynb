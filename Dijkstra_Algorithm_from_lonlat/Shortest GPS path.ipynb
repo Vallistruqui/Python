{
 "cells": [
  {
   "cell_type": "markdown",
   "metadata": {},
   "source": [
    "# Shortest GPS path \n",
    "##### The objective of this code is to calculate the shortest path for a route, given a certain amount of random GPS coordinates. This path will be calculated using Dijkstra's Algorithm."
   ]
  },
  {
   "cell_type": "markdown",
   "metadata": {},
   "source": [
    "Creating a random set of coordinate points to test the Algorithm"
   ]
  },
  {
   "cell_type": "code",
   "execution_count": 6,
   "metadata": {},
   "outputs": [
    {
     "name": "stdout",
     "output_type": "stream",
     "text": [
      "[0, 1, 2, 3, 4, 5, 6, 7, 8, 9, 10, 11, 12, 13, 14, 15, 16, 17, 18, 19, 20, 21, 22, 23, 24, 25, 26, 27, 28, 29, 30, 31, 32, 33, 34, 35, 36, 37, 38, 39, 40, 41, 42, 43, 44, 45, 46, 47, 48, 49, 50, 51, 52, 53, 54, 55, 56, 57, 58, 59, 60, 61, 62, 63, 64, 65, 66, 67, 68, 69, 70, 71, 72, 73, 74, 75, 76, 77, 78, 79, 80, 81, 82, 83, 84, 85, 86, 87, 88, 89, 90, 91, 92, 93, 94, 95, 96, 97, 98, 99] \n",
      " \n",
      " [[-58.61899, -34.56252], [-58.68979, -34.56868], [-58.67524, -34.63588], [-58.65266, -34.64724], [-58.65155, -34.55147], [-58.69314, -34.58514], [-58.66745, -34.63952], [-58.63415, -34.59529], [-58.66364, -34.59834], [-58.67302, -34.58753], [-58.68631, -34.63235], [-58.63817, -34.59535], [-58.69075, -34.64196], [-58.68532, -34.6049], [-58.60619, -34.55116], [-58.69922, -34.59689], [-58.6256, -34.62579], [-58.62048, -34.56808], [-58.61914, -34.61478], [-58.67484, -34.63613], [-58.63224, -34.64844], [-58.66497, -34.55391], [-58.69053, -34.6277], [-58.69044, -34.5565], [-58.63481, -34.58012], [-58.6676, -34.59269], [-58.67167, -34.5659], [-58.68857, -34.5952], [-58.63398, -34.57881], [-58.68037, -34.60295], [-58.67704, -34.56963], [-58.66331, -34.5773], [-58.688, -34.60061], [-58.61862, -34.58835], [-58.69343, -34.59937], [-58.68487, -34.64539], [-58.61877, -34.57281], [-58.69579, -34.56007], [-58.65037, -34.63916], [-58.63162, -34.59321], [-58.61033, -34.62758], [-58.62977, -34.55573], [-58.67422, -34.59115], [-58.64953, -34.56699], [-58.60869, -34.64213], [-58.69865, -34.61674], [-58.67371, -34.61371], [-58.63297, -34.60189], [-58.68718, -34.63312], [-58.65195, -34.55536], [-58.66716, -34.62298], [-58.64453, -34.58524], [-58.62166, -34.58807], [-58.61253, -34.60249], [-58.64654, -34.55457], [-58.66107, -34.64878], [-58.69958, -34.58642], [-58.66394, -34.6241], [-58.60604, -34.56344], [-58.62716, -34.64034], [-58.60054, -34.6202], [-58.63679, -34.60422], [-58.64717, -34.62969], [-58.69215, -34.62184], [-58.63554, -34.61861], [-58.62061, -34.55421], [-58.69787, -34.60251], [-58.60958, -34.58084], [-58.69771, -34.56969], [-58.61967, -34.64791], [-58.67237, -34.58877], [-58.6833, -34.61619], [-58.69845, -34.63868], [-58.64829, -34.58602], [-58.69263, -34.58608], [-58.63339, -34.63145], [-58.69437, -34.6481], [-58.65822, -34.62262], [-58.60458, -34.62298], [-58.6943, -34.6105], [-58.61944, -34.57197], [-58.65357, -34.64711], [-58.68813, -34.63768], [-58.61398, -34.60288], [-58.68715, -34.64561], [-58.63729, -34.64127], [-58.65864, -34.61296], [-58.60734, -34.59515], [-58.69668, -34.61243], [-58.6707, -34.64904], [-58.67068, -34.5797], [-58.64706, -34.59048], [-58.60513, -34.62483], [-58.65887, -34.6091], [-58.60018, -34.64027], [-58.67509, -34.58332], [-58.63746, -34.62316], [-58.6882, -34.6344], [-58.65247, -34.64587], [-58.62787, -34.62018]]\n"
     ]
    }
   ],
   "source": [
    "import random \n",
    "\n",
    "visit_ids = []\n",
    "coords = []\n",
    "\n",
    "for i in range(0,100):\n",
    "    visit_ids.append(i)\n",
    "    coords.append([round(random.uniform(-58.70000 ,-58.60000), 5),round(random.uniform(-34.65000 ,-34.55000), 5)])\n",
    "\n",
    "print(visit_ids, '\\n','\\n', coords)"
   ]
  },
  {
   "cell_type": "markdown",
   "metadata": {},
   "source": [
    "The functions necessary to run the algorithm"
   ]
  },
  {
   "cell_type": "code",
   "execution_count": 7,
   "metadata": {},
   "outputs": [],
   "source": [
    "from collections import defaultdict\n",
    "from math import sqrt\n",
    "\n",
    "# Shortest path to all coordinates from any node\n",
    "# Coordinates must be provided as a list containing lists of\n",
    "# x/y pairs. ie [[23.2321, 58.3123], [x.xxx, y.yyy]]\n",
    "\n",
    "\n",
    "def distance_between_coords(x1, y1, x2, y2):\n",
    "    distance = sqrt(((x2 - x1) ** 2) + ((y2 - y1) ** 2))\n",
    "    return distance\n",
    "\n",
    "\n",
    "# Adds \"names\" to coordinates to use as keys for edge detection\n",
    "def name_coords(coords):\n",
    "    coord_count = 0\n",
    "    for coord in coords:\n",
    "        coord_count += 1\n",
    "        coord.append(coord_count)\n",
    "    return coords\n",
    "\n",
    "\n",
    "# Creates a weighted and undirected graph\n",
    "# Returns named coordinates and their connected edges as a dictonary\n",
    "def graph(coords):\n",
    "    coords = name_coords(coords)\n",
    "    graph = defaultdict(list)\n",
    "    edges = {}\n",
    "    for current in coords:\n",
    "        for comparer in coords:\n",
    "            if comparer == current:\n",
    "                continue\n",
    "            else:\n",
    "                weight = distance_between_coords(current[0], current[1],\n",
    "                                                 comparer[0], comparer[1])\n",
    "                graph[current[2]].append(comparer[2])\n",
    "                edges[current[2], comparer[2]] = weight\n",
    "    return coords, edges\n",
    "\n",
    "\n",
    "# Returns a path to all nodes with least weight as a list of names\n",
    "# from a specific node\n",
    "def shortest_path(node_list, edges, start):\n",
    "    neighbor = 0\n",
    "    unvisited = []\n",
    "    visited = []\n",
    "    total_weight = 0\n",
    "    current_node = start\n",
    "    for node in node_list:\n",
    "        if node[2] == start:\n",
    "            visited.append(start)\n",
    "        else:\n",
    "            unvisited.append(node[2])\n",
    "    while unvisited:\n",
    "        for index, neighbor in enumerate(unvisited):\n",
    "            if index == 0:\n",
    "                current_weight = edges[start, neighbor]\n",
    "                current_node = neighbor\n",
    "            elif edges[start, neighbor] < current_weight:\n",
    "                current_weight = edges[start, neighbor]\n",
    "                current_node = neighbor\n",
    "        total_weight += current_weight\n",
    "        unvisited.remove(current_node)\n",
    "        visited.append(current_node)\n",
    "    return visited, total_weight\n",
    "\n",
    "\n",
    "def driver(coords):\n",
    "    coords, edges = graph(coords)\n",
    "    shortest_path(coords, edges, 3)\n",
    "    shortest_path_taken = []\n",
    "    shortest_path_weight = 0\n",
    "\n",
    "    for index, node in enumerate(coords):\n",
    "        path, weight = shortest_path(coords, edges, index + 1)\n",
    "#        print('--------------------------------------')\n",
    "#        print(\"Path\", index + 1, \"=\", path)\n",
    "#        print(\"Weight =\", weight)\n",
    "        if index == 0:\n",
    "            shortest_path_weight = weight\n",
    "            shortest_path_taken = path\n",
    "        elif weight < shortest_path_weight:\n",
    "            shortest_path_weight = weight\n",
    "            shortest_path_taken = path\n",
    "    \n",
    "    i = 0\n",
    "    for pos in shortest_path_taken:\n",
    "        shortest_path_taken[i] = visit_ids[pos - 1]\n",
    "        i += 1\n",
    "                \n",
    "#    print('--------------------------------------')\n",
    "    print(\"The shortest path to all nodes is:\", shortest_path_taken)\n",
    "#    print(\"The weight of the path is:\", shortest_path_weight)"
   ]
  },
  {
   "cell_type": "markdown",
   "metadata": {},
   "source": [
    "Running the function"
   ]
  },
  {
   "cell_type": "code",
   "execution_count": 8,
   "metadata": {},
   "outputs": [
    {
     "name": "stdout",
     "output_type": "stream",
     "text": [
      "The shortest path to all nodes is: [93, 86, 8, 77, 46, 57, 50, 25, 91, 29, 61, 42, 62, 70, 11, 64, 73, 71, 96, 9, 13, 47, 51, 7, 32, 95, 38, 2, 19, 39, 6, 90, 31, 27, 99, 75, 79, 63, 34, 10, 22, 48, 16, 98, 24, 88, 81, 3, 97, 85, 28, 66, 55, 18, 45, 74, 82, 89, 5, 15, 52, 43, 30, 59, 35, 26, 33, 83, 12, 84, 56, 53, 20, 72, 1, 40, 76, 87, 36, 80, 49, 69, 68, 21, 54, 92, 78, 17, 67, 4, 60, 44, 41, 0, 23, 37, 94, 65, 58, 14]\n"
     ]
    }
   ],
   "source": [
    "driver(coords)"
   ]
  }
 ],
 "metadata": {
  "interpreter": {
   "hash": "b4e917ca3beaee533e60796aac6ccbdce0175c4f3ec19f7f4c5b736a83d2443b"
  },
  "kernelspec": {
   "display_name": "Python 3.10.4 64-bit",
   "language": "python",
   "name": "python3"
  },
  "language_info": {
   "codemirror_mode": {
    "name": "ipython",
    "version": 3
   },
   "file_extension": ".py",
   "mimetype": "text/x-python",
   "name": "python",
   "nbconvert_exporter": "python",
   "pygments_lexer": "ipython3",
   "version": "3.10.4"
  },
  "orig_nbformat": 4
 },
 "nbformat": 4,
 "nbformat_minor": 2
}
