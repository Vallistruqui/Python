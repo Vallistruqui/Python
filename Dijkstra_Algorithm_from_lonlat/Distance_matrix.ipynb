{
 "cells": [
  {
   "cell_type": "markdown",
   "metadata": {},
   "source": [
    "# Shortest GPS path \n",
    "##### The objective of this code is to calculate the shortest path for a route, given a certain amount of random GPS coordinates. This path will be calculated using Dijkstra's Algorithm."
   ]
  },
  {
   "cell_type": "markdown",
   "metadata": {},
   "source": [
    "Creating a random set of coordinate points to test the Algorithm"
   ]
  },
  {
   "cell_type": "code",
   "execution_count": 150,
   "metadata": {},
   "outputs": [],
   "source": [
    "import random \n",
    "\n",
    "visit_ids = []\n",
    "coords = []\n",
    "\n",
    "for i in range(0,100):\n",
    "    visit_ids.append(i)\n",
    "    coords.append([round(random.uniform(-58.70000 ,-58.60000), 5),round(random.uniform(-34.65000 ,-34.55000), 5)])"
   ]
  },
  {
   "cell_type": "markdown",
   "metadata": {},
   "source": [
    "The functions necessary to run the algorithm"
   ]
  },
  {
   "cell_type": "code",
   "execution_count": 153,
   "metadata": {},
   "outputs": [],
   "source": [
    "from collections import defaultdict\n",
    "from math import sqrt\n",
    "\n",
    "# Shortest path to all coordinates from any node\n",
    "# Coordinates must be provided as a list containing lists of\n",
    "# x/y pairs. ie [[23.2321, 58.3123], [x.xxx, y.yyy]]\n",
    "\n",
    "\n",
    "def distance_between_coords(x1, y1, x2, y2):\n",
    "    distance = sqrt(((x2 - x1) ** 2) + ((y2 - y1) ** 2))\n",
    "    return distance\n",
    "\n",
    "\n",
    "# Adds \"names\" to coordinates to use as keys for edge detection\n",
    "def name_coords(coords):\n",
    "    coord_count = 0\n",
    "    for coord in coords:\n",
    "        coord_count += 1\n",
    "        coord.append(coord_count)\n",
    "    return coords\n",
    "\n",
    "\n",
    "# Creates a weighted and undirected graph\n",
    "# Returns named coordinates and their connected edges as a dictonary\n",
    "def graph(coords):\n",
    "    coords = name_coords(coords)\n",
    "    graph = defaultdict(list)\n",
    "    edges = {}\n",
    "    for current in coords:\n",
    "        for comparer in coords:\n",
    "            if comparer == current:\n",
    "                continue\n",
    "            else:\n",
    "                weight = distance_between_coords(current[0], current[1],\n",
    "                                                 comparer[0], comparer[1])\n",
    "                graph[current[2]].append(comparer[2])\n",
    "                edges[current[2], comparer[2]] = weight\n",
    "    return coords, edges\n",
    "\n",
    "\n",
    "# Returns a path to all nodes with least weight as a list of names\n",
    "# from a specific node\n",
    "def shortest_path(node_list, edges, start):\n",
    "    neighbor = 0\n",
    "    unvisited = []\n",
    "    visited = []\n",
    "    total_weight = 0\n",
    "    current_node = start\n",
    "    for node in node_list:\n",
    "        if node[2] == start:\n",
    "            visited.append(start)\n",
    "        else:\n",
    "            unvisited.append(node[2])\n",
    "    while unvisited:\n",
    "        for index, neighbor in enumerate(unvisited):\n",
    "            if index == 0:\n",
    "                current_weight = edges[start, neighbor]\n",
    "                current_node = neighbor\n",
    "            elif edges[start, neighbor] < current_weight:\n",
    "                current_weight = edges[start, neighbor]\n",
    "                current_node = neighbor\n",
    "        total_weight += current_weight\n",
    "        unvisited.remove(current_node)\n",
    "        visited.append(current_node)\n",
    "    return visited, total_weight\n",
    "\n",
    "\n",
    "def driver(coords):\n",
    "    coords, edges = graph(coords)\n",
    "    shortest_path(coords, edges, 3)\n",
    "    shortest_path_taken = []\n",
    "    shortest_path_weight = 0\n",
    "\n",
    "    for index, node in enumerate(coords):\n",
    "        path, weight = shortest_path(coords, edges, index + 1)\n",
    "#        print('--------------------------------------')\n",
    "#        print(\"Path\", index + 1, \"=\", path)\n",
    "#        print(\"Weight =\", weight)\n",
    "        if index == 0:\n",
    "            shortest_path_weight = weight\n",
    "            shortest_path_taken = path\n",
    "        elif weight < shortest_path_weight:\n",
    "            shortest_path_weight = weight\n",
    "            shortest_path_taken = path\n",
    "    \n",
    "    i = 0\n",
    "    for pos in shortest_path_taken:\n",
    "        shortest_path_taken[i] = visit_ids[pos - 1]\n",
    "        i += 1\n",
    "                \n",
    "#    print('--------------------------------------')\n",
    "    print(\"The shortest path to all nodes is:\", shortest_path_taken)\n",
    "#    print(\"The weight of the path is:\", shortest_path_weight)"
   ]
  },
  {
   "cell_type": "markdown",
   "metadata": {},
   "source": [
    "Running the function"
   ]
  },
  {
   "cell_type": "code",
   "execution_count": 154,
   "metadata": {},
   "outputs": [
    {
     "name": "stdout",
     "output_type": "stream",
     "text": [
      "The shortest path to all nodes is: [54, 68, 0, 60, 40, 72, 50, 14, 99, 73, 58, 15, 13, 51, 52, 84, 74, 8, 45, 56, 33, 69, 20, 39, 91, 83, 55, 79, 46, 62, 37, 94, 41, 42, 78, 38, 43, 48, 29, 9, 89, 34, 18, 2, 66, 82, 65, 1, 17, 80, 88, 12, 57, 92, 30, 93, 25, 85, 35, 86, 64, 23, 6, 36, 98, 63, 28, 70, 10, 77, 21, 90, 7, 16, 19, 49, 11, 26, 27, 32, 71, 81, 95, 44, 97, 67, 96, 53, 31, 47, 75, 4, 22, 59, 5, 87, 24, 61, 76, 3]\n"
     ]
    }
   ],
   "source": [
    "driver(coords)"
   ]
  }
 ],
 "metadata": {
  "interpreter": {
   "hash": "b4e917ca3beaee533e60796aac6ccbdce0175c4f3ec19f7f4c5b736a83d2443b"
  },
  "kernelspec": {
   "display_name": "Python 3.10.4 64-bit",
   "language": "python",
   "name": "python3"
  },
  "language_info": {
   "codemirror_mode": {
    "name": "ipython",
    "version": 3
   },
   "file_extension": ".py",
   "mimetype": "text/x-python",
   "name": "python",
   "nbconvert_exporter": "python",
   "pygments_lexer": "ipython3",
   "version": "3.10.4"
  },
  "orig_nbformat": 4
 },
 "nbformat": 4,
 "nbformat_minor": 2
}
