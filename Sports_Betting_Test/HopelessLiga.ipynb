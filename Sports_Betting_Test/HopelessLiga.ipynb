{
 "cells": [
  {
   "cell_type": "markdown",
   "metadata": {},
   "source": [
    "# Hopeless Liga"
   ]
  },
  {
   "cell_type": "markdown",
   "metadata": {},
   "source": [
    "## Rules\n",
    "\n",
    "Each team plays each other team 4 times during a season. There are no\n",
    "play-offs. So, each team will play 36 games (4 times * 9 opponents). \n",
    "\n",
    "- As a result, there are 36 matchdays of 5 games, involving all 10 teams oneach matchday.\n",
    "- Each team has a home court. So, over a season, each teamplays eachother\n",
    "twice at home and twice away. \n",
    "- There are 4 \"mirror\" rounds during which every team plays each other team. \n",
    "- The list of games for Round 2 is exactly the same like that of Round 1 with home courts reversed. Similar is the case for Rounds 3 and 4. Thus, effectively the list of games for Rounds 1 and 3 are exactly the same, just\n",
    "like for Rounds 2 and 4. \n",
    "- Teams are competing in order to achieve the highest possible ranking. \n",
    "- In a given game, if the winner wins by a margin of 3 points or more they get\n",
    "+2 points and the loser loses 2 points. \n",
    "- If the winner wins by a margin of fewer than 3 points they get +1 point andthe loser loses 1 point. \n",
    "- Draws yield 0 points to both teams. \n",
    "- In a given game the score for each team is independent from the opponent. It only depends on their own scoring ability. \n",
    "- The score of a team in a game is a function of its ability, but is subject to\n",
    "noise; For example, a team with a scoring ability of 6, will score lower than4 or higher than 8 around 15% of the times. \n",
    "- Teams tend to score 25% more at home vs away.\n",
    "- The league consists of the teams below, listed in order of ability. Go AheadSea Gulls are the worst team with a scoring ability of 4. Diamonds &Pasta’s scoring ability is 4.35 and each team in that list has a scoring rate\n",
    "0.35 higher than the team next to them."
   ]
  },
  {
   "cell_type": "markdown",
   "metadata": {},
   "source": [
    "## Tasks"
   ]
  },
  {
   "cell_type": "markdown",
   "metadata": {},
   "source": [
    "- Produce tables that reflect a season of HopelessLiga, including fixtures and results, reflecting all information described above.\n",
    "- Build a range of validations / tests to convince yourself that you have\n",
    "simulated a HopelessLiga season successfully. \n",
    "- Be a StatsManiac blogger willing to present the season in numbers. Produce meaningful and fanciful tables, graphs and analytics that intrigue the\n",
    "reader and shed light on the season’s story. How did different teams attack and how did they defend? How did they do at home vs away? Who improvedand who deteriorated most during the season’s progress etc. Were some\n",
    "teams too lucky/unlucky? This is very open ended, so throw whatever youfeel might be interesting. \n",
    "- Be the owner of the infamous Pizza City!! Did Pizza do better or worse than expected? What is the probability of doing better than that? Should you fire the manager? Justify your reasoning and decide which Hopeless team’s manager you should pick assuming you can afford everyone."
   ]
  },
  {
   "cell_type": "markdown",
   "metadata": {},
   "source": [
    "## Simulation of the Hopeless Liga"
   ]
  },
  {
   "cell_type": "markdown",
   "metadata": {},
   "source": [
    "We have 10 teams that are about to enter the most competitive gaming league in the world, where Hope is futile. Only the best of them all will be awarded the Hopeless Liga championship. \n",
    "\n",
    "For this liga we will asume that team sizes are 5, the chosen games are  "
   ]
  },
  {
   "cell_type": "code",
   "execution_count": null,
   "metadata": {},
   "outputs": [
    {
     "ename": "",
     "evalue": "",
     "output_type": "error",
     "traceback": [
      "\u001b[1;31mLa ejecución de celdas con 'Python 3.10.8 64-bit (microsoft store)' requieren el paquete ipykernel.\n",
      "\u001b[1;31mEjecute el siguiente comando para instalar 'ipykernel' en el entorno de Python. comando \n",
      "\u001b[1;31m: '\"c:/Program Files/WindowsApps/PythonSoftwareFoundation.Python.3.10_3.10.2288.0_x64__qbz5n2kfra8p0/python3.10.exe\" -m pip install ipykernel -U --force-reinstall'"
     ]
    }
   ],
   "source": [
    "%pip install ipykernel"
   ]
  },
  {
   "cell_type": "code",
   "execution_count": null,
   "metadata": {},
   "outputs": [
    {
     "ename": "",
     "evalue": "",
     "output_type": "error",
     "traceback": [
      "\u001b[1;31mLa ejecución de celdas con 'Python 3.10.8 64-bit (microsoft store)' requieren el paquete ipykernel.\n",
      "\u001b[1;31mEjecute el siguiente comando para instalar 'ipykernel' en el entorno de Python. comando \n",
      "\u001b[1;31m: '\"c:/Program Files/WindowsApps/PythonSoftwareFoundation.Python.3.10_3.10.2288.0_x64__qbz5n2kfra8p0/python3.10.exe\" -m pip install ipykernel -U --force-reinstall'"
     ]
    }
   ],
   "source": [
    "The_Hopeless_Ones = ['Broke Lads', 'Fancy Cows', 'Pink Dogs', 'Tears or Beers', 'Dead Zeppelins', 'SheepPurple', 'Pizza City', 'Classy Donkeys', 'Diamonds & Pasta', 'Go Ahead Sea Gulls']"
   ]
  },
  {
   "cell_type": "code",
   "execution_count": 75,
   "metadata": {},
   "outputs": [],
   "source": [
    "import pandas as pd\n",
    "import numpy as np\n",
    "import scipy\n",
    "import random"
   ]
  },
  {
   "cell_type": "markdown",
   "metadata": {},
   "source": [
    "### Fixture"
   ]
  },
  {
   "cell_type": "code",
   "execution_count": 79,
   "metadata": {},
   "outputs": [],
   "source": [
    "team_size = 5 #We'll assume that each team has five players inside of it"
   ]
  },
  {
   "cell_type": "code",
   "execution_count": 116,
   "metadata": {},
   "outputs": [],
   "source": [
    "The_Hopeless_Ones = ['Broke Lads', 'Fancy Cows', 'Pink Dogs', 'Tears or Beers', 'Dead Zeppelins', 'SheepPurple', 'Pizza City', 'Classy Donkeys', 'Diamonds & Pasta', 'Go Ahead Sea Gulls']\n",
    "location_options = ['Home','Away']\n",
    "contador = 1\n",
    "\n",
    "while contador <= 1:\n",
    "\n",
    "    winning_teams = random.sample(The_Hopeless_Ones, len(The_Hopeless_Ones)//2)\n",
    "    losing_teams = []\n",
    "\n",
    "    for element in The_Hopeless_Ones:\n",
    "        if element not in winning_teams:\n",
    "            losing_teams.append(element)\n",
    "\n",
    "    Home_or_away = np.random.choice(location_options, size = 5)\n",
    "    Home_or_away_opposite = []\n",
    "\n",
    "    for location in Home_or_away:\n",
    "        if location == 'Home':\n",
    "            Home_or_away_opposite.append('Away')\n",
    "        else:\n",
    "            Home_or_away_opposite.append('Home')\n",
    "\n",
    "    data = {'Winning Teams':winning_teams,'Home_or_Away_Winners':Home_or_away , 'Losing Teams':losing_teams,'Home_or_Away_Losers':Home_or_away_opposite}\n",
    "\n",
    "    globals()['Day_' + str(contador)] = pd.DataFrame(data)\n",
    "    contador += 1"
   ]
  },
  {
   "cell_type": "code",
   "execution_count": 117,
   "metadata": {},
   "outputs": [
    {
     "data": {
      "text/html": [
       "<div>\n",
       "<style scoped>\n",
       "    .dataframe tbody tr th:only-of-type {\n",
       "        vertical-align: middle;\n",
       "    }\n",
       "\n",
       "    .dataframe tbody tr th {\n",
       "        vertical-align: top;\n",
       "    }\n",
       "\n",
       "    .dataframe thead th {\n",
       "        text-align: right;\n",
       "    }\n",
       "</style>\n",
       "<table border=\"1\" class=\"dataframe\">\n",
       "  <thead>\n",
       "    <tr style=\"text-align: right;\">\n",
       "      <th></th>\n",
       "      <th>Winning Teams</th>\n",
       "      <th>Home_or_Away_Winners</th>\n",
       "      <th>Losing Teams</th>\n",
       "      <th>Home_or_Away_Losers</th>\n",
       "    </tr>\n",
       "  </thead>\n",
       "  <tbody>\n",
       "    <tr>\n",
       "      <th>0</th>\n",
       "      <td>SheepPurple</td>\n",
       "      <td>Away</td>\n",
       "      <td>Fancy Cows</td>\n",
       "      <td>Home</td>\n",
       "    </tr>\n",
       "    <tr>\n",
       "      <th>1</th>\n",
       "      <td>Classy Donkeys</td>\n",
       "      <td>Away</td>\n",
       "      <td>Pink Dogs</td>\n",
       "      <td>Home</td>\n",
       "    </tr>\n",
       "    <tr>\n",
       "      <th>2</th>\n",
       "      <td>Diamonds &amp; Pasta</td>\n",
       "      <td>Away</td>\n",
       "      <td>Tears or Beers</td>\n",
       "      <td>Home</td>\n",
       "    </tr>\n",
       "    <tr>\n",
       "      <th>3</th>\n",
       "      <td>Broke Lads</td>\n",
       "      <td>Away</td>\n",
       "      <td>Dead Zeppelins</td>\n",
       "      <td>Home</td>\n",
       "    </tr>\n",
       "    <tr>\n",
       "      <th>4</th>\n",
       "      <td>Pizza City</td>\n",
       "      <td>Home</td>\n",
       "      <td>Go Ahead Sea Gulls</td>\n",
       "      <td>Away</td>\n",
       "    </tr>\n",
       "  </tbody>\n",
       "</table>\n",
       "</div>"
      ],
      "text/plain": [
       "      Winning Teams Home_or_Away_Winners        Losing Teams  \\\n",
       "0       SheepPurple                 Away          Fancy Cows   \n",
       "1    Classy Donkeys                 Away           Pink Dogs   \n",
       "2  Diamonds & Pasta                 Away      Tears or Beers   \n",
       "3        Broke Lads                 Away      Dead Zeppelins   \n",
       "4        Pizza City                 Home  Go Ahead Sea Gulls   \n",
       "\n",
       "  Home_or_Away_Losers  \n",
       "0                Home  \n",
       "1                Home  \n",
       "2                Home  \n",
       "3                Home  \n",
       "4                Away  "
      ]
     },
     "execution_count": 117,
     "metadata": {},
     "output_type": "execute_result"
    }
   ],
   "source": [
    "Day_1"
   ]
  }
 ],
 "metadata": {
  "kernelspec": {
   "display_name": "Python 3.10.8 64-bit (microsoft store)",
   "language": "python",
   "name": "python3"
  },
  "language_info": {
   "codemirror_mode": {
    "name": "ipython",
    "version": 3
   },
   "file_extension": ".py",
   "mimetype": "text/x-python",
   "name": "python",
   "nbconvert_exporter": "python",
   "pygments_lexer": "ipython3",
   "version": "3.10.8"
  },
  "orig_nbformat": 4,
  "vscode": {
   "interpreter": {
    "hash": "e0acaf148705ed9ed86cc5cad12259d7985e30670e5686e5f55604a9b3b84a55"
   }
  }
 },
 "nbformat": 4,
 "nbformat_minor": 2
}
