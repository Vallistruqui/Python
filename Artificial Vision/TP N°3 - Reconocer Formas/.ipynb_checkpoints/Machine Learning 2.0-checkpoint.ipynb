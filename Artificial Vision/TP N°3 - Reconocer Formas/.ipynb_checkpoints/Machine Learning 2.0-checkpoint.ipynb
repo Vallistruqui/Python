{
 "cells": [
  {
   "cell_type": "code",
   "execution_count": 1,
   "metadata": {},
   "outputs": [],
   "source": [
    "#Load Basic libraries\n",
    "import numpy as np\n",
    "import pandas as pd\n",
    "import os\n",
    "import cv2\n",
    "import math\n",
    "import matplotlib.pyplot as plt\n",
    "import matplotlib.mlab as mlab\n",
    "import scipy\n",
    "from scipy.stats import zscore\n"
   ]
  },
  {
   "cell_type": "code",
   "execution_count": 4,
   "metadata": {},
   "outputs": [
    {
     "name": "stdout",
     "output_type": "stream",
     "text": [
      "Getting Data for : circle\n",
      "Getting Data for : square\n",
      "Getting Data for : triangle\n",
      "Getting Data for : star\n",
      "\n",
      " Dataset Total\n"
     ]
    },
    {
     "data": {
      "text/html": [
       "<div>\n",
       "<style scoped>\n",
       "    .dataframe tbody tr th:only-of-type {\n",
       "        vertical-align: middle;\n",
       "    }\n",
       "\n",
       "    .dataframe tbody tr th {\n",
       "        vertical-align: top;\n",
       "    }\n",
       "\n",
       "    .dataframe thead th {\n",
       "        text-align: right;\n",
       "    }\n",
       "</style>\n",
       "<table border=\"1\" class=\"dataframe\">\n",
       "  <thead>\n",
       "    <tr style=\"text-align: right;\">\n",
       "      <th></th>\n",
       "      <th>Hu1</th>\n",
       "      <th>Hu2</th>\n",
       "      <th>Hu3</th>\n",
       "      <th>Hu4</th>\n",
       "      <th>Hu5</th>\n",
       "      <th>Hu6</th>\n",
       "      <th>Hu7</th>\n",
       "      <th>labels</th>\n",
       "    </tr>\n",
       "  </thead>\n",
       "  <tbody>\n",
       "    <tr>\n",
       "      <th>0</th>\n",
       "      <td>0.797855</td>\n",
       "      <td>4.871704</td>\n",
       "      <td>7.584942</td>\n",
       "      <td>10.261621</td>\n",
       "      <td>20.679458</td>\n",
       "      <td>12.801832</td>\n",
       "      <td>19.185125</td>\n",
       "      <td>0</td>\n",
       "    </tr>\n",
       "    <tr>\n",
       "      <th>1</th>\n",
       "      <td>0.797868</td>\n",
       "      <td>4.845644</td>\n",
       "      <td>7.331733</td>\n",
       "      <td>10.304167</td>\n",
       "      <td>19.156240</td>\n",
       "      <td>12.743903</td>\n",
       "      <td>19.540810</td>\n",
       "      <td>0</td>\n",
       "    </tr>\n",
       "    <tr>\n",
       "      <th>2</th>\n",
       "      <td>0.797864</td>\n",
       "      <td>4.838065</td>\n",
       "      <td>6.629907</td>\n",
       "      <td>9.955211</td>\n",
       "      <td>18.413754</td>\n",
       "      <td>12.505186</td>\n",
       "      <td>18.383844</td>\n",
       "      <td>0</td>\n",
       "    </tr>\n",
       "    <tr>\n",
       "      <th>3</th>\n",
       "      <td>0.797898</td>\n",
       "      <td>5.071954</td>\n",
       "      <td>6.239340</td>\n",
       "      <td>10.029308</td>\n",
       "      <td>19.085243</td>\n",
       "      <td>12.565377</td>\n",
       "      <td>18.166770</td>\n",
       "      <td>0</td>\n",
       "    </tr>\n",
       "    <tr>\n",
       "      <th>4</th>\n",
       "      <td>0.768365</td>\n",
       "      <td>2.652744</td>\n",
       "      <td>3.640266</td>\n",
       "      <td>5.042419</td>\n",
       "      <td>9.383762</td>\n",
       "      <td>6.368791</td>\n",
       "      <td>16.823490</td>\n",
       "      <td>0</td>\n",
       "    </tr>\n",
       "  </tbody>\n",
       "</table>\n",
       "</div>"
      ],
      "text/plain": [
       "        Hu1       Hu2       Hu3        Hu4        Hu5        Hu6        Hu7  \\\n",
       "0  0.797855  4.871704  7.584942  10.261621  20.679458  12.801832  19.185125   \n",
       "1  0.797868  4.845644  7.331733  10.304167  19.156240  12.743903  19.540810   \n",
       "2  0.797864  4.838065  6.629907   9.955211  18.413754  12.505186  18.383844   \n",
       "3  0.797898  5.071954  6.239340  10.029308  19.085243  12.565377  18.166770   \n",
       "4  0.768365  2.652744  3.640266   5.042419   9.383762   6.368791  16.823490   \n",
       "\n",
       "   labels  \n",
       "0       0  \n",
       "1       0  \n",
       "2       0  \n",
       "3       0  \n",
       "4       0  "
      ]
     },
     "metadata": {},
     "output_type": "display_data"
    },
    {
     "name": "stdout",
     "output_type": "stream",
     "text": [
      "\n",
      " Dataset de Estrella\n"
     ]
    },
    {
     "data": {
      "text/html": [
       "<div>\n",
       "<style scoped>\n",
       "    .dataframe tbody tr th:only-of-type {\n",
       "        vertical-align: middle;\n",
       "    }\n",
       "\n",
       "    .dataframe tbody tr th {\n",
       "        vertical-align: top;\n",
       "    }\n",
       "\n",
       "    .dataframe thead th {\n",
       "        text-align: right;\n",
       "    }\n",
       "</style>\n",
       "<table border=\"1\" class=\"dataframe\">\n",
       "  <thead>\n",
       "    <tr style=\"text-align: right;\">\n",
       "      <th></th>\n",
       "      <th>Hu1</th>\n",
       "      <th>Hu2</th>\n",
       "      <th>Hu3</th>\n",
       "      <th>Hu4</th>\n",
       "      <th>Hu5</th>\n",
       "      <th>Hu6</th>\n",
       "      <th>Hu7</th>\n",
       "      <th>labels</th>\n",
       "    </tr>\n",
       "  </thead>\n",
       "  <tbody>\n",
       "    <tr>\n",
       "      <th>11205</th>\n",
       "      <td>0.675960</td>\n",
       "      <td>3.878113</td>\n",
       "      <td>4.933973</td>\n",
       "      <td>7.043376</td>\n",
       "      <td>13.032058</td>\n",
       "      <td>9.567549</td>\n",
       "      <td>15.287568</td>\n",
       "      <td>3</td>\n",
       "    </tr>\n",
       "    <tr>\n",
       "      <th>11206</th>\n",
       "      <td>0.675961</td>\n",
       "      <td>3.913547</td>\n",
       "      <td>5.155866</td>\n",
       "      <td>6.178288</td>\n",
       "      <td>11.857403</td>\n",
       "      <td>8.148665</td>\n",
       "      <td>12.479452</td>\n",
       "      <td>3</td>\n",
       "    </tr>\n",
       "    <tr>\n",
       "      <th>11207</th>\n",
       "      <td>0.676627</td>\n",
       "      <td>4.027027</td>\n",
       "      <td>5.249073</td>\n",
       "      <td>6.315016</td>\n",
       "      <td>12.134612</td>\n",
       "      <td>8.342628</td>\n",
       "      <td>12.496633</td>\n",
       "      <td>3</td>\n",
       "    </tr>\n",
       "    <tr>\n",
       "      <th>11208</th>\n",
       "      <td>0.677457</td>\n",
       "      <td>4.049135</td>\n",
       "      <td>4.613582</td>\n",
       "      <td>6.260687</td>\n",
       "      <td>11.808890</td>\n",
       "      <td>8.946007</td>\n",
       "      <td>11.896574</td>\n",
       "      <td>3</td>\n",
       "    </tr>\n",
       "    <tr>\n",
       "      <th>11209</th>\n",
       "      <td>0.748359</td>\n",
       "      <td>2.205896</td>\n",
       "      <td>22.017078</td>\n",
       "      <td>22.357470</td>\n",
       "      <td>44.563285</td>\n",
       "      <td>23.613732</td>\n",
       "      <td>45.088272</td>\n",
       "      <td>3</td>\n",
       "    </tr>\n",
       "  </tbody>\n",
       "</table>\n",
       "</div>"
      ],
      "text/plain": [
       "            Hu1       Hu2        Hu3        Hu4        Hu5        Hu6  \\\n",
       "11205  0.675960  3.878113   4.933973   7.043376  13.032058   9.567549   \n",
       "11206  0.675961  3.913547   5.155866   6.178288  11.857403   8.148665   \n",
       "11207  0.676627  4.027027   5.249073   6.315016  12.134612   8.342628   \n",
       "11208  0.677457  4.049135   4.613582   6.260687  11.808890   8.946007   \n",
       "11209  0.748359  2.205896  22.017078  22.357470  44.563285  23.613732   \n",
       "\n",
       "             Hu7  labels  \n",
       "11205  15.287568       3  \n",
       "11206  12.479452       3  \n",
       "11207  12.496633       3  \n",
       "11208  11.896574       3  \n",
       "11209  45.088272       3  "
      ]
     },
     "metadata": {},
     "output_type": "display_data"
    }
   ],
   "source": [
    "#Load Dataset\n",
    "PATH = r'C:\\Users\\Pedro Vallarino\\Desktop\\Scripts\\Python\\Vision Artificial\\Reconocer Formas\\shapes'\n",
    "shapes = ['circle', 'square','triangle', 'star']\n",
    "labels = []\n",
    "dataset = []\n",
    "\n",
    "for shape in shapes:\n",
    "    print('Getting Data for :', shape)\n",
    "    for img in os.listdir(os.path.join(PATH, shape)):\n",
    "        grayImage = cv2.imread(os.path.join(PATH,shape,img), cv2.IMREAD_GRAYSCALE)\n",
    "        (thresh, blackAndWhiteImage) = cv2.threshold(grayImage, 125, 255, cv2.THRESH_BINARY)\n",
    "        \n",
    "        contours, hierarchy = cv2.findContours(blackAndWhiteImage, cv2.RETR_TREE, cv2.CHAIN_APPROX_NONE)\n",
    "        \n",
    "        # Calculate Moments\n",
    "        moments = cv2.moments(contours[1])\n",
    "        \n",
    "        # Calculate Hu Moments\n",
    "        huMoments = cv2.HuMoments(moments)\n",
    "        \n",
    "        # Log scale hu moments\n",
    "        try:\n",
    "        # Log scale hu moments\n",
    "            for i in range(0,7):\n",
    "                huMoments[i] = -1* math.copysign(1.0, huMoments[i]) * math.log10(abs(huMoments[i]))\n",
    "        except Exception:\n",
    "            pass\n",
    "        \n",
    "        huMoments = abs(huMoments)\n",
    "        \n",
    "        \n",
    "        dataset.append(huMoments)\n",
    "        \n",
    "        #Add Label list\n",
    "        labels.append(shapes.index(shape))\n",
    "\n",
    "        \n",
    "datasetX = dataset\n",
    "datasetX[0]\n",
    "\n",
    "for i in range(0,len(datasetX)):\n",
    "    datasetX[i] = pd.DataFrame(datasetX[i])\n",
    "    datasetX[i] = pd.DataFrame.transpose(datasetX[i])\n",
    "    \n",
    "datasetX[0]\n",
    "len(datasetX)\n",
    "type(datasetX)\n",
    "type(datasetX[0])\n",
    "result = pd.concat(datasetX)\n",
    "type(result)\n",
    "result.iloc[1,1]\n",
    "pd.DataFrame.head(result)\n",
    "result = result.reset_index()\n",
    "pd.DataFrame.head(result)\n",
    "result.iloc[0,0]\n",
    "result = result.drop(columns='index')\n",
    "pd.DataFrame.head(result)\n",
    "labels = pd.DataFrame(labels)\n",
    "pd.DataFrame.head(labels)\n",
    "result.insert(7,\"labels\",labels)\n",
    "result.columns = ['Hu1','Hu2','Hu3','Hu4','Hu5','Hu6','Hu7','labels']\n",
    "\n",
    "print('\\n','Dataset Total')\n",
    "display(pd.DataFrame.head(result))\n",
    "\n",
    "Hu_CIRCLE = result.iloc[:,:][result['labels'] == 0]\n",
    "pd.DataFrame.head(Hu_CIRCLE)\n",
    "Hu_SQUARE = result.iloc[:,:][result['labels'] == 1]\n",
    "pd.DataFrame.head(Hu_SQUARE)\n",
    "Hu_TRIANGLE = result.iloc[:,:][result['labels'] == 2]\n",
    "pd.DataFrame.head(Hu_TRIANGLE)\n",
    "Hu_STAR = result.iloc[:,:][result['labels'] == 3]\n",
    "print('\\n','Dataset de Estrella')\n",
    "display(pd.DataFrame.head(Hu_STAR))"
   ]
  },
  {
   "cell_type": "code",
   "execution_count": 8,
   "metadata": {},
   "outputs": [
    {
     "data": {
      "image/png": "[encoded data removed]",
      "text/plain": [
       "<Figure size 432x288 with 1 Axes>"
      ]
     },
     "metadata": {
      "needs_background": "light"
     },
     "output_type": "display_data"
    },
    {
     "data": {
      "image/png": "[encoded data removed]",
      "text/plain": [
       "<Figure size 432x288 with 1 Axes>"
      ]
     },
     "metadata": {
      "needs_background": "light"
     },
     "output_type": "display_data"
    },
    {
     "data": {
      "image/png": "[encoded data removed]",
      "text/plain": [
       "<Figure size 432x288 with 1 Axes>"
      ]
     },
     "metadata": {
      "needs_background": "light"
     },
     "output_type": "display_data"
    },
    {
     "data": {
      "image/png": "[encoded data removed]",
      "text/plain": [
       "<Figure size 432x288 with 1 Axes>"
      ]
     },
     "metadata": {
      "needs_background": "light"
     },
     "output_type": "display_data"
    },
    {
     "data": {
      "image/png": "[encoded data removed]",
      "text/plain": [
       "<Figure size 432x288 with 1 Axes>"
      ]
     },
     "metadata": {
      "needs_background": "light"
     },
     "output_type": "display_data"
    },
    {
     "data": {
      "image/png": "[encoded data removed]",
      "text/plain": [
       "<Figure size 432x288 with 1 Axes>"
      ]
     },
     "metadata": {
      "needs_background": "light"
     },
     "output_type": "display_data"
    },
    {
     "data": {
      "image/png": "[encoded data removed]",
      "text/plain": [
       "<Figure size 432x288 with 1 Axes>"
      ]
     },
     "metadata": {
      "needs_background": "light"
     },
     "output_type": "display_data"
    },
    {
     "data": {
      "image/png": "[encoded data removed]",
      "text/plain": [
       "<Figure size 432x288 with 1 Axes>"
      ]
     },
     "metadata": {
      "needs_background": "light"
     },
     "output_type": "display_data"
    },
    {
     "data": {
      "image/png": "[encoded data removed]",
      "text/plain": [
       "<Figure size 432x288 with 1 Axes>"
      ]
     },
     "metadata": {
      "needs_background": "light"
     },
     "output_type": "display_data"
    },
    {
     "data": {
      "image/png": "[encoded data removed]",
      "text/plain": [
       "<Figure size 432x288 with 1 Axes>"
      ]
     },
     "metadata": {
      "needs_background": "light"
     },
     "output_type": "display_data"
    },
    {
     "data": {
      "image/png": "[encoded data removed]",
      "text/plain": [
       "<Figure size 432x288 with 1 Axes>"
      ]
     },
     "metadata": {
      "needs_background": "light"
     },
     "output_type": "display_data"
    },
    {
     "data": {
      "image/png": "[encoded data removed]",
      "text/plain": [
       "<Figure size 432x288 with 1 Axes>"
      ]
     },
     "metadata": {
      "needs_background": "light"
     },
     "output_type": "display_data"
    },
    {
     "data": {
      "image/png": "[encoded data removed]",
      "text/plain": [
       "<Figure size 432x288 with 1 Axes>"
      ]
     },
     "metadata": {
      "needs_background": "light"
     },
     "output_type": "display_data"
    },
    {
     "data": {
      "image/png": "[encoded data removed]",
      "text/plain": [
       "<Figure size 432x288 with 1 Axes>"
      ]
     },
     "metadata": {
      "needs_background": "light"
     },
     "output_type": "display_data"
    },
    {
     "name": "stdout",
     "output_type": "stream",
     "text": [
      "[ 166  352  824 1050 1051  608 1068]\n"
     ]
    },
    {
     "data": {
      "image/png": "[encoded data removed]",
      "text/plain": [
       "<Figure size 432x288 with 1 Axes>"
      ]
     },
     "metadata": {
      "needs_background": "light"
     },
     "output_type": "display_data"
    },
    {
     "data": {
      "text/html": [
       "<div>\n",
       "<style scoped>\n",
       "    .dataframe tbody tr th:only-of-type {\n",
       "        vertical-align: middle;\n",
       "    }\n",
       "\n",
       "    .dataframe tbody tr th {\n",
       "        vertical-align: top;\n",
       "    }\n",
       "\n",
       "    .dataframe thead th {\n",
       "        text-align: right;\n",
       "    }\n",
       "</style>\n",
       "<table border=\"1\" class=\"dataframe\">\n",
       "  <thead>\n",
       "    <tr style=\"text-align: right;\">\n",
       "      <th></th>\n",
       "      <th>index</th>\n",
       "      <th>0</th>\n",
       "      <th>1</th>\n",
       "      <th>2</th>\n",
       "      <th>3</th>\n",
       "      <th>4</th>\n",
       "      <th>5</th>\n",
       "      <th>6</th>\n",
       "      <th>7</th>\n",
       "      <th>8</th>\n",
       "      <th>...</th>\n",
       "      <th>3710</th>\n",
       "      <th>3711</th>\n",
       "      <th>3712</th>\n",
       "      <th>3713</th>\n",
       "      <th>3714</th>\n",
       "      <th>3715</th>\n",
       "      <th>3716</th>\n",
       "      <th>3717</th>\n",
       "      <th>3718</th>\n",
       "      <th>3719</th>\n",
       "    </tr>\n",
       "  </thead>\n",
       "  <tbody>\n",
       "    <tr>\n",
       "      <th>0</th>\n",
       "      <td>Hu1</td>\n",
       "      <td>0.797855</td>\n",
       "      <td>0.797868</td>\n",
       "      <td>0.797864</td>\n",
       "      <td>0.797898</td>\n",
       "      <td>0.768365</td>\n",
       "      <td>0.796249</td>\n",
       "      <td>0.797314</td>\n",
       "      <td>0.778151</td>\n",
       "      <td>0.782516</td>\n",
       "      <td>...</td>\n",
       "      <td>0.795672</td>\n",
       "      <td>0.795996</td>\n",
       "      <td>0.768365</td>\n",
       "      <td>0.778151</td>\n",
       "      <td>0.768365</td>\n",
       "      <td>0.797219</td>\n",
       "      <td>7.962495e-01</td>\n",
       "      <td>0.670517</td>\n",
       "      <td>7.962495e-01</td>\n",
       "      <td>0.782516</td>\n",
       "    </tr>\n",
       "    <tr>\n",
       "      <th>1</th>\n",
       "      <td>Hu2</td>\n",
       "      <td>4.871704</td>\n",
       "      <td>4.845644</td>\n",
       "      <td>4.838065</td>\n",
       "      <td>5.071954</td>\n",
       "      <td>2.652744</td>\n",
       "      <td>25.656592</td>\n",
       "      <td>4.097030</td>\n",
       "      <td>2.760422</td>\n",
       "      <td>2.760422</td>\n",
       "      <td>...</td>\n",
       "      <td>3.570138</td>\n",
       "      <td>3.627665</td>\n",
       "      <td>2.652744</td>\n",
       "      <td>2.760422</td>\n",
       "      <td>2.652744</td>\n",
       "      <td>4.041758</td>\n",
       "      <td>0.000000e+00</td>\n",
       "      <td>1.703875</td>\n",
       "      <td>0.000000e+00</td>\n",
       "      <td>2.760422</td>\n",
       "    </tr>\n",
       "    <tr>\n",
       "      <th>2</th>\n",
       "      <td>Hu3</td>\n",
       "      <td>7.584942</td>\n",
       "      <td>7.331733</td>\n",
       "      <td>6.629907</td>\n",
       "      <td>6.239340</td>\n",
       "      <td>3.640266</td>\n",
       "      <td>20.851941</td>\n",
       "      <td>6.237234</td>\n",
       "      <td>20.832712</td>\n",
       "      <td>22.621081</td>\n",
       "      <td>...</td>\n",
       "      <td>5.824843</td>\n",
       "      <td>5.916739</td>\n",
       "      <td>3.640266</td>\n",
       "      <td>20.832712</td>\n",
       "      <td>3.640266</td>\n",
       "      <td>5.941354</td>\n",
       "      <td>1.150905e-21</td>\n",
       "      <td>20.384230</td>\n",
       "      <td>7.278678e-22</td>\n",
       "      <td>21.195276</td>\n",
       "    </tr>\n",
       "    <tr>\n",
       "      <th>3</th>\n",
       "      <td>Hu4</td>\n",
       "      <td>10.261621</td>\n",
       "      <td>10.304167</td>\n",
       "      <td>9.955211</td>\n",
       "      <td>10.029308</td>\n",
       "      <td>5.042419</td>\n",
       "      <td>20.986413</td>\n",
       "      <td>9.056708</td>\n",
       "      <td>21.454011</td>\n",
       "      <td>20.683855</td>\n",
       "      <td>...</td>\n",
       "      <td>8.393142</td>\n",
       "      <td>8.599613</td>\n",
       "      <td>5.042419</td>\n",
       "      <td>21.454011</td>\n",
       "      <td>5.042419</td>\n",
       "      <td>9.010998</td>\n",
       "      <td>4.279389e-21</td>\n",
       "      <td>20.381439</td>\n",
       "      <td>3.853932e-21</td>\n",
       "      <td>20.784690</td>\n",
       "    </tr>\n",
       "    <tr>\n",
       "      <th>4</th>\n",
       "      <td>Hu5</td>\n",
       "      <td>20.679458</td>\n",
       "      <td>19.156240</td>\n",
       "      <td>18.413754</td>\n",
       "      <td>19.085243</td>\n",
       "      <td>9.383762</td>\n",
       "      <td>41.970027</td>\n",
       "      <td>17.393980</td>\n",
       "      <td>42.785608</td>\n",
       "      <td>42.566969</td>\n",
       "      <td>...</td>\n",
       "      <td>15.553722</td>\n",
       "      <td>15.858320</td>\n",
       "      <td>9.383762</td>\n",
       "      <td>42.785608</td>\n",
       "      <td>9.383762</td>\n",
       "      <td>16.488301</td>\n",
       "      <td>9.322254e-42</td>\n",
       "      <td>40.786038</td>\n",
       "      <td>4.678402e-42</td>\n",
       "      <td>41.825442</td>\n",
       "    </tr>\n",
       "    <tr>\n",
       "      <th>5</th>\n",
       "      <td>Hu6</td>\n",
       "      <td>12.801832</td>\n",
       "      <td>12.743903</td>\n",
       "      <td>12.505186</td>\n",
       "      <td>12.565377</td>\n",
       "      <td>6.368791</td>\n",
       "      <td>33.999032</td>\n",
       "      <td>11.261034</td>\n",
       "      <td>23.523092</td>\n",
       "      <td>23.329080</td>\n",
       "      <td>...</td>\n",
       "      <td>10.180572</td>\n",
       "      <td>10.435157</td>\n",
       "      <td>6.368792</td>\n",
       "      <td>23.523092</td>\n",
       "      <td>6.368792</td>\n",
       "      <td>11.103127</td>\n",
       "      <td>0.000000e+00</td>\n",
       "      <td>21.285108</td>\n",
       "      <td>0.000000e+00</td>\n",
       "      <td>22.627424</td>\n",
       "    </tr>\n",
       "    <tr>\n",
       "      <th>6</th>\n",
       "      <td>Hu7</td>\n",
       "      <td>19.185125</td>\n",
       "      <td>19.540810</td>\n",
       "      <td>18.383844</td>\n",
       "      <td>18.166770</td>\n",
       "      <td>16.823490</td>\n",
       "      <td>42.200824</td>\n",
       "      <td>16.712912</td>\n",
       "      <td>42.715759</td>\n",
       "      <td>42.428436</td>\n",
       "      <td>...</td>\n",
       "      <td>15.839522</td>\n",
       "      <td>17.164051</td>\n",
       "      <td>16.937564</td>\n",
       "      <td>42.715759</td>\n",
       "      <td>16.554051</td>\n",
       "      <td>17.630190</td>\n",
       "      <td>1.814132e-42</td>\n",
       "      <td>41.274566</td>\n",
       "      <td>4.447123e-42</td>\n",
       "      <td>42.115140</td>\n",
       "    </tr>\n",
       "    <tr>\n",
       "      <th>7</th>\n",
       "      <td>labels</td>\n",
       "      <td>0.000000</td>\n",
       "      <td>0.000000</td>\n",
       "      <td>0.000000</td>\n",
       "      <td>0.000000</td>\n",
       "      <td>0.000000</td>\n",
       "      <td>0.000000</td>\n",
       "      <td>0.000000</td>\n",
       "      <td>0.000000</td>\n",
       "      <td>0.000000</td>\n",
       "      <td>...</td>\n",
       "      <td>0.000000</td>\n",
       "      <td>0.000000</td>\n",
       "      <td>0.000000</td>\n",
       "      <td>0.000000</td>\n",
       "      <td>0.000000</td>\n",
       "      <td>0.000000</td>\n",
       "      <td>0.000000e+00</td>\n",
       "      <td>0.000000</td>\n",
       "      <td>0.000000e+00</td>\n",
       "      <td>0.000000</td>\n",
       "    </tr>\n",
       "  </tbody>\n",
       "</table>\n",
       "<p>8 rows × 3721 columns</p>\n",
       "</div>"
      ],
      "text/plain": [
       "    index          0          1          2          3          4          5  \\\n",
       "0     Hu1   0.797855   0.797868   0.797864   0.797898   0.768365   0.796249   \n",
       "1     Hu2   4.871704   4.845644   4.838065   5.071954   2.652744  25.656592   \n",
       "2     Hu3   7.584942   7.331733   6.629907   6.239340   3.640266  20.851941   \n",
       "3     Hu4  10.261621  10.304167   9.955211  10.029308   5.042419  20.986413   \n",
       "4     Hu5  20.679458  19.156240  18.413754  19.085243   9.383762  41.970027   \n",
       "5     Hu6  12.801832  12.743903  12.505186  12.565377   6.368791  33.999032   \n",
       "6     Hu7  19.185125  19.540810  18.383844  18.166770  16.823490  42.200824   \n",
       "7  labels   0.000000   0.000000   0.000000   0.000000   0.000000   0.000000   \n",
       "\n",
       "           6          7          8  ...       3710       3711       3712  \\\n",
       "0   0.797314   0.778151   0.782516  ...   0.795672   0.795996   0.768365   \n",
       "1   4.097030   2.760422   2.760422  ...   3.570138   3.627665   2.652744   \n",
       "2   6.237234  20.832712  22.621081  ...   5.824843   5.916739   3.640266   \n",
       "3   9.056708  21.454011  20.683855  ...   8.393142   8.599613   5.042419   \n",
       "4  17.393980  42.785608  42.566969  ...  15.553722  15.858320   9.383762   \n",
       "5  11.261034  23.523092  23.329080  ...  10.180572  10.435157   6.368792   \n",
       "6  16.712912  42.715759  42.428436  ...  15.839522  17.164051  16.937564   \n",
       "7   0.000000   0.000000   0.000000  ...   0.000000   0.000000   0.000000   \n",
       "\n",
       "        3713       3714       3715          3716       3717          3718  \\\n",
       "0   0.778151   0.768365   0.797219  7.962495e-01   0.670517  7.962495e-01   \n",
       "1   2.760422   2.652744   4.041758  0.000000e+00   1.703875  0.000000e+00   \n",
       "2  20.832712   3.640266   5.941354  1.150905e-21  20.384230  7.278678e-22   \n",
       "3  21.454011   5.042419   9.010998  4.279389e-21  20.381439  3.853932e-21   \n",
       "4  42.785608   9.383762  16.488301  9.322254e-42  40.786038  4.678402e-42   \n",
       "5  23.523092   6.368792  11.103127  0.000000e+00  21.285108  0.000000e+00   \n",
       "6  42.715759  16.554051  17.630190  1.814132e-42  41.274566  4.447123e-42   \n",
       "7   0.000000   0.000000   0.000000  0.000000e+00   0.000000  0.000000e+00   \n",
       "\n",
       "        3719  \n",
       "0   0.782516  \n",
       "1   2.760422  \n",
       "2  21.195276  \n",
       "3  20.784690  \n",
       "4  41.825442  \n",
       "5  22.627424  \n",
       "6  42.115140  \n",
       "7   0.000000  \n",
       "\n",
       "[8 rows x 3721 columns]"
      ]
     },
     "metadata": {},
     "output_type": "display_data"
    },
    {
     "data": {
      "image/png": "[encoded data removed]",
      "text/plain": [
       "<Figure size 432x288 with 1 Axes>"
      ]
     },
     "metadata": {
      "needs_background": "light"
     },
     "output_type": "display_data"
    }
   ],
   "source": [
    "new_DF = [0,0,0,0,0,0,0]\n",
    "Hu_CIRCLE_Y = [0,0,0,0,0,0,0]\n",
    "F_E = [0,0,0,0,0,0,0] \n",
    "\n",
    "for ID in range(0,7):\n",
    "\n",
    "    Hu_CIRCLE_X = Hu_CIRCLE.iloc[:,ID]\n",
    "    Hu_CIRCLE_Y[ID] = Hu_CIRCLE_X \n",
    "    num_bins = 100\n",
    "    n, bins, patches = plt.hist(Hu_CIRCLE_X, num_bins, facecolor='blue', alpha=0.5)\n",
    "    plt.show()\n",
    "    \n",
    "    z_scores = scipy.stats.zscore(Hu_CIRCLE_X)\n",
    "    abs_z_scores = np.abs(z_scores)\n",
    "    filtered_entries = (abs_z_scores < 1.5)\n",
    "    new_df = Hu_CIRCLE_X[filtered_entries]\n",
    "    F_E[ID] = filtered_entries\n",
    "    new_DF[ID] = new_df\n",
    "    num_bins = 100\n",
    "    n, bins, patches = plt.hist(new_df, num_bins, facecolor='blue', alpha=0.5)\n",
    "    plt.show()\n",
    "    \n",
    "    \n",
    "ORIGINAL =[len(Hu_CIRCLE_Y[0]),len(Hu_CIRCLE_Y[1]),len(Hu_CIRCLE_Y[2]),len(Hu_CIRCLE_Y[3]),len(Hu_CIRCLE_Y[4]),len(Hu_CIRCLE_Y[5]),len(Hu_CIRCLE_Y[6])]\n",
    "OUTLIERS=[len(new_DF[0]),len(new_DF[1]),len(new_DF[2]),len(new_DF[3]),len(new_DF[4]),len(new_DF[5]),len(new_DF[6])]\n",
    "DIF = np.subtract(ORIGINAL,OUTLIERS)\n",
    "print(DIF)\n",
    "import matplotlib.pyplot as plt\n",
    "fig = plt.figure()\n",
    "ax = fig.add_axes([0,0,1,1])\n",
    "langs = ['Hu1','Hu2','Hu3','Hu4','Hu5','Hu6','Hu7']\n",
    "ax.bar(langs,DIF)\n",
    "plt.show()\n",
    "\n",
    "#Al ver los graficos anteriores  se ve claramente que el unico que causa outliers en el circulo es el momento de Hu1\n",
    "Hu_CIRCLE_Q = pd.DataFrame.transpose(Hu_CIRCLE)\n",
    "Hu_CIRCLE_Q.reset_index(level=0, inplace=True)\n",
    "display(Hu_CIRCLE_Q)\n",
    "\n",
    "# EjeX_Hu = np.arange(8) + 1\n",
    "EjeX_Hu = ['Hu1','Hu2','Hu3','Hu4','Hu5','Hu6','Hu7','label']\n",
    "EjeX_Hu = np.asarray(EjeX_Hu)\n",
    "\n",
    "for k in range(1,len(Hu_CIRCLE_Q.columns.values)-1):    \n",
    "    EjeY_Hu = np.asarray(Hu_CIRCLE_Q.iloc[:,k])\n",
    "    plt.plot(EjeX_Hu,EjeY_Hu,'r-')\n",
    "\n",
    "plt.show()"
   ]
  },
  {
   "cell_type": "code",
   "execution_count": 9,
   "metadata": {},
   "outputs": [
    {
     "data": {
      "image/png": "[encoded data removed]",
      "text/plain": [
       "<Figure size 432x288 with 1 Axes>"
      ]
     },
     "metadata": {
      "needs_background": "light"
     },
     "output_type": "display_data"
    },
    {
     "data": {
      "image/png": "[encoded data removed]",
      "text/plain": [
       "<Figure size 432x288 with 1 Axes>"
      ]
     },
     "metadata": {
      "needs_background": "light"
     },
     "output_type": "display_data"
    },
    {
     "data": {
      "image/png": "[encoded data removed]",
      "text/plain": [
       "<Figure size 432x288 with 1 Axes>"
      ]
     },
     "metadata": {
      "needs_background": "light"
     },
     "output_type": "display_data"
    },
    {
     "data": {
      "image/png": "[encoded data removed]",
      "text/plain": [
       "<Figure size 432x288 with 1 Axes>"
      ]
     },
     "metadata": {
      "needs_background": "light"
     },
     "output_type": "display_data"
    },
    {
     "data": {
      "image/png": "[encoded data removed]",
      "text/plain": [
       "<Figure size 432x288 with 1 Axes>"
      ]
     },
     "metadata": {
      "needs_background": "light"
     },
     "output_type": "display_data"
    },
    {
     "data": {
      "image/png": "[encoded data removed]",
      "text/plain": [
       "<Figure size 432x288 with 1 Axes>"
      ]
     },
     "metadata": {
      "needs_background": "light"
     },
     "output_type": "display_data"
    },
    {
     "data": {
      "image/png": "[encoded data removed]",
      "text/plain": [
       "<Figure size 432x288 with 1 Axes>"
      ]
     },
     "metadata": {
      "needs_background": "light"
     },
     "output_type": "display_data"
    },
    {
     "data": {
      "image/png": "[encoded data removed]",
      "text/plain": [
       "<Figure size 432x288 with 1 Axes>"
      ]
     },
     "metadata": {
      "needs_background": "light"
     },
     "output_type": "display_data"
    },
    {
     "data": {
      "image/png": "[encoded data removed]",
      "text/plain": [
       "<Figure size 432x288 with 1 Axes>"
      ]
     },
     "metadata": {
      "needs_background": "light"
     },
     "output_type": "display_data"
    },
    {
     "data": {
      "image/png": "[encoded data removed]",
      "text/plain": [
       "<Figure size 432x288 with 1 Axes>"
      ]
     },
     "metadata": {
      "needs_background": "light"
     },
     "output_type": "display_data"
    },
    {
     "data": {
      "image/png": "[encoded data removed]",
      "text/plain": [
       "<Figure size 432x288 with 1 Axes>"
      ]
     },
     "metadata": {
      "needs_background": "light"
     },
     "output_type": "display_data"
    },
    {
     "data": {
      "image/png": "[encoded data removed]",
      "text/plain": [
       "<Figure size 432x288 with 1 Axes>"
      ]
     },
     "metadata": {
      "needs_background": "light"
     },
     "output_type": "display_data"
    },
    {
     "data": {
      "image/png": "[encoded data removed]",
      "text/plain": [
       "<Figure size 432x288 with 1 Axes>"
      ]
     },
     "metadata": {
      "needs_background": "light"
     },
     "output_type": "display_data"
    },
    {
     "data": {
      "image/png": "[encoded data removed]",
      "text/plain": [
       "<Figure size 432x288 with 1 Axes>"
      ]
     },
     "metadata": {
      "needs_background": "light"
     },
     "output_type": "display_data"
    },
    {
     "name": "stdout",
     "output_type": "stream",
     "text": [
      "[134 468 283 550 232 468 262]\n"
     ]
    },
    {
     "data": {
      "image/png": "[encoded data removed]",
      "text/plain": [
       "<Figure size 432x288 with 1 Axes>"
      ]
     },
     "metadata": {
      "needs_background": "light"
     },
     "output_type": "display_data"
    },
    {
     "data": {
      "text/html": [
       "<div>\n",
       "<style scoped>\n",
       "    .dataframe tbody tr th:only-of-type {\n",
       "        vertical-align: middle;\n",
       "    }\n",
       "\n",
       "    .dataframe tbody tr th {\n",
       "        vertical-align: top;\n",
       "    }\n",
       "\n",
       "    .dataframe thead th {\n",
       "        text-align: right;\n",
       "    }\n",
       "</style>\n",
       "<table border=\"1\" class=\"dataframe\">\n",
       "  <thead>\n",
       "    <tr style=\"text-align: right;\">\n",
       "      <th></th>\n",
       "      <th>index</th>\n",
       "      <th>3720</th>\n",
       "      <th>3721</th>\n",
       "      <th>3722</th>\n",
       "      <th>3723</th>\n",
       "      <th>3724</th>\n",
       "      <th>3725</th>\n",
       "      <th>3726</th>\n",
       "      <th>3727</th>\n",
       "      <th>3728</th>\n",
       "      <th>...</th>\n",
       "      <th>7475</th>\n",
       "      <th>7476</th>\n",
       "      <th>7477</th>\n",
       "      <th>7478</th>\n",
       "      <th>7479</th>\n",
       "      <th>7480</th>\n",
       "      <th>7481</th>\n",
       "      <th>7482</th>\n",
       "      <th>7483</th>\n",
       "      <th>7484</th>\n",
       "    </tr>\n",
       "  </thead>\n",
       "  <tbody>\n",
       "    <tr>\n",
       "      <th>0</th>\n",
       "      <td>Hu1</td>\n",
       "      <td>0.778032</td>\n",
       "      <td>0.777829</td>\n",
       "      <td>0.778639</td>\n",
       "      <td>0.778096</td>\n",
       "      <td>7.962495e-01</td>\n",
       "      <td>7.962495e-01</td>\n",
       "      <td>7.962495e-01</td>\n",
       "      <td>7.962495e-01</td>\n",
       "      <td>0.768365</td>\n",
       "      <td>...</td>\n",
       "      <td>7.962495e-01</td>\n",
       "      <td>0.775854</td>\n",
       "      <td>0.796249</td>\n",
       "      <td>7.962495e-01</td>\n",
       "      <td>7.962495e-01</td>\n",
       "      <td>7.962495e-01</td>\n",
       "      <td>0.778151</td>\n",
       "      <td>0.738143</td>\n",
       "      <td>0.778151</td>\n",
       "      <td>7.962495e-01</td>\n",
       "    </tr>\n",
       "    <tr>\n",
       "      <th>1</th>\n",
       "      <td>Hu2</td>\n",
       "      <td>4.172110</td>\n",
       "      <td>4.201167</td>\n",
       "      <td>3.993343</td>\n",
       "      <td>4.120808</td>\n",
       "      <td>0.000000e+00</td>\n",
       "      <td>0.000000e+00</td>\n",
       "      <td>0.000000e+00</td>\n",
       "      <td>0.000000e+00</td>\n",
       "      <td>2.652744</td>\n",
       "      <td>...</td>\n",
       "      <td>0.000000e+00</td>\n",
       "      <td>3.342200</td>\n",
       "      <td>25.656592</td>\n",
       "      <td>0.000000e+00</td>\n",
       "      <td>0.000000e+00</td>\n",
       "      <td>0.000000e+00</td>\n",
       "      <td>2.760422</td>\n",
       "      <td>2.190455</td>\n",
       "      <td>2.760422</td>\n",
       "      <td>0.000000e+00</td>\n",
       "    </tr>\n",
       "    <tr>\n",
       "      <th>2</th>\n",
       "      <td>Hu3</td>\n",
       "      <td>6.124259</td>\n",
       "      <td>6.085626</td>\n",
       "      <td>7.005248</td>\n",
       "      <td>6.031778</td>\n",
       "      <td>1.856050e-23</td>\n",
       "      <td>1.856050e-23</td>\n",
       "      <td>1.522166e-23</td>\n",
       "      <td>3.480586e-25</td>\n",
       "      <td>3.640266</td>\n",
       "      <td>...</td>\n",
       "      <td>7.575394e-25</td>\n",
       "      <td>4.727807</td>\n",
       "      <td>21.320769</td>\n",
       "      <td>1.920307e-23</td>\n",
       "      <td>9.843287e-25</td>\n",
       "      <td>4.915344e-24</td>\n",
       "      <td>22.664759</td>\n",
       "      <td>3.626503</td>\n",
       "      <td>22.530454</td>\n",
       "      <td>5.753204e-24</td>\n",
       "    </tr>\n",
       "    <tr>\n",
       "      <th>3</th>\n",
       "      <td>Hu4</td>\n",
       "      <td>7.929094</td>\n",
       "      <td>7.722882</td>\n",
       "      <td>7.906650</td>\n",
       "      <td>7.655584</td>\n",
       "      <td>3.790059e-23</td>\n",
       "      <td>3.790059e-23</td>\n",
       "      <td>8.163313e-23</td>\n",
       "      <td>1.018867e-22</td>\n",
       "      <td>5.042419</td>\n",
       "      <td>...</td>\n",
       "      <td>4.237338e-23</td>\n",
       "      <td>7.030386</td>\n",
       "      <td>20.998319</td>\n",
       "      <td>4.388531e-23</td>\n",
       "      <td>4.723675e-23</td>\n",
       "      <td>5.358685e-23</td>\n",
       "      <td>22.848670</td>\n",
       "      <td>4.667601</td>\n",
       "      <td>23.206435</td>\n",
       "      <td>9.066061e-23</td>\n",
       "    </tr>\n",
       "    <tr>\n",
       "      <th>4</th>\n",
       "      <td>Hu5</td>\n",
       "      <td>15.894933</td>\n",
       "      <td>14.928239</td>\n",
       "      <td>15.848793</td>\n",
       "      <td>14.533874</td>\n",
       "      <td>9.157037e-46</td>\n",
       "      <td>9.157037e-46</td>\n",
       "      <td>1.002056e-45</td>\n",
       "      <td>4.733392e-46</td>\n",
       "      <td>9.383762</td>\n",
       "      <td>...</td>\n",
       "      <td>2.240008e-46</td>\n",
       "      <td>13.393332</td>\n",
       "      <td>42.194832</td>\n",
       "      <td>9.670874e-46</td>\n",
       "      <td>4.659339e-47</td>\n",
       "      <td>4.812936e-46</td>\n",
       "      <td>45.607832</td>\n",
       "      <td>8.889406</td>\n",
       "      <td>46.363422</td>\n",
       "      <td>9.692400e-46</td>\n",
       "    </tr>\n",
       "    <tr>\n",
       "      <th>5</th>\n",
       "      <td>Hu6</td>\n",
       "      <td>10.280724</td>\n",
       "      <td>10.316662</td>\n",
       "      <td>10.760103</td>\n",
       "      <td>9.743121</td>\n",
       "      <td>0.000000e+00</td>\n",
       "      <td>0.000000e+00</td>\n",
       "      <td>0.000000e+00</td>\n",
       "      <td>0.000000e+00</td>\n",
       "      <td>6.368792</td>\n",
       "      <td>...</td>\n",
       "      <td>0.000000e+00</td>\n",
       "      <td>8.734774</td>\n",
       "      <td>33.858371</td>\n",
       "      <td>0.000000e+00</td>\n",
       "      <td>0.000000e+00</td>\n",
       "      <td>0.000000e+00</td>\n",
       "      <td>24.290268</td>\n",
       "      <td>5.832494</td>\n",
       "      <td>25.777429</td>\n",
       "      <td>0.000000e+00</td>\n",
       "    </tr>\n",
       "    <tr>\n",
       "      <th>6</th>\n",
       "      <td>Hu7</td>\n",
       "      <td>14.958664</td>\n",
       "      <td>14.689581</td>\n",
       "      <td>15.387067</td>\n",
       "      <td>14.915126</td>\n",
       "      <td>4.146885e-46</td>\n",
       "      <td>4.146885e-46</td>\n",
       "      <td>2.697495e-45</td>\n",
       "      <td>3.795825e-46</td>\n",
       "      <td>18.263925</td>\n",
       "      <td>...</td>\n",
       "      <td>8.636204e-47</td>\n",
       "      <td>12.934232</td>\n",
       "      <td>42.560547</td>\n",
       "      <td>8.293239e-46</td>\n",
       "      <td>3.187117e-46</td>\n",
       "      <td>7.243733e-46</td>\n",
       "      <td>46.580663</td>\n",
       "      <td>9.082519</td>\n",
       "      <td>46.141676</td>\n",
       "      <td>1.829671e-45</td>\n",
       "    </tr>\n",
       "    <tr>\n",
       "      <th>7</th>\n",
       "      <td>labels</td>\n",
       "      <td>1.000000</td>\n",
       "      <td>1.000000</td>\n",
       "      <td>1.000000</td>\n",
       "      <td>1.000000</td>\n",
       "      <td>1.000000e+00</td>\n",
       "      <td>1.000000e+00</td>\n",
       "      <td>1.000000e+00</td>\n",
       "      <td>1.000000e+00</td>\n",
       "      <td>1.000000</td>\n",
       "      <td>...</td>\n",
       "      <td>1.000000e+00</td>\n",
       "      <td>1.000000</td>\n",
       "      <td>1.000000</td>\n",
       "      <td>1.000000e+00</td>\n",
       "      <td>1.000000e+00</td>\n",
       "      <td>1.000000e+00</td>\n",
       "      <td>1.000000</td>\n",
       "      <td>1.000000</td>\n",
       "      <td>1.000000</td>\n",
       "      <td>1.000000e+00</td>\n",
       "    </tr>\n",
       "  </tbody>\n",
       "</table>\n",
       "<p>8 rows × 3766 columns</p>\n",
       "</div>"
      ],
      "text/plain": [
       "    index       3720       3721       3722       3723          3724  \\\n",
       "0     Hu1   0.778032   0.777829   0.778639   0.778096  7.962495e-01   \n",
       "1     Hu2   4.172110   4.201167   3.993343   4.120808  0.000000e+00   \n",
       "2     Hu3   6.124259   6.085626   7.005248   6.031778  1.856050e-23   \n",
       "3     Hu4   7.929094   7.722882   7.906650   7.655584  3.790059e-23   \n",
       "4     Hu5  15.894933  14.928239  15.848793  14.533874  9.157037e-46   \n",
       "5     Hu6  10.280724  10.316662  10.760103   9.743121  0.000000e+00   \n",
       "6     Hu7  14.958664  14.689581  15.387067  14.915126  4.146885e-46   \n",
       "7  labels   1.000000   1.000000   1.000000   1.000000  1.000000e+00   \n",
       "\n",
       "           3725          3726          3727       3728  ...          7475  \\\n",
       "0  7.962495e-01  7.962495e-01  7.962495e-01   0.768365  ...  7.962495e-01   \n",
       "1  0.000000e+00  0.000000e+00  0.000000e+00   2.652744  ...  0.000000e+00   \n",
       "2  1.856050e-23  1.522166e-23  3.480586e-25   3.640266  ...  7.575394e-25   \n",
       "3  3.790059e-23  8.163313e-23  1.018867e-22   5.042419  ...  4.237338e-23   \n",
       "4  9.157037e-46  1.002056e-45  4.733392e-46   9.383762  ...  2.240008e-46   \n",
       "5  0.000000e+00  0.000000e+00  0.000000e+00   6.368792  ...  0.000000e+00   \n",
       "6  4.146885e-46  2.697495e-45  3.795825e-46  18.263925  ...  8.636204e-47   \n",
       "7  1.000000e+00  1.000000e+00  1.000000e+00   1.000000  ...  1.000000e+00   \n",
       "\n",
       "        7476       7477          7478          7479          7480       7481  \\\n",
       "0   0.775854   0.796249  7.962495e-01  7.962495e-01  7.962495e-01   0.778151   \n",
       "1   3.342200  25.656592  0.000000e+00  0.000000e+00  0.000000e+00   2.760422   \n",
       "2   4.727807  21.320769  1.920307e-23  9.843287e-25  4.915344e-24  22.664759   \n",
       "3   7.030386  20.998319  4.388531e-23  4.723675e-23  5.358685e-23  22.848670   \n",
       "4  13.393332  42.194832  9.670874e-46  4.659339e-47  4.812936e-46  45.607832   \n",
       "5   8.734774  33.858371  0.000000e+00  0.000000e+00  0.000000e+00  24.290268   \n",
       "6  12.934232  42.560547  8.293239e-46  3.187117e-46  7.243733e-46  46.580663   \n",
       "7   1.000000   1.000000  1.000000e+00  1.000000e+00  1.000000e+00   1.000000   \n",
       "\n",
       "       7482       7483          7484  \n",
       "0  0.738143   0.778151  7.962495e-01  \n",
       "1  2.190455   2.760422  0.000000e+00  \n",
       "2  3.626503  22.530454  5.753204e-24  \n",
       "3  4.667601  23.206435  9.066061e-23  \n",
       "4  8.889406  46.363422  9.692400e-46  \n",
       "5  5.832494  25.777429  0.000000e+00  \n",
       "6  9.082519  46.141676  1.829671e-45  \n",
       "7  1.000000   1.000000  1.000000e+00  \n",
       "\n",
       "[8 rows x 3766 columns]"
      ]
     },
     "metadata": {},
     "output_type": "display_data"
    },
    {
     "data": {
      "image/png": "[encoded data removed]",
      "text/plain": [
       "<Figure size 432x288 with 1 Axes>"
      ]
     },
     "metadata": {
      "needs_background": "light"
     },
     "output_type": "display_data"
    }
   ],
   "source": [
    "new_DF = [0,0,0,0,0,0,0]\n",
    "Hu_SQUARE_Y = [0,0,0,0,0,0,0]\n",
    "F_E = [0,0,0,0,0,0,0] \n",
    "\n",
    "for ID in range(0,7):\n",
    "\n",
    "    Hu_SQUARE_X = Hu_SQUARE.iloc[:,ID]\n",
    "    Hu_SQUARE_Y[ID] = Hu_SQUARE_X \n",
    "    \n",
    "    num_bins = 100\n",
    "    n, bins, patches = plt.hist(Hu_SQUARE_X, num_bins, facecolor='blue', alpha=0.5)\n",
    "    plt.show()\n",
    "    \n",
    "    z_scores = scipy.stats.zscore(Hu_SQUARE_X)\n",
    "    abs_z_scores = np.abs(z_scores)\n",
    "    filtered_entries = (abs_z_scores < 1.5)\n",
    "    new_df = Hu_SQUARE_X[filtered_entries]\n",
    "    F_E[ID] = filtered_entries\n",
    "    new_DF[ID] = new_df\n",
    "    \n",
    "    num_bins = 100\n",
    "    n, bins, patches = plt.hist(new_df, num_bins, facecolor='blue', alpha=0.5)\n",
    "    plt.show()\n",
    "\n",
    "ORIGINAL =[len(Hu_SQUARE_Y[0]),len(Hu_SQUARE_Y[1]),len(Hu_SQUARE_Y[2]),len(Hu_SQUARE_Y[3]),len(Hu_SQUARE_Y[4]),len(Hu_SQUARE_Y[5]),len(Hu_SQUARE_Y[6])]\n",
    "OUTLIERS=[len(new_DF[0]),len(new_DF[1]),len(new_DF[2]),len(new_DF[3]),len(new_DF[4]),len(new_DF[5]),len(new_DF[6])]\n",
    "DIF = np.subtract(ORIGINAL,OUTLIERS)\n",
    "\n",
    "print(DIF)\n",
    "\n",
    "import matplotlib.pyplot as plt\n",
    "fig = plt.figure()\n",
    "ax = fig.add_axes([0,0,1,1])\n",
    "langs = ['Hu1','Hu2','Hu3','Hu4','Hu5','Hu6','Hu7']\n",
    "ax.bar(langs,DIF)\n",
    "plt.show()\n",
    "\n",
    "#Al ver los graficos anteriores  se ve claramente que el unico que causa outliers en el circulo es el momento de Hu1\n",
    "Hu_SQUARE_Q = pd.DataFrame.transpose(Hu_SQUARE)\n",
    "Hu_SQUARE_Q.reset_index(level=0, inplace=True)\n",
    "display(Hu_SQUARE_Q)\n",
    "\n",
    "EjeX_Hu = ['Hu1','Hu2','Hu3','Hu4','Hu5','Hu6','Hu7','label']\n",
    "EjeX_Hu = np.asarray(EjeX_Hu)\n",
    "\n",
    "for k in range(1,len(Hu_SQUARE_Q.columns.values)-1):    \n",
    "    EjeY_Hu = np.asarray(Hu_SQUARE_Q.iloc[:,k])\n",
    "    plt.plot(EjeX_Hu,EjeY_Hu,'b-')\n",
    "\n",
    "plt.show()\n"
   ]
  },
  {
   "cell_type": "code",
   "execution_count": 10,
   "metadata": {},
   "outputs": [
    {
     "data": {
      "image/png": "[encoded data removed]",
      "text/plain": [
       "<Figure size 432x288 with 1 Axes>"
      ]
     },
     "metadata": {
      "needs_background": "light"
     },
     "output_type": "display_data"
    },
    {
     "data": {
      "image/png": "[encoded data removed]",
      "text/plain": [
       "<Figure size 432x288 with 1 Axes>"
      ]
     },
     "metadata": {
      "needs_background": "light"
     },
     "output_type": "display_data"
    },
    {
     "data": {
      "image/png": "[encoded data removed]",
      "text/plain": [
       "<Figure size 432x288 with 1 Axes>"
      ]
     },
     "metadata": {
      "needs_background": "light"
     },
     "output_type": "display_data"
    },
    {
     "data": {
      "image/png": "[encoded data removed]",
      "text/plain": [
       "<Figure size 432x288 with 1 Axes>"
      ]
     },
     "metadata": {
      "needs_background": "light"
     },
     "output_type": "display_data"
    },
    {
     "data": {
      "image/png": "[encoded data removed]",
      "text/plain": [
       "<Figure size 432x288 with 1 Axes>"
      ]
     },
     "metadata": {
      "needs_background": "light"
     },
     "output_type": "display_data"
    },
    {
     "data": {
      "image/png": "[encoded data removed]",
      "text/plain": [
       "<Figure size 432x288 with 1 Axes>"
      ]
     },
     "metadata": {
      "needs_background": "light"
     },
     "output_type": "display_data"
    },
    {
     "data": {
      "image/png": "[encoded data removed]",
      "text/plain": [
       "<Figure size 432x288 with 1 Axes>"
      ]
     },
     "metadata": {
      "needs_background": "light"
     },
     "output_type": "display_data"
    },
    {
     "data": {
      "image/png": "[encoded data removed]",
      "text/plain": [
       "<Figure size 432x288 with 1 Axes>"
      ]
     },
     "metadata": {
      "needs_background": "light"
     },
     "output_type": "display_data"
    },
    {
     "data": {
      "image/png": "[encoded data removed]",
      "text/plain": [
       "<Figure size 432x288 with 1 Axes>"
      ]
     },
     "metadata": {
      "needs_background": "light"
     },
     "output_type": "display_data"
    },
    {
     "data": {
      "image/png": "[encoded data removed]",
      "text/plain": [
       "<Figure size 432x288 with 1 Axes>"
      ]
     },
     "metadata": {
      "needs_background": "light"
     },
     "output_type": "display_data"
    },
    {
     "data": {
      "image/png": "[encoded data removed]",
      "text/plain": [
       "<Figure size 432x288 with 1 Axes>"
      ]
     },
     "metadata": {
      "needs_background": "light"
     },
     "output_type": "display_data"
    },
    {
     "data": {
      "image/png": "[encoded data removed]",
      "text/plain": [
       "<Figure size 432x288 with 1 Axes>"
      ]
     },
     "metadata": {
      "needs_background": "light"
     },
     "output_type": "display_data"
    },
    {
     "data": {
      "image/png": "[encoded data removed]",
      "text/plain": [
       "<Figure size 432x288 with 1 Axes>"
      ]
     },
     "metadata": {
      "needs_background": "light"
     },
     "output_type": "display_data"
    },
    {
     "data": {
      "image/png": "[encoded data removed]",
      "text/plain": [
       "<Figure size 432x288 with 1 Axes>"
      ]
     },
     "metadata": {
      "needs_background": "light"
     },
     "output_type": "display_data"
    },
    {
     "name": "stdout",
     "output_type": "stream",
     "text": [
      "[676 331 673 673 673 400 666]\n"
     ]
    },
    {
     "data": {
      "image/png": "[encoded data removed]",
      "text/plain": [
       "<Figure size 432x288 with 1 Axes>"
      ]
     },
     "metadata": {
      "needs_background": "light"
     },
     "output_type": "display_data"
    },
    {
     "data": {
      "text/html": [
       "<div>\n",
       "<style scoped>\n",
       "    .dataframe tbody tr th:only-of-type {\n",
       "        vertical-align: middle;\n",
       "    }\n",
       "\n",
       "    .dataframe tbody tr th {\n",
       "        vertical-align: top;\n",
       "    }\n",
       "\n",
       "    .dataframe thead th {\n",
       "        text-align: right;\n",
       "    }\n",
       "</style>\n",
       "<table border=\"1\" class=\"dataframe\">\n",
       "  <thead>\n",
       "    <tr style=\"text-align: right;\">\n",
       "      <th></th>\n",
       "      <th>index</th>\n",
       "      <th>7485</th>\n",
       "      <th>7486</th>\n",
       "      <th>7487</th>\n",
       "      <th>7488</th>\n",
       "      <th>7489</th>\n",
       "      <th>7490</th>\n",
       "      <th>7491</th>\n",
       "      <th>7492</th>\n",
       "      <th>7493</th>\n",
       "      <th>...</th>\n",
       "      <th>11195</th>\n",
       "      <th>11196</th>\n",
       "      <th>11197</th>\n",
       "      <th>11198</th>\n",
       "      <th>11199</th>\n",
       "      <th>11200</th>\n",
       "      <th>11201</th>\n",
       "      <th>11202</th>\n",
       "      <th>11203</th>\n",
       "      <th>11204</th>\n",
       "    </tr>\n",
       "  </thead>\n",
       "  <tbody>\n",
       "    <tr>\n",
       "      <th>0</th>\n",
       "      <td>Hu1</td>\n",
       "      <td>0.718778</td>\n",
       "      <td>0.718633</td>\n",
       "      <td>0.718670</td>\n",
       "      <td>0.718205</td>\n",
       "      <td>7.962495e-01</td>\n",
       "      <td>7.962495e-01</td>\n",
       "      <td>7.962495e-01</td>\n",
       "      <td>0.760566</td>\n",
       "      <td>7.962495e-01</td>\n",
       "      <td>...</td>\n",
       "      <td>7.962495e-01</td>\n",
       "      <td>7.962495e-01</td>\n",
       "      <td>0.782516</td>\n",
       "      <td>7.962495e-01</td>\n",
       "      <td>7.962495e-01</td>\n",
       "      <td>0.749080</td>\n",
       "      <td>7.962495e-01</td>\n",
       "      <td>7.962495e-01</td>\n",
       "      <td>7.962495e-01</td>\n",
       "      <td>7.962495e-01</td>\n",
       "    </tr>\n",
       "    <tr>\n",
       "      <th>1</th>\n",
       "      <td>Hu2</td>\n",
       "      <td>3.666672</td>\n",
       "      <td>3.660758</td>\n",
       "      <td>3.674987</td>\n",
       "      <td>3.595055</td>\n",
       "      <td>0.000000e+00</td>\n",
       "      <td>0.000000e+00</td>\n",
       "      <td>0.000000e+00</td>\n",
       "      <td>2.377678</td>\n",
       "      <td>0.000000e+00</td>\n",
       "      <td>...</td>\n",
       "      <td>0.000000e+00</td>\n",
       "      <td>0.000000e+00</td>\n",
       "      <td>2.760422</td>\n",
       "      <td>0.000000e+00</td>\n",
       "      <td>0.000000e+00</td>\n",
       "      <td>2.252568</td>\n",
       "      <td>0.000000e+00</td>\n",
       "      <td>0.000000e+00</td>\n",
       "      <td>0.000000e+00</td>\n",
       "      <td>0.000000e+00</td>\n",
       "    </tr>\n",
       "    <tr>\n",
       "      <th>2</th>\n",
       "      <td>Hu3</td>\n",
       "      <td>2.373982</td>\n",
       "      <td>2.373051</td>\n",
       "      <td>2.373240</td>\n",
       "      <td>2.371638</td>\n",
       "      <td>1.096174e-21</td>\n",
       "      <td>4.567285e-26</td>\n",
       "      <td>5.495609e-22</td>\n",
       "      <td>20.809371</td>\n",
       "      <td>7.642548e-22</td>\n",
       "      <td>...</td>\n",
       "      <td>1.318125e-21</td>\n",
       "      <td>4.759804e-22</td>\n",
       "      <td>22.201166</td>\n",
       "      <td>4.043150e-22</td>\n",
       "      <td>4.058269e-22</td>\n",
       "      <td>3.680597</td>\n",
       "      <td>4.699327e-22</td>\n",
       "      <td>1.209795e-22</td>\n",
       "      <td>4.641874e-22</td>\n",
       "      <td>1.440289e-21</td>\n",
       "    </tr>\n",
       "    <tr>\n",
       "      <th>3</th>\n",
       "      <td>Hu4</td>\n",
       "      <td>5.129256</td>\n",
       "      <td>5.119284</td>\n",
       "      <td>5.146569</td>\n",
       "      <td>5.143533</td>\n",
       "      <td>2.398247e-21</td>\n",
       "      <td>3.667215e-23</td>\n",
       "      <td>2.599132e-21</td>\n",
       "      <td>21.763613</td>\n",
       "      <td>1.676855e-21</td>\n",
       "      <td>...</td>\n",
       "      <td>2.766956e-21</td>\n",
       "      <td>2.501360e-21</td>\n",
       "      <td>21.389697</td>\n",
       "      <td>3.473934e-21</td>\n",
       "      <td>3.456899e-21</td>\n",
       "      <td>4.793637</td>\n",
       "      <td>2.414676e-21</td>\n",
       "      <td>3.322035e-21</td>\n",
       "      <td>3.480586e-21</td>\n",
       "      <td>2.814934e-21</td>\n",
       "    </tr>\n",
       "    <tr>\n",
       "      <th>4</th>\n",
       "      <td>Hu5</td>\n",
       "      <td>10.401285</td>\n",
       "      <td>11.629025</td>\n",
       "      <td>9.890020</td>\n",
       "      <td>9.340756</td>\n",
       "      <td>3.551501e-42</td>\n",
       "      <td>3.256769e-47</td>\n",
       "      <td>1.931650e-42</td>\n",
       "      <td>43.050105</td>\n",
       "      <td>1.797937e-42</td>\n",
       "      <td>...</td>\n",
       "      <td>4.199348e-42</td>\n",
       "      <td>2.311770e-42</td>\n",
       "      <td>43.554651</td>\n",
       "      <td>1.957735e-42</td>\n",
       "      <td>1.793440e-42</td>\n",
       "      <td>9.086924</td>\n",
       "      <td>2.318137e-42</td>\n",
       "      <td>1.923147e-42</td>\n",
       "      <td>1.736289e-42</td>\n",
       "      <td>4.485483e-42</td>\n",
       "    </tr>\n",
       "    <tr>\n",
       "      <th>5</th>\n",
       "      <td>Hu6</td>\n",
       "      <td>8.062616</td>\n",
       "      <td>8.104389</td>\n",
       "      <td>9.163216</td>\n",
       "      <td>7.342434</td>\n",
       "      <td>0.000000e+00</td>\n",
       "      <td>0.000000e+00</td>\n",
       "      <td>0.000000e+00</td>\n",
       "      <td>22.952452</td>\n",
       "      <td>0.000000e+00</td>\n",
       "      <td>...</td>\n",
       "      <td>0.000000e+00</td>\n",
       "      <td>0.000000e+00</td>\n",
       "      <td>23.009415</td>\n",
       "      <td>0.000000e+00</td>\n",
       "      <td>0.000000e+00</td>\n",
       "      <td>6.048590</td>\n",
       "      <td>0.000000e+00</td>\n",
       "      <td>0.000000e+00</td>\n",
       "      <td>0.000000e+00</td>\n",
       "      <td>0.000000e+00</td>\n",
       "    </tr>\n",
       "    <tr>\n",
       "      <th>6</th>\n",
       "      <td>Hu7</td>\n",
       "      <td>8.881073</td>\n",
       "      <td>8.865453</td>\n",
       "      <td>8.908829</td>\n",
       "      <td>8.931871</td>\n",
       "      <td>1.583402e-42</td>\n",
       "      <td>3.452330e-47</td>\n",
       "      <td>2.432723e-42</td>\n",
       "      <td>0.000000</td>\n",
       "      <td>6.090347e-43</td>\n",
       "      <td>...</td>\n",
       "      <td>3.207577e-42</td>\n",
       "      <td>1.450882e-42</td>\n",
       "      <td>43.228850</td>\n",
       "      <td>3.621857e-42</td>\n",
       "      <td>3.680825e-42</td>\n",
       "      <td>9.351859</td>\n",
       "      <td>1.114675e-42</td>\n",
       "      <td>8.583823e-43</td>\n",
       "      <td>4.069151e-42</td>\n",
       "      <td>3.465007e-42</td>\n",
       "    </tr>\n",
       "    <tr>\n",
       "      <th>7</th>\n",
       "      <td>labels</td>\n",
       "      <td>2.000000</td>\n",
       "      <td>2.000000</td>\n",
       "      <td>2.000000</td>\n",
       "      <td>2.000000</td>\n",
       "      <td>2.000000e+00</td>\n",
       "      <td>2.000000e+00</td>\n",
       "      <td>2.000000e+00</td>\n",
       "      <td>2.000000</td>\n",
       "      <td>2.000000e+00</td>\n",
       "      <td>...</td>\n",
       "      <td>2.000000e+00</td>\n",
       "      <td>2.000000e+00</td>\n",
       "      <td>2.000000</td>\n",
       "      <td>2.000000e+00</td>\n",
       "      <td>2.000000e+00</td>\n",
       "      <td>2.000000</td>\n",
       "      <td>2.000000e+00</td>\n",
       "      <td>2.000000e+00</td>\n",
       "      <td>2.000000e+00</td>\n",
       "      <td>2.000000e+00</td>\n",
       "    </tr>\n",
       "  </tbody>\n",
       "</table>\n",
       "<p>8 rows × 3721 columns</p>\n",
       "</div>"
      ],
      "text/plain": [
       "    index       7485       7486      7487      7488          7489  \\\n",
       "0     Hu1   0.718778   0.718633  0.718670  0.718205  7.962495e-01   \n",
       "1     Hu2   3.666672   3.660758  3.674987  3.595055  0.000000e+00   \n",
       "2     Hu3   2.373982   2.373051  2.373240  2.371638  1.096174e-21   \n",
       "3     Hu4   5.129256   5.119284  5.146569  5.143533  2.398247e-21   \n",
       "4     Hu5  10.401285  11.629025  9.890020  9.340756  3.551501e-42   \n",
       "5     Hu6   8.062616   8.104389  9.163216  7.342434  0.000000e+00   \n",
       "6     Hu7   8.881073   8.865453  8.908829  8.931871  1.583402e-42   \n",
       "7  labels   2.000000   2.000000  2.000000  2.000000  2.000000e+00   \n",
       "\n",
       "           7490          7491       7492          7493  ...         11195  \\\n",
       "0  7.962495e-01  7.962495e-01   0.760566  7.962495e-01  ...  7.962495e-01   \n",
       "1  0.000000e+00  0.000000e+00   2.377678  0.000000e+00  ...  0.000000e+00   \n",
       "2  4.567285e-26  5.495609e-22  20.809371  7.642548e-22  ...  1.318125e-21   \n",
       "3  3.667215e-23  2.599132e-21  21.763613  1.676855e-21  ...  2.766956e-21   \n",
       "4  3.256769e-47  1.931650e-42  43.050105  1.797937e-42  ...  4.199348e-42   \n",
       "5  0.000000e+00  0.000000e+00  22.952452  0.000000e+00  ...  0.000000e+00   \n",
       "6  3.452330e-47  2.432723e-42   0.000000  6.090347e-43  ...  3.207577e-42   \n",
       "7  2.000000e+00  2.000000e+00   2.000000  2.000000e+00  ...  2.000000e+00   \n",
       "\n",
       "          11196      11197         11198         11199     11200  \\\n",
       "0  7.962495e-01   0.782516  7.962495e-01  7.962495e-01  0.749080   \n",
       "1  0.000000e+00   2.760422  0.000000e+00  0.000000e+00  2.252568   \n",
       "2  4.759804e-22  22.201166  4.043150e-22  4.058269e-22  3.680597   \n",
       "3  2.501360e-21  21.389697  3.473934e-21  3.456899e-21  4.793637   \n",
       "4  2.311770e-42  43.554651  1.957735e-42  1.793440e-42  9.086924   \n",
       "5  0.000000e+00  23.009415  0.000000e+00  0.000000e+00  6.048590   \n",
       "6  1.450882e-42  43.228850  3.621857e-42  3.680825e-42  9.351859   \n",
       "7  2.000000e+00   2.000000  2.000000e+00  2.000000e+00  2.000000   \n",
       "\n",
       "          11201         11202         11203         11204  \n",
       "0  7.962495e-01  7.962495e-01  7.962495e-01  7.962495e-01  \n",
       "1  0.000000e+00  0.000000e+00  0.000000e+00  0.000000e+00  \n",
       "2  4.699327e-22  1.209795e-22  4.641874e-22  1.440289e-21  \n",
       "3  2.414676e-21  3.322035e-21  3.480586e-21  2.814934e-21  \n",
       "4  2.318137e-42  1.923147e-42  1.736289e-42  4.485483e-42  \n",
       "5  0.000000e+00  0.000000e+00  0.000000e+00  0.000000e+00  \n",
       "6  1.114675e-42  8.583823e-43  4.069151e-42  3.465007e-42  \n",
       "7  2.000000e+00  2.000000e+00  2.000000e+00  2.000000e+00  \n",
       "\n",
       "[8 rows x 3721 columns]"
      ]
     },
     "metadata": {},
     "output_type": "display_data"
    },
    {
     "data": {
      "image/png": "[encoded data removed]",
      "text/plain": [
       "<Figure size 432x288 with 1 Axes>"
      ]
     },
     "metadata": {
      "needs_background": "light"
     },
     "output_type": "display_data"
    }
   ],
   "source": [
    "new_DF = [0,0,0,0,0,0,0]\n",
    "Hu_TRIANGLE_Y = [0,0,0,0,0,0,0]\n",
    "F_E = [0,0,0,0,0,0,0] \n",
    "\n",
    "for ID in range(0,7):\n",
    "\n",
    "    Hu_TRIANGLE_X = Hu_TRIANGLE.iloc[:,ID]\n",
    "    Hu_TRIANGLE_Y[ID] = Hu_TRIANGLE_X \n",
    "    \n",
    "    num_bins = 100\n",
    "    n, bins, patches = plt.hist(Hu_TRIANGLE_X, num_bins, facecolor='blue', alpha=0.5)\n",
    "    plt.show()\n",
    "    \n",
    "    z_scores = scipy.stats.zscore(Hu_TRIANGLE_X)\n",
    "    abs_z_scores = np.abs(z_scores)\n",
    "    filtered_entries = (abs_z_scores < 1.5)\n",
    "    new_df = Hu_TRIANGLE_X[filtered_entries]\n",
    "    F_E[ID] = filtered_entries\n",
    "    new_DF[ID] = new_df\n",
    "    \n",
    "    num_bins = 100\n",
    "    n, bins, patches = plt.hist(new_df, num_bins, facecolor='blue', alpha=0.5)\n",
    "    plt.show()\n",
    "\n",
    "ORIGINAL =[len(Hu_TRIANGLE_Y[0]),len(Hu_TRIANGLE_Y[1]),len(Hu_TRIANGLE_Y[2]),len(Hu_TRIANGLE_Y[3]),len(Hu_TRIANGLE_Y[4]),len(Hu_TRIANGLE_Y[5]),len(Hu_TRIANGLE_Y[6])]\n",
    "OUTLIERS=[len(new_DF[0]),len(new_DF[1]),len(new_DF[2]),len(new_DF[3]),len(new_DF[4]),len(new_DF[5]),len(new_DF[6])]\n",
    "DIF = np.subtract(ORIGINAL,OUTLIERS)\n",
    "print(DIF)\n",
    "import matplotlib.pyplot as plt\n",
    "fig = plt.figure()\n",
    "ax = fig.add_axes([0,0,1,1])\n",
    "langs = ['Hu1','Hu2','Hu3','Hu4','Hu5','Hu6','Hu7']\n",
    "ax.bar(langs,DIF)\n",
    "plt.show()\n",
    "\n",
    "\n",
    "#Al ver los graficos anteriores  se ve claramente que el unico que causa outliers en el circulo es el momento de Hu1\n",
    "Hu_TRIANGLE_Q = pd.DataFrame.transpose(Hu_TRIANGLE)\n",
    "Hu_TRIANGLE_Q.reset_index(level=0, inplace=True)\n",
    "display(Hu_TRIANGLE_Q)\n",
    "\n",
    "EjeX_Hu = ['Hu1','Hu2','Hu3','Hu4','Hu5','Hu6','Hu7','label']\n",
    "EjeX_Hu = np.asarray(EjeX_Hu)\n",
    "\n",
    "for k in range(1,len(Hu_TRIANGLE_Q.columns.values)-1):    \n",
    "    EjeY_Hu = np.asarray(Hu_TRIANGLE_Q.iloc[:,k])\n",
    "    plt.plot(EjeX_Hu,EjeY_Hu,'g-')\n",
    "\n",
    "plt.show()\n"
   ]
  },
  {
   "cell_type": "code",
   "execution_count": 11,
   "metadata": {},
   "outputs": [
    {
     "data": {
      "image/png": "[encoded data removed]",
      "text/plain": [
       "<Figure size 432x288 with 1 Axes>"
      ]
     },
     "metadata": {
      "needs_background": "light"
     },
     "output_type": "display_data"
    },
    {
     "data": {
      "image/png": "[encoded data removed]",
      "text/plain": [
       "<Figure size 432x288 with 1 Axes>"
      ]
     },
     "metadata": {
      "needs_background": "light"
     },
     "output_type": "display_data"
    },
    {
     "data": {
      "image/png": "[encoded data removed]",
      "text/plain": [
       "<Figure size 432x288 with 1 Axes>"
      ]
     },
     "metadata": {
      "needs_background": "light"
     },
     "output_type": "display_data"
    },
    {
     "data": {
      "image/png": "[encoded data removed]",
      "text/plain": [
       "<Figure size 432x288 with 1 Axes>"
      ]
     },
     "metadata": {
      "needs_background": "light"
     },
     "output_type": "display_data"
    },
    {
     "data": {
      "image/png": "[encoded data removed]",
      "text/plain": [
       "<Figure size 432x288 with 1 Axes>"
      ]
     },
     "metadata": {
      "needs_background": "light"
     },
     "output_type": "display_data"
    },
    {
     "data": {
      "image/png": "[encoded data removed]",
      "text/plain": [
       "<Figure size 432x288 with 1 Axes>"
      ]
     },
     "metadata": {
      "needs_background": "light"
     },
     "output_type": "display_data"
    },
    {
     "data": {
      "image/png": "[encoded data removed]",
      "text/plain": [
       "<Figure size 432x288 with 1 Axes>"
      ]
     },
     "metadata": {
      "needs_background": "light"
     },
     "output_type": "display_data"
    },
    {
     "data": {
      "image/png": "[encoded data removed]",
      "text/plain": [
       "<Figure size 432x288 with 1 Axes>"
      ]
     },
     "metadata": {
      "needs_background": "light"
     },
     "output_type": "display_data"
    },
    {
     "data": {
      "image/png": "[encoded data removed]",
      "text/plain": [
       "<Figure size 432x288 with 1 Axes>"
      ]
     },
     "metadata": {
      "needs_background": "light"
     },
     "output_type": "display_data"
    },
    {
     "data": {
      "image/png": "[encoded data removed]",
      "text/plain": [
       "<Figure size 432x288 with 1 Axes>"
      ]
     },
     "metadata": {
      "needs_background": "light"
     },
     "output_type": "display_data"
    },
    {
     "data": {
      "image/png": "[encoded data removed]",
      "text/plain": [
       "<Figure size 432x288 with 1 Axes>"
      ]
     },
     "metadata": {
      "needs_background": "light"
     },
     "output_type": "display_data"
    },
    {
     "data": {
      "image/png": "[encoded data removed]",
      "text/plain": [
       "<Figure size 432x288 with 1 Axes>"
      ]
     },
     "metadata": {
      "needs_background": "light"
     },
     "output_type": "display_data"
    },
    {
     "data": {
      "image/png": "[encoded data removed]",
      "text/plain": [
       "<Figure size 432x288 with 1 Axes>"
      ]
     },
     "metadata": {
      "needs_background": "light"
     },
     "output_type": "display_data"
    },
    {
     "data": {
      "image/png": "[encoded data removed]",
      "text/plain": [
       "<Figure size 432x288 with 1 Axes>"
      ]
     },
     "metadata": {
      "needs_background": "light"
     },
     "output_type": "display_data"
    },
    {
     "name": "stdout",
     "output_type": "stream",
     "text": [
      "[ 66 444 498 346 385 444 368]\n"
     ]
    },
    {
     "data": {
      "image/png": "[encoded data removed]",
      "text/plain": [
       "<Figure size 432x288 with 1 Axes>"
      ]
     },
     "metadata": {
      "needs_background": "light"
     },
     "output_type": "display_data"
    },
    {
     "data": {
      "text/html": [
       "<div>\n",
       "<style scoped>\n",
       "    .dataframe tbody tr th:only-of-type {\n",
       "        vertical-align: middle;\n",
       "    }\n",
       "\n",
       "    .dataframe tbody tr th {\n",
       "        vertical-align: top;\n",
       "    }\n",
       "\n",
       "    .dataframe thead th {\n",
       "        text-align: right;\n",
       "    }\n",
       "</style>\n",
       "<table border=\"1\" class=\"dataframe\">\n",
       "  <thead>\n",
       "    <tr style=\"text-align: right;\">\n",
       "      <th></th>\n",
       "      <th>index</th>\n",
       "      <th>11205</th>\n",
       "      <th>11206</th>\n",
       "      <th>11207</th>\n",
       "      <th>11208</th>\n",
       "      <th>11209</th>\n",
       "      <th>11210</th>\n",
       "      <th>11211</th>\n",
       "      <th>11212</th>\n",
       "      <th>11213</th>\n",
       "      <th>...</th>\n",
       "      <th>14960</th>\n",
       "      <th>14961</th>\n",
       "      <th>14962</th>\n",
       "      <th>14963</th>\n",
       "      <th>14964</th>\n",
       "      <th>14965</th>\n",
       "      <th>14966</th>\n",
       "      <th>14967</th>\n",
       "      <th>14968</th>\n",
       "      <th>14969</th>\n",
       "    </tr>\n",
       "  </thead>\n",
       "  <tbody>\n",
       "    <tr>\n",
       "      <th>0</th>\n",
       "      <td>Hu1</td>\n",
       "      <td>0.675960</td>\n",
       "      <td>0.675961</td>\n",
       "      <td>0.676627</td>\n",
       "      <td>0.677457</td>\n",
       "      <td>0.748359</td>\n",
       "      <td>7.962495e-01</td>\n",
       "      <td>0.782516</td>\n",
       "      <td>7.962495e-01</td>\n",
       "      <td>0.778151</td>\n",
       "      <td>...</td>\n",
       "      <td>0.608442</td>\n",
       "      <td>7.962495e-01</td>\n",
       "      <td>7.962495e-01</td>\n",
       "      <td>0.778151</td>\n",
       "      <td>7.962495e-01</td>\n",
       "      <td>0.796249</td>\n",
       "      <td>0.688132</td>\n",
       "      <td>0.782516</td>\n",
       "      <td>7.962495e-01</td>\n",
       "      <td>0.796249</td>\n",
       "    </tr>\n",
       "    <tr>\n",
       "      <th>1</th>\n",
       "      <td>Hu2</td>\n",
       "      <td>3.878113</td>\n",
       "      <td>3.913547</td>\n",
       "      <td>4.027027</td>\n",
       "      <td>4.049135</td>\n",
       "      <td>2.205896</td>\n",
       "      <td>0.000000e+00</td>\n",
       "      <td>2.760422</td>\n",
       "      <td>0.000000e+00</td>\n",
       "      <td>2.760422</td>\n",
       "      <td>...</td>\n",
       "      <td>1.475020</td>\n",
       "      <td>0.000000e+00</td>\n",
       "      <td>0.000000e+00</td>\n",
       "      <td>2.760422</td>\n",
       "      <td>0.000000e+00</td>\n",
       "      <td>25.656592</td>\n",
       "      <td>1.838323</td>\n",
       "      <td>2.760422</td>\n",
       "      <td>0.000000e+00</td>\n",
       "      <td>25.656592</td>\n",
       "    </tr>\n",
       "    <tr>\n",
       "      <th>2</th>\n",
       "      <td>Hu3</td>\n",
       "      <td>4.933973</td>\n",
       "      <td>5.155866</td>\n",
       "      <td>5.249073</td>\n",
       "      <td>4.613582</td>\n",
       "      <td>22.017078</td>\n",
       "      <td>8.111246e-22</td>\n",
       "      <td>21.027803</td>\n",
       "      <td>1.272540e-23</td>\n",
       "      <td>19.644506</td>\n",
       "      <td>...</td>\n",
       "      <td>4.170654</td>\n",
       "      <td>6.413098e-23</td>\n",
       "      <td>9.323561e-25</td>\n",
       "      <td>20.727032</td>\n",
       "      <td>4.560985e-24</td>\n",
       "      <td>21.087094</td>\n",
       "      <td>3.311610</td>\n",
       "      <td>23.347824</td>\n",
       "      <td>7.545785e-22</td>\n",
       "      <td>21.781846</td>\n",
       "    </tr>\n",
       "    <tr>\n",
       "      <th>3</th>\n",
       "      <td>Hu4</td>\n",
       "      <td>7.043376</td>\n",
       "      <td>6.178288</td>\n",
       "      <td>6.315016</td>\n",
       "      <td>6.260687</td>\n",
       "      <td>22.357470</td>\n",
       "      <td>1.651959e-21</td>\n",
       "      <td>20.967934</td>\n",
       "      <td>2.828340e-21</td>\n",
       "      <td>19.836665</td>\n",
       "      <td>...</td>\n",
       "      <td>4.894878</td>\n",
       "      <td>3.126492e-21</td>\n",
       "      <td>2.930244e-21</td>\n",
       "      <td>21.017170</td>\n",
       "      <td>2.879040e-21</td>\n",
       "      <td>20.960400</td>\n",
       "      <td>4.129594</td>\n",
       "      <td>20.917219</td>\n",
       "      <td>1.692982e-21</td>\n",
       "      <td>21.193107</td>\n",
       "    </tr>\n",
       "    <tr>\n",
       "      <th>4</th>\n",
       "      <td>Hu5</td>\n",
       "      <td>13.032058</td>\n",
       "      <td>11.857403</td>\n",
       "      <td>12.134612</td>\n",
       "      <td>11.808890</td>\n",
       "      <td>44.563285</td>\n",
       "      <td>1.796711e-42</td>\n",
       "      <td>43.456777</td>\n",
       "      <td>4.636411e-43</td>\n",
       "      <td>39.580066</td>\n",
       "      <td>...</td>\n",
       "      <td>9.438336</td>\n",
       "      <td>7.629742e-43</td>\n",
       "      <td>2.783360e-44</td>\n",
       "      <td>41.900065</td>\n",
       "      <td>2.510121e-43</td>\n",
       "      <td>42.004284</td>\n",
       "      <td>7.850477</td>\n",
       "      <td>43.066565</td>\n",
       "      <td>1.821742e-42</td>\n",
       "      <td>42.723533</td>\n",
       "    </tr>\n",
       "    <tr>\n",
       "      <th>5</th>\n",
       "      <td>Hu6</td>\n",
       "      <td>9.567549</td>\n",
       "      <td>8.148665</td>\n",
       "      <td>8.342628</td>\n",
       "      <td>8.946007</td>\n",
       "      <td>23.613732</td>\n",
       "      <td>0.000000e+00</td>\n",
       "      <td>23.603752</td>\n",
       "      <td>0.000000e+00</td>\n",
       "      <td>21.281940</td>\n",
       "      <td>...</td>\n",
       "      <td>5.656548</td>\n",
       "      <td>0.000000e+00</td>\n",
       "      <td>0.000000e+00</td>\n",
       "      <td>22.515208</td>\n",
       "      <td>0.000000e+00</td>\n",
       "      <td>33.899647</td>\n",
       "      <td>5.048855</td>\n",
       "      <td>22.499460</td>\n",
       "      <td>0.000000e+00</td>\n",
       "      <td>34.072216</td>\n",
       "    </tr>\n",
       "    <tr>\n",
       "      <th>6</th>\n",
       "      <td>Hu7</td>\n",
       "      <td>15.287568</td>\n",
       "      <td>12.479452</td>\n",
       "      <td>12.496633</td>\n",
       "      <td>11.896574</td>\n",
       "      <td>45.088272</td>\n",
       "      <td>6.545935e-43</td>\n",
       "      <td>41.966028</td>\n",
       "      <td>2.700987e-43</td>\n",
       "      <td>40.522295</td>\n",
       "      <td>...</td>\n",
       "      <td>10.086823</td>\n",
       "      <td>1.173796e-42</td>\n",
       "      <td>1.506101e-43</td>\n",
       "      <td>42.546446</td>\n",
       "      <td>2.140940e-43</td>\n",
       "      <td>42.510515</td>\n",
       "      <td>9.293558</td>\n",
       "      <td>43.613512</td>\n",
       "      <td>5.854745e-43</td>\n",
       "      <td>43.053598</td>\n",
       "    </tr>\n",
       "    <tr>\n",
       "      <th>7</th>\n",
       "      <td>labels</td>\n",
       "      <td>3.000000</td>\n",
       "      <td>3.000000</td>\n",
       "      <td>3.000000</td>\n",
       "      <td>3.000000</td>\n",
       "      <td>3.000000</td>\n",
       "      <td>3.000000e+00</td>\n",
       "      <td>3.000000</td>\n",
       "      <td>3.000000e+00</td>\n",
       "      <td>3.000000</td>\n",
       "      <td>...</td>\n",
       "      <td>3.000000</td>\n",
       "      <td>3.000000e+00</td>\n",
       "      <td>3.000000e+00</td>\n",
       "      <td>3.000000</td>\n",
       "      <td>3.000000e+00</td>\n",
       "      <td>3.000000</td>\n",
       "      <td>3.000000</td>\n",
       "      <td>3.000000</td>\n",
       "      <td>3.000000e+00</td>\n",
       "      <td>3.000000</td>\n",
       "    </tr>\n",
       "  </tbody>\n",
       "</table>\n",
       "<p>8 rows × 3766 columns</p>\n",
       "</div>"
      ],
      "text/plain": [
       "    index      11205      11206      11207      11208      11209  \\\n",
       "0     Hu1   0.675960   0.675961   0.676627   0.677457   0.748359   \n",
       "1     Hu2   3.878113   3.913547   4.027027   4.049135   2.205896   \n",
       "2     Hu3   4.933973   5.155866   5.249073   4.613582  22.017078   \n",
       "3     Hu4   7.043376   6.178288   6.315016   6.260687  22.357470   \n",
       "4     Hu5  13.032058  11.857403  12.134612  11.808890  44.563285   \n",
       "5     Hu6   9.567549   8.148665   8.342628   8.946007  23.613732   \n",
       "6     Hu7  15.287568  12.479452  12.496633  11.896574  45.088272   \n",
       "7  labels   3.000000   3.000000   3.000000   3.000000   3.000000   \n",
       "\n",
       "          11210      11211         11212      11213  ...      14960  \\\n",
       "0  7.962495e-01   0.782516  7.962495e-01   0.778151  ...   0.608442   \n",
       "1  0.000000e+00   2.760422  0.000000e+00   2.760422  ...   1.475020   \n",
       "2  8.111246e-22  21.027803  1.272540e-23  19.644506  ...   4.170654   \n",
       "3  1.651959e-21  20.967934  2.828340e-21  19.836665  ...   4.894878   \n",
       "4  1.796711e-42  43.456777  4.636411e-43  39.580066  ...   9.438336   \n",
       "5  0.000000e+00  23.603752  0.000000e+00  21.281940  ...   5.656548   \n",
       "6  6.545935e-43  41.966028  2.700987e-43  40.522295  ...  10.086823   \n",
       "7  3.000000e+00   3.000000  3.000000e+00   3.000000  ...   3.000000   \n",
       "\n",
       "          14961         14962      14963         14964      14965     14966  \\\n",
       "0  7.962495e-01  7.962495e-01   0.778151  7.962495e-01   0.796249  0.688132   \n",
       "1  0.000000e+00  0.000000e+00   2.760422  0.000000e+00  25.656592  1.838323   \n",
       "2  6.413098e-23  9.323561e-25  20.727032  4.560985e-24  21.087094  3.311610   \n",
       "3  3.126492e-21  2.930244e-21  21.017170  2.879040e-21  20.960400  4.129594   \n",
       "4  7.629742e-43  2.783360e-44  41.900065  2.510121e-43  42.004284  7.850477   \n",
       "5  0.000000e+00  0.000000e+00  22.515208  0.000000e+00  33.899647  5.048855   \n",
       "6  1.173796e-42  1.506101e-43  42.546446  2.140940e-43  42.510515  9.293558   \n",
       "7  3.000000e+00  3.000000e+00   3.000000  3.000000e+00   3.000000  3.000000   \n",
       "\n",
       "       14967         14968      14969  \n",
       "0   0.782516  7.962495e-01   0.796249  \n",
       "1   2.760422  0.000000e+00  25.656592  \n",
       "2  23.347824  7.545785e-22  21.781846  \n",
       "3  20.917219  1.692982e-21  21.193107  \n",
       "4  43.066565  1.821742e-42  42.723533  \n",
       "5  22.499460  0.000000e+00  34.072216  \n",
       "6  43.613512  5.854745e-43  43.053598  \n",
       "7   3.000000  3.000000e+00   3.000000  \n",
       "\n",
       "[8 rows x 3766 columns]"
      ]
     },
     "metadata": {},
     "output_type": "display_data"
    },
    {
     "data": {
      "image/png": "[encoded data removed]",
      "text/plain": [
       "<Figure size 432x288 with 1 Axes>"
      ]
     },
     "metadata": {
      "needs_background": "light"
     },
     "output_type": "display_data"
    }
   ],
   "source": [
    "F_E = [0,0,0,0,0,0,0] \n",
    "new_DF = [0,0,0,0,0,0,0]\n",
    "Hu_STAR_Y = [0,0,0,0,0,0,0]\n",
    "\n",
    "for ID in range(0,7):\n",
    "\n",
    "    Hu_STAR_X = Hu_STAR.iloc[:,ID]\n",
    "    Hu_STAR_Y[ID] = Hu_STAR_X \n",
    "    \n",
    "    num_bins = 100\n",
    "    n, bins, patches = plt.hist(Hu_STAR_X, num_bins, facecolor='blue', alpha=0.5)\n",
    "    plt.show()\n",
    "    \n",
    "    z_scores = scipy.stats.zscore(Hu_STAR_X)\n",
    "    abs_z_scores = np.abs(z_scores)\n",
    "    filtered_entries = (abs_z_scores < 1.5)\n",
    "    new_df = Hu_STAR_X[filtered_entries]\n",
    "    F_E[ID] = filtered_entries\n",
    "    new_DF[ID] = new_df\n",
    "    \n",
    "    num_bins = 100\n",
    "    n, bins, patches = plt.hist(new_df, num_bins, facecolor='blue', alpha=0.5)\n",
    "    plt.show()\n",
    "\n",
    "ORIGINAL =[len(Hu_STAR_Y[0]),len(Hu_STAR_Y[1]),len(Hu_STAR_Y[2]),len(Hu_STAR_Y[3]),len(Hu_STAR_Y[4]),len(Hu_STAR_Y[5]),len(Hu_STAR_Y[6])]\n",
    "OUTLIERS=[len(new_DF[0]),len(new_DF[1]),len(new_DF[2]),len(new_DF[3]),len(new_DF[4]),len(new_DF[5]),len(new_DF[6])]\n",
    "DIF = np.subtract(ORIGINAL,OUTLIERS)\n",
    "print(DIF)\n",
    "import matplotlib.pyplot as plt\n",
    "fig = plt.figure()\n",
    "ax = fig.add_axes([0,0,1,1])\n",
    "langs = ['Hu1','Hu2','Hu3','Hu4','Hu5','Hu6','Hu7']\n",
    "ax.bar(langs,DIF)\n",
    "plt.show()\n",
    "\n",
    "\n",
    "#Al ver los graficos anteriores  se ve claramente que el unico que causa outliers en el circulo es el momento de Hu1\n",
    "Hu_STAR_Q = pd.DataFrame.transpose(Hu_STAR)\n",
    "Hu_STAR_Q.reset_index(level=0, inplace=True)\n",
    "display(Hu_STAR_Q)\n",
    "\n",
    "EjeX_Hu = ['Hu1','Hu2','Hu3','Hu4','Hu5','Hu6','Hu7','label']\n",
    "EjeX_Hu = np.asarray(EjeX_Hu)\n",
    "\n",
    "for k in range(1,len(Hu_STAR_Q.columns.values)-1):    \n",
    "    EjeY_Hu = np.asarray(Hu_STAR_Q.iloc[:,k])\n",
    "    plt.plot(EjeX_Hu,EjeY_Hu,'y-')\n",
    "\n",
    "plt.show()\n"
   ]
  },
  {
   "cell_type": "code",
   "execution_count": 13,
   "metadata": {},
   "outputs": [
    {
     "data": {
      "text/html": [
       "<div>\n",
       "<style scoped>\n",
       "    .dataframe tbody tr th:only-of-type {\n",
       "        vertical-align: middle;\n",
       "    }\n",
       "\n",
       "    .dataframe tbody tr th {\n",
       "        vertical-align: top;\n",
       "    }\n",
       "\n",
       "    .dataframe thead th {\n",
       "        text-align: right;\n",
       "    }\n",
       "</style>\n",
       "<table border=\"1\" class=\"dataframe\">\n",
       "  <thead>\n",
       "    <tr style=\"text-align: right;\">\n",
       "      <th></th>\n",
       "      <th>0</th>\n",
       "      <th>1</th>\n",
       "      <th>2</th>\n",
       "      <th>3</th>\n",
       "      <th>4</th>\n",
       "      <th>5</th>\n",
       "      <th>6</th>\n",
       "      <th>7</th>\n",
       "      <th>8</th>\n",
       "      <th>9</th>\n",
       "      <th>...</th>\n",
       "      <th>3755</th>\n",
       "      <th>3756</th>\n",
       "      <th>3757</th>\n",
       "      <th>3758</th>\n",
       "      <th>3759</th>\n",
       "      <th>3760</th>\n",
       "      <th>3761</th>\n",
       "      <th>3762</th>\n",
       "      <th>3763</th>\n",
       "      <th>3764</th>\n",
       "    </tr>\n",
       "  </thead>\n",
       "  <tbody>\n",
       "    <tr>\n",
       "      <th>0</th>\n",
       "      <td>1.0</td>\n",
       "      <td>1.0</td>\n",
       "      <td>1.0</td>\n",
       "      <td>1.0</td>\n",
       "      <td>1.0</td>\n",
       "      <td>1.0</td>\n",
       "      <td>1.0</td>\n",
       "      <td>1.0</td>\n",
       "      <td>1.0</td>\n",
       "      <td>1.0</td>\n",
       "      <td>...</td>\n",
       "      <td>0.0</td>\n",
       "      <td>1.0</td>\n",
       "      <td>1.0</td>\n",
       "      <td>1.0</td>\n",
       "      <td>1.0</td>\n",
       "      <td>1.0</td>\n",
       "      <td>1.0</td>\n",
       "      <td>1.0</td>\n",
       "      <td>1.0</td>\n",
       "      <td>1.0</td>\n",
       "    </tr>\n",
       "    <tr>\n",
       "      <th>1</th>\n",
       "      <td>1.0</td>\n",
       "      <td>1.0</td>\n",
       "      <td>1.0</td>\n",
       "      <td>1.0</td>\n",
       "      <td>1.0</td>\n",
       "      <td>1.0</td>\n",
       "      <td>1.0</td>\n",
       "      <td>1.0</td>\n",
       "      <td>1.0</td>\n",
       "      <td>1.0</td>\n",
       "      <td>...</td>\n",
       "      <td>1.0</td>\n",
       "      <td>1.0</td>\n",
       "      <td>1.0</td>\n",
       "      <td>1.0</td>\n",
       "      <td>1.0</td>\n",
       "      <td>0.0</td>\n",
       "      <td>1.0</td>\n",
       "      <td>1.0</td>\n",
       "      <td>1.0</td>\n",
       "      <td>0.0</td>\n",
       "    </tr>\n",
       "    <tr>\n",
       "      <th>2</th>\n",
       "      <td>1.0</td>\n",
       "      <td>1.0</td>\n",
       "      <td>1.0</td>\n",
       "      <td>1.0</td>\n",
       "      <td>0.0</td>\n",
       "      <td>1.0</td>\n",
       "      <td>1.0</td>\n",
       "      <td>1.0</td>\n",
       "      <td>1.0</td>\n",
       "      <td>1.0</td>\n",
       "      <td>...</td>\n",
       "      <td>1.0</td>\n",
       "      <td>1.0</td>\n",
       "      <td>1.0</td>\n",
       "      <td>1.0</td>\n",
       "      <td>1.0</td>\n",
       "      <td>1.0</td>\n",
       "      <td>1.0</td>\n",
       "      <td>0.0</td>\n",
       "      <td>1.0</td>\n",
       "      <td>0.0</td>\n",
       "    </tr>\n",
       "    <tr>\n",
       "      <th>3</th>\n",
       "      <td>1.0</td>\n",
       "      <td>1.0</td>\n",
       "      <td>1.0</td>\n",
       "      <td>1.0</td>\n",
       "      <td>0.0</td>\n",
       "      <td>1.0</td>\n",
       "      <td>1.0</td>\n",
       "      <td>1.0</td>\n",
       "      <td>1.0</td>\n",
       "      <td>1.0</td>\n",
       "      <td>...</td>\n",
       "      <td>1.0</td>\n",
       "      <td>1.0</td>\n",
       "      <td>1.0</td>\n",
       "      <td>1.0</td>\n",
       "      <td>1.0</td>\n",
       "      <td>1.0</td>\n",
       "      <td>1.0</td>\n",
       "      <td>1.0</td>\n",
       "      <td>1.0</td>\n",
       "      <td>1.0</td>\n",
       "    </tr>\n",
       "    <tr>\n",
       "      <th>4</th>\n",
       "      <td>1.0</td>\n",
       "      <td>1.0</td>\n",
       "      <td>1.0</td>\n",
       "      <td>1.0</td>\n",
       "      <td>0.0</td>\n",
       "      <td>1.0</td>\n",
       "      <td>0.0</td>\n",
       "      <td>1.0</td>\n",
       "      <td>1.0</td>\n",
       "      <td>1.0</td>\n",
       "      <td>...</td>\n",
       "      <td>1.0</td>\n",
       "      <td>1.0</td>\n",
       "      <td>1.0</td>\n",
       "      <td>1.0</td>\n",
       "      <td>1.0</td>\n",
       "      <td>1.0</td>\n",
       "      <td>1.0</td>\n",
       "      <td>0.0</td>\n",
       "      <td>1.0</td>\n",
       "      <td>1.0</td>\n",
       "    </tr>\n",
       "    <tr>\n",
       "      <th>5</th>\n",
       "      <td>1.0</td>\n",
       "      <td>1.0</td>\n",
       "      <td>1.0</td>\n",
       "      <td>1.0</td>\n",
       "      <td>1.0</td>\n",
       "      <td>1.0</td>\n",
       "      <td>1.0</td>\n",
       "      <td>1.0</td>\n",
       "      <td>1.0</td>\n",
       "      <td>1.0</td>\n",
       "      <td>...</td>\n",
       "      <td>1.0</td>\n",
       "      <td>1.0</td>\n",
       "      <td>1.0</td>\n",
       "      <td>1.0</td>\n",
       "      <td>1.0</td>\n",
       "      <td>0.0</td>\n",
       "      <td>1.0</td>\n",
       "      <td>1.0</td>\n",
       "      <td>1.0</td>\n",
       "      <td>0.0</td>\n",
       "    </tr>\n",
       "    <tr>\n",
       "      <th>6</th>\n",
       "      <td>1.0</td>\n",
       "      <td>1.0</td>\n",
       "      <td>1.0</td>\n",
       "      <td>1.0</td>\n",
       "      <td>0.0</td>\n",
       "      <td>1.0</td>\n",
       "      <td>1.0</td>\n",
       "      <td>1.0</td>\n",
       "      <td>1.0</td>\n",
       "      <td>1.0</td>\n",
       "      <td>...</td>\n",
       "      <td>1.0</td>\n",
       "      <td>1.0</td>\n",
       "      <td>1.0</td>\n",
       "      <td>1.0</td>\n",
       "      <td>1.0</td>\n",
       "      <td>1.0</td>\n",
       "      <td>1.0</td>\n",
       "      <td>0.0</td>\n",
       "      <td>1.0</td>\n",
       "      <td>1.0</td>\n",
       "    </tr>\n",
       "    <tr>\n",
       "      <th>7</th>\n",
       "      <td>7.0</td>\n",
       "      <td>7.0</td>\n",
       "      <td>7.0</td>\n",
       "      <td>7.0</td>\n",
       "      <td>3.0</td>\n",
       "      <td>7.0</td>\n",
       "      <td>6.0</td>\n",
       "      <td>7.0</td>\n",
       "      <td>7.0</td>\n",
       "      <td>7.0</td>\n",
       "      <td>...</td>\n",
       "      <td>6.0</td>\n",
       "      <td>7.0</td>\n",
       "      <td>7.0</td>\n",
       "      <td>7.0</td>\n",
       "      <td>7.0</td>\n",
       "      <td>5.0</td>\n",
       "      <td>7.0</td>\n",
       "      <td>4.0</td>\n",
       "      <td>7.0</td>\n",
       "      <td>4.0</td>\n",
       "    </tr>\n",
       "  </tbody>\n",
       "</table>\n",
       "<p>8 rows × 3765 columns</p>\n",
       "</div>"
      ],
      "text/plain": [
       "   0     1     2     3     4     5     6     7     8     9     ...  3755  \\\n",
       "0   1.0   1.0   1.0   1.0   1.0   1.0   1.0   1.0   1.0   1.0  ...   0.0   \n",
       "1   1.0   1.0   1.0   1.0   1.0   1.0   1.0   1.0   1.0   1.0  ...   1.0   \n",
       "2   1.0   1.0   1.0   1.0   0.0   1.0   1.0   1.0   1.0   1.0  ...   1.0   \n",
       "3   1.0   1.0   1.0   1.0   0.0   1.0   1.0   1.0   1.0   1.0  ...   1.0   \n",
       "4   1.0   1.0   1.0   1.0   0.0   1.0   0.0   1.0   1.0   1.0  ...   1.0   \n",
       "5   1.0   1.0   1.0   1.0   1.0   1.0   1.0   1.0   1.0   1.0  ...   1.0   \n",
       "6   1.0   1.0   1.0   1.0   0.0   1.0   1.0   1.0   1.0   1.0  ...   1.0   \n",
       "7   7.0   7.0   7.0   7.0   3.0   7.0   6.0   7.0   7.0   7.0  ...   6.0   \n",
       "\n",
       "   3756  3757  3758  3759  3760  3761  3762  3763  3764  \n",
       "0   1.0   1.0   1.0   1.0   1.0   1.0   1.0   1.0   1.0  \n",
       "1   1.0   1.0   1.0   1.0   0.0   1.0   1.0   1.0   0.0  \n",
       "2   1.0   1.0   1.0   1.0   1.0   1.0   0.0   1.0   0.0  \n",
       "3   1.0   1.0   1.0   1.0   1.0   1.0   1.0   1.0   1.0  \n",
       "4   1.0   1.0   1.0   1.0   1.0   1.0   0.0   1.0   1.0  \n",
       "5   1.0   1.0   1.0   1.0   0.0   1.0   1.0   1.0   0.0  \n",
       "6   1.0   1.0   1.0   1.0   1.0   1.0   0.0   1.0   1.0  \n",
       "7   7.0   7.0   7.0   7.0   5.0   7.0   4.0   7.0   4.0  \n",
       "\n",
       "[8 rows x 3765 columns]"
      ]
     },
     "metadata": {},
     "output_type": "display_data"
    },
    {
     "data": {
      "text/html": [
       "<div>\n",
       "<style scoped>\n",
       "    .dataframe tbody tr th:only-of-type {\n",
       "        vertical-align: middle;\n",
       "    }\n",
       "\n",
       "    .dataframe tbody tr th {\n",
       "        vertical-align: top;\n",
       "    }\n",
       "\n",
       "    .dataframe thead th {\n",
       "        text-align: right;\n",
       "    }\n",
       "</style>\n",
       "<table border=\"1\" class=\"dataframe\">\n",
       "  <thead>\n",
       "    <tr style=\"text-align: right;\">\n",
       "      <th></th>\n",
       "      <th>0</th>\n",
       "      <th>1</th>\n",
       "      <th>2</th>\n",
       "      <th>3</th>\n",
       "      <th>5</th>\n",
       "      <th>6</th>\n",
       "      <th>7</th>\n",
       "      <th>8</th>\n",
       "      <th>9</th>\n",
       "      <th>10</th>\n",
       "      <th>...</th>\n",
       "      <th>3753</th>\n",
       "      <th>3754</th>\n",
       "      <th>3755</th>\n",
       "      <th>3756</th>\n",
       "      <th>3757</th>\n",
       "      <th>3758</th>\n",
       "      <th>3759</th>\n",
       "      <th>3760</th>\n",
       "      <th>3761</th>\n",
       "      <th>3763</th>\n",
       "    </tr>\n",
       "  </thead>\n",
       "  <tbody>\n",
       "    <tr>\n",
       "      <th>Hu1</th>\n",
       "      <td>1.0</td>\n",
       "      <td>1.0</td>\n",
       "      <td>1.0</td>\n",
       "      <td>1.0</td>\n",
       "      <td>1.0</td>\n",
       "      <td>1.0</td>\n",
       "      <td>1.0</td>\n",
       "      <td>1.0</td>\n",
       "      <td>1.0</td>\n",
       "      <td>1.0</td>\n",
       "      <td>...</td>\n",
       "      <td>1.0</td>\n",
       "      <td>1.0</td>\n",
       "      <td>0.0</td>\n",
       "      <td>1.0</td>\n",
       "      <td>1.0</td>\n",
       "      <td>1.0</td>\n",
       "      <td>1.0</td>\n",
       "      <td>1.0</td>\n",
       "      <td>1.0</td>\n",
       "      <td>1.0</td>\n",
       "    </tr>\n",
       "    <tr>\n",
       "      <th>Hu2</th>\n",
       "      <td>1.0</td>\n",
       "      <td>1.0</td>\n",
       "      <td>1.0</td>\n",
       "      <td>1.0</td>\n",
       "      <td>1.0</td>\n",
       "      <td>1.0</td>\n",
       "      <td>1.0</td>\n",
       "      <td>1.0</td>\n",
       "      <td>1.0</td>\n",
       "      <td>1.0</td>\n",
       "      <td>...</td>\n",
       "      <td>1.0</td>\n",
       "      <td>1.0</td>\n",
       "      <td>1.0</td>\n",
       "      <td>1.0</td>\n",
       "      <td>1.0</td>\n",
       "      <td>1.0</td>\n",
       "      <td>1.0</td>\n",
       "      <td>0.0</td>\n",
       "      <td>1.0</td>\n",
       "      <td>1.0</td>\n",
       "    </tr>\n",
       "    <tr>\n",
       "      <th>Hu3</th>\n",
       "      <td>1.0</td>\n",
       "      <td>1.0</td>\n",
       "      <td>1.0</td>\n",
       "      <td>1.0</td>\n",
       "      <td>1.0</td>\n",
       "      <td>1.0</td>\n",
       "      <td>1.0</td>\n",
       "      <td>1.0</td>\n",
       "      <td>1.0</td>\n",
       "      <td>0.0</td>\n",
       "      <td>...</td>\n",
       "      <td>1.0</td>\n",
       "      <td>1.0</td>\n",
       "      <td>1.0</td>\n",
       "      <td>1.0</td>\n",
       "      <td>1.0</td>\n",
       "      <td>1.0</td>\n",
       "      <td>1.0</td>\n",
       "      <td>1.0</td>\n",
       "      <td>1.0</td>\n",
       "      <td>1.0</td>\n",
       "    </tr>\n",
       "    <tr>\n",
       "      <th>Hu4</th>\n",
       "      <td>1.0</td>\n",
       "      <td>1.0</td>\n",
       "      <td>1.0</td>\n",
       "      <td>1.0</td>\n",
       "      <td>1.0</td>\n",
       "      <td>1.0</td>\n",
       "      <td>1.0</td>\n",
       "      <td>1.0</td>\n",
       "      <td>1.0</td>\n",
       "      <td>1.0</td>\n",
       "      <td>...</td>\n",
       "      <td>1.0</td>\n",
       "      <td>1.0</td>\n",
       "      <td>1.0</td>\n",
       "      <td>1.0</td>\n",
       "      <td>1.0</td>\n",
       "      <td>1.0</td>\n",
       "      <td>1.0</td>\n",
       "      <td>1.0</td>\n",
       "      <td>1.0</td>\n",
       "      <td>1.0</td>\n",
       "    </tr>\n",
       "    <tr>\n",
       "      <th>Hu5</th>\n",
       "      <td>1.0</td>\n",
       "      <td>1.0</td>\n",
       "      <td>1.0</td>\n",
       "      <td>1.0</td>\n",
       "      <td>1.0</td>\n",
       "      <td>0.0</td>\n",
       "      <td>1.0</td>\n",
       "      <td>1.0</td>\n",
       "      <td>1.0</td>\n",
       "      <td>1.0</td>\n",
       "      <td>...</td>\n",
       "      <td>0.0</td>\n",
       "      <td>1.0</td>\n",
       "      <td>1.0</td>\n",
       "      <td>1.0</td>\n",
       "      <td>1.0</td>\n",
       "      <td>1.0</td>\n",
       "      <td>1.0</td>\n",
       "      <td>1.0</td>\n",
       "      <td>1.0</td>\n",
       "      <td>1.0</td>\n",
       "    </tr>\n",
       "    <tr>\n",
       "      <th>Hu6</th>\n",
       "      <td>1.0</td>\n",
       "      <td>1.0</td>\n",
       "      <td>1.0</td>\n",
       "      <td>1.0</td>\n",
       "      <td>1.0</td>\n",
       "      <td>1.0</td>\n",
       "      <td>1.0</td>\n",
       "      <td>1.0</td>\n",
       "      <td>1.0</td>\n",
       "      <td>1.0</td>\n",
       "      <td>...</td>\n",
       "      <td>1.0</td>\n",
       "      <td>1.0</td>\n",
       "      <td>1.0</td>\n",
       "      <td>1.0</td>\n",
       "      <td>1.0</td>\n",
       "      <td>1.0</td>\n",
       "      <td>1.0</td>\n",
       "      <td>0.0</td>\n",
       "      <td>1.0</td>\n",
       "      <td>1.0</td>\n",
       "    </tr>\n",
       "    <tr>\n",
       "      <th>Hu7</th>\n",
       "      <td>1.0</td>\n",
       "      <td>1.0</td>\n",
       "      <td>1.0</td>\n",
       "      <td>1.0</td>\n",
       "      <td>1.0</td>\n",
       "      <td>1.0</td>\n",
       "      <td>1.0</td>\n",
       "      <td>1.0</td>\n",
       "      <td>1.0</td>\n",
       "      <td>1.0</td>\n",
       "      <td>...</td>\n",
       "      <td>1.0</td>\n",
       "      <td>1.0</td>\n",
       "      <td>1.0</td>\n",
       "      <td>1.0</td>\n",
       "      <td>1.0</td>\n",
       "      <td>1.0</td>\n",
       "      <td>1.0</td>\n",
       "      <td>1.0</td>\n",
       "      <td>1.0</td>\n",
       "      <td>1.0</td>\n",
       "    </tr>\n",
       "    <tr>\n",
       "      <th>Suma</th>\n",
       "      <td>7.0</td>\n",
       "      <td>7.0</td>\n",
       "      <td>7.0</td>\n",
       "      <td>7.0</td>\n",
       "      <td>7.0</td>\n",
       "      <td>6.0</td>\n",
       "      <td>7.0</td>\n",
       "      <td>7.0</td>\n",
       "      <td>7.0</td>\n",
       "      <td>6.0</td>\n",
       "      <td>...</td>\n",
       "      <td>6.0</td>\n",
       "      <td>7.0</td>\n",
       "      <td>6.0</td>\n",
       "      <td>7.0</td>\n",
       "      <td>7.0</td>\n",
       "      <td>7.0</td>\n",
       "      <td>7.0</td>\n",
       "      <td>5.0</td>\n",
       "      <td>7.0</td>\n",
       "      <td>7.0</td>\n",
       "    </tr>\n",
       "  </tbody>\n",
       "</table>\n",
       "<p>8 rows × 3308 columns</p>\n",
       "</div>"
      ],
      "text/plain": [
       "      0     1     2     3     5     6     7     8     9     10    ...  3753  \\\n",
       "Hu1    1.0   1.0   1.0   1.0   1.0   1.0   1.0   1.0   1.0   1.0  ...   1.0   \n",
       "Hu2    1.0   1.0   1.0   1.0   1.0   1.0   1.0   1.0   1.0   1.0  ...   1.0   \n",
       "Hu3    1.0   1.0   1.0   1.0   1.0   1.0   1.0   1.0   1.0   0.0  ...   1.0   \n",
       "Hu4    1.0   1.0   1.0   1.0   1.0   1.0   1.0   1.0   1.0   1.0  ...   1.0   \n",
       "Hu5    1.0   1.0   1.0   1.0   1.0   0.0   1.0   1.0   1.0   1.0  ...   0.0   \n",
       "Hu6    1.0   1.0   1.0   1.0   1.0   1.0   1.0   1.0   1.0   1.0  ...   1.0   \n",
       "Hu7    1.0   1.0   1.0   1.0   1.0   1.0   1.0   1.0   1.0   1.0  ...   1.0   \n",
       "Suma   7.0   7.0   7.0   7.0   7.0   6.0   7.0   7.0   7.0   6.0  ...   6.0   \n",
       "\n",
       "      3754  3755  3756  3757  3758  3759  3760  3761  3763  \n",
       "Hu1    1.0   0.0   1.0   1.0   1.0   1.0   1.0   1.0   1.0  \n",
       "Hu2    1.0   1.0   1.0   1.0   1.0   1.0   0.0   1.0   1.0  \n",
       "Hu3    1.0   1.0   1.0   1.0   1.0   1.0   1.0   1.0   1.0  \n",
       "Hu4    1.0   1.0   1.0   1.0   1.0   1.0   1.0   1.0   1.0  \n",
       "Hu5    1.0   1.0   1.0   1.0   1.0   1.0   1.0   1.0   1.0  \n",
       "Hu6    1.0   1.0   1.0   1.0   1.0   1.0   0.0   1.0   1.0  \n",
       "Hu7    1.0   1.0   1.0   1.0   1.0   1.0   1.0   1.0   1.0  \n",
       "Suma   7.0   6.0   7.0   7.0   7.0   7.0   5.0   7.0   7.0  \n",
       "\n",
       "[8 rows x 3308 columns]"
      ]
     },
     "metadata": {},
     "output_type": "display_data"
    },
    {
     "name": "stdout",
     "output_type": "stream",
     "text": [
      "3765\n"
     ]
    },
    {
     "data": {
      "text/plain": [
       "Counter({7.0: 2844, 6.0: 149, 5.0: 315})"
      ]
     },
     "execution_count": 13,
     "metadata": {},
     "output_type": "execute_result"
    }
   ],
   "source": [
    "# print(F_E)\n",
    "F_E2 = [0,0,0,0,0,0,0]\n",
    "\n",
    "\n",
    "for x in range(0,7):\n",
    "    \n",
    "    F_E2[x] = F_E[x].astype('uint8')\n",
    "\n",
    "F_E2 = pd.DataFrame(F_E2)\n",
    "\n",
    "Suma = np.zeros(len(F_E2.columns.values))\n",
    "\n",
    "for q in range(0,len(F_E2.columns.values)):\n",
    "    Suma[q] = sum(F_E2[q])\n",
    "\n",
    "Suma = pd.DataFrame(Suma)\n",
    "Suma = Suma.T\n",
    "F_E3 = F_E2\n",
    "F_E3 = F_E3.append(Suma,ignore_index = True)\n",
    "display(F_E3)\n",
    "\n",
    "arr2 = F_E3.iloc[7,:]\n",
    "import collections\n",
    "\n",
    "collections.Counter(arr2)\n",
    "\n",
    "F_E4 = F_E3.T\n",
    "F_E4.columns = ['Hu1','Hu2','Hu3','Hu4','Hu5','Hu6','Hu7','Suma']\n",
    "F_E5 = F_E4[(F_E4.Suma >=5)]\n",
    "F_E6 = F_E5.T\n",
    "display(F_E6)\n",
    "\n",
    "print(len(arr2))\n",
    "arr2 = F_E6.iloc[7,:]\n",
    "collections.Counter(arr2)\n"
   ]
  },
  {
   "cell_type": "code",
   "execution_count": 14,
   "metadata": {},
   "outputs": [],
   "source": [
    "F_E6 = pd.DataFrame(F_E6)"
   ]
  },
  {
   "cell_type": "code",
   "execution_count": 15,
   "metadata": {},
   "outputs": [
    {
     "data": {
      "text/html": [
       "<div>\n",
       "<style scoped>\n",
       "    .dataframe tbody tr th:only-of-type {\n",
       "        vertical-align: middle;\n",
       "    }\n",
       "\n",
       "    .dataframe tbody tr th {\n",
       "        vertical-align: top;\n",
       "    }\n",
       "\n",
       "    .dataframe thead th {\n",
       "        text-align: right;\n",
       "    }\n",
       "</style>\n",
       "<table border=\"1\" class=\"dataframe\">\n",
       "  <thead>\n",
       "    <tr style=\"text-align: right;\">\n",
       "      <th></th>\n",
       "      <th>0</th>\n",
       "      <th>1</th>\n",
       "      <th>2</th>\n",
       "      <th>3</th>\n",
       "      <th>5</th>\n",
       "      <th>6</th>\n",
       "      <th>7</th>\n",
       "      <th>8</th>\n",
       "      <th>9</th>\n",
       "      <th>10</th>\n",
       "      <th>...</th>\n",
       "      <th>3753</th>\n",
       "      <th>3754</th>\n",
       "      <th>3755</th>\n",
       "      <th>3756</th>\n",
       "      <th>3757</th>\n",
       "      <th>3758</th>\n",
       "      <th>3759</th>\n",
       "      <th>3760</th>\n",
       "      <th>3761</th>\n",
       "      <th>3763</th>\n",
       "    </tr>\n",
       "  </thead>\n",
       "  <tbody>\n",
       "    <tr>\n",
       "      <th>Hu1</th>\n",
       "      <td>1.0</td>\n",
       "      <td>1.0</td>\n",
       "      <td>1.0</td>\n",
       "      <td>1.0</td>\n",
       "      <td>1.0</td>\n",
       "      <td>1.0</td>\n",
       "      <td>1.0</td>\n",
       "      <td>1.0</td>\n",
       "      <td>1.0</td>\n",
       "      <td>1.0</td>\n",
       "      <td>...</td>\n",
       "      <td>1.0</td>\n",
       "      <td>1.0</td>\n",
       "      <td>0.0</td>\n",
       "      <td>1.0</td>\n",
       "      <td>1.0</td>\n",
       "      <td>1.0</td>\n",
       "      <td>1.0</td>\n",
       "      <td>1.0</td>\n",
       "      <td>1.0</td>\n",
       "      <td>1.0</td>\n",
       "    </tr>\n",
       "    <tr>\n",
       "      <th>Hu2</th>\n",
       "      <td>1.0</td>\n",
       "      <td>1.0</td>\n",
       "      <td>1.0</td>\n",
       "      <td>1.0</td>\n",
       "      <td>1.0</td>\n",
       "      <td>1.0</td>\n",
       "      <td>1.0</td>\n",
       "      <td>1.0</td>\n",
       "      <td>1.0</td>\n",
       "      <td>1.0</td>\n",
       "      <td>...</td>\n",
       "      <td>1.0</td>\n",
       "      <td>1.0</td>\n",
       "      <td>1.0</td>\n",
       "      <td>1.0</td>\n",
       "      <td>1.0</td>\n",
       "      <td>1.0</td>\n",
       "      <td>1.0</td>\n",
       "      <td>0.0</td>\n",
       "      <td>1.0</td>\n",
       "      <td>1.0</td>\n",
       "    </tr>\n",
       "    <tr>\n",
       "      <th>Hu3</th>\n",
       "      <td>1.0</td>\n",
       "      <td>1.0</td>\n",
       "      <td>1.0</td>\n",
       "      <td>1.0</td>\n",
       "      <td>1.0</td>\n",
       "      <td>1.0</td>\n",
       "      <td>1.0</td>\n",
       "      <td>1.0</td>\n",
       "      <td>1.0</td>\n",
       "      <td>0.0</td>\n",
       "      <td>...</td>\n",
       "      <td>1.0</td>\n",
       "      <td>1.0</td>\n",
       "      <td>1.0</td>\n",
       "      <td>1.0</td>\n",
       "      <td>1.0</td>\n",
       "      <td>1.0</td>\n",
       "      <td>1.0</td>\n",
       "      <td>1.0</td>\n",
       "      <td>1.0</td>\n",
       "      <td>1.0</td>\n",
       "    </tr>\n",
       "    <tr>\n",
       "      <th>Hu4</th>\n",
       "      <td>1.0</td>\n",
       "      <td>1.0</td>\n",
       "      <td>1.0</td>\n",
       "      <td>1.0</td>\n",
       "      <td>1.0</td>\n",
       "      <td>1.0</td>\n",
       "      <td>1.0</td>\n",
       "      <td>1.0</td>\n",
       "      <td>1.0</td>\n",
       "      <td>1.0</td>\n",
       "      <td>...</td>\n",
       "      <td>1.0</td>\n",
       "      <td>1.0</td>\n",
       "      <td>1.0</td>\n",
       "      <td>1.0</td>\n",
       "      <td>1.0</td>\n",
       "      <td>1.0</td>\n",
       "      <td>1.0</td>\n",
       "      <td>1.0</td>\n",
       "      <td>1.0</td>\n",
       "      <td>1.0</td>\n",
       "    </tr>\n",
       "    <tr>\n",
       "      <th>Hu5</th>\n",
       "      <td>1.0</td>\n",
       "      <td>1.0</td>\n",
       "      <td>1.0</td>\n",
       "      <td>1.0</td>\n",
       "      <td>1.0</td>\n",
       "      <td>0.0</td>\n",
       "      <td>1.0</td>\n",
       "      <td>1.0</td>\n",
       "      <td>1.0</td>\n",
       "      <td>1.0</td>\n",
       "      <td>...</td>\n",
       "      <td>0.0</td>\n",
       "      <td>1.0</td>\n",
       "      <td>1.0</td>\n",
       "      <td>1.0</td>\n",
       "      <td>1.0</td>\n",
       "      <td>1.0</td>\n",
       "      <td>1.0</td>\n",
       "      <td>1.0</td>\n",
       "      <td>1.0</td>\n",
       "      <td>1.0</td>\n",
       "    </tr>\n",
       "    <tr>\n",
       "      <th>Hu6</th>\n",
       "      <td>1.0</td>\n",
       "      <td>1.0</td>\n",
       "      <td>1.0</td>\n",
       "      <td>1.0</td>\n",
       "      <td>1.0</td>\n",
       "      <td>1.0</td>\n",
       "      <td>1.0</td>\n",
       "      <td>1.0</td>\n",
       "      <td>1.0</td>\n",
       "      <td>1.0</td>\n",
       "      <td>...</td>\n",
       "      <td>1.0</td>\n",
       "      <td>1.0</td>\n",
       "      <td>1.0</td>\n",
       "      <td>1.0</td>\n",
       "      <td>1.0</td>\n",
       "      <td>1.0</td>\n",
       "      <td>1.0</td>\n",
       "      <td>0.0</td>\n",
       "      <td>1.0</td>\n",
       "      <td>1.0</td>\n",
       "    </tr>\n",
       "    <tr>\n",
       "      <th>Hu7</th>\n",
       "      <td>1.0</td>\n",
       "      <td>1.0</td>\n",
       "      <td>1.0</td>\n",
       "      <td>1.0</td>\n",
       "      <td>1.0</td>\n",
       "      <td>1.0</td>\n",
       "      <td>1.0</td>\n",
       "      <td>1.0</td>\n",
       "      <td>1.0</td>\n",
       "      <td>1.0</td>\n",
       "      <td>...</td>\n",
       "      <td>1.0</td>\n",
       "      <td>1.0</td>\n",
       "      <td>1.0</td>\n",
       "      <td>1.0</td>\n",
       "      <td>1.0</td>\n",
       "      <td>1.0</td>\n",
       "      <td>1.0</td>\n",
       "      <td>1.0</td>\n",
       "      <td>1.0</td>\n",
       "      <td>1.0</td>\n",
       "    </tr>\n",
       "    <tr>\n",
       "      <th>Suma</th>\n",
       "      <td>7.0</td>\n",
       "      <td>7.0</td>\n",
       "      <td>7.0</td>\n",
       "      <td>7.0</td>\n",
       "      <td>7.0</td>\n",
       "      <td>6.0</td>\n",
       "      <td>7.0</td>\n",
       "      <td>7.0</td>\n",
       "      <td>7.0</td>\n",
       "      <td>6.0</td>\n",
       "      <td>...</td>\n",
       "      <td>6.0</td>\n",
       "      <td>7.0</td>\n",
       "      <td>6.0</td>\n",
       "      <td>7.0</td>\n",
       "      <td>7.0</td>\n",
       "      <td>7.0</td>\n",
       "      <td>7.0</td>\n",
       "      <td>5.0</td>\n",
       "      <td>7.0</td>\n",
       "      <td>7.0</td>\n",
       "    </tr>\n",
       "  </tbody>\n",
       "</table>\n",
       "<p>8 rows × 3308 columns</p>\n",
       "</div>"
      ],
      "text/plain": [
       "      0     1     2     3     5     6     7     8     9     10    ...  3753  \\\n",
       "Hu1    1.0   1.0   1.0   1.0   1.0   1.0   1.0   1.0   1.0   1.0  ...   1.0   \n",
       "Hu2    1.0   1.0   1.0   1.0   1.0   1.0   1.0   1.0   1.0   1.0  ...   1.0   \n",
       "Hu3    1.0   1.0   1.0   1.0   1.0   1.0   1.0   1.0   1.0   0.0  ...   1.0   \n",
       "Hu4    1.0   1.0   1.0   1.0   1.0   1.0   1.0   1.0   1.0   1.0  ...   1.0   \n",
       "Hu5    1.0   1.0   1.0   1.0   1.0   0.0   1.0   1.0   1.0   1.0  ...   0.0   \n",
       "Hu6    1.0   1.0   1.0   1.0   1.0   1.0   1.0   1.0   1.0   1.0  ...   1.0   \n",
       "Hu7    1.0   1.0   1.0   1.0   1.0   1.0   1.0   1.0   1.0   1.0  ...   1.0   \n",
       "Suma   7.0   7.0   7.0   7.0   7.0   6.0   7.0   7.0   7.0   6.0  ...   6.0   \n",
       "\n",
       "      3754  3755  3756  3757  3758  3759  3760  3761  3763  \n",
       "Hu1    1.0   0.0   1.0   1.0   1.0   1.0   1.0   1.0   1.0  \n",
       "Hu2    1.0   1.0   1.0   1.0   1.0   1.0   0.0   1.0   1.0  \n",
       "Hu3    1.0   1.0   1.0   1.0   1.0   1.0   1.0   1.0   1.0  \n",
       "Hu4    1.0   1.0   1.0   1.0   1.0   1.0   1.0   1.0   1.0  \n",
       "Hu5    1.0   1.0   1.0   1.0   1.0   1.0   1.0   1.0   1.0  \n",
       "Hu6    1.0   1.0   1.0   1.0   1.0   1.0   0.0   1.0   1.0  \n",
       "Hu7    1.0   1.0   1.0   1.0   1.0   1.0   1.0   1.0   1.0  \n",
       "Suma   7.0   6.0   7.0   7.0   7.0   7.0   5.0   7.0   7.0  \n",
       "\n",
       "[8 rows x 3308 columns]"
      ]
     },
     "execution_count": 15,
     "metadata": {},
     "output_type": "execute_result"
    }
   ],
   "source": [
    "F_E6"
   ]
  },
  {
   "cell_type": "code",
   "execution_count": 16,
   "metadata": {},
   "outputs": [
    {
     "data": {
      "text/plain": [
       "Hu1       0\n",
       "Hu2       0\n",
       "Hu3       0\n",
       "Hu4       0\n",
       "Hu5       0\n",
       "Hu6       0\n",
       "Hu7       0\n",
       "labels    0\n",
       "dtype: int64"
      ]
     },
     "execution_count": 16,
     "metadata": {},
     "output_type": "execute_result"
    }
   ],
   "source": [
    "result.isnull().sum() #Porque es imposible no tener datos de una imagen, la imagen en si ya son datos"
   ]
  },
  {
   "cell_type": "code",
   "execution_count": 17,
   "metadata": {},
   "outputs": [
    {
     "name": "stdout",
     "output_type": "stream",
     "text": [
      "10479\n",
      "4491\n",
      "10479\n",
      "4491\n"
     ]
    }
   ],
   "source": [
    "data = result[['Hu1','Hu2','Hu3','Hu4','Hu5','Hu6','Hu7']]\n",
    "lbl = result[['labels']]\n",
    "\n",
    "#Train Test Split\n",
    "from sklearn.model_selection import train_test_split\n",
    "\n",
    "#Split train and test set\n",
    "x_train, x_test, y_train, y_test = train_test_split(data,lbl , test_size = 0.3, random_state = 7)\n",
    "\n",
    "print(len(x_train))\n",
    "print(len(x_test))\n",
    "print(len(y_train))\n",
    "print(len(y_test))"
   ]
  },
  {
   "cell_type": "markdown",
   "metadata": {},
   "source": [
    "# Modelos de Prediccion"
   ]
  },
  {
   "cell_type": "markdown",
   "metadata": {},
   "source": [
    "### Logistic Regression"
   ]
  },
  {
   "cell_type": "code",
   "execution_count": 18,
   "metadata": {
    "scrolled": true
   },
   "outputs": [
    {
     "name": "stderr",
     "output_type": "stream",
     "text": [
      "C:\\Users\\Pedro Vallarino\\AppData\\Local\\Continuum\\anaconda3\\lib\\site-packages\\sklearn\\linear_model\\logistic.py:432: FutureWarning: Default solver will be changed to 'lbfgs' in 0.22. Specify a solver to silence this warning.\n",
      "  FutureWarning)\n",
      "C:\\Users\\Pedro Vallarino\\AppData\\Local\\Continuum\\anaconda3\\lib\\site-packages\\sklearn\\utils\\validation.py:724: DataConversionWarning: A column-vector y was passed when a 1d array was expected. Please change the shape of y to (n_samples, ), for example using ravel().\n",
      "  y = column_or_1d(y, warn=True)\n",
      "C:\\Users\\Pedro Vallarino\\AppData\\Local\\Continuum\\anaconda3\\lib\\site-packages\\sklearn\\linear_model\\logistic.py:469: FutureWarning: Default multi_class will be changed to 'auto' in 0.22. Specify the multi_class option to silence this warning.\n",
      "  \"this warning.\", FutureWarning)\n"
     ]
    },
    {
     "name": "stdout",
     "output_type": "stream",
     "text": [
      "Logistic Regression: \n",
      "               precision    recall  f1-score   support\n",
      "\n",
      "           0       0.67      0.59      0.63      1260\n",
      "           1       0.40      0.47      0.44       974\n",
      "           2       0.68      0.84      0.75       898\n",
      "           3       0.66      0.55      0.60      1359\n",
      "\n",
      "    accuracy                           0.60      4491\n",
      "   macro avg       0.61      0.62      0.61      4491\n",
      "weighted avg       0.61      0.60      0.60      4491\n",
      "\n",
      "Logistic Regression Accuracy:  0.6043197506123358\n"
     ]
    },
    {
     "data": {
      "text/plain": [
       "<matplotlib.axes._subplots.AxesSubplot at 0x19658bd7f28>"
      ]
     },
     "execution_count": 18,
     "metadata": {},
     "output_type": "execute_result"
    },
    {
     "data": {
      "image/png": "[encoded data removed]",
      "text/plain": [
       "<Figure size 720x504 with 2 Axes>"
      ]
     },
     "metadata": {
      "needs_background": "light"
     },
     "output_type": "display_data"
    }
   ],
   "source": [
    "from sklearn.linear_model import LogisticRegression\n",
    "from sklearn.metrics import accuracy_score, classification_report, log_loss\n",
    "from sklearn.metrics import confusion_matrix\n",
    "import seaborn as sn\n",
    "\n",
    "modelLR = LogisticRegression()\n",
    "modelLR.fit(x_train, y_train)\n",
    "\n",
    "predictLR = modelLR.predict(x_test)\n",
    "print('Logistic Regression: \\n', classification_report(predictLR, y_test))\n",
    "print('Logistic Regression Accuracy: ', accuracy_score(predictLR, y_test))\n",
    "\n",
    "#precision : Basicamente la precision del modelo\n",
    "#recall    : Cantidad de predicciones correctas sobre el total que tenia realmente ese valor\n",
    "#f1-score  : Sirve para diferenciar los falsos positivos de los negativos\n",
    "#support   : ---\n",
    "\n",
    "#confusion matrix, en el eje x van los reales y en el eje y los que predice el algoritmo\n",
    "conf_matrix = confusion_matrix(y_test, predictLR)\n",
    "conf_matrix = pd.DataFrame(conf_matrix,index = ['circle','square','triangle','star'])\n",
    "conf_matrix.columns = ['circle','square','triangle','star']\n",
    "plt.figure(figsize = (10,7))\n",
    "sn.heatmap(conf_matrix, annot=True)"
   ]
  },
  {
   "cell_type": "markdown",
   "metadata": {},
   "source": [
    "### Random Forest"
   ]
  },
  {
   "cell_type": "code",
   "execution_count": 19,
   "metadata": {},
   "outputs": [
    {
     "name": "stderr",
     "output_type": "stream",
     "text": [
      "C:\\Users\\Pedro Vallarino\\AppData\\Local\\Continuum\\anaconda3\\lib\\site-packages\\sklearn\\ensemble\\forest.py:245: FutureWarning: The default value of n_estimators will change from 10 in version 0.20 to 100 in 0.22.\n",
      "  \"10 in version 0.20 to 100 in 0.22.\", FutureWarning)\n",
      "C:\\Users\\Pedro Vallarino\\AppData\\Local\\Continuum\\anaconda3\\lib\\site-packages\\ipykernel_launcher.py:7: DataConversionWarning: A column-vector y was passed when a 1d array was expected. Please change the shape of y to (n_samples,), for example using ravel().\n",
      "  import sys\n"
     ]
    },
    {
     "name": "stdout",
     "output_type": "stream",
     "text": [
      "Random Forest Classifier : \n",
      "               precision    recall  f1-score   support\n",
      "\n",
      "           0       0.79      0.83      0.81      1059\n",
      "           1       0.70      0.75      0.72      1061\n",
      "           2       0.80      0.86      0.83      1034\n",
      "           3       0.77      0.65      0.71      1337\n",
      "\n",
      "    accuracy                           0.76      4491\n",
      "   macro avg       0.77      0.77      0.77      4491\n",
      "weighted avg       0.77      0.76      0.76      4491\n",
      "\n",
      "Random Forest Classifier Accuracy:  0.764640391894901\n"
     ]
    },
    {
     "data": {
      "text/plain": [
       "<matplotlib.axes._subplots.AxesSubplot at 0x1965a207ac8>"
      ]
     },
     "execution_count": 19,
     "metadata": {},
     "output_type": "execute_result"
    },
    {
     "data": {
      "image/png": "[encoded data removed]",
      "text/plain": [
       "<Figure size 720x504 with 2 Axes>"
      ]
     },
     "metadata": {
      "needs_background": "light"
     },
     "output_type": "display_data"
    }
   ],
   "source": [
    "from sklearn.ensemble import RandomForestClassifier\n",
    "from sklearn.metrics import accuracy_score, classification_report, log_loss\n",
    "from sklearn.metrics import confusion_matrix\n",
    "import seaborn as sn\n",
    "\n",
    "modelRF = RandomForestClassifier()\n",
    "modelRF.fit(x_train, y_train)\n",
    "\n",
    "predictRF = modelRF.predict(x_test)\n",
    "print('Random Forest Classifier : \\n', classification_report(predictRF, y_test))\n",
    "print('Random Forest Classifier Accuracy: ', accuracy_score(predictRF, y_test))\n",
    "\n",
    "#confusion matrix, en el eje x van los reales y en el eje y los que predice el algoritmo\n",
    "conf_matrix = confusion_matrix(y_test, predictRF)\n",
    "conf_matrix = pd.DataFrame(conf_matrix,index = ['circle','square','triangle','star'])\n",
    "conf_matrix.columns = ['circle','square','triangle','star']\n",
    "plt.figure(figsize = (10,7))\n",
    "sn.heatmap(conf_matrix, annot=True)"
   ]
  },
  {
   "cell_type": "markdown",
   "metadata": {},
   "source": [
    "### Gradient Booster"
   ]
  },
  {
   "cell_type": "code",
   "execution_count": 20,
   "metadata": {},
   "outputs": [
    {
     "name": "stderr",
     "output_type": "stream",
     "text": [
      "C:\\Users\\Pedro Vallarino\\AppData\\Local\\Continuum\\anaconda3\\lib\\site-packages\\sklearn\\ensemble\\gradient_boosting.py:1450: DataConversionWarning: A column-vector y was passed when a 1d array was expected. Please change the shape of y to (n_samples, ), for example using ravel().\n",
      "  y = column_or_1d(y, warn=True)\n"
     ]
    },
    {
     "name": "stdout",
     "output_type": "stream",
     "text": [
      "Gradient Boost Classifier : \n",
      "               precision    recall  f1-score   support\n",
      "\n",
      "           0       0.76      0.82      0.79      1023\n",
      "           1       0.70      0.75      0.73      1063\n",
      "           2       0.76      0.88      0.82       963\n",
      "           3       0.80      0.63      0.70      1442\n",
      "\n",
      "    accuracy                           0.76      4491\n",
      "   macro avg       0.76      0.77      0.76      4491\n",
      "weighted avg       0.76      0.76      0.75      4491\n",
      "\n",
      "Gradient Boost Classifier Accuracy:  0.7552883544867512\n"
     ]
    },
    {
     "data": {
      "text/plain": [
       "<matplotlib.axes._subplots.AxesSubplot at 0x196558775f8>"
      ]
     },
     "execution_count": 20,
     "metadata": {},
     "output_type": "execute_result"
    },
    {
     "data": {
      "image/png": "[encoded data removed]",
      "text/plain": [
       "<Figure size 720x504 with 2 Axes>"
      ]
     },
     "metadata": {
      "needs_background": "light"
     },
     "output_type": "display_data"
    }
   ],
   "source": [
    "from sklearn.ensemble import GradientBoostingClassifier\n",
    "from sklearn.metrics import accuracy_score, classification_report, log_loss\n",
    "from sklearn.metrics import confusion_matrix\n",
    "import seaborn as sn\n",
    "\n",
    "modelGB = GradientBoostingClassifier()\n",
    "modelGB.fit(x_train, y_train)\n",
    "\n",
    "predictGB = modelGB.predict(x_test)\n",
    "print('Gradient Boost Classifier : \\n', classification_report(predictGB, y_test))\n",
    "print('Gradient Boost Classifier Accuracy: ', accuracy_score(predictGB, y_test))\n",
    "\n",
    "#confusion matrix, en el eje x van los reales y en el eje y los que predice el algoritmo\n",
    "conf_matrix = confusion_matrix(y_test, predictGB)\n",
    "conf_matrix = pd.DataFrame(conf_matrix,index = ['circle','square','triangle','star'])\n",
    "conf_matrix.columns = ['circle','square','triangle','star']\n",
    "plt.figure(figsize = (10,7))\n",
    "sn.heatmap(conf_matrix, annot=True)"
   ]
  },
  {
   "cell_type": "code",
   "execution_count": 22,
   "metadata": {},
   "outputs": [],
   "source": [
    "#Tratamiento de imagen que entra al sistema\n",
    "import cv2\n",
    "import numpy as np\n",
    "import math\n",
    "\n",
    "#Recibirla y mostrarla\n",
    "imagen_prueba = cv2.imread(r'C:\\Users\\Pedro Vallarino\\Desktop\\Scripts\\Python\\Vision Artificial\\Reconocer Formas\\circulo200200.jpg')\n",
    "cv2.imshow('ventana',imagen_prueba) \n",
    "\n",
    "#Pasarla a Binario (primero hay que pasarla a gris)\n",
    "grayImage = cv2.cvtColor(imagen_prueba, cv2.COLOR_BGR2GRAY)\n",
    "cv2.imshow('ventana 2',grayImage) \n",
    "(thresh, blackAndWhiteImage) = cv2.threshold(grayImage, 125, 255, cv2.THRESH_BINARY)\n",
    "cv2.imshow('ventana 3',blackAndWhiteImage) \n",
    "#cv2.waitKey(0)\n",
    "#cv2.destroyAllWindows()\n",
    "\n",
    "\n",
    "contours, hierarchy = cv2.findContours(blackAndWhiteImage, cv2.RETR_TREE, cv2.CHAIN_APPROX_NONE)\n",
    "# contours = [cnt1, cnt2, cnt3]\n",
    "# print(contours)\n",
    "cv2.drawContours(imagen_prueba, contours[1], -1, (0, 0, 255), 3)\n",
    "\n",
    "cv2.imshow(\"Rayo\", imagen_prueba)\n",
    "\n",
    "cv2.waitKey(0)\n",
    "cv2.destroyAllWindows()\n",
    "\n",
    "# Calculate Moments\n",
    "moments = cv2.moments(contours[1])\n",
    "# Calculate Hu Moments\n",
    "HU = cv2.HuMoments(moments)\n",
    "\n",
    "# Log scale hu moments\n",
    "for num in range(0,7):\n",
    "    HU[num] = -1 * math.copysign(1.0, HU[num]) * math.log10(abs(HU[num]))\n",
    "    \n",
    "HU = abs(HU)"
   ]
  },
  {
   "cell_type": "code",
   "execution_count": 31,
   "metadata": {},
   "outputs": [
    {
     "data": {
      "text/html": [
       "<div>\n",
       "<style scoped>\n",
       "    .dataframe tbody tr th:only-of-type {\n",
       "        vertical-align: middle;\n",
       "    }\n",
       "\n",
       "    .dataframe tbody tr th {\n",
       "        vertical-align: top;\n",
       "    }\n",
       "\n",
       "    .dataframe thead th {\n",
       "        text-align: right;\n",
       "    }\n",
       "</style>\n",
       "<table border=\"1\" class=\"dataframe\">\n",
       "  <thead>\n",
       "    <tr style=\"text-align: right;\">\n",
       "      <th></th>\n",
       "      <th>Hu1</th>\n",
       "      <th>Hu2</th>\n",
       "      <th>Hu3</th>\n",
       "      <th>Hu4</th>\n",
       "      <th>Hu5</th>\n",
       "      <th>Hu6</th>\n",
       "      <th>Hu7</th>\n",
       "    </tr>\n",
       "  </thead>\n",
       "  <tbody>\n",
       "    <tr>\n",
       "      <th>6440</th>\n",
       "      <td>0.778151</td>\n",
       "      <td>2.760422</td>\n",
       "      <td>21.033545</td>\n",
       "      <td>21.067643</td>\n",
       "      <td>42.118251</td>\n",
       "      <td>22.456814</td>\n",
       "      <td>44.220909</td>\n",
       "    </tr>\n",
       "    <tr>\n",
       "      <th>12053</th>\n",
       "      <td>0.676726</td>\n",
       "      <td>3.855766</td>\n",
       "      <td>4.568218</td>\n",
       "      <td>5.785557</td>\n",
       "      <td>10.983595</td>\n",
       "      <td>8.580245</td>\n",
       "      <td>11.478644</td>\n",
       "    </tr>\n",
       "    <tr>\n",
       "      <th>14446</th>\n",
       "      <td>0.681612</td>\n",
       "      <td>3.487443</td>\n",
       "      <td>5.170360</td>\n",
       "      <td>5.394013</td>\n",
       "      <td>10.967551</td>\n",
       "      <td>7.137797</td>\n",
       "      <td>10.741992</td>\n",
       "    </tr>\n",
       "    <tr>\n",
       "      <th>10784</th>\n",
       "      <td>0.719386</td>\n",
       "      <td>3.628489</td>\n",
       "      <td>2.378980</td>\n",
       "      <td>5.025225</td>\n",
       "      <td>9.058999</td>\n",
       "      <td>7.137591</td>\n",
       "      <td>8.780473</td>\n",
       "    </tr>\n",
       "    <tr>\n",
       "      <th>12596</th>\n",
       "      <td>0.671665</td>\n",
       "      <td>3.248604</td>\n",
       "      <td>5.272819</td>\n",
       "      <td>5.665204</td>\n",
       "      <td>11.286431</td>\n",
       "      <td>7.617391</td>\n",
       "      <td>11.283042</td>\n",
       "    </tr>\n",
       "  </tbody>\n",
       "</table>\n",
       "</div>"
      ],
      "text/plain": [
       "            Hu1       Hu2        Hu3        Hu4        Hu5        Hu6  \\\n",
       "6440   0.778151  2.760422  21.033545  21.067643  42.118251  22.456814   \n",
       "12053  0.676726  3.855766   4.568218   5.785557  10.983595   8.580245   \n",
       "14446  0.681612  3.487443   5.170360   5.394013  10.967551   7.137797   \n",
       "10784  0.719386  3.628489   2.378980   5.025225   9.058999   7.137591   \n",
       "12596  0.671665  3.248604   5.272819   5.665204  11.286431   7.617391   \n",
       "\n",
       "             Hu7  \n",
       "6440   44.220909  \n",
       "12053  11.478644  \n",
       "14446  10.741992  \n",
       "10784   8.780473  \n",
       "12596  11.283042  "
      ]
     },
     "metadata": {},
     "output_type": "display_data"
    },
    {
     "data": {
      "text/html": [
       "<div>\n",
       "<style scoped>\n",
       "    .dataframe tbody tr th:only-of-type {\n",
       "        vertical-align: middle;\n",
       "    }\n",
       "\n",
       "    .dataframe tbody tr th {\n",
       "        vertical-align: top;\n",
       "    }\n",
       "\n",
       "    .dataframe thead th {\n",
       "        text-align: right;\n",
       "    }\n",
       "</style>\n",
       "<table border=\"1\" class=\"dataframe\">\n",
       "  <thead>\n",
       "    <tr style=\"text-align: right;\">\n",
       "      <th></th>\n",
       "      <th>0</th>\n",
       "      <th>1</th>\n",
       "      <th>2</th>\n",
       "      <th>3</th>\n",
       "      <th>4</th>\n",
       "      <th>5</th>\n",
       "      <th>6</th>\n",
       "    </tr>\n",
       "  </thead>\n",
       "  <tbody>\n",
       "    <tr>\n",
       "      <th>0</th>\n",
       "      <td>0.798082</td>\n",
       "      <td>5.60354</td>\n",
       "      <td>6.15529</td>\n",
       "      <td>10.280266</td>\n",
       "      <td>21.046733</td>\n",
       "      <td>13.626323</td>\n",
       "      <td>18.498046</td>\n",
       "    </tr>\n",
       "  </tbody>\n",
       "</table>\n",
       "</div>"
      ],
      "text/plain": [
       "          0        1        2          3          4          5          6\n",
       "0  0.798082  5.60354  6.15529  10.280266  21.046733  13.626323  18.498046"
      ]
     },
     "metadata": {},
     "output_type": "display_data"
    }
   ],
   "source": [
    "display(x_test.head())\n",
    "HU = pd.DataFrame(HU)\n",
    "HU = HU.T\n",
    "# HU.columns = ['Hu1','Hu2','Hu3','Hu4','Hu5','Hu6','Hu7']\n",
    "display(HU)"
   ]
  },
  {
   "cell_type": "code",
   "execution_count": 37,
   "metadata": {},
   "outputs": [
    {
     "name": "stdout",
     "output_type": "stream",
     "text": [
      "La forma es Circulo\n"
     ]
    }
   ],
   "source": [
    "predictRF = modelRF.predict(HU)\n",
    "\n",
    "if predictRF == 0:\n",
    "    shape = 'Circulo'\n",
    "    \n",
    "if predictRF == 1:\n",
    "    shape = 'Cuadrado'\n",
    "    \n",
    "if predictRF == 2:\n",
    "    shape = 'Triangulo'\n",
    "    \n",
    "if predictRF == 3:\n",
    "    shape = 'Estrella'\n",
    "    \n",
    "print('La forma es',shape)"
   ]
  }
 ],
 "metadata": {
  "kernelspec": {
   "display_name": "Python 3",
   "language": "python",
   "name": "python3"
  },
  "language_info": {
   "codemirror_mode": {
    "name": "ipython",
    "version": 3
   },
   "file_extension": ".py",
   "mimetype": "text/x-python",
   "name": "python",
   "nbconvert_exporter": "python",
   "pygments_lexer": "ipython3",
   "version": "3.7.3"
  }
 },
 "nbformat": 4,
 "nbformat_minor": 2
}
