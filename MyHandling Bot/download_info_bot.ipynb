{
 "cells": [
  {
   "cell_type": "markdown",
   "metadata": {},
   "source": [
    "# Actualizacion de informacion de MyHandling"
   ]
  },
  {
   "cell_type": "markdown",
   "metadata": {},
   "source": [
    "### 1ra etapa:\n",
    "##### El bot elimina todos los archivos de la carpeta de descargas"
   ]
  },
  {
   "cell_type": "code",
   "execution_count": 44,
   "metadata": {},
   "outputs": [],
   "source": [
    "import os\n",
    " \n",
    "dir = 'C:/Users/Pedro Vallarino/Downloads'\n",
    "for f in os.listdir(dir):\n",
    "    os.remove(os.path.join(dir, f))"
   ]
  },
  {
   "cell_type": "markdown",
   "metadata": {},
   "source": [
    "### 2da etapa:\n",
    "##### El bot descarga el excel de flight paths automaticamente"
   ]
  },
  {
   "cell_type": "code",
   "execution_count": 45,
   "metadata": {},
   "outputs": [],
   "source": [
    "#%pip install selenium\n",
    "#%pip install webdriver_manager"
   ]
  },
  {
   "cell_type": "code",
   "execution_count": 46,
   "metadata": {},
   "outputs": [
    {
     "name": "stderr",
     "output_type": "stream",
     "text": [
      "C:\\Users\\Pedro Vallarino\\AppData\\Local\\Temp\\ipykernel_23724\\3529882507.py:6: DeprecationWarning: executable_path has been deprecated, please pass in a Service object\n",
      "  browser  = webdriver.Chrome(ChromeDriverManager().install())\n"
     ]
    }
   ],
   "source": [
    "from selenium import webdriver\n",
    "from webdriver_manager.chrome import ChromeDriverManager\n",
    "from selenium.webdriver.common.by import By\n",
    "\n",
    "# Initiate the browser\n",
    "browser  = webdriver.Chrome(ChromeDriverManager().install())\n",
    "\n",
    "# Open the Website\n",
    "browser.get('https://ap.myhandlingsoftware.com/Account/Login?ReturnUrl=%2f')\n",
    "\n",
    "#Login info\n",
    "myHandling_email = 'David.vallve@skyvalet.com'\n",
    "myHandling_password = '88888888'\n",
    "\n",
    "#Input password\n",
    "browser.find_element(By.XPATH,'//*[@id=\"UserName\"]').send_keys(myHandling_email)\n",
    "browser.find_element(By.XPATH,'//*[@id=\"Password\"]').send_keys(myHandling_password)\n",
    "browser.find_element(By.XPATH,'/html/body/div[2]/div/div[5]/div/div[1]/div/div[1]/form/div[3]/div/input').click()\n",
    "\n",
    "#Redirigo a Flight Paths y descargo el excel\n",
    "browser.get('https://ap.myhandlingsoftware.com/Home/BoardList')\n",
    "browser.find_element(By.XPATH,'//*[@id=\"ExportLinkExcel\"]').click()\n",
    "\n",
    "import os.path\n",
    "import time\n",
    "\n",
    "while not os.path.exists(\"C:/Users/Pedro Vallarino/Downloads/Flights.xlsx\"):\n",
    "    time.sleep(1)\n",
    "\n",
    "browser.close()"
   ]
  },
  {
   "cell_type": "markdown",
   "metadata": {},
   "source": [
    "### 3ra etapa:\n",
    "##### El bot realiza los siguientes pasos:\n",
    "1) Elimina el archivo Flights.xslx del directorio\n",
    "2) Corta y pega el archivo Flights.xslx recientemente descargado desde Descargas hacia el directorio "
   ]
  },
  {
   "cell_type": "code",
   "execution_count": 47,
   "metadata": {},
   "outputs": [
    {
     "data": {
      "text/plain": [
       "'C:/Users/Pedro Vallarino/Desktop/Repos/Python/MyHandling Bot/Flights.xlsx'"
      ]
     },
     "execution_count": 47,
     "metadata": {},
     "output_type": "execute_result"
    }
   ],
   "source": [
    "try: \n",
    "    os.remove(\"C:/Users/Pedro Vallarino/Desktop/Repos/Python/MyHandling Bot/Flights.xlsx\")\n",
    "except:\n",
    "    os.path.exists(\"C:/Users/Pedro Vallarino/Desktop/Repos/Python/MyHandling Bot/Flights.xlsx\") is False    \n",
    "\n",
    "import shutil\n",
    "\n",
    "shutil.move(\"C:/Users/Pedro Vallarino/Downloads/Flights.xlsx\", \"C:/Users/Pedro Vallarino/Desktop/Repos/Python/MyHandling Bot/Flights.xlsx\")"
   ]
  },
  {
   "cell_type": "markdown",
   "metadata": {},
   "source": [
    "### 4ta etapa:\n",
    "##### El bot sube esta informacion de la carpeta de descargas a el drive"
   ]
  },
  {
   "cell_type": "code",
   "execution_count": 48,
   "metadata": {},
   "outputs": [],
   "source": [
    "#%pip install --upgrade google-api-python-client google-auth-httplib2 google-auth-oauthlib\n",
    "#%pip install Google"
   ]
  },
  {
   "cell_type": "code",
   "execution_count": 49,
   "metadata": {},
   "outputs": [],
   "source": [
    "import pickle\n",
    "from google_auth_oauthlib.flow import Flow, InstalledAppFlow\n",
    "from googleapiclient.discovery import build\n",
    "from googleapiclient.http import MediaFileUpload\n",
    "from google.auth.transport.requests import Request\n",
    "\n",
    "def Create_Service(client_secret_file, api_name, api_version, *scopes):\n",
    "    print(client_secret_file, api_name, api_version, scopes, sep='-')\n",
    "    CLIENT_SECRET_FILE = client_secret_file\n",
    "    API_SERVICE_NAME = api_name\n",
    "    API_VERSION = api_version\n",
    "    SCOPES = [scope for scope in scopes[0]]\n",
    "    print(SCOPES)\n",
    "\n",
    "    cred = None\n",
    "\n",
    "    pickle_file = f'token_{API_SERVICE_NAME}_{API_VERSION}.pickle'\n",
    "    # print(pickle_file)\n",
    "\n",
    "    if os.path.exists(pickle_file):\n",
    "        with open(pickle_file, 'rb') as token:\n",
    "            cred = pickle.load(token)\n",
    "\n",
    "    if not cred or not cred.valid:\n",
    "        if cred and cred.expired and cred.refresh_token:\n",
    "            cred.refresh(Request())\n",
    "        else:\n",
    "            flow = InstalledAppFlow.from_client_secrets_file(CLIENT_SECRET_FILE, SCOPES)\n",
    "            cred = flow.run_local_server()\n",
    "\n",
    "        with open(pickle_file, 'wb') as token:\n",
    "            pickle.dump(cred, token)\n",
    "\n",
    "    try:\n",
    "        service = build(API_SERVICE_NAME, API_VERSION, credentials=cred)\n",
    "        print(API_SERVICE_NAME, 'service created successfully')\n",
    "        return service\n",
    "    except Exception as e:\n",
    "        print('Unable to connect.')\n",
    "        print(e)\n",
    "        return None"
   ]
  },
  {
   "cell_type": "markdown",
   "metadata": {},
   "source": [
    "La primera vez se crea el archivo, a partir de ahi vamos a correr el proximo"
   ]
  },
  {
   "cell_type": "code",
   "execution_count": 51,
   "metadata": {},
   "outputs": [
    {
     "name": "stdout",
     "output_type": "stream",
     "text": [
      "credentials.json-drive-v3-(['https://www.googleapis.com/auth/drive'],)\n",
      "['https://www.googleapis.com/auth/drive']\n",
      "drive service created successfully\n"
     ]
    },
    {
     "data": {
      "text/plain": [
       "{'id': '1Jhb7vzTmzWz03_M6Psed_O2NKM6qnGEp'}"
      ]
     },
     "execution_count": 51,
     "metadata": {},
     "output_type": "execute_result"
    }
   ],
   "source": [
    "CLIENT_SECRET_FILE = 'credentials.json'\n",
    "API_NAME = 'drive'\n",
    "API_VERSION = 'v3'\n",
    "SCOPES = ['https://www.googleapis.com/auth/drive']\n",
    "\n",
    "Service = Create_Service(CLIENT_SECRET_FILE, API_NAME, API_VERSION, SCOPES)\n",
    "\n",
    "folder_id = '1BxVBV0UqNr53kCcGUWqAPiXk3bQYrQR7'\n",
    "file_names = ['Flights.xlsx']\n",
    "mime_types = ['application/vnd.openxmlformats-officedocument.spreadsheetml.sheet']\n",
    "\n",
    "for file_name, mime_type in zip(file_names, mime_types):\n",
    "    file_metadata = {\n",
    "        'name': file_name,\n",
    "        'parents': [folder_id]\n",
    "    }\n",
    "\n",
    "media = MediaFileUpload('./{0}'.format(file_name), mimetype=mime_type )\n",
    "\n",
    "Service.files().create(\n",
    "    body = file_metadata,\n",
    "    media_body = media,\n",
    "    fields = 'id'\n",
    ").execute()"
   ]
  },
  {
   "cell_type": "markdown",
   "metadata": {},
   "source": [
    "De la segunda en adelante se corre esta"
   ]
  },
  {
   "cell_type": "code",
   "execution_count": 52,
   "metadata": {},
   "outputs": [
    {
     "data": {
      "text/plain": [
       "{'kind': 'drive#file',\n",
       " 'id': '1c3cK2BK0paAe-cAAjj1pJh2WYUdwd0Af',\n",
       " 'name': 'Flights.xlsx',\n",
       " 'mimeType': 'application/vnd.openxmlformats-officedocument.spreadsheetml.sheet'}"
      ]
     },
     "execution_count": 52,
     "metadata": {},
     "output_type": "execute_result"
    }
   ],
   "source": [
    "mime_types = ['application/vnd.openxmlformats-officedocument.spreadsheetml.sheet']\n",
    "file_id = '1c3cK2BK0paAe-cAAjj1pJh2WYUdwd0Af'\n",
    "media_content = MediaFileUpload('Flights.xlsx', mimetype=mime_type )\n",
    "\n",
    "Service.files().update(\n",
    "    fileId = file_id,\n",
    "    media_body = media_content,\n",
    ").execute()"
   ]
  }
 ],
 "metadata": {
  "kernelspec": {
   "display_name": "Python 3.10.4 64-bit",
   "language": "python",
   "name": "python3"
  },
  "language_info": {
   "codemirror_mode": {
    "name": "ipython",
    "version": 3
   },
   "file_extension": ".py",
   "mimetype": "text/x-python",
   "name": "python",
   "nbconvert_exporter": "python",
   "pygments_lexer": "ipython3",
   "version": "3.10.4"
  },
  "orig_nbformat": 4,
  "vscode": {
   "interpreter": {
    "hash": "5eab50eec49d5a3ddbbcb7afb1b75079b1a0651d7988c01e8d65eaa58a70a5c8"
   }
  }
 },
 "nbformat": 4,
 "nbformat_minor": 2
}
