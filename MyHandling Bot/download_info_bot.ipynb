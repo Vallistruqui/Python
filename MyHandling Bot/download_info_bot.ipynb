{
 "cells": [
  {
   "cell_type": "markdown",
   "metadata": {},
   "source": [
    "# Actualizacion de informacion de MyHandling"
   ]
  },
  {
   "cell_type": "markdown",
   "metadata": {},
   "source": [
    "### 1ra etapa:\n",
    "##### El bot escanea la carpeta de descargas y elimina todos los archivos Flights.xslx o Flights(n).xlsx "
   ]
  },
  {
   "cell_type": "code",
   "execution_count": 17,
   "metadata": {},
   "outputs": [
    {
     "ename": "PermissionError",
     "evalue": "[WinError 32] El proceso no tiene acceso al archivo porque está siendo utilizado por otro proceso: 'C:\\\\Users\\\\Pedro Vallarino\\\\Desktop\\\\Repos\\\\Python\\\\MyHandling Bot\\\\Flights.xlsx'",
     "output_type": "error",
     "traceback": [
      "\u001b[1;31m---------------------------------------------------------------------------\u001b[0m",
      "\u001b[1;31mPermissionError\u001b[0m                           Traceback (most recent call last)",
      "\u001b[1;32mc:\\Users\\Pedro Vallarino\\Desktop\\Repos\\Python\\MyHandling Bot\\download_info_bot.ipynb Celda 3\u001b[0m in \u001b[0;36m<cell line: 3>\u001b[1;34m()\u001b[0m\n\u001b[0;32m      <a href='vscode-notebook-cell:/c%3A/Users/Pedro%20Vallarino/Desktop/Repos/Python/MyHandling%20Bot/download_info_bot.ipynb#X44sZmlsZQ%3D%3D?line=0'>1</a>\u001b[0m \u001b[39mimport\u001b[39;00m \u001b[39mos\u001b[39;00m\n\u001b[1;32m----> <a href='vscode-notebook-cell:/c%3A/Users/Pedro%20Vallarino/Desktop/Repos/Python/MyHandling%20Bot/download_info_bot.ipynb#X44sZmlsZQ%3D%3D?line=2'>3</a>\u001b[0m os\u001b[39m.\u001b[39;49mremove(\u001b[39mr\u001b[39;49m\u001b[39m\"\u001b[39;49m\u001b[39mC:\u001b[39;49m\u001b[39m\\\u001b[39;49m\u001b[39mUsers\u001b[39;49m\u001b[39m\\\u001b[39;49m\u001b[39mPedro Vallarino\u001b[39;49m\u001b[39m\\\u001b[39;49m\u001b[39mDesktop\u001b[39;49m\u001b[39m\\\u001b[39;49m\u001b[39mRepos\u001b[39;49m\u001b[39m\\\u001b[39;49m\u001b[39mPython\u001b[39;49m\u001b[39m\\\u001b[39;49m\u001b[39mMyHandling Bot\u001b[39;49m\u001b[39m\\\u001b[39;49m\u001b[39mFlights.xlsx\u001b[39;49m\u001b[39m\"\u001b[39;49m)\n",
      "\u001b[1;31mPermissionError\u001b[0m: [WinError 32] El proceso no tiene acceso al archivo porque está siendo utilizado por otro proceso: 'C:\\\\Users\\\\Pedro Vallarino\\\\Desktop\\\\Repos\\\\Python\\\\MyHandling Bot\\\\Flights.xlsx'"
     ]
    }
   ],
   "source": [
    "import os\n",
    "\n"
   ]
  },
  {
   "cell_type": "markdown",
   "metadata": {},
   "source": [
    "### 2da etapa:\n",
    "##### El bot descarga el excel de flight paths automaticamente"
   ]
  },
  {
   "cell_type": "code",
   "execution_count": 39,
   "metadata": {},
   "outputs": [],
   "source": [
    "#%pip install selenium\n",
    "#%pip install webdriver_manager"
   ]
  },
  {
   "cell_type": "code",
   "execution_count": 11,
   "metadata": {},
   "outputs": [],
   "source": [
    "from selenium import webdriver\n",
    "from webdriver_manager.chrome import ChromeDriverManager\n",
    "from selenium.webdriver.common.by import By"
   ]
  },
  {
   "cell_type": "code",
   "execution_count": 13,
   "metadata": {},
   "outputs": [
    {
     "name": "stderr",
     "output_type": "stream",
     "text": [
      "C:\\Users\\Pedro Vallarino\\AppData\\Local\\Temp\\ipykernel_1932\\948112794.py:2: DeprecationWarning: executable_path has been deprecated, please pass in a Service object\n",
      "  browser  = webdriver.Chrome(ChromeDriverManager().install())\n"
     ]
    }
   ],
   "source": [
    "# Initiate the browser\n",
    "browser  = webdriver.Chrome(ChromeDriverManager().install())\n",
    "\n",
    "# Open the Website\n",
    "browser.get('https://ap.myhandlingsoftware.com/Account/Login?ReturnUrl=%2f')\n",
    "\n",
    "#Login info\n",
    "myHandling_email = 'David.vallve@skyvalet.com'\n",
    "myHandling_password = '88888888'\n",
    "\n",
    "#Input password\n",
    "browser.find_element(By.XPATH,'//*[@id=\"UserName\"]').send_keys(myHandling_email)\n",
    "browser.find_element(By.XPATH,'//*[@id=\"Password\"]').send_keys(myHandling_password)\n",
    "browser.find_element(By.XPATH,'/html/body/div[2]/div/div[5]/div/div[1]/div/div[1]/form/div[3]/div/input').click()\n",
    "\n",
    "#Redirigo a Flight Paths y descargo el excel\n",
    "browser.get('https://ap.myhandlingsoftware.com/Home/BoardList')\n",
    "browser.find_element(By.XPATH,'//*[@id=\"ExportLinkExcel\"]').click()"
   ]
  },
  {
   "cell_type": "markdown",
   "metadata": {},
   "source": [
    "### 3ra etapa:\n",
    "##### El bot realiza los siguientes pasos:\n",
    "1) Elimina el archivo Flights.xslx del directorio\n",
    "2) Corta y pega el archivo Flights.xslx recientemente descargado desde Descargas hacia el directorio "
   ]
  },
  {
   "cell_type": "code",
   "execution_count": 45,
   "metadata": {},
   "outputs": [
    {
     "ename": "ModuleNotFoundError",
     "evalue": "No module named 'Image'",
     "output_type": "error",
     "traceback": [
      "\u001b[1;31m---------------------------------------------------------------------------\u001b[0m",
      "\u001b[1;31mModuleNotFoundError\u001b[0m                       Traceback (most recent call last)",
      "\u001b[1;32mc:\\Users\\Pedro Vallarino\\Desktop\\Repos\\Python\\MyHandling Bot\\download_info_bot.ipynb Celda 9\u001b[0m in \u001b[0;36m<cell line: 4>\u001b[1;34m()\u001b[0m\n\u001b[0;32m      <a href='vscode-notebook-cell:/c%3A/Users/Pedro%20Vallarino/Desktop/Repos/Python/MyHandling%20Bot/download_info_bot.ipynb#X50sZmlsZQ%3D%3D?line=0'>1</a>\u001b[0m \u001b[39mimport\u001b[39;00m \u001b[39mshutil\u001b[39;00m \n\u001b[0;32m      <a href='vscode-notebook-cell:/c%3A/Users/Pedro%20Vallarino/Desktop/Repos/Python/MyHandling%20Bot/download_info_bot.ipynb#X50sZmlsZQ%3D%3D?line=1'>2</a>\u001b[0m \u001b[39mimport\u001b[39;00m \u001b[39mos\u001b[39;00m \n\u001b[1;32m----> <a href='vscode-notebook-cell:/c%3A/Users/Pedro%20Vallarino/Desktop/Repos/Python/MyHandling%20Bot/download_info_bot.ipynb#X50sZmlsZQ%3D%3D?line=3'>4</a>\u001b[0m \u001b[39mimport\u001b[39;00m \u001b[39mImage\u001b[39;00m\n\u001b[0;32m      <a href='vscode-notebook-cell:/c%3A/Users/Pedro%20Vallarino/Desktop/Repos/Python/MyHandling%20Bot/download_info_bot.ipynb#X50sZmlsZQ%3D%3D?line=5'>6</a>\u001b[0m im \u001b[39m=\u001b[39m Image\u001b[39m.\u001b[39mopen(\u001b[39m\"\u001b[39m\u001b[39mC:/Users/Pedro Vallarino/Desktop/Repos/Python/MyHandling Bot/Flights.xlsx\u001b[39m\u001b[39m\"\u001b[39m)\n\u001b[0;32m      <a href='vscode-notebook-cell:/c%3A/Users/Pedro%20Vallarino/Desktop/Repos/Python/MyHandling%20Bot/download_info_bot.ipynb#X50sZmlsZQ%3D%3D?line=6'>7</a>\u001b[0m \u001b[39m#im.close()\u001b[39;00m\n",
      "\u001b[1;31mModuleNotFoundError\u001b[0m: No module named 'Image'"
     ]
    }
   ],
   "source": [
    "import shutil \n",
    "import os \n",
    "\n",
    "import Image\n",
    "\n",
    "im = Image.open(\"C:/Users/Pedro Vallarino/Desktop/Repos/Python/MyHandling Bot/Flights.xlsx\")\n",
    "#im.close()\n",
    "os.remove(\"C:/Users/Pedro Vallarino/Desktop/Repos/Python/MyHandling Bot/Flights.xlsx\")\n"
   ]
  },
  {
   "cell_type": "markdown",
   "metadata": {},
   "source": [
    "### 4ta etapa:\n",
    "##### El bot sube esta informacion de la carpeta de descargas a el drive"
   ]
  },
  {
   "cell_type": "code",
   "execution_count": 86,
   "metadata": {},
   "outputs": [],
   "source": [
    "#%pip install --upgrade google-api-python-client google-auth-httplib2 google-auth-oauthlib\n",
    "#%pip install Google"
   ]
  },
  {
   "cell_type": "code",
   "execution_count": 3,
   "metadata": {},
   "outputs": [],
   "source": [
    "import pickle\n",
    "import os\n",
    "from google_auth_oauthlib.flow import Flow, InstalledAppFlow\n",
    "from googleapiclient.discovery import build\n",
    "from googleapiclient.http import MediaFileUpload, MediaIoBaseDownload\n",
    "from google.auth.transport.requests import Request"
   ]
  },
  {
   "cell_type": "code",
   "execution_count": 4,
   "metadata": {},
   "outputs": [],
   "source": [
    "def Create_Service(client_secret_file, api_name, api_version, *scopes):\n",
    "    print(client_secret_file, api_name, api_version, scopes, sep='-')\n",
    "    CLIENT_SECRET_FILE = client_secret_file\n",
    "    API_SERVICE_NAME = api_name\n",
    "    API_VERSION = api_version\n",
    "    SCOPES = [scope for scope in scopes[0]]\n",
    "    print(SCOPES)\n",
    "\n",
    "    cred = None\n",
    "\n",
    "    pickle_file = f'token_{API_SERVICE_NAME}_{API_VERSION}.pickle'\n",
    "    # print(pickle_file)\n",
    "\n",
    "    if os.path.exists(pickle_file):\n",
    "        with open(pickle_file, 'rb') as token:\n",
    "            cred = pickle.load(token)\n",
    "\n",
    "    if not cred or not cred.valid:\n",
    "        if cred and cred.expired and cred.refresh_token:\n",
    "            cred.refresh(Request())\n",
    "        else:\n",
    "            flow = InstalledAppFlow.from_client_secrets_file(CLIENT_SECRET_FILE, SCOPES)\n",
    "            cred = flow.run_local_server()\n",
    "\n",
    "        with open(pickle_file, 'wb') as token:\n",
    "            pickle.dump(cred, token)\n",
    "\n",
    "    try:\n",
    "        service = build(API_SERVICE_NAME, API_VERSION, credentials=cred)\n",
    "        print(API_SERVICE_NAME, 'service created successfully')\n",
    "        return service\n",
    "    except Exception as e:\n",
    "        print('Unable to connect.')\n",
    "        print(e)\n",
    "        return None"
   ]
  },
  {
   "cell_type": "code",
   "execution_count": 5,
   "metadata": {},
   "outputs": [],
   "source": [
    "from googleapiclient.http import MediaFileUpload\n",
    "from Google import Create_Service"
   ]
  },
  {
   "cell_type": "code",
   "execution_count": 10,
   "metadata": {},
   "outputs": [
    {
     "name": "stdout",
     "output_type": "stream",
     "text": [
      "credentials.json-drive-v3-(['https://www.googleapis.com/auth/drive'],)\n",
      "['https://www.googleapis.com/auth/drive']\n",
      "drive service created successfully\n"
     ]
    }
   ],
   "source": [
    "CLIENT_SECRET_FILE = 'credentials.json'\n",
    "API_NAME = 'drive'\n",
    "API_VERSION = 'v3'\n",
    "SCOPES = ['https://www.googleapis.com/auth/drive']\n",
    "\n",
    "Service = Create_Service(CLIENT_SECRET_FILE, API_NAME, API_VERSION, SCOPES)\n",
    "\n",
    "folder_id = '1BxVBV0UqNr53kCcGUWqAPiXk3bQYrQR7'\n",
    "file_names = ['Flights.xlsx']\n",
    "mime_types = ['application/vnd.openxmlformats-officedocument.spreadsheetml.sheet']\n",
    "\n",
    "for file_name, mime_type in zip(file_names, mime_types):\n",
    "    file_metadata = {\n",
    "        'name': file_name,\n",
    "        'parents': [folder_id]\n",
    "    }\n",
    "\n",
    "    media = MediaFileUpload('./{0}'.format(file_name), mimetype=mime_type )\n",
    "\n",
    "    Service.files().create(\n",
    "        body = file_metadata,\n",
    "        media_body = media,\n",
    "        fields = 'id'\n",
    "    ).execute()\n"
   ]
  },
  {
   "cell_type": "code",
   "execution_count": null,
   "metadata": {},
   "outputs": [],
   "source": []
  }
 ],
 "metadata": {
  "kernelspec": {
   "display_name": "Python 3.10.4 64-bit",
   "language": "python",
   "name": "python3"
  },
  "language_info": {
   "codemirror_mode": {
    "name": "ipython",
    "version": 3
   },
   "file_extension": ".py",
   "mimetype": "text/x-python",
   "name": "python",
   "nbconvert_exporter": "python",
   "pygments_lexer": "ipython3",
   "version": "3.10.4"
  },
  "orig_nbformat": 4,
  "vscode": {
   "interpreter": {
    "hash": "5eab50eec49d5a3ddbbcb7afb1b75079b1a0651d7988c01e8d65eaa58a70a5c8"
   }
  }
 },
 "nbformat": 4,
 "nbformat_minor": 2
}
