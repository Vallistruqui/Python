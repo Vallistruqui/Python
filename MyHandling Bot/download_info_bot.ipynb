{
 "cells": [
  {
   "cell_type": "markdown",
   "metadata": {},
   "source": [
    "# Actualizacion de informacion de MyHandling"
   ]
  },
  {
   "cell_type": "markdown",
   "metadata": {},
   "source": [
    "### 1ra etapa:\n",
    "##### El bot descarga el excel de flight paths automaticamente"
   ]
  },
  {
   "cell_type": "code",
   "execution_count": 39,
   "metadata": {},
   "outputs": [],
   "source": [
    "#%pip install selenium\n",
    "#%pip install webdriver_manager"
   ]
  },
  {
   "cell_type": "code",
   "execution_count": 24,
   "metadata": {},
   "outputs": [],
   "source": [
    "from selenium import webdriver\n",
    "from webdriver_manager.chrome import ChromeDriverManager\n",
    "from selenium.webdriver.common.by import By"
   ]
  },
  {
   "cell_type": "code",
   "execution_count": 44,
   "metadata": {},
   "outputs": [
    {
     "name": "stderr",
     "output_type": "stream",
     "text": [
      "C:\\Users\\Pedro Vallarino\\AppData\\Local\\Temp\\ipykernel_10508\\948112794.py:2: DeprecationWarning: executable_path has been deprecated, please pass in a Service object\n",
      "  browser  = webdriver.Chrome(ChromeDriverManager().install())\n"
     ]
    }
   ],
   "source": [
    "# Initiate the browser\n",
    "browser  = webdriver.Chrome(ChromeDriverManager().install())\n",
    "\n",
    "# Open the Website\n",
    "browser.get('https://ap.myhandlingsoftware.com/Account/Login?ReturnUrl=%2f')\n",
    "\n",
    "#Login info\n",
    "myHandling_email = 'David.vallve@skyvalet.com'\n",
    "myHandling_password = '88888888'\n",
    "\n",
    "#Input password\n",
    "browser.find_element(By.XPATH,'//*[@id=\"UserName\"]').send_keys(myHandling_email)\n",
    "browser.find_element(By.XPATH,'//*[@id=\"Password\"]').send_keys(myHandling_password)\n",
    "browser.find_element(By.XPATH,'/html/body/div[2]/div/div[5]/div/div[1]/div/div[1]/form/div[3]/div/input').click()\n",
    "\n",
    "#Redirigo a Flight Paths y descargo el excel\n",
    "browser.get('https://ap.myhandlingsoftware.com/Home/BoardList')\n",
    "browser.find_element(By.XPATH,'//*[@id=\"ExportLinkExcel\"]').click()"
   ]
  },
  {
   "cell_type": "markdown",
   "metadata": {},
   "source": [
    "### 2da etapa:\n",
    "##### El bot sube esta informacion de la carpeta de descargas a el drive"
   ]
  },
  {
   "cell_type": "code",
   "execution_count": 42,
   "metadata": {},
   "outputs": [],
   "source": [
    "#%pip install pydrive"
   ]
  },
  {
   "cell_type": "code",
   "execution_count": 43,
   "metadata": {},
   "outputs": [],
   "source": [
    "from pydrive.auth import GoogleAuth\n",
    "from pydrive.drive import GoogleDrive"
   ]
  },
  {
   "cell_type": "code",
   "execution_count": 45,
   "metadata": {},
   "outputs": [
    {
     "ename": "InvalidConfigError",
     "evalue": "Invalid client secrets file ('Error opening file', 'client_secrets.json', 'No such file or directory', 2)",
     "output_type": "error",
     "traceback": [
      "\u001b[1;31m---------------------------------------------------------------------------\u001b[0m",
      "\u001b[1;31mFileNotFoundError\u001b[0m                         Traceback (most recent call last)",
      "File \u001b[1;32mc:\\Users\\Pedro Vallarino\\AppData\\Local\\Programs\\Python\\Python310\\lib\\site-packages\\oauth2client\\clientsecrets.py:121\u001b[0m, in \u001b[0;36m_loadfile\u001b[1;34m(filename)\u001b[0m\n\u001b[0;32m    120\u001b[0m \u001b[39mtry\u001b[39;00m:\n\u001b[1;32m--> 121\u001b[0m     \u001b[39mwith\u001b[39;00m \u001b[39mopen\u001b[39;49m(filename, \u001b[39m'\u001b[39;49m\u001b[39mr\u001b[39;49m\u001b[39m'\u001b[39;49m) \u001b[39mas\u001b[39;00m fp:\n\u001b[0;32m    122\u001b[0m         obj \u001b[39m=\u001b[39m json\u001b[39m.\u001b[39mload(fp)\n",
      "\u001b[1;31mFileNotFoundError\u001b[0m: [Errno 2] No such file or directory: 'client_secrets.json'",
      "\nDuring handling of the above exception, another exception occurred:\n",
      "\u001b[1;31mInvalidClientSecretsError\u001b[0m                 Traceback (most recent call last)",
      "File \u001b[1;32mc:\\Users\\Pedro Vallarino\\AppData\\Local\\Programs\\Python\\Python310\\lib\\site-packages\\pydrive\\auth.py:386\u001b[0m, in \u001b[0;36mGoogleAuth.LoadClientConfigFile\u001b[1;34m(self, client_config_file)\u001b[0m\n\u001b[0;32m    385\u001b[0m \u001b[39mtry\u001b[39;00m:\n\u001b[1;32m--> 386\u001b[0m   client_type, client_info \u001b[39m=\u001b[39m clientsecrets\u001b[39m.\u001b[39;49mloadfile(client_config_file)\n\u001b[0;32m    387\u001b[0m \u001b[39mexcept\u001b[39;00m clientsecrets\u001b[39m.\u001b[39mInvalidClientSecretsError \u001b[39mas\u001b[39;00m error:\n",
      "File \u001b[1;32mc:\\Users\\Pedro Vallarino\\AppData\\Local\\Programs\\Python\\Python310\\lib\\site-packages\\oauth2client\\clientsecrets.py:165\u001b[0m, in \u001b[0;36mloadfile\u001b[1;34m(filename, cache)\u001b[0m\n\u001b[0;32m    164\u001b[0m \u001b[39mif\u001b[39;00m \u001b[39mnot\u001b[39;00m cache:\n\u001b[1;32m--> 165\u001b[0m     \u001b[39mreturn\u001b[39;00m _loadfile(filename)\n\u001b[0;32m    167\u001b[0m obj \u001b[39m=\u001b[39m cache\u001b[39m.\u001b[39mget(filename, namespace\u001b[39m=\u001b[39m_SECRET_NAMESPACE)\n",
      "File \u001b[1;32mc:\\Users\\Pedro Vallarino\\AppData\\Local\\Programs\\Python\\Python310\\lib\\site-packages\\oauth2client\\clientsecrets.py:124\u001b[0m, in \u001b[0;36m_loadfile\u001b[1;34m(filename)\u001b[0m\n\u001b[0;32m    123\u001b[0m \u001b[39mexcept\u001b[39;00m \u001b[39mIOError\u001b[39;00m \u001b[39mas\u001b[39;00m exc:\n\u001b[1;32m--> 124\u001b[0m     \u001b[39mraise\u001b[39;00m InvalidClientSecretsError(\u001b[39m'\u001b[39m\u001b[39mError opening file\u001b[39m\u001b[39m'\u001b[39m, exc\u001b[39m.\u001b[39mfilename,\n\u001b[0;32m    125\u001b[0m                                     exc\u001b[39m.\u001b[39mstrerror, exc\u001b[39m.\u001b[39merrno)\n\u001b[0;32m    126\u001b[0m \u001b[39mreturn\u001b[39;00m _validate_clientsecrets(obj)\n",
      "\u001b[1;31mInvalidClientSecretsError\u001b[0m: ('Error opening file', 'client_secrets.json', 'No such file or directory', 2)",
      "\nDuring handling of the above exception, another exception occurred:\n",
      "\u001b[1;31mInvalidConfigError\u001b[0m                        Traceback (most recent call last)",
      "\u001b[1;32mc:\\Users\\Pedro Vallarino\\Desktop\\Repos\\Python\\MyHandling Bot\\download_info_bot.ipynb Celda 9\u001b[0m in \u001b[0;36m<cell line: 10>\u001b[1;34m()\u001b[0m\n\u001b[0;32m      <a href='vscode-notebook-cell:/c%3A/Users/Pedro%20Vallarino/Desktop/Repos/Python/MyHandling%20Bot/download_info_bot.ipynb#X23sZmlsZQ%3D%3D?line=5'>6</a>\u001b[0m gauth \u001b[39m=\u001b[39m GoogleAuth()\n\u001b[0;32m      <a href='vscode-notebook-cell:/c%3A/Users/Pedro%20Vallarino/Desktop/Repos/Python/MyHandling%20Bot/download_info_bot.ipynb#X23sZmlsZQ%3D%3D?line=7'>8</a>\u001b[0m \u001b[39m# Creates local webserver and auto\u001b[39;00m\n\u001b[0;32m      <a href='vscode-notebook-cell:/c%3A/Users/Pedro%20Vallarino/Desktop/Repos/Python/MyHandling%20Bot/download_info_bot.ipynb#X23sZmlsZQ%3D%3D?line=8'>9</a>\u001b[0m \u001b[39m# handles authentication.\u001b[39;00m\n\u001b[1;32m---> <a href='vscode-notebook-cell:/c%3A/Users/Pedro%20Vallarino/Desktop/Repos/Python/MyHandling%20Bot/download_info_bot.ipynb#X23sZmlsZQ%3D%3D?line=9'>10</a>\u001b[0m gauth\u001b[39m.\u001b[39;49mLocalWebserverAuth()       \n\u001b[0;32m     <a href='vscode-notebook-cell:/c%3A/Users/Pedro%20Vallarino/Desktop/Repos/Python/MyHandling%20Bot/download_info_bot.ipynb#X23sZmlsZQ%3D%3D?line=10'>11</a>\u001b[0m drive \u001b[39m=\u001b[39m GoogleDrive(gauth)\n\u001b[0;32m     <a href='vscode-notebook-cell:/c%3A/Users/Pedro%20Vallarino/Desktop/Repos/Python/MyHandling%20Bot/download_info_bot.ipynb#X23sZmlsZQ%3D%3D?line=12'>13</a>\u001b[0m \u001b[39m# replace the value of this variable\u001b[39;00m\n\u001b[0;32m     <a href='vscode-notebook-cell:/c%3A/Users/Pedro%20Vallarino/Desktop/Repos/Python/MyHandling%20Bot/download_info_bot.ipynb#X23sZmlsZQ%3D%3D?line=13'>14</a>\u001b[0m \u001b[39m# with the absolute path of the directory\u001b[39;00m\n",
      "File \u001b[1;32mc:\\Users\\Pedro Vallarino\\AppData\\Local\\Programs\\Python\\Python310\\lib\\site-packages\\pydrive\\auth.py:113\u001b[0m, in \u001b[0;36mCheckAuth.<locals>._decorated\u001b[1;34m(self, *args, **kwargs)\u001b[0m\n\u001b[0;32m    111\u001b[0m   \u001b[39mself\u001b[39m\u001b[39m.\u001b[39mLoadCredentials()\n\u001b[0;32m    112\u001b[0m \u001b[39mif\u001b[39;00m \u001b[39mself\u001b[39m\u001b[39m.\u001b[39mflow \u001b[39mis\u001b[39;00m \u001b[39mNone\u001b[39;00m:\n\u001b[1;32m--> 113\u001b[0m   \u001b[39mself\u001b[39;49m\u001b[39m.\u001b[39;49mGetFlow()\n\u001b[0;32m    114\u001b[0m \u001b[39mif\u001b[39;00m \u001b[39mself\u001b[39m\u001b[39m.\u001b[39mcredentials \u001b[39mis\u001b[39;00m \u001b[39mNone\u001b[39;00m:\n\u001b[0;32m    115\u001b[0m   code \u001b[39m=\u001b[39m decoratee(\u001b[39mself\u001b[39m, \u001b[39m*\u001b[39margs, \u001b[39m*\u001b[39m\u001b[39m*\u001b[39mkwargs)\n",
      "File \u001b[1;32mc:\\Users\\Pedro Vallarino\\AppData\\Local\\Programs\\Python\\Python310\\lib\\site-packages\\pydrive\\auth.py:443\u001b[0m, in \u001b[0;36mGoogleAuth.GetFlow\u001b[1;34m(self)\u001b[0m\n\u001b[0;32m    437\u001b[0m \u001b[39m\"\"\"Gets Flow object from client configuration.\u001b[39;00m\n\u001b[0;32m    438\u001b[0m \n\u001b[0;32m    439\u001b[0m \u001b[39m:raises: InvalidConfigError\u001b[39;00m\n\u001b[0;32m    440\u001b[0m \u001b[39m\"\"\"\u001b[39;00m\n\u001b[0;32m    441\u001b[0m \u001b[39mif\u001b[39;00m \u001b[39mnot\u001b[39;00m \u001b[39mall\u001b[39m(config \u001b[39min\u001b[39;00m \u001b[39mself\u001b[39m\u001b[39m.\u001b[39mclient_config \\\n\u001b[0;32m    442\u001b[0m            \u001b[39mfor\u001b[39;00m config \u001b[39min\u001b[39;00m \u001b[39mself\u001b[39m\u001b[39m.\u001b[39mCLIENT_CONFIGS_LIST):\n\u001b[1;32m--> 443\u001b[0m   \u001b[39mself\u001b[39;49m\u001b[39m.\u001b[39;49mLoadClientConfig()\n\u001b[0;32m    444\u001b[0m constructor_kwargs \u001b[39m=\u001b[39m {\n\u001b[0;32m    445\u001b[0m     \u001b[39m'\u001b[39m\u001b[39mredirect_uri\u001b[39m\u001b[39m'\u001b[39m: \u001b[39mself\u001b[39m\u001b[39m.\u001b[39mclient_config[\u001b[39m'\u001b[39m\u001b[39mredirect_uri\u001b[39m\u001b[39m'\u001b[39m],\n\u001b[0;32m    446\u001b[0m     \u001b[39m'\u001b[39m\u001b[39mauth_uri\u001b[39m\u001b[39m'\u001b[39m: \u001b[39mself\u001b[39m\u001b[39m.\u001b[39mclient_config[\u001b[39m'\u001b[39m\u001b[39mauth_uri\u001b[39m\u001b[39m'\u001b[39m],\n\u001b[0;32m    447\u001b[0m     \u001b[39m'\u001b[39m\u001b[39mtoken_uri\u001b[39m\u001b[39m'\u001b[39m: \u001b[39mself\u001b[39m\u001b[39m.\u001b[39mclient_config[\u001b[39m'\u001b[39m\u001b[39mtoken_uri\u001b[39m\u001b[39m'\u001b[39m],\n\u001b[0;32m    448\u001b[0m }\n\u001b[0;32m    449\u001b[0m \u001b[39mif\u001b[39;00m \u001b[39mself\u001b[39m\u001b[39m.\u001b[39mclient_config[\u001b[39m'\u001b[39m\u001b[39mrevoke_uri\u001b[39m\u001b[39m'\u001b[39m] \u001b[39mis\u001b[39;00m \u001b[39mnot\u001b[39;00m \u001b[39mNone\u001b[39;00m:\n",
      "File \u001b[1;32mc:\\Users\\Pedro Vallarino\\AppData\\Local\\Programs\\Python\\Python310\\lib\\site-packages\\pydrive\\auth.py:366\u001b[0m, in \u001b[0;36mGoogleAuth.LoadClientConfig\u001b[1;34m(self, backend)\u001b[0m\n\u001b[0;32m    364\u001b[0m     \u001b[39mraise\u001b[39;00m InvalidConfigError(\u001b[39m'\u001b[39m\u001b[39mPlease specify client config backend\u001b[39m\u001b[39m'\u001b[39m)\n\u001b[0;32m    365\u001b[0m \u001b[39mif\u001b[39;00m backend \u001b[39m==\u001b[39m \u001b[39m'\u001b[39m\u001b[39mfile\u001b[39m\u001b[39m'\u001b[39m:\n\u001b[1;32m--> 366\u001b[0m   \u001b[39mself\u001b[39;49m\u001b[39m.\u001b[39;49mLoadClientConfigFile()\n\u001b[0;32m    367\u001b[0m \u001b[39melif\u001b[39;00m backend \u001b[39m==\u001b[39m \u001b[39m'\u001b[39m\u001b[39msettings\u001b[39m\u001b[39m'\u001b[39m:\n\u001b[0;32m    368\u001b[0m   \u001b[39mself\u001b[39m\u001b[39m.\u001b[39mLoadClientConfigSettings()\n",
      "File \u001b[1;32mc:\\Users\\Pedro Vallarino\\AppData\\Local\\Programs\\Python\\Python310\\lib\\site-packages\\pydrive\\auth.py:388\u001b[0m, in \u001b[0;36mGoogleAuth.LoadClientConfigFile\u001b[1;34m(self, client_config_file)\u001b[0m\n\u001b[0;32m    386\u001b[0m   client_type, client_info \u001b[39m=\u001b[39m clientsecrets\u001b[39m.\u001b[39mloadfile(client_config_file)\n\u001b[0;32m    387\u001b[0m \u001b[39mexcept\u001b[39;00m clientsecrets\u001b[39m.\u001b[39mInvalidClientSecretsError \u001b[39mas\u001b[39;00m error:\n\u001b[1;32m--> 388\u001b[0m   \u001b[39mraise\u001b[39;00m InvalidConfigError(\u001b[39m'\u001b[39m\u001b[39mInvalid client secrets file \u001b[39m\u001b[39m%s\u001b[39;00m\u001b[39m'\u001b[39m \u001b[39m%\u001b[39m error)\n\u001b[0;32m    389\u001b[0m \u001b[39mif\u001b[39;00m \u001b[39mnot\u001b[39;00m client_type \u001b[39min\u001b[39;00m (clientsecrets\u001b[39m.\u001b[39mTYPE_WEB,\n\u001b[0;32m    390\u001b[0m                        clientsecrets\u001b[39m.\u001b[39mTYPE_INSTALLED):\n\u001b[0;32m    391\u001b[0m   \u001b[39mraise\u001b[39;00m InvalidConfigError(\u001b[39m'\u001b[39m\u001b[39mUnknown client_type of client config file\u001b[39m\u001b[39m'\u001b[39m)\n",
      "\u001b[1;31mInvalidConfigError\u001b[0m: Invalid client secrets file ('Error opening file', 'client_secrets.json', 'No such file or directory', 2)"
     ]
    }
   ],
   "source": [
    "# For using listdir()\n",
    "import os\n",
    "   \n",
    "# Below code does the authentication\n",
    "# part of the code\n",
    "gauth = GoogleAuth()\n",
    "  \n",
    "# Creates local webserver and auto\n",
    "# handles authentication.\n",
    "gauth.LocalWebserverAuth()       \n",
    "drive = GoogleDrive(gauth)\n",
    "   \n",
    "# replace the value of this variable\n",
    "# with the absolute path of the directory\n",
    "path = r\"C:\\Descargas\""
   ]
  },
  {
   "cell_type": "code",
   "execution_count": null,
   "metadata": {},
   "outputs": [],
   "source": [
    "# iterating thought all the files/folder\n",
    "# of the desired directory\n",
    "for x in os.listdir(path):\n",
    "   \n",
    "    f = drive.CreateFile({'title': x})\n",
    "    f.SetContentFile(os.path.join(path, x))\n",
    "    f.Upload()\n",
    "  \n",
    "    # Due to a known bug in pydrive if we \n",
    "    # don't empty the variable used to\n",
    "    # upload the files to Google Drive the\n",
    "    # file stays open in memory and causes a\n",
    "    # memory leak, therefore preventing its \n",
    "    # deletion\n",
    "    f = None"
   ]
  }
 ],
 "metadata": {
  "kernelspec": {
   "display_name": "Python 3.10.4 64-bit",
   "language": "python",
   "name": "python3"
  },
  "language_info": {
   "codemirror_mode": {
    "name": "ipython",
    "version": 3
   },
   "file_extension": ".py",
   "mimetype": "text/x-python",
   "name": "python",
   "nbconvert_exporter": "python",
   "pygments_lexer": "ipython3",
   "version": "3.10.4"
  },
  "orig_nbformat": 4,
  "vscode": {
   "interpreter": {
    "hash": "5eab50eec49d5a3ddbbcb7afb1b75079b1a0651d7988c01e8d65eaa58a70a5c8"
   }
  }
 },
 "nbformat": 4,
 "nbformat_minor": 2
}
