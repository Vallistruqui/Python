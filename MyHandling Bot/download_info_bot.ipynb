{
 "cells": [
  {
   "cell_type": "markdown",
   "metadata": {},
   "source": [
    "# Actualizacion de informacion de MyHandling"
   ]
  },
  {
   "cell_type": "markdown",
   "metadata": {},
   "source": [
    "### 1ra etapa:\n",
    "##### El bot elimina todos los archivos de la carpeta de descargas"
   ]
  },
  {
   "cell_type": "code",
   "execution_count": 1,
   "metadata": {},
   "outputs": [],
   "source": [
    "import os\n",
    " \n",
    "dir = 'C:/Users/Pedro Vallarino/Downloads'\n",
    "for f in os.listdir(dir):\n",
    "    os.remove(os.path.join(dir, f))"
   ]
  },
  {
   "cell_type": "markdown",
   "metadata": {},
   "source": [
    "### 2da etapa:\n",
    "##### El bot descarga el excel de flight paths automaticamente"
   ]
  },
  {
   "cell_type": "code",
   "execution_count": 1,
   "metadata": {},
   "outputs": [],
   "source": [
    "#%pip install selenium\n",
    "#%pip install webdriver_manager"
   ]
  },
  {
   "cell_type": "code",
   "execution_count": 2,
   "metadata": {},
   "outputs": [],
   "source": [
    "from selenium import webdriver\n",
    "from webdriver_manager.chrome import ChromeDriverManager\n",
    "from selenium.webdriver.common.by import By\n",
    "\n",
    "# Initiate the browser\n",
    "browser  = webdriver.Chrome(ChromeDriverManager().install())\n",
    "\n",
    "# Open the Website\n",
    "browser.get('https://ap.myhandlingsoftware.com/Account/Login?ReturnUrl=%2f')\n",
    "\n",
    "#Login info\n",
    "myHandling_email = 'David.vallve@skyvalet.com'\n",
    "myHandling_password = '88888888'\n",
    "\n",
    "#Input password\n",
    "browser.find_element(By.XPATH,'//*[@id=\"UserName\"]').send_keys(myHandling_email)\n",
    "browser.find_element(By.XPATH,'//*[@id=\"Password\"]').send_keys(myHandling_password)\n",
    "browser.find_element(By.XPATH,'/html/body/div[2]/div/div[5]/div/div[1]/div/div[1]/form/div[3]/div/input').click()\n",
    "\n",
    "#Redirigo a Flight Paths y descargo el excel\n",
    "browser.get('https://ap.myhandlingsoftware.com/Home/BoardList')\n",
    "browser.find_element(By.XPATH,'//*[@id=\"ExportLinkExcel\"]').click()\n",
    "\n",
    "import os.path\n",
    "import time\n",
    "\n",
    "while not os.path.exists(\"C:/Users/Pedro Vallarino/Downloads/Flights.xlsx\"):\n",
    "    time.sleep(1)\n",
    "\n",
    "browser.close()"
   ]
  },
  {
   "cell_type": "markdown",
   "metadata": {},
   "source": [
    "### 3ra etapa:\n",
    "##### El bot realiza los siguientes pasos:\n",
    "1) Elimina el archivo Flights.xslx del directorio\n",
    "2) Corta y pega el archivo Flights.xslx recientemente descargado desde Descargas hacia el directorio "
   ]
  },
  {
   "cell_type": "code",
   "execution_count": 3,
   "metadata": {},
   "outputs": [
    {
     "data": {
      "text/plain": [
       "'C:/Users/Pedro Vallarino/Desktop/Repos/Python/MyHandling Bot/Flights.xlsx'"
      ]
     },
     "execution_count": 3,
     "metadata": {},
     "output_type": "execute_result"
    }
   ],
   "source": [
    "try: \n",
    "    os.remove(\"C:/Users/Pedro Vallarino/Desktop/Repos/Python/MyHandling Bot/Flights.xlsx\")\n",
    "except:\n",
    "    os.path.exists(\"C:/Users/Pedro Vallarino/Desktop/Repos/Python/MyHandling Bot/Flights.xlsx\") is False    \n",
    "\n",
    "import shutil\n",
    "\n",
    "shutil.move(\"C:/Users/Pedro Vallarino/Downloads/Flights.xlsx\", \"C:/Users/Pedro Vallarino/Desktop/Repos/Python/MyHandling Bot/Flights.xlsx\")"
   ]
  },
  {
   "cell_type": "markdown",
   "metadata": {},
   "source": [
    "### 4ta etapa:\n",
    "##### El bot sube esta informacion de la carpeta de descargas a el drive"
   ]
  },
  {
   "cell_type": "code",
   "execution_count": 4,
   "metadata": {},
   "outputs": [],
   "source": [
    "#%pip install --upgrade google-api-python-client google-auth-httplib2 google-auth-oauthlib\n",
    "#%pip install Google"
   ]
  },
  {
   "cell_type": "code",
   "execution_count": 5,
   "metadata": {},
   "outputs": [],
   "source": [
    "import pickle\n",
    "from google_auth_oauthlib.flow import Flow, InstalledAppFlow\n",
    "from googleapiclient.discovery import build\n",
    "from googleapiclient.http import MediaFileUpload\n",
    "from google.auth.transport.requests import Request\n",
    "\n",
    "def Create_Service(client_secret_file, api_name, api_version, *scopes):\n",
    "    print(client_secret_file, api_name, api_version, scopes, sep='-')\n",
    "    CLIENT_SECRET_FILE = client_secret_file\n",
    "    API_SERVICE_NAME = api_name\n",
    "    API_VERSION = api_version\n",
    "    SCOPES = [scope for scope in scopes[0]]\n",
    "    print(SCOPES)\n",
    "\n",
    "    cred = None\n",
    "\n",
    "    pickle_file = f'token_{API_SERVICE_NAME}_{API_VERSION}.pickle'\n",
    "    # print(pickle_file)\n",
    "\n",
    "    if os.path.exists(pickle_file):\n",
    "        with open(pickle_file, 'rb') as token:\n",
    "            cred = pickle.load(token)\n",
    "\n",
    "    if not cred or not cred.valid:\n",
    "        if cred and cred.expired and cred.refresh_token:\n",
    "            cred.refresh(Request())\n",
    "        else:\n",
    "            flow = InstalledAppFlow.from_client_secrets_file(CLIENT_SECRET_FILE, SCOPES)\n",
    "            cred = flow.run_local_server()\n",
    "\n",
    "        with open(pickle_file, 'wb') as token:\n",
    "            pickle.dump(cred, token)\n",
    "\n",
    "    try:\n",
    "        service = build(API_SERVICE_NAME, API_VERSION, credentials=cred)\n",
    "        print(API_SERVICE_NAME, 'service created successfully')\n",
    "        return service\n",
    "    except Exception as e:\n",
    "        print('Unable to connect.')\n",
    "        print(e)\n",
    "        return None"
   ]
  },
  {
   "cell_type": "code",
   "execution_count": 10,
   "metadata": {},
   "outputs": [
    {
     "name": "stdout",
     "output_type": "stream",
     "text": [
      "credentials.json-drive-v3-(['https://www.googleapis.com/auth/drive'],)\n",
      "['https://www.googleapis.com/auth/drive']\n"
     ]
    },
    {
     "ename": "RefreshError",
     "evalue": "('deleted_client: The OAuth client was deleted.', {'error': 'deleted_client', 'error_description': 'The OAuth client was deleted.'})",
     "output_type": "error",
     "traceback": [
      "\u001b[1;31m---------------------------------------------------------------------------\u001b[0m",
      "\u001b[1;31mRefreshError\u001b[0m                              Traceback (most recent call last)",
      "\u001b[1;32mc:\\Users\\Pedro Vallarino\\Desktop\\Repos\\Python\\MyHandling Bot\\download_info_bot.ipynb Celda 12\u001b[0m in \u001b[0;36m<cell line: 1>\u001b[1;34m()\u001b[0m\n\u001b[1;32m----> <a href='vscode-notebook-cell:/c%3A/Users/Pedro%20Vallarino/Desktop/Repos/Python/MyHandling%20Bot/download_info_bot.ipynb#X20sZmlsZQ%3D%3D?line=0'>1</a>\u001b[0m Service \u001b[39m=\u001b[39m Create_Service(CLIENT_SECRET_FILE, API_NAME, API_VERSION, SCOPES)\n",
      "\u001b[1;32mc:\\Users\\Pedro Vallarino\\Desktop\\Repos\\Python\\MyHandling Bot\\download_info_bot.ipynb Celda 12\u001b[0m in \u001b[0;36mCreate_Service\u001b[1;34m(client_secret_file, api_name, api_version, *scopes)\u001b[0m\n\u001b[0;32m     <a href='vscode-notebook-cell:/c%3A/Users/Pedro%20Vallarino/Desktop/Repos/Python/MyHandling%20Bot/download_info_bot.ipynb#X20sZmlsZQ%3D%3D?line=23'>24</a>\u001b[0m \u001b[39mif\u001b[39;00m \u001b[39mnot\u001b[39;00m cred \u001b[39mor\u001b[39;00m \u001b[39mnot\u001b[39;00m cred\u001b[39m.\u001b[39mvalid:\n\u001b[0;32m     <a href='vscode-notebook-cell:/c%3A/Users/Pedro%20Vallarino/Desktop/Repos/Python/MyHandling%20Bot/download_info_bot.ipynb#X20sZmlsZQ%3D%3D?line=24'>25</a>\u001b[0m     \u001b[39mif\u001b[39;00m cred \u001b[39mand\u001b[39;00m cred\u001b[39m.\u001b[39mexpired \u001b[39mand\u001b[39;00m cred\u001b[39m.\u001b[39mrefresh_token:\n\u001b[1;32m---> <a href='vscode-notebook-cell:/c%3A/Users/Pedro%20Vallarino/Desktop/Repos/Python/MyHandling%20Bot/download_info_bot.ipynb#X20sZmlsZQ%3D%3D?line=25'>26</a>\u001b[0m         cred\u001b[39m.\u001b[39;49mrefresh(Request())\n\u001b[0;32m     <a href='vscode-notebook-cell:/c%3A/Users/Pedro%20Vallarino/Desktop/Repos/Python/MyHandling%20Bot/download_info_bot.ipynb#X20sZmlsZQ%3D%3D?line=26'>27</a>\u001b[0m     \u001b[39melse\u001b[39;00m:\n\u001b[0;32m     <a href='vscode-notebook-cell:/c%3A/Users/Pedro%20Vallarino/Desktop/Repos/Python/MyHandling%20Bot/download_info_bot.ipynb#X20sZmlsZQ%3D%3D?line=27'>28</a>\u001b[0m         flow \u001b[39m=\u001b[39m InstalledAppFlow\u001b[39m.\u001b[39mfrom_client_secrets_file(CLIENT_SECRET_FILE, SCOPES)\n",
      "File \u001b[1;32mc:\\Users\\Pedro Vallarino\\AppData\\Local\\Programs\\Python\\Python310\\lib\\site-packages\\google\\oauth2\\credentials.py:302\u001b[0m, in \u001b[0;36mCredentials.refresh\u001b[1;34m(self, request)\u001b[0m\n\u001b[0;32m    284\u001b[0m \u001b[39mif\u001b[39;00m (\n\u001b[0;32m    285\u001b[0m     \u001b[39mself\u001b[39m\u001b[39m.\u001b[39m_refresh_token \u001b[39mis\u001b[39;00m \u001b[39mNone\u001b[39;00m\n\u001b[0;32m    286\u001b[0m     \u001b[39mor\u001b[39;00m \u001b[39mself\u001b[39m\u001b[39m.\u001b[39m_token_uri \u001b[39mis\u001b[39;00m \u001b[39mNone\u001b[39;00m\n\u001b[0;32m    287\u001b[0m     \u001b[39mor\u001b[39;00m \u001b[39mself\u001b[39m\u001b[39m.\u001b[39m_client_id \u001b[39mis\u001b[39;00m \u001b[39mNone\u001b[39;00m\n\u001b[0;32m    288\u001b[0m     \u001b[39mor\u001b[39;00m \u001b[39mself\u001b[39m\u001b[39m.\u001b[39m_client_secret \u001b[39mis\u001b[39;00m \u001b[39mNone\u001b[39;00m\n\u001b[0;32m    289\u001b[0m ):\n\u001b[0;32m    290\u001b[0m     \u001b[39mraise\u001b[39;00m exceptions\u001b[39m.\u001b[39mRefreshError(\n\u001b[0;32m    291\u001b[0m         \u001b[39m\"\u001b[39m\u001b[39mThe credentials do not contain the necessary fields need to \u001b[39m\u001b[39m\"\u001b[39m\n\u001b[0;32m    292\u001b[0m         \u001b[39m\"\u001b[39m\u001b[39mrefresh the access token. You must specify refresh_token, \u001b[39m\u001b[39m\"\u001b[39m\n\u001b[0;32m    293\u001b[0m         \u001b[39m\"\u001b[39m\u001b[39mtoken_uri, client_id, and client_secret.\u001b[39m\u001b[39m\"\u001b[39m\n\u001b[0;32m    294\u001b[0m     )\n\u001b[0;32m    296\u001b[0m (\n\u001b[0;32m    297\u001b[0m     access_token,\n\u001b[0;32m    298\u001b[0m     refresh_token,\n\u001b[0;32m    299\u001b[0m     expiry,\n\u001b[0;32m    300\u001b[0m     grant_response,\n\u001b[0;32m    301\u001b[0m     rapt_token,\n\u001b[1;32m--> 302\u001b[0m ) \u001b[39m=\u001b[39m reauth\u001b[39m.\u001b[39;49mrefresh_grant(\n\u001b[0;32m    303\u001b[0m     request,\n\u001b[0;32m    304\u001b[0m     \u001b[39mself\u001b[39;49m\u001b[39m.\u001b[39;49m_token_uri,\n\u001b[0;32m    305\u001b[0m     \u001b[39mself\u001b[39;49m\u001b[39m.\u001b[39;49m_refresh_token,\n\u001b[0;32m    306\u001b[0m     \u001b[39mself\u001b[39;49m\u001b[39m.\u001b[39;49m_client_id,\n\u001b[0;32m    307\u001b[0m     \u001b[39mself\u001b[39;49m\u001b[39m.\u001b[39;49m_client_secret,\n\u001b[0;32m    308\u001b[0m     scopes\u001b[39m=\u001b[39;49mscopes,\n\u001b[0;32m    309\u001b[0m     rapt_token\u001b[39m=\u001b[39;49m\u001b[39mself\u001b[39;49m\u001b[39m.\u001b[39;49m_rapt_token,\n\u001b[0;32m    310\u001b[0m     enable_reauth_refresh\u001b[39m=\u001b[39;49m\u001b[39mself\u001b[39;49m\u001b[39m.\u001b[39;49m_enable_reauth_refresh,\n\u001b[0;32m    311\u001b[0m )\n\u001b[0;32m    313\u001b[0m \u001b[39mself\u001b[39m\u001b[39m.\u001b[39mtoken \u001b[39m=\u001b[39m access_token\n\u001b[0;32m    314\u001b[0m \u001b[39mself\u001b[39m\u001b[39m.\u001b[39mexpiry \u001b[39m=\u001b[39m expiry\n",
      "File \u001b[1;32mc:\\Users\\Pedro Vallarino\\AppData\\Local\\Programs\\Python\\Python310\\lib\\site-packages\\google\\oauth2\\reauth.py:347\u001b[0m, in \u001b[0;36mrefresh_grant\u001b[1;34m(request, token_uri, refresh_token, client_id, client_secret, scopes, rapt_token, enable_reauth_refresh)\u001b[0m\n\u001b[0;32m    342\u001b[0m     (response_status_ok, response_data) \u001b[39m=\u001b[39m _client\u001b[39m.\u001b[39m_token_endpoint_request_no_throw(\n\u001b[0;32m    343\u001b[0m         request, token_uri, body\n\u001b[0;32m    344\u001b[0m     )\n\u001b[0;32m    346\u001b[0m \u001b[39mif\u001b[39;00m \u001b[39mnot\u001b[39;00m response_status_ok:\n\u001b[1;32m--> 347\u001b[0m     _client\u001b[39m.\u001b[39;49m_handle_error_response(response_data)\n\u001b[0;32m    348\u001b[0m \u001b[39mreturn\u001b[39;00m _client\u001b[39m.\u001b[39m_handle_refresh_grant_response(response_data, refresh_token) \u001b[39m+\u001b[39m (\n\u001b[0;32m    349\u001b[0m     rapt_token,\n\u001b[0;32m    350\u001b[0m )\n",
      "File \u001b[1;32mc:\\Users\\Pedro Vallarino\\AppData\\Local\\Programs\\Python\\Python310\\lib\\site-packages\\google\\oauth2\\_client.py:62\u001b[0m, in \u001b[0;36m_handle_error_response\u001b[1;34m(response_data)\u001b[0m\n\u001b[0;32m     59\u001b[0m \u001b[39mexcept\u001b[39;00m (\u001b[39mKeyError\u001b[39;00m, \u001b[39mValueError\u001b[39;00m):\n\u001b[0;32m     60\u001b[0m     error_details \u001b[39m=\u001b[39m json\u001b[39m.\u001b[39mdumps(response_data)\n\u001b[1;32m---> 62\u001b[0m \u001b[39mraise\u001b[39;00m exceptions\u001b[39m.\u001b[39mRefreshError(error_details, response_data)\n",
      "\u001b[1;31mRefreshError\u001b[0m: ('deleted_client: The OAuth client was deleted.', {'error': 'deleted_client', 'error_description': 'The OAuth client was deleted.'})"
     ]
    }
   ],
   "source": [
    "Service = Create_Service(CLIENT_SECRET_FILE, API_NAME, API_VERSION, SCOPES)"
   ]
  },
  {
   "cell_type": "code",
   "execution_count": 9,
   "metadata": {},
   "outputs": [
    {
     "name": "stdout",
     "output_type": "stream",
     "text": [
      "credentials.json-drive-v3-(['https://www.googleapis.com/auth/drive'],)\n",
      "['https://www.googleapis.com/auth/drive']\n"
     ]
    },
    {
     "ename": "RefreshError",
     "evalue": "('deleted_client: The OAuth client was deleted.', {'error': 'deleted_client', 'error_description': 'The OAuth client was deleted.'})",
     "output_type": "error",
     "traceback": [
      "\u001b[1;31m---------------------------------------------------------------------------\u001b[0m",
      "\u001b[1;31mRefreshError\u001b[0m                              Traceback (most recent call last)",
      "\u001b[1;32mc:\\Users\\Pedro Vallarino\\Desktop\\Repos\\Python\\MyHandling Bot\\download_info_bot.ipynb Celda 12\u001b[0m in \u001b[0;36m<cell line: 6>\u001b[1;34m()\u001b[0m\n\u001b[0;32m      <a href='vscode-notebook-cell:/c%3A/Users/Pedro%20Vallarino/Desktop/Repos/Python/MyHandling%20Bot/download_info_bot.ipynb#X14sZmlsZQ%3D%3D?line=2'>3</a>\u001b[0m API_VERSION \u001b[39m=\u001b[39m \u001b[39m'\u001b[39m\u001b[39mv3\u001b[39m\u001b[39m'\u001b[39m\n\u001b[0;32m      <a href='vscode-notebook-cell:/c%3A/Users/Pedro%20Vallarino/Desktop/Repos/Python/MyHandling%20Bot/download_info_bot.ipynb#X14sZmlsZQ%3D%3D?line=3'>4</a>\u001b[0m SCOPES \u001b[39m=\u001b[39m [\u001b[39m'\u001b[39m\u001b[39mhttps://www.googleapis.com/auth/drive\u001b[39m\u001b[39m'\u001b[39m]\n\u001b[1;32m----> <a href='vscode-notebook-cell:/c%3A/Users/Pedro%20Vallarino/Desktop/Repos/Python/MyHandling%20Bot/download_info_bot.ipynb#X14sZmlsZQ%3D%3D?line=5'>6</a>\u001b[0m Service \u001b[39m=\u001b[39m Create_Service(CLIENT_SECRET_FILE, API_NAME, API_VERSION, SCOPES)\n\u001b[0;32m      <a href='vscode-notebook-cell:/c%3A/Users/Pedro%20Vallarino/Desktop/Repos/Python/MyHandling%20Bot/download_info_bot.ipynb#X14sZmlsZQ%3D%3D?line=7'>8</a>\u001b[0m archivos_en_drive \u001b[39m=\u001b[39m Service\u001b[39m.\u001b[39mfiles()\u001b[39m.\u001b[39mlist(\n\u001b[0;32m      <a href='vscode-notebook-cell:/c%3A/Users/Pedro%20Vallarino/Desktop/Repos/Python/MyHandling%20Bot/download_info_bot.ipynb#X14sZmlsZQ%3D%3D?line=8'>9</a>\u001b[0m q \u001b[39m=\u001b[39m \u001b[39m\"\u001b[39m\u001b[39m'\u001b[39m\u001b[39m1BxVBV0UqNr53kCcGUWqAPiXk3bQYrQR7\u001b[39m\u001b[39m'\u001b[39m\u001b[39m in parents and trashed = false and mimeType = \u001b[39m\u001b[39m'\u001b[39m\u001b[39mapplication/vnd.openxmlformats-officedocument.spreadsheetml.sheet\u001b[39m\u001b[39m'\u001b[39m\u001b[39m \u001b[39m\u001b[39m\"\u001b[39m \n\u001b[0;32m     <a href='vscode-notebook-cell:/c%3A/Users/Pedro%20Vallarino/Desktop/Repos/Python/MyHandling%20Bot/download_info_bot.ipynb#X14sZmlsZQ%3D%3D?line=9'>10</a>\u001b[0m )\u001b[39m.\u001b[39mexecute()\n\u001b[0;32m     <a href='vscode-notebook-cell:/c%3A/Users/Pedro%20Vallarino/Desktop/Repos/Python/MyHandling%20Bot/download_info_bot.ipynb#X14sZmlsZQ%3D%3D?line=11'>12</a>\u001b[0m \u001b[39mif\u001b[39;00m \u001b[39mlen\u001b[39m(archivos_en_drive[\u001b[39m'\u001b[39m\u001b[39mfiles\u001b[39m\u001b[39m'\u001b[39m]) \u001b[39m<\u001b[39m \u001b[39m1\u001b[39m: \n\u001b[0;32m     <a href='vscode-notebook-cell:/c%3A/Users/Pedro%20Vallarino/Desktop/Repos/Python/MyHandling%20Bot/download_info_bot.ipynb#X14sZmlsZQ%3D%3D?line=12'>13</a>\u001b[0m     \u001b[39m# Caso que se crea el archivo que se sube al drive\u001b[39;00m\n",
      "\u001b[1;32mc:\\Users\\Pedro Vallarino\\Desktop\\Repos\\Python\\MyHandling Bot\\download_info_bot.ipynb Celda 12\u001b[0m in \u001b[0;36mCreate_Service\u001b[1;34m(client_secret_file, api_name, api_version, *scopes)\u001b[0m\n\u001b[0;32m     <a href='vscode-notebook-cell:/c%3A/Users/Pedro%20Vallarino/Desktop/Repos/Python/MyHandling%20Bot/download_info_bot.ipynb#X14sZmlsZQ%3D%3D?line=23'>24</a>\u001b[0m \u001b[39mif\u001b[39;00m \u001b[39mnot\u001b[39;00m cred \u001b[39mor\u001b[39;00m \u001b[39mnot\u001b[39;00m cred\u001b[39m.\u001b[39mvalid:\n\u001b[0;32m     <a href='vscode-notebook-cell:/c%3A/Users/Pedro%20Vallarino/Desktop/Repos/Python/MyHandling%20Bot/download_info_bot.ipynb#X14sZmlsZQ%3D%3D?line=24'>25</a>\u001b[0m     \u001b[39mif\u001b[39;00m cred \u001b[39mand\u001b[39;00m cred\u001b[39m.\u001b[39mexpired \u001b[39mand\u001b[39;00m cred\u001b[39m.\u001b[39mrefresh_token:\n\u001b[1;32m---> <a href='vscode-notebook-cell:/c%3A/Users/Pedro%20Vallarino/Desktop/Repos/Python/MyHandling%20Bot/download_info_bot.ipynb#X14sZmlsZQ%3D%3D?line=25'>26</a>\u001b[0m         cred\u001b[39m.\u001b[39;49mrefresh(Request())\n\u001b[0;32m     <a href='vscode-notebook-cell:/c%3A/Users/Pedro%20Vallarino/Desktop/Repos/Python/MyHandling%20Bot/download_info_bot.ipynb#X14sZmlsZQ%3D%3D?line=26'>27</a>\u001b[0m     \u001b[39melse\u001b[39;00m:\n\u001b[0;32m     <a href='vscode-notebook-cell:/c%3A/Users/Pedro%20Vallarino/Desktop/Repos/Python/MyHandling%20Bot/download_info_bot.ipynb#X14sZmlsZQ%3D%3D?line=27'>28</a>\u001b[0m         flow \u001b[39m=\u001b[39m InstalledAppFlow\u001b[39m.\u001b[39mfrom_client_secrets_file(CLIENT_SECRET_FILE, SCOPES)\n",
      "File \u001b[1;32mc:\\Users\\Pedro Vallarino\\AppData\\Local\\Programs\\Python\\Python310\\lib\\site-packages\\google\\oauth2\\credentials.py:302\u001b[0m, in \u001b[0;36mCredentials.refresh\u001b[1;34m(self, request)\u001b[0m\n\u001b[0;32m    284\u001b[0m \u001b[39mif\u001b[39;00m (\n\u001b[0;32m    285\u001b[0m     \u001b[39mself\u001b[39m\u001b[39m.\u001b[39m_refresh_token \u001b[39mis\u001b[39;00m \u001b[39mNone\u001b[39;00m\n\u001b[0;32m    286\u001b[0m     \u001b[39mor\u001b[39;00m \u001b[39mself\u001b[39m\u001b[39m.\u001b[39m_token_uri \u001b[39mis\u001b[39;00m \u001b[39mNone\u001b[39;00m\n\u001b[0;32m    287\u001b[0m     \u001b[39mor\u001b[39;00m \u001b[39mself\u001b[39m\u001b[39m.\u001b[39m_client_id \u001b[39mis\u001b[39;00m \u001b[39mNone\u001b[39;00m\n\u001b[0;32m    288\u001b[0m     \u001b[39mor\u001b[39;00m \u001b[39mself\u001b[39m\u001b[39m.\u001b[39m_client_secret \u001b[39mis\u001b[39;00m \u001b[39mNone\u001b[39;00m\n\u001b[0;32m    289\u001b[0m ):\n\u001b[0;32m    290\u001b[0m     \u001b[39mraise\u001b[39;00m exceptions\u001b[39m.\u001b[39mRefreshError(\n\u001b[0;32m    291\u001b[0m         \u001b[39m\"\u001b[39m\u001b[39mThe credentials do not contain the necessary fields need to \u001b[39m\u001b[39m\"\u001b[39m\n\u001b[0;32m    292\u001b[0m         \u001b[39m\"\u001b[39m\u001b[39mrefresh the access token. You must specify refresh_token, \u001b[39m\u001b[39m\"\u001b[39m\n\u001b[0;32m    293\u001b[0m         \u001b[39m\"\u001b[39m\u001b[39mtoken_uri, client_id, and client_secret.\u001b[39m\u001b[39m\"\u001b[39m\n\u001b[0;32m    294\u001b[0m     )\n\u001b[0;32m    296\u001b[0m (\n\u001b[0;32m    297\u001b[0m     access_token,\n\u001b[0;32m    298\u001b[0m     refresh_token,\n\u001b[0;32m    299\u001b[0m     expiry,\n\u001b[0;32m    300\u001b[0m     grant_response,\n\u001b[0;32m    301\u001b[0m     rapt_token,\n\u001b[1;32m--> 302\u001b[0m ) \u001b[39m=\u001b[39m reauth\u001b[39m.\u001b[39;49mrefresh_grant(\n\u001b[0;32m    303\u001b[0m     request,\n\u001b[0;32m    304\u001b[0m     \u001b[39mself\u001b[39;49m\u001b[39m.\u001b[39;49m_token_uri,\n\u001b[0;32m    305\u001b[0m     \u001b[39mself\u001b[39;49m\u001b[39m.\u001b[39;49m_refresh_token,\n\u001b[0;32m    306\u001b[0m     \u001b[39mself\u001b[39;49m\u001b[39m.\u001b[39;49m_client_id,\n\u001b[0;32m    307\u001b[0m     \u001b[39mself\u001b[39;49m\u001b[39m.\u001b[39;49m_client_secret,\n\u001b[0;32m    308\u001b[0m     scopes\u001b[39m=\u001b[39;49mscopes,\n\u001b[0;32m    309\u001b[0m     rapt_token\u001b[39m=\u001b[39;49m\u001b[39mself\u001b[39;49m\u001b[39m.\u001b[39;49m_rapt_token,\n\u001b[0;32m    310\u001b[0m     enable_reauth_refresh\u001b[39m=\u001b[39;49m\u001b[39mself\u001b[39;49m\u001b[39m.\u001b[39;49m_enable_reauth_refresh,\n\u001b[0;32m    311\u001b[0m )\n\u001b[0;32m    313\u001b[0m \u001b[39mself\u001b[39m\u001b[39m.\u001b[39mtoken \u001b[39m=\u001b[39m access_token\n\u001b[0;32m    314\u001b[0m \u001b[39mself\u001b[39m\u001b[39m.\u001b[39mexpiry \u001b[39m=\u001b[39m expiry\n",
      "File \u001b[1;32mc:\\Users\\Pedro Vallarino\\AppData\\Local\\Programs\\Python\\Python310\\lib\\site-packages\\google\\oauth2\\reauth.py:347\u001b[0m, in \u001b[0;36mrefresh_grant\u001b[1;34m(request, token_uri, refresh_token, client_id, client_secret, scopes, rapt_token, enable_reauth_refresh)\u001b[0m\n\u001b[0;32m    342\u001b[0m     (response_status_ok, response_data) \u001b[39m=\u001b[39m _client\u001b[39m.\u001b[39m_token_endpoint_request_no_throw(\n\u001b[0;32m    343\u001b[0m         request, token_uri, body\n\u001b[0;32m    344\u001b[0m     )\n\u001b[0;32m    346\u001b[0m \u001b[39mif\u001b[39;00m \u001b[39mnot\u001b[39;00m response_status_ok:\n\u001b[1;32m--> 347\u001b[0m     _client\u001b[39m.\u001b[39;49m_handle_error_response(response_data)\n\u001b[0;32m    348\u001b[0m \u001b[39mreturn\u001b[39;00m _client\u001b[39m.\u001b[39m_handle_refresh_grant_response(response_data, refresh_token) \u001b[39m+\u001b[39m (\n\u001b[0;32m    349\u001b[0m     rapt_token,\n\u001b[0;32m    350\u001b[0m )\n",
      "File \u001b[1;32mc:\\Users\\Pedro Vallarino\\AppData\\Local\\Programs\\Python\\Python310\\lib\\site-packages\\google\\oauth2\\_client.py:62\u001b[0m, in \u001b[0;36m_handle_error_response\u001b[1;34m(response_data)\u001b[0m\n\u001b[0;32m     59\u001b[0m \u001b[39mexcept\u001b[39;00m (\u001b[39mKeyError\u001b[39;00m, \u001b[39mValueError\u001b[39;00m):\n\u001b[0;32m     60\u001b[0m     error_details \u001b[39m=\u001b[39m json\u001b[39m.\u001b[39mdumps(response_data)\n\u001b[1;32m---> 62\u001b[0m \u001b[39mraise\u001b[39;00m exceptions\u001b[39m.\u001b[39mRefreshError(error_details, response_data)\n",
      "\u001b[1;31mRefreshError\u001b[0m: ('deleted_client: The OAuth client was deleted.', {'error': 'deleted_client', 'error_description': 'The OAuth client was deleted.'})"
     ]
    }
   ],
   "source": [
    "CLIENT_SECRET_FILE = 'credentials.json'\n",
    "API_NAME = 'drive'\n",
    "API_VERSION = 'v3'\n",
    "SCOPES = ['https://www.googleapis.com/auth/drive']\n",
    "\n",
    "Service = Create_Service(CLIENT_SECRET_FILE, API_NAME, API_VERSION, SCOPES)\n",
    "\n",
    "archivos_en_drive = Service.files().list(\n",
    "q = \"'1BxVBV0UqNr53kCcGUWqAPiXk3bQYrQR7' in parents and trashed = false and mimeType = 'application/vnd.openxmlformats-officedocument.spreadsheetml.sheet' \" \n",
    ").execute()\n",
    "\n",
    "if len(archivos_en_drive['files']) < 1: \n",
    "    # Caso que se crea el archivo que se sube al drive\n",
    "    mime_type = 'application/vnd.openxmlformats-officedocument.spreadsheetml.sheet'\n",
    "    media_content = MediaFileUpload('Flights.xlsx', mimetype=mime_type )\n",
    "    file_metadata = {\n",
    "        'name': 'Flights.xlsx',\n",
    "        'parents': ['1BxVBV0UqNr53kCcGUWqAPiXk3bQYrQR7']\n",
    "        }\n",
    "\n",
    "    Service.files().create(\n",
    "    body = file_metadata,\n",
    "    media_body = media_content\n",
    "    ).execute()\n",
    "else:\n",
    "    #Caso que se actualiza el archivo del drive\n",
    "    mime_type = 'application/vnd.openxmlformats-officedocument.spreadsheetml.sheet'\n",
    "    file_id = archivos_en_drive['files'][0]['id']\n",
    "    media_content = MediaFileUpload('Flights.xlsx', mimetype=mime_type )\n",
    "\n",
    "    Service.files().update(\n",
    "    fileId = file_id,\n",
    "    media_body = media_content,\n",
    "    ).execute()"
   ]
  },
  {
   "cell_type": "markdown",
   "metadata": {},
   "source": [
    "Hace que corra el codigo cada 45 minutos"
   ]
  },
  {
   "cell_type": "code",
   "execution_count": null,
   "metadata": {},
   "outputs": [],
   "source": [
    "import time\n",
    "while True:\n",
    "    time.sleep(2600)"
   ]
  }
 ],
 "metadata": {
  "kernelspec": {
   "display_name": "Python 3.10.4 64-bit",
   "language": "python",
   "name": "python3"
  },
  "language_info": {
   "codemirror_mode": {
    "name": "ipython",
    "version": 3
   },
   "file_extension": ".py",
   "mimetype": "text/x-python",
   "name": "python",
   "nbconvert_exporter": "python",
   "pygments_lexer": "ipython3",
   "version": "3.10.4"
  },
  "orig_nbformat": 4,
  "vscode": {
   "interpreter": {
    "hash": "5eab50eec49d5a3ddbbcb7afb1b75079b1a0651d7988c01e8d65eaa58a70a5c8"
   }
  }
 },
 "nbformat": 4,
 "nbformat_minor": 2
}
