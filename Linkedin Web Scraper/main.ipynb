{
 "cells": [
  {
   "cell_type": "code",
   "execution_count": 27,
   "metadata": {},
   "outputs": [
    {
     "name": "stdout",
     "output_type": "stream",
     "text": [
      "The number of jobs of this search is 80\n",
      "The number of jobs of this search is 225\n",
      "The number of jobs of this search is 239\n"
     ]
    }
   ],
   "source": [
    "from selenium import webdriver\n",
    "from sqlalchemy import true\n",
    "from webdriver_manager.chrome import ChromeDriverManager\n",
    "import pandas as pd\n",
    "import re\n",
    "import time\n",
    "import random\n",
    "from selenium.webdriver.common.by import By\n",
    "\n",
    "# Initiate the browser\n",
    "browser  = webdriver.Chrome(ChromeDriverManager().install())\n",
    "\n",
    "# Open the Website\n",
    "browser.get('https://www.linkedin.com/login/es?fromSignIn=true&trk=guest_homepage-basic_nav-header-signin')\n",
    "\n",
    "#Login info\n",
    "linkedin_username = 'vallarinopedro@gmail.com'\n",
    "linkedin_password = 'vV1^7I22l#a%gYW^!Jl1'\n",
    "\n",
    "#Input password\n",
    "browser.find_element(By.XPATH,'//*[@id=\"username\"]').send_keys(linkedin_username)\n",
    "browser.find_element(By.XPATH,'//*[@id=\"password\"]').send_keys(linkedin_password)\n",
    "browser.find_element(By.XPATH,'//*[@id=\"organic-div\"]/form/div[3]/button').click()\n",
    "\n",
    "linkedin_job_links =   [\n",
    "    'https://www.linkedin.com/jobs/search/?currentJobId=3333640239&distance=25&f_C=3110591&f_E=1%2C2&f_JT=F&f_TPR=r86400&f_WT=2&geoId=92000000&keywords=Product%20Analyst&sortBy=R',\n",
    "    'https://www.linkedin.com/jobs/search/?alertAction=viewjobs&currentJobId=3331004870&f_TPR=a1666888102-&keywords=Product%20Analyst&savedSearchId=1730281946&searchAlertRefId=3a43863e-8389-4dc5-99d2-a59556bf977d',\n",
    "    'https://www.linkedin.com/jobs/search/?alertAction=viewjobs&currentJobId=3331004894&f_AL=true&f_E=2%2C3%2C4&f_JT=F&f_TPR=a1666825009-&f_WT=2&keywords=Data%20Analyst&savedSearchId=1730274642&searchAlertRefId=2fcc8f37-361a-4502-92db-3a09d4497f67',\n",
    "    'https://www.linkedin.com/jobs/search/?alertAction=viewjobs&currentJobId=3333154988&f_AL=true&f_E=2%2C3%2C4&f_JT=F&f_TPR=a1666825009-&f_WT=2&keywords=Product%20Owner&savedSearchId=1730274666&searchAlertRefId=45369823-0864-4152-bd8c-48ed48861cde',\n",
    "    'https://www.linkedin.com/jobs/search/?alertAction=viewjobs&currentJobId=3322491585&f_AL=true&f_E=2%2C3%2C4&f_JT=F&f_TPR=a1666825009-&f_WT=2&keywords=Data%20Scientist&savedSearchId=1730274650&searchAlertRefId=bc1b5913-a8d4-43e9-81bd-c7fa461f90de'\n",
    "                        ]        \n",
    "\n",
    "linkedin_csv_headers = ['Test','Product Analyst','Data Analyst','Product Owner','Data Scientist']\n",
    "\n",
    "# Upsizing of the windows and setting window position\n",
    "browser.set_window_position(1, 1)\n",
    "browser.maximize_window()\n",
    "\n",
    "contador_global = 0\n",
    "\n",
    "for link in linkedin_job_links:\n",
    "    df = pd.DataFrame(columns=['Job Title','Job Company','Job Location','Link','Job Description','Job Words'])\n",
    "    browser.get(link)\n",
    "\n",
    "    number_of_jobs = re.findall(r'\\d+', browser.find_element(By.XPATH,'//*[@id=\"main\"]/div/section[1]/header/div[1]/small').get_attribute('innerText'))\n",
    "    number_of_jobs = ''.join(number_of_jobs)\n",
    "    number_of_jobs = int(number_of_jobs)\n",
    "    print('The number of jobs of this search is',number_of_jobs)\n",
    "\n",
    "    # For DOM load, 1 second wait time is appropiate\n",
    "    time.sleep(2)\n",
    "\n",
    "    while True:        \n",
    "        pagination_elements = browser.find_elements(By.XPATH,\"//li[contains(@class,'artdeco-pagination__indicator artdeco-pagination__indicator--number')]\")\n",
    "        page_number_array = []\n",
    "\n",
    "        for element in pagination_elements:\n",
    "            page_number_array.append(int(re.findall(r'\\d+',element.find_element(By.CSS_SELECTOR,'button').get_attribute('aria-label'))[0]))\n",
    "\n",
    "        try:\n",
    "            if browser.find_element(By.XPATH,\"//h1[contains(@class,'t-24 t-black t-normal text-align-center')]\").get_attribute('innerText') == 'No se han encontrado empleos para esta búsqueda.':\n",
    "                df = df.reset_index(drop = True)\n",
    "                df.to_excel(str(linkedin_csv_headers[contador_global]) + '.xlsx')\n",
    "                break\n",
    "        except:\n",
    "            pass\n",
    "\n",
    "        # For DOM load, 1 second wait time is appropiate\n",
    "        time.sleep(1)\n",
    "\n",
    "        # All job cards are loaded to then be reference points to scroll by\n",
    "        jobs = browser.find_element(By.XPATH,\"//ul[contains(@class,'scaffold-layout__list-container')]\").find_elements_by_xpath('./*')\n",
    "\n",
    "        # Due to lazy loading scroll down is necessary to load all the neccesary information in the HTML \n",
    "        for job in jobs:\n",
    "            job.location_once_scrolled_into_view\n",
    "            time.sleep(0.1)\n",
    "\n",
    "        # This second time the jobs element has all the neccesary information inside of them\n",
    "        jobs = browser.find_element(By.XPATH,\"//ul[contains(@class,'scaffold-layout__list-container')]\").find_elements_by_xpath('./*')\n",
    "\n",
    "        for job in jobs:\n",
    "            insert_row = {\n",
    "                        'Job Title':       job.get_attribute('innerText').split('\\n')[0],\n",
    "                        'Job Company':     job.get_attribute('innerText').split('\\n')[1],\n",
    "                        'Job Location':    job.get_attribute('innerText').split('\\n')[2],\n",
    "                        'Link':            job.find_element(By.CSS_SELECTOR, 'a').get_attribute('href'),\n",
    "                        'Job Description': browser.find_element(By.ID,'job-details').get_attribute('innerText'),\n",
    "                        'Job Words':       browser.find_element(By.ID,'job-details').get_attribute('innerText').split()\n",
    "                        }\n",
    "\n",
    "            df = pd.concat([df, pd.DataFrame([insert_row])])\n",
    "            \n",
    "        # Actual page analysis\n",
    "        for page_number in pagination_elements:\n",
    "            if page_number.find_element(By.CSS_SELECTOR,'button').get_attribute('aria-current') == 'true':\n",
    "                current_page = page_number\n",
    "                #print('The current page is', page_number.get_attribute('data-test-pagination-page-btn'))\n",
    "\n",
    "            try:\n",
    "                if int(re.findall(r'\\d+',page_number.find_element(By.CSS_SELECTOR,'button').get_attribute('aria-label'))[0]) == int(re.findall(r'\\d+',current_page.find_element(By.CSS_SELECTOR,'button').get_attribute('aria-label'))[0]) + 1:\n",
    "                    page_number.click()\n",
    "                    break\n",
    "            except:\n",
    "                pass\n",
    "        try:\n",
    "            if int(re.findall(r'\\d+',current_page.find_element(By.CSS_SELECTOR,'button').get_attribute('aria-label'))[0]) == max(page_number_array):\n",
    "                df = df.reset_index(drop = True)\n",
    "                df.to_excel(str(linkedin_csv_headers[contador_global]) + '.xlsx')\n",
    "                break\n",
    "\n",
    "            if len(pagination_elements) == 0:\n",
    "                df = df.reset_index(drop = True)\n",
    "                df.to_excel(str(linkedin_csv_headers[contador_global]) + '.xlsx')\n",
    "                break\n",
    "        except:\n",
    "            pass\n",
    "    contador_global += 1\n",
    "\n",
    "browser.close()"
   ]
  },
  {
   "cell_type": "code",
   "execution_count": 26,
   "metadata": {},
   "outputs": [
    {
     "data": {
      "text/plain": [
       "'https://www.linkedin.com/jobs/view/3335090089/?eBP=JOB_SEARCH_ORGANIC&refId=58QL0fvYTfqOnJ6S5ctbNA%3D%3D&trackingId=gVaFeBHrgNZlb%2FZ8UxzSwg%3D%3D&trk=flagship3_search_srp_jobs'"
      ]
     },
     "execution_count": 26,
     "metadata": {},
     "output_type": "execute_result"
    }
   ],
   "source": [
    "job.find_element(By.CSS_SELECTOR, 'a').get_attribute('href')"
   ]
  }
 ],
 "metadata": {
  "kernelspec": {
   "display_name": "Python 3.10.4 64-bit",
   "language": "python",
   "name": "python3"
  },
  "language_info": {
   "codemirror_mode": {
    "name": "ipython",
    "version": 3
   },
   "file_extension": ".py",
   "mimetype": "text/x-python",
   "name": "python",
   "nbconvert_exporter": "python",
   "pygments_lexer": "ipython3",
   "version": "3.10.4"
  },
  "orig_nbformat": 4,
  "vscode": {
   "interpreter": {
    "hash": "5eab50eec49d5a3ddbbcb7afb1b75079b1a0651d7988c01e8d65eaa58a70a5c8"
   }
  }
 },
 "nbformat": 4,
 "nbformat_minor": 2
}
