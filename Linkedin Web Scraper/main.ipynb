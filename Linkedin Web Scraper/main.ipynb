{
 "cells": [
  {
   "cell_type": "code",
   "execution_count": 8,
   "metadata": {},
   "outputs": [],
   "source": [
    "#%pip install linkedin-jobs-scraper\n",
    "\n",
    "#Documentacion: https://pypi.org/project/linkedin-jobs-scraper/"
   ]
  },
  {
   "cell_type": "code",
   "execution_count": 9,
   "metadata": {},
   "outputs": [
    {
     "name": "stderr",
     "output_type": "stream",
     "text": [
      "INFO:li:scraper:('Using strategy AnonymousStrategy',)\n",
      "WARNING:li:scraper:(\"AnonymousStrategy is no longer maintained and it won't probably work. It is recommended to use an authenticated session, see documentation at https://github.com/spinlud/py-linkedin-jobs-scraper#anonymous-vs-authenticated-session.\",)\n",
      "INFO:li:scraper:('Starting new query', \"Query(query= options=QueryOptions(limit=27 locations=['Worldwide'] optimize=False apply_link=False))\")\n",
      "INFO:li:scraper:('Chrome debugger url', 'http://localhost:54961')\n",
      "INFO:li:scraper:('[][Worldwide]', 'Opening https://www.linkedin.com/jobs/search?location=Worldwide')\n",
      "INFO:li:scraper:('[][Worldwide]', 'Trying first selectors set')\n",
      "INFO:li:scraper:('[][Worldwide]', 'Trying second selectors set')\n",
      "INFO:li:scraper:('[][Worldwide]', 'OK')\n",
      "INFO:li:scraper:('[][Worldwide]', 'Starting pagination loop')\n",
      "INFO:li:scraper:('[][Worldwide]', 'Found 25 jobs')\n",
      "INFO:li:scraper:('[][Worldwide][1]', 'Processed')\n"
     ]
    },
    {
     "name": "stdout",
     "output_type": "stream",
     "text": [
      "[ON_DATA] Operador de Loja - São Paulo La Guapa Empório e Empanadas  2022-08-23 https://br.linkedin.com/jobs/view/operador-de-loja-s%C3%A3o-paulo-at-la-guapa-emp%C3%B3rio-e-empanadas-3274656083?refId=GtXkc%2FDTtTcMaodKCJPPGw%3D%3D&trackingId=qmRgAmwtiKEDL9GYz8HiRg%3D%3D&position=1&pageNum=0&trk=public_jobs_jserp-result_search-card [] 1197\n"
     ]
    },
    {
     "name": "stderr",
     "output_type": "stream",
     "text": [
      "INFO:li:scraper:('[][Worldwide][2]', 'Processed')\n"
     ]
    },
    {
     "name": "stdout",
     "output_type": "stream",
     "text": [
      "[ON_DATA] Trabajador/a social Asociación Provivienda  2022-09-06 https://bo.linkedin.com/jobs/view/trabajador-a-social-at-asociaci%C3%B3n-provivienda-3274654209?refId=GtXkc%2FDTtTcMaodKCJPPGw%3D%3D&trackingId=E9hkmSb54%2FS5pG7jtRTsgA%3D%3D&position=2&pageNum=0&trk=public_jobs_jserp-result_search-card [] 4362\n"
     ]
    },
    {
     "name": "stderr",
     "output_type": "stream",
     "text": [
      "INFO:li:scraper:('[][Worldwide][3]', 'Processed')\n"
     ]
    },
    {
     "name": "stdout",
     "output_type": "stream",
     "text": [
      "[ON_DATA] Analista de Suporte ao Cliente IS Entrega  2022-09-10 https://br.linkedin.com/jobs/view/analista-de-suporte-ao-cliente-at-is-entrega-3274655730?refId=GtXkc%2FDTtTcMaodKCJPPGw%3D%3D&trackingId=szaVvq5dUxjReeimhD6fpQ%3D%3D&position=3&pageNum=0&trk=public_jobs_jserp-result_search-card [] 6032\n"
     ]
    },
    {
     "name": "stderr",
     "output_type": "stream",
     "text": [
      "WARNING:li:scraper:('[][Worldwide]', '[429] Too many requests', 'You should probably increase scraper \"slow_mo\" value or reduce concurrency')\n",
      "ERROR:li:scraper:('[][Worldwide][4]', 'Timeout on loading job details')\n",
      "NoneType: None\n",
      "INFO:li:scraper:('[][Worldwide][4]', 'Processed')\n"
     ]
    },
    {
     "name": "stdout",
     "output_type": "stream",
     "text": [
      "[ON_DATA] Analista de Novos Negócios e Inovação Junior Plena Alimentos  2022-08-23 https://br.linkedin.com/jobs/view/analista-de-novos-neg%C3%B3cios-e-inova%C3%A7%C3%A3o-junior-at-plena-alimentos-3274657185?refId=GtXkc%2FDTtTcMaodKCJPPGw%3D%3D&trackingId=RvZJzq60MryDuo0LPOrgYw%3D%3D&position=5&pageNum=0&trk=public_jobs_jserp-result_search-card [] 1639\n"
     ]
    },
    {
     "name": "stderr",
     "output_type": "stream",
     "text": [
      "INFO:li:scraper:('[][Worldwide][5]', 'Processed')\n"
     ]
    },
    {
     "name": "stdout",
     "output_type": "stream",
     "text": [
      "[ON_DATA] Fisioterapeuta II Unimed Presidente Prudente  2022-08-23 https://br.linkedin.com/jobs/view/fisioterapeuta-ii-at-unimed-presidente-prudente-3274658034?refId=GtXkc%2FDTtTcMaodKCJPPGw%3D%3D&trackingId=m500a3fzZPl8C3uYWYXYzQ%3D%3D&position=6&pageNum=0&trk=public_jobs_jserp-result_search-card [] 1439\n"
     ]
    },
    {
     "name": "stderr",
     "output_type": "stream",
     "text": [
      "INFO:li:scraper:('[][Worldwide][6]', 'Processed')\n"
     ]
    },
    {
     "name": "stdout",
     "output_type": "stream",
     "text": [
      "[ON_DATA] Assistente de Marketing Centro Universitário Ítalo Brasileiro - UniÍtalo  2022-08-23 https://br.linkedin.com/jobs/view/assistente-de-marketing-at-centro-universit%C3%A1rio-%C3%ADtalo-brasileiro-3274654614?refId=GtXkc%2FDTtTcMaodKCJPPGw%3D%3D&trackingId=qyldJJya1RsxPS53QC%2FNQw%3D%3D&position=7&pageNum=0&trk=public_jobs_jserp-result_search-card [] 975\n"
     ]
    },
    {
     "name": "stderr",
     "output_type": "stream",
     "text": [
      "INFO:li:scraper:('[][Worldwide][7]', 'Processed')\n"
     ]
    },
    {
     "name": "stdout",
     "output_type": "stream",
     "text": [
      "[ON_DATA] Research Assistant I Harvard University  2022-08-23 https://www.linkedin.com/jobs/view/research-assistant-i-at-harvard-university-3274654862?refId=GtXkc%2FDTtTcMaodKCJPPGw%3D%3D&trackingId=JsQqOPZcAxShX8XMg9Z4mg%3D%3D&position=8&pageNum=0&trk=public_jobs_jserp-result_search-card [] 4668\n"
     ]
    },
    {
     "name": "stderr",
     "output_type": "stream",
     "text": [
      "INFO:li:scraper:('[][Worldwide][8]', 'Processed')\n"
     ]
    },
    {
     "name": "stdout",
     "output_type": "stream",
     "text": [
      "[ON_DATA] Community Experience Manager Exos  2022-08-23 https://www.linkedin.com/jobs/view/community-experience-manager-at-exos-3274949642?refId=GtXkc%2FDTtTcMaodKCJPPGw%3D%3D&trackingId=qF4fy%2FM%2FVgDsvxPxVJ2Axw%3D%3D&position=9&pageNum=0&trk=public_jobs_jserp-result_search-card [] 5157\n"
     ]
    },
    {
     "name": "stderr",
     "output_type": "stream",
     "text": [
      "WARNING:li:scraper:('[][Worldwide]', '[429] Too many requests', 'You should probably increase scraper \"slow_mo\" value or reduce concurrency')\n",
      "ERROR:li:scraper:('[][Worldwide][9]', 'Timeout on loading job details')\n",
      "NoneType: None\n",
      "WARNING:li:scraper:('[][Worldwide]', '[429] Too many requests', 'You should probably increase scraper \"slow_mo\" value or reduce concurrency')\n",
      "WARNING:li:scraper:('[][Worldwide]', '[429] Too many requests', 'You should probably increase scraper \"slow_mo\" value or reduce concurrency')\n",
      "ERROR:li:scraper:('[][Worldwide][9]', 'Timeout on loading job details')\n",
      "NoneType: None\n",
      "WARNING:li:scraper:('[][Worldwide]', '[429] Too many requests', 'You should probably increase scraper \"slow_mo\" value or reduce concurrency')\n",
      "WARNING:li:scraper:('[][Worldwide]', '[429] Too many requests', 'You should probably increase scraper \"slow_mo\" value or reduce concurrency')\n",
      "WARNING:li:scraper:('[][Worldwide]', '[429] Too many requests', 'You should probably increase scraper \"slow_mo\" value or reduce concurrency')\n",
      "ERROR:li:scraper:('[][Worldwide][9]', 'Timeout on loading job details')\n",
      "NoneType: None\n",
      "INFO:li:scraper:('[][Worldwide][9]', 'Processed')\n"
     ]
    },
    {
     "name": "stdout",
     "output_type": "stream",
     "text": [
      "[ON_DATA] Analista de Rotinas Pedagógicas Rede de Ensino Coleguium  2022-08-23 https://br.linkedin.com/jobs/view/analista-de-rotinas-pedag%C3%B3gicas-at-rede-de-ensino-coleguium-3274655603?refId=GtXkc%2FDTtTcMaodKCJPPGw%3D%3D&trackingId=hJzHWQlJl81SwUOvNOK%2FyQ%3D%3D&position=13&pageNum=0&trk=public_jobs_jserp-result_search-card [] 1121\n"
     ]
    },
    {
     "name": "stderr",
     "output_type": "stream",
     "text": [
      "INFO:li:scraper:('[][Worldwide][10]', 'Processed')\n"
     ]
    },
    {
     "name": "stdout",
     "output_type": "stream",
     "text": [
      "[ON_DATA] ANALISTA DE MARKETING JR Grupo Yamaha Brasil  2022-08-23 https://br.linkedin.com/jobs/view/analista-de-marketing-jr-at-grupo-yamaha-brasil-3274651905?refId=GtXkc%2FDTtTcMaodKCJPPGw%3D%3D&trackingId=7sIVKMek2ijaRLEBMY1aog%3D%3D&position=14&pageNum=0&trk=public_jobs_jserp-result_search-card [] 688\n"
     ]
    },
    {
     "name": "stderr",
     "output_type": "stream",
     "text": [
      "INFO:li:scraper:('[][Worldwide][11]', 'Processed')\n"
     ]
    },
    {
     "name": "stdout",
     "output_type": "stream",
     "text": [
      "[ON_DATA] Analista Financeiro Sá Cavalcante  2022-08-23 https://br.linkedin.com/jobs/view/analista-financeiro-at-s%C3%A1-cavalcante-3274657190?refId=GtXkc%2FDTtTcMaodKCJPPGw%3D%3D&trackingId=Kxer6arIXMmkjE7m53mD%2Bg%3D%3D&position=15&pageNum=0&trk=public_jobs_jserp-result_search-card [] 1395\n"
     ]
    },
    {
     "name": "stderr",
     "output_type": "stream",
     "text": [
      "WARNING:li:scraper:('[][Worldwide]', '[429] Too many requests', 'You should probably increase scraper \"slow_mo\" value or reduce concurrency')\n",
      "INFO:li:scraper:('[][Worldwide][12]', 'Processed')\n"
     ]
    },
    {
     "name": "stdout",
     "output_type": "stream",
     "text": [
      "[ON_DATA] Supervisor Operacional Cargolift Logística SA  2022-09-02 https://br.linkedin.com/jobs/view/supervisor-operacional-at-cargolift-log%C3%ADstica-sa-3274657281?refId=GtXkc%2FDTtTcMaodKCJPPGw%3D%3D&trackingId=%2FWfI8EHc%2BMlBcNvhzW%2Bfjg%3D%3D&position=16&pageNum=0&trk=public_jobs_jserp-result_search-card [] 4136\n"
     ]
    },
    {
     "name": "stderr",
     "output_type": "stream",
     "text": [
      "WARNING:li:scraper:('[][Worldwide]', '[429] Too many requests', 'You should probably increase scraper \"slow_mo\" value or reduce concurrency')\n",
      "WARNING:li:scraper:('[][Worldwide]', '[429] Too many requests', 'You should probably increase scraper \"slow_mo\" value or reduce concurrency')\n",
      "ERROR:li:scraper:('[][Worldwide][13]', 'Timeout on loading job details')\n",
      "NoneType: None\n",
      "WARNING:li:scraper:('[][Worldwide]', '[429] Too many requests', 'You should probably increase scraper \"slow_mo\" value or reduce concurrency')\n",
      "WARNING:li:scraper:('[][Worldwide]', '[429] Too many requests', 'You should probably increase scraper \"slow_mo\" value or reduce concurrency')\n",
      "ERROR:li:scraper:('[][Worldwide][13]', 'Timeout on loading job details')\n",
      "NoneType: None\n",
      "WARNING:li:scraper:('[][Worldwide]', '[429] Too many requests', 'You should probably increase scraper \"slow_mo\" value or reduce concurrency')\n",
      "WARNING:li:scraper:('[][Worldwide]', '[429] Too many requests', 'You should probably increase scraper \"slow_mo\" value or reduce concurrency')\n",
      "ERROR:li:scraper:('[][Worldwide][13]', 'Timeout on loading job details')\n",
      "NoneType: None\n",
      "INFO:li:scraper:('[][Worldwide][13]', 'Processed')\n"
     ]
    },
    {
     "name": "stdout",
     "output_type": "stream",
     "text": [
      "[ON_DATA] Administrative Secretary ORG Logistics FZE  2022-09-17 https://kw.linkedin.com/jobs/view/administrative-secretary-at-org-logistics-fze-3274688862?refId=GtXkc%2FDTtTcMaodKCJPPGw%3D%3D&trackingId=v1tg%2FJWbMeFphJzlG8nmmQ%3D%3D&position=20&pageNum=0&trk=public_jobs_jserp-result_search-card [] 1793\n"
     ]
    },
    {
     "name": "stderr",
     "output_type": "stream",
     "text": [
      "INFO:li:scraper:('[][Worldwide][14]', 'Processed')\n"
     ]
    },
    {
     "name": "stdout",
     "output_type": "stream",
     "text": [
      "[ON_DATA] ADDETTO/A ALLA RECEPTION Edera Group  2022-09-17 https://it.linkedin.com/jobs/view/addetto-a-alla-reception-at-edera-group-3274662804?refId=GtXkc%2FDTtTcMaodKCJPPGw%3D%3D&trackingId=kBpe%2F%2BiACGcJ05adc33u6w%3D%3D&position=21&pageNum=0&trk=public_jobs_jserp-result_search-card [] 521\n"
     ]
    },
    {
     "name": "stderr",
     "output_type": "stream",
     "text": [
      "INFO:li:scraper:('[][Worldwide][15]', 'Processed')\n"
     ]
    },
    {
     "name": "stdout",
     "output_type": "stream",
     "text": [
      "[ON_DATA] Inspetor de Qualidade AQIA Química Inovativa  2022-08-23 https://br.linkedin.com/jobs/view/inspetor-de-qualidade-at-aqia-qu%C3%ADmica-inovativa-3274661043?refId=GtXkc%2FDTtTcMaodKCJPPGw%3D%3D&trackingId=fWDm0xBfGzUU0h3m5DFbQA%3D%3D&position=22&pageNum=0&trk=public_jobs_jserp-result_search-card [] 1255\n"
     ]
    },
    {
     "name": "stderr",
     "output_type": "stream",
     "text": [
      "INFO:li:scraper:('[][Worldwide][16]', 'Processed')\n"
     ]
    },
    {
     "name": "stdout",
     "output_type": "stream",
     "text": [
      "[ON_DATA] ASSISTENTE MANUTENÇÃO Grupo Zaragoza  2022-08-23 https://br.linkedin.com/jobs/view/assistente-manuten%C3%A7%C3%A3o-at-grupo-zaragoza-3274654590?refId=GtXkc%2FDTtTcMaodKCJPPGw%3D%3D&trackingId=iPnxeDTbUGkI77hZf%2FhZSw%3D%3D&position=23&pageNum=0&trk=public_jobs_jserp-result_search-card [] 1427\n"
     ]
    },
    {
     "name": "stderr",
     "output_type": "stream",
     "text": [
      "WARNING:li:scraper:('[][Worldwide]', '[429] Too many requests', 'You should probably increase scraper \"slow_mo\" value or reduce concurrency')\n",
      "WARNING:li:scraper:('[][Worldwide]', '[429] Too many requests', 'You should probably increase scraper \"slow_mo\" value or reduce concurrency')\n",
      "ERROR:li:scraper:('[][Worldwide][17]', 'Timeout on loading job details')\n",
      "NoneType: None\n",
      "WARNING:li:scraper:('[][Worldwide]', '[429] Too many requests', 'You should probably increase scraper \"slow_mo\" value or reduce concurrency')\n",
      "WARNING:li:scraper:('[][Worldwide]', '[429] Too many requests', 'You should probably increase scraper \"slow_mo\" value or reduce concurrency')\n",
      "ERROR:li:scraper:('[][Worldwide][17]', 'Timeout on loading job details')\n",
      "NoneType: None\n",
      "INFO:li:scraper:('[][Worldwide][17]', 'Checking for new jobs to load...')\n",
      "INFO:li:scraper:('[][Worldwide][17]', 'Found 50 jobs')\n",
      "WARNING:li:scraper:('[][Worldwide]', '[429] Too many requests', 'You should probably increase scraper \"slow_mo\" value or reduce concurrency')\n",
      "WARNING:li:scraper:('[][Worldwide]', '[429] Too many requests', 'You should probably increase scraper \"slow_mo\" value or reduce concurrency')\n",
      "ERROR:li:scraper:('[][Worldwide][17]', 'Timeout on loading job details')\n",
      "NoneType: None\n",
      "INFO:li:scraper:('[][Worldwide][17]', 'Processed')\n"
     ]
    },
    {
     "name": "stdout",
     "output_type": "stream",
     "text": [
      "[ON_DATA] AJUDANTE USIMINAS  2022-09-14 https://br.linkedin.com/jobs/view/ajudante-at-usiminas-3274657376?refId=hUBvBPsdT%2F%2Bt97BsHhZcZw%3D%3D&trackingId=m1FSTodTldoCp3s2HR8TFA%3D%3D&position=2&pageNum=1&trk=public_jobs_jserp-result_search-card [] 2407\n"
     ]
    },
    {
     "name": "stderr",
     "output_type": "stream",
     "text": [
      "INFO:li:scraper:('[][Worldwide][18]', 'Processed')\n"
     ]
    },
    {
     "name": "stdout",
     "output_type": "stream",
     "text": [
      "[ON_DATA] ASSISTENTE DE ENGENHARIA JR. OU  2022-08-23 https://br.linkedin.com/jobs/view/assistente-de-engenharia-jr-at-ou-3274654608?refId=hUBvBPsdT%2F%2Bt97BsHhZcZw%3D%3D&trackingId=bBOWpHTsElpRVikD3nMc7Q%3D%3D&position=3&pageNum=1&trk=public_jobs_jserp-result_search-card [] 1771\n"
     ]
    },
    {
     "name": "stderr",
     "output_type": "stream",
     "text": [
      "INFO:li:scraper:('[][Worldwide][19]', 'Processed')\n"
     ]
    },
    {
     "name": "stdout",
     "output_type": "stream",
     "text": [
      "[ON_DATA] Responsable de proyecto Asociación Provivienda  2022-09-01 https://br.linkedin.com/jobs/view/responsable-de-proyecto-at-asociaci%C3%B3n-provivienda-3274655286?refId=hUBvBPsdT%2F%2Bt97BsHhZcZw%3D%3D&trackingId=PayjfbKKo315sYvmxduFhg%3D%3D&position=4&pageNum=1&trk=public_jobs_jserp-result_search-card [] 6668\n"
     ]
    },
    {
     "name": "stderr",
     "output_type": "stream",
     "text": [
      "INFO:li:scraper:('[][Worldwide][20]', 'Processed')\n"
     ]
    },
    {
     "name": "stdout",
     "output_type": "stream",
     "text": [
      "[ON_DATA] Analista de Manutenção ATW Delivery Brands  2022-08-23 https://br.linkedin.com/jobs/view/analista-de-manuten%C3%A7%C3%A3o-at-atw-delivery-brands-3274653683?refId=hUBvBPsdT%2F%2Bt97BsHhZcZw%3D%3D&trackingId=NCQDgqwB%2FLsC9BpgMktB2Q%3D%3D&position=5&pageNum=1&trk=public_jobs_jserp-result_search-card [] 1873\n"
     ]
    },
    {
     "name": "stderr",
     "output_type": "stream",
     "text": [
      "WARNING:li:scraper:('[][Worldwide]', '[429] Too many requests', 'You should probably increase scraper \"slow_mo\" value or reduce concurrency')\n",
      "ERROR:li:scraper:('[][Worldwide][21]', 'Timeout on loading job details')\n",
      "NoneType: None\n",
      "WARNING:li:scraper:('[][Worldwide]', '[429] Too many requests', 'You should probably increase scraper \"slow_mo\" value or reduce concurrency')\n",
      "INFO:li:scraper:('[][Worldwide][21]', 'Processed')\n"
     ]
    },
    {
     "name": "stdout",
     "output_type": "stream",
     "text": [
      "[ON_DATA] Analista de Desenvolvimento de Produtos Júnior - Poliuretanos MCassab  2022-08-23 https://br.linkedin.com/jobs/view/analista-de-desenvolvimento-de-produtos-j%C3%BAnior-poliuretanos-at-mcassab-3274655478?refId=hUBvBPsdT%2F%2Bt97BsHhZcZw%3D%3D&trackingId=k3kDYR%2FTjrx2bsr41nVa9w%3D%3D&position=7&pageNum=1&trk=public_jobs_jserp-result_search-card [] 1949\n"
     ]
    },
    {
     "name": "stderr",
     "output_type": "stream",
     "text": [
      "WARNING:li:scraper:('[][Worldwide]', '[429] Too many requests', 'You should probably increase scraper \"slow_mo\" value or reduce concurrency')\n",
      "INFO:li:scraper:('[][Worldwide][22]', 'Processed')\n"
     ]
    },
    {
     "name": "stdout",
     "output_type": "stream",
     "text": [
      "[ON_DATA] Coordenador de Produção - Embalagem/Sólidos Grupo Cimed  2022-08-23 https://br.linkedin.com/jobs/view/coordenador-de-produ%C3%A7%C3%A3o-embalagem-s%C3%B3lidos-at-grupo-cimed-3274653664?refId=hUBvBPsdT%2F%2Bt97BsHhZcZw%3D%3D&trackingId=qvoq8elg9Gp4WsnW2I3%2Bag%3D%3D&position=8&pageNum=1&trk=public_jobs_jserp-result_search-card [] 1973\n"
     ]
    },
    {
     "name": "stderr",
     "output_type": "stream",
     "text": [
      "WARNING:li:scraper:('[][Worldwide]', '[429] Too many requests', 'You should probably increase scraper \"slow_mo\" value or reduce concurrency')\n",
      "INFO:li:scraper:('[][Worldwide][23]', 'Processed')\n"
     ]
    },
    {
     "name": "stdout",
     "output_type": "stream",
     "text": [
      "[ON_DATA] Agente Vendas Júnior Construtora Tenda  2022-08-23 https://br.linkedin.com/jobs/view/agente-vendas-j%C3%BAnior-at-construtora-tenda-3274657054?refId=hUBvBPsdT%2F%2Bt97BsHhZcZw%3D%3D&trackingId=WrBdbwHq86D7Zn%2BWYUC5SQ%3D%3D&position=9&pageNum=1&trk=public_jobs_jserp-result_search-card [] 1137\n"
     ]
    },
    {
     "name": "stderr",
     "output_type": "stream",
     "text": [
      "WARNING:li:scraper:('[][Worldwide]', '[429] Too many requests', 'You should probably increase scraper \"slow_mo\" value or reduce concurrency')\n",
      "WARNING:li:scraper:('[][Worldwide]', '[429] Too many requests', 'You should probably increase scraper \"slow_mo\" value or reduce concurrency')\n",
      "ERROR:li:scraper:('[][Worldwide][24]', 'Timeout on loading job details')\n",
      "NoneType: None\n",
      "INFO:li:scraper:('[][Worldwide][24]', 'Processed')\n"
     ]
    },
    {
     "name": "stdout",
     "output_type": "stream",
     "text": [
      "[ON_DATA] Indústria - Auxiliar de produção ( PIZZAIOLO) Grupo Habib's  2022-08-23 https://br.linkedin.com/jobs/view/ind%C3%BAstria-auxiliar-de-produ%C3%A7%C3%A3o-pizzaiolo-at-grupo-habib-s-3274654630?refId=hUBvBPsdT%2F%2Bt97BsHhZcZw%3D%3D&trackingId=yaIAuHfGTdYs9We0iyFaWQ%3D%3D&position=11&pageNum=1&trk=public_jobs_jserp-result_search-card [] 330\n"
     ]
    },
    {
     "name": "stderr",
     "output_type": "stream",
     "text": [
      "WARNING:li:scraper:('[][Worldwide]', '[429] Too many requests', 'You should probably increase scraper \"slow_mo\" value or reduce concurrency')\n",
      "ERROR:li:scraper:('[][Worldwide][25]', 'Timeout on loading job details')\n",
      "NoneType: None\n",
      "WARNING:li:scraper:('[][Worldwide]', '[429] Too many requests', 'You should probably increase scraper \"slow_mo\" value or reduce concurrency')\n",
      "WARNING:li:scraper:('[][Worldwide]', '[429] Too many requests', 'You should probably increase scraper \"slow_mo\" value or reduce concurrency')\n",
      "ERROR:li:scraper:('[][Worldwide][25]', 'Timeout on loading job details')\n",
      "NoneType: None\n",
      "INFO:li:scraper:('[][Worldwide][25]', 'Processed')\n"
     ]
    },
    {
     "name": "stdout",
     "output_type": "stream",
     "text": [
      "[ON_DATA] Banco de Talentos - Estágio Bauducco Bauducco  2022-08-23 https://br.linkedin.com/jobs/view/banco-de-talentos-est%C3%A1gio-bauducco-at-bauducco-3274656177?refId=hUBvBPsdT%2F%2Bt97BsHhZcZw%3D%3D&trackingId=78vMDw8dU7kkFXi55KtMgw%3D%3D&position=14&pageNum=1&trk=public_jobs_jserp-result_search-card [] 3604\n"
     ]
    },
    {
     "name": "stderr",
     "output_type": "stream",
     "text": [
      "WARNING:li:scraper:('[][Worldwide]', '[429] Too many requests', 'You should probably increase scraper \"slow_mo\" value or reduce concurrency')\n",
      "INFO:li:scraper:('[][Worldwide][26]', 'Processed')\n"
     ]
    },
    {
     "name": "stdout",
     "output_type": "stream",
     "text": [
      "[ON_DATA] Banco de Currículos - BrasPine BrasPine Madeiras & Braslumber Indústria de Molduras  2022-08-23 https://br.linkedin.com/jobs/view/banco-de-curr%C3%ADculos-braspine-at-braspine-madeiras-braslumber-ind%C3%BAstria-de-molduras-3274653558?refId=hUBvBPsdT%2F%2Bt97BsHhZcZw%3D%3D&trackingId=H4ZVY3MD0u2hFy7%2BekyhCQ%3D%3D&position=15&pageNum=1&trk=public_jobs_jserp-result_search-card [] 1740\n"
     ]
    },
    {
     "name": "stderr",
     "output_type": "stream",
     "text": [
      "WARNING:li:scraper:('[][Worldwide]', '[429] Too many requests', 'You should probably increase scraper \"slow_mo\" value or reduce concurrency')\n",
      "WARNING:li:scraper:('[][Worldwide]', '[429] Too many requests', 'You should probably increase scraper \"slow_mo\" value or reduce concurrency')\n",
      "ERROR:li:scraper:('[][Worldwide][27]', 'Timeout on loading job details')\n",
      "NoneType: None\n",
      "INFO:li:scraper:('[][Worldwide][27]', 'Processed')\n"
     ]
    },
    {
     "name": "stdout",
     "output_type": "stream",
     "text": [
      "[ON_DATA] LABORATORISTA- ECOPISTAS Grupo EcoRodovias  2022-08-23 https://br.linkedin.com/jobs/view/laboratorista-ecopistas-at-grupo-ecorodovias-3274651984?refId=hUBvBPsdT%2F%2Bt97BsHhZcZw%3D%3D&trackingId=%2FPkZoM4ABWAL9YUrwl75PA%3D%3D&position=17&pageNum=1&trk=public_jobs_jserp-result_search-card [] 549\n"
     ]
    },
    {
     "name": "stderr",
     "output_type": "stream",
     "text": [
      "INFO:li:scraper:('Starting new query', \"Query(query=Engineer options=QueryOptions(limit=5 locations=['United States', 'Europe'] filters=QueryFilters(company_jobs_url=https://www.linkedin.com/jobs/search/?f_C=1441%2C17876832%2C791962%2C2374003%2C18950635%2C16140%2C10440912&geoId=92000000 relevance=RelevanceFilters.RECENT time=TimeFilters.MONTH type=[<TypeFilters.FULL_TIME: 'F'>, <TypeFilters.INTERNSHIP: 'I'>]) optimize=False apply_link=True))\")\n"
     ]
    },
    {
     "name": "stdout",
     "output_type": "stream",
     "text": [
      "[ON_END]\n"
     ]
    },
    {
     "name": "stderr",
     "output_type": "stream",
     "text": [
      "INFO:li:scraper:('Chrome debugger url', 'http://localhost:55098')\n",
      "INFO:li:scraper:('[Engineer][United States]', 'Opening https://www.linkedin.com/jobs/search?keywords=Engineer&location=United+States&f_C=1441%2C17876832%2C791962%2C2374003%2C18950635%2C16140%2C10440912&sortBy=DD&f_TPR=r2592000&f_JT=F%2CI&start=0')\n",
      "INFO:li:scraper:('[Engineer][United States]', 'Trying first selectors set')\n",
      "INFO:li:scraper:('[Engineer][United States]', 'Trying second selectors set')\n",
      "INFO:li:scraper:('[Engineer][United States]', 'OK')\n",
      "INFO:li:scraper:('[Engineer][United States]', 'Starting pagination loop')\n",
      "INFO:li:scraper:('[Engineer][United States]', 'Found 25 jobs')\n",
      "INFO:li:scraper:('[Engineer][United States][1]', 'Processed')\n"
     ]
    },
    {
     "name": "stdout",
     "output_type": "stream",
     "text": [
      "[ON_DATA] Mechanical Manufacturing Engineer Google  2022-09-14 https://www.linkedin.com/jobs/view/mechanical-manufacturing-engineer-at-google-3232349868?refId=yDJQl7ErD7T2DT1xn4xAYw%3D%3D&trackingId=62Q%2FVuz4adGt68PVxLx9dg%3D%3D&position=1&pageNum=0&trk=public_jobs_jserp-result_search-card [] 3829\n"
     ]
    },
    {
     "name": "stderr",
     "output_type": "stream",
     "text": [
      "INFO:li:scraper:('[Engineer][United States][2]', 'Processed')\n"
     ]
    },
    {
     "name": "stdout",
     "output_type": "stream",
     "text": [
      "[ON_DATA] Data Center Mechanical Engineer Google  2022-09-13 https://www.linkedin.com/jobs/view/data-center-mechanical-engineer-at-google-3264924321?refId=yDJQl7ErD7T2DT1xn4xAYw%3D%3D&trackingId=o4Gk82LjCiUGQ9HJN3uodw%3D%3D&position=2&pageNum=0&trk=public_jobs_jserp-result_search-card [] 3542\n"
     ]
    },
    {
     "name": "stderr",
     "output_type": "stream",
     "text": [
      "INFO:li:scraper:('[Engineer][United States][3]', 'Processed')\n"
     ]
    },
    {
     "name": "stdout",
     "output_type": "stream",
     "text": [
      "[ON_DATA] Mechanical Manufacturing Engineer Google  2022-09-14 https://www.linkedin.com/jobs/view/mechanical-manufacturing-engineer-at-google-3232355383?refId=yDJQl7ErD7T2DT1xn4xAYw%3D%3D&trackingId=5XWrV58cQC%2BVPmMP0v%2FFLA%3D%3D&position=3&pageNum=0&trk=public_jobs_jserp-result_search-card [] 3829\n"
     ]
    },
    {
     "name": "stderr",
     "output_type": "stream",
     "text": [
      "INFO:li:scraper:('[Engineer][United States][4]', 'Processed')\n"
     ]
    },
    {
     "name": "stdout",
     "output_type": "stream",
     "text": [
      "[ON_DATA] Product Design Engineer, Pixel Google  2022-09-11 https://www.linkedin.com/jobs/view/product-design-engineer-pixel-at-google-3119917087?refId=yDJQl7ErD7T2DT1xn4xAYw%3D%3D&trackingId=bwAP91wVMD%2Bi3zjxaZAcwg%3D%3D&position=4&pageNum=0&trk=public_jobs_jserp-result_search-card [] 3571\n"
     ]
    },
    {
     "name": "stderr",
     "output_type": "stream",
     "text": [
      "WARNING:li:scraper:('[Engineer][United States]', '[429] Too many requests', 'You should probably increase scraper \"slow_mo\" value or reduce concurrency')\n",
      "WARNING:li:scraper:('[Engineer][United States]', '[429] Too many requests', 'You should probably increase scraper \"slow_mo\" value or reduce concurrency')\n",
      "WARNING:li:scraper:('[Engineer][United States]', '[429] Too many requests', 'You should probably increase scraper \"slow_mo\" value or reduce concurrency')\n",
      "ERROR:li:scraper:('[Engineer][United States][5]', 'Timeout on loading job details')\n",
      "NoneType: None\n",
      "WARNING:li:scraper:('[Engineer][United States]', '[429] Too many requests', 'You should probably increase scraper \"slow_mo\" value or reduce concurrency')\n",
      "WARNING:li:scraper:('[Engineer][United States]', '[429] Too many requests', 'You should probably increase scraper \"slow_mo\" value or reduce concurrency')\n",
      "ERROR:li:scraper:('[Engineer][United States][5]', 'Timeout on loading job details')\n",
      "NoneType: None\n",
      "INFO:li:scraper:('[Engineer][United States][5]', 'Processed')\n"
     ]
    },
    {
     "name": "stdout",
     "output_type": "stream",
     "text": [
      "[ON_DATA] Data Center Mechanical Engineer Google  2022-09-13 https://www.linkedin.com/jobs/view/data-center-mechanical-engineer-at-google-3264927015?refId=yDJQl7ErD7T2DT1xn4xAYw%3D%3D&trackingId=Arc%2BA8p6Xknc8538zc%2BWvg%3D%3D&position=7&pageNum=0&trk=public_jobs_jserp-result_search-card [] 3542\n"
     ]
    },
    {
     "name": "stderr",
     "output_type": "stream",
     "text": [
      "INFO:li:scraper:('Chrome debugger url', 'http://localhost:55169')\n",
      "INFO:li:scraper:('[Engineer][Europe]', 'Opening https://www.linkedin.com/jobs/search?keywords=Engineer&location=Europe&f_C=1441%2C17876832%2C791962%2C2374003%2C18950635%2C16140%2C10440912&sortBy=DD&f_TPR=r2592000&f_JT=F%2CI&start=0')\n",
      "INFO:li:scraper:('[Engineer][Europe]', 'Trying first selectors set')\n",
      "INFO:li:scraper:('[Engineer][Europe]', 'Trying second selectors set')\n",
      "INFO:li:scraper:('[Engineer][Europe]', 'Failed to load container selector, skip')\n"
     ]
    },
    {
     "name": "stdout",
     "output_type": "stream",
     "text": [
      "[ON_END]\n"
     ]
    }
   ],
   "source": [
    "import logging\n",
    "from linkedin_jobs_scraper import LinkedinScraper\n",
    "from linkedin_jobs_scraper.events import Events, EventData, EventMetrics\n",
    "from linkedin_jobs_scraper.query import Query, QueryOptions, QueryFilters\n",
    "from linkedin_jobs_scraper.filters import RelevanceFilters, TimeFilters, TypeFilters, ExperienceLevelFilters, RemoteFilters\n",
    "\n",
    "# Change root logger level (default is WARN)\n",
    "logging.basicConfig(level = logging.INFO)\n",
    "\n",
    "# Fired once for each successfully processed job\n",
    "def on_data(data: EventData):\n",
    "    print('[ON_DATA]', data.title, data.company, data.company_link, data.date, data.link, data.insights, len(data.description))\n",
    "\n",
    "# Fired once for each page (25 jobs)\n",
    "def on_metrics(metrics: EventMetrics):\n",
    "  print('[ON_METRICS]', str(metrics))\n",
    "\n",
    "def on_error(error):\n",
    "    print('[ON_ERROR]', error)\n",
    "\n",
    "def on_end():\n",
    "    print('[ON_END]')\n",
    "\n",
    "\n",
    "scraper = LinkedinScraper(\n",
    "    chrome_executable_path=None, # Custom Chrome executable path (e.g. /foo/bar/bin/chromedriver) \n",
    "    chrome_options=None,  # Custom Chrome options here\n",
    "    headless=True,  # Overrides headless mode only if chrome_options is None\n",
    "    max_workers=1,  # How many threads will be spawned to run queries concurrently (one Chrome driver for each thread)\n",
    "    slow_mo=0.5,  # Slow down the scraper to avoid 'Too many requests 429' errors (in seconds)\n",
    "    page_load_timeout=20  # Page load timeout (in seconds)    \n",
    ")\n",
    "\n",
    "# Add event listeners\n",
    "scraper.on(Events.DATA, on_data)\n",
    "scraper.on(Events.ERROR, on_error)\n",
    "scraper.on(Events.END, on_end)\n",
    "\n",
    "queries = [\n",
    "    Query(\n",
    "        options=QueryOptions(            \n",
    "            limit=27  # Limit the number of jobs to scrape.            \n",
    "        )\n",
    "    ),\n",
    "    Query(\n",
    "        query='Engineer',\n",
    "        options=QueryOptions(\n",
    "            locations=['United States', 'Europe'],            \n",
    "            apply_link = True,  # Try to extract apply link (easy applies are skipped). Default to False.\n",
    "            limit=5,\n",
    "            filters=QueryFilters(              \n",
    "                company_jobs_url='https://www.linkedin.com/jobs/search/?f_C=1441%2C17876832%2C791962%2C2374003%2C18950635%2C16140%2C10440912&geoId=92000000',  # Filter by companies.\n",
    "                relevance=RelevanceFilters.RECENT,\n",
    "                time=TimeFilters.MONTH,\n",
    "                type=[TypeFilters.FULL_TIME, TypeFilters.INTERNSHIP],\n",
    "                experience=None,                \n",
    "            )\n",
    "        )\n",
    "    ),\n",
    "]\n",
    "\n",
    "scraper.run(queries)"
   ]
  },
  {
   "cell_type": "code",
   "execution_count": 10,
   "metadata": {},
   "outputs": [],
   "source": [
    "from linkedin_jobs_scraper.query import Query, QueryOptions, QueryFilters\n",
    "from linkedin_jobs_scraper.filters import RelevanceFilters, TimeFilters, TypeFilters, ExperienceLevelFilters, RemoteFilters\n",
    "\n",
    "\n",
    "query = Query(\n",
    "    query='Engineer',\n",
    "    options=QueryOptions(\n",
    "        locations=['United States'],\n",
    "        optimize=False,\n",
    "        limit=5,\n",
    "        filters=QueryFilters(            \n",
    "            relevance=RelevanceFilters.RECENT,\n",
    "            time=TimeFilters.MONTH,\n",
    "            type=[TypeFilters.FULL_TIME, TypeFilters.INTERNSHIP],\n",
    "            experience=[ExperienceLevelFilters.INTERNSHIP, ExperienceLevelFilters.MID_SENIOR],\n",
    "            remote=RemoteFilters.REMOTE, # supported only with authenticated session\n",
    "        )\n",
    "    )\n",
    ")"
   ]
  },
  {
   "cell_type": "code",
   "execution_count": 11,
   "metadata": {},
   "outputs": [],
   "source": [
    "query = Query(    \n",
    "    options=QueryOptions(        \n",
    "        filters=QueryFilters(\n",
    "            # Paste link below\n",
    "            company_jobs_url='https://www.linkedin.com/jobs/search/?f_C=1441%2C17876832%2C791962%2C2374003%2C18950635%2C16140%2C10440912&geoId=92000000',        \n",
    "        )\n",
    "    )\n",
    ")"
   ]
  },
  {
   "cell_type": "code",
   "execution_count": 12,
   "metadata": {},
   "outputs": [],
   "source": [
    "import logging\n",
    "\n",
    "# Change root logger level (default is WARN)\n",
    "logging.basicConfig(level = logging.DEBUG)\n",
    "\n",
    "# Change package logger level\n",
    "logging.getLogger('li:scraper').setLevel(logging.DEBUG)\n",
    "\n",
    "# Optional: change level to other loggers\n",
    "logging.getLogger('urllib3').setLevel(logging.WARN)\n",
    "logging.getLogger('selenium').setLevel(logging.WARN)"
   ]
  },
  {
   "cell_type": "code",
   "execution_count": null,
   "metadata": {},
   "outputs": [],
   "source": []
  }
 ],
 "metadata": {
  "kernelspec": {
   "display_name": "Python 3.10.4 64-bit",
   "language": "python",
   "name": "python3"
  },
  "language_info": {
   "codemirror_mode": {
    "name": "ipython",
    "version": 3
   },
   "file_extension": ".py",
   "mimetype": "text/x-python",
   "name": "python",
   "nbconvert_exporter": "python",
   "pygments_lexer": "ipython3",
   "version": "3.10.4"
  },
  "orig_nbformat": 4,
  "vscode": {
   "interpreter": {
    "hash": "5eab50eec49d5a3ddbbcb7afb1b75079b1a0651d7988c01e8d65eaa58a70a5c8"
   }
  }
 },
 "nbformat": 4,
 "nbformat_minor": 2
}
