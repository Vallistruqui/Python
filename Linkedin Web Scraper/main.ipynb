{
 "cells": [
  {
   "cell_type": "markdown",
   "metadata": {},
   "source": [
    "Neccesary libraries"
   ]
  },
  {
   "cell_type": "code",
   "execution_count": 1,
   "metadata": {},
   "outputs": [],
   "source": [
    "from selenium import webdriver\n",
    "from webdriver_manager.chrome import ChromeDriverManager\n",
    "from selenium.webdriver.common.by import By\n",
    "import time\n",
    "import pandas as pd\n",
    "import re"
   ]
  },
  {
   "cell_type": "markdown",
   "metadata": {},
   "source": [
    "Login sequence"
   ]
  },
  {
   "cell_type": "code",
   "execution_count": 2,
   "metadata": {},
   "outputs": [],
   "source": [
    "# Initiate the browser\n",
    "browser  = webdriver.Chrome(ChromeDriverManager().install())\n",
    "\n",
    "# Open the Website\n",
    "browser.get('https://www.linkedin.com/login/es?fromSignIn=true&trk=guest_homepage-basic_nav-header-signin')\n",
    "\n",
    "#Login info\n",
    "linkedin_username = 'vallarinopedro@gmail.com'\n",
    "linkedin_password = 'vV1^7I22l#a%gYW^!Jl1'\n",
    "\n",
    "#Input password\n",
    "browser.find_element(By.XPATH,'//*[@id=\"username\"]').send_keys(linkedin_username)\n",
    "browser.find_element(By.XPATH,'//*[@id=\"password\"]').send_keys(linkedin_password)\n",
    "browser.find_element(By.XPATH,'//*[@id=\"organic-div\"]/form/div[3]/button').click()\n",
    "\n",
    "linkedin_job_links =   ['https://www.linkedin.com/jobs/search/?alertAction=viewjobs&currentJobId=3302691806&f_E=2%2C3%2C4&f_JT=F&f_TPR=r2592000&f_WT=2&geoId=92000000&keywords=Product%20Analyst&location=En%20todo%20el%20mundo&sortBy=R',                                            #Product Analyst\n",
    "                        'https://www.linkedin.com/jobs/search/?alertAction=viewjobs&currentJobId=3307733341&f_AL=true&f_E=2%2C3%2C4&f_JT=F&f_TPR=a1665442986-&f_WT=2&keywords=Data%20Analyst&savedSearchId=1730274642&searchAlertRefId=c2107651-3613-43d7-8e29-2ea3afb4dce7',          #Data Analyst\n",
    "                        'https://www.linkedin.com/jobs/search/?alertAction=viewjobs&currentJobId=3312018922&f_AL=true&f_E=2%2C3%2C4&f_JT=F&f_TPR=a1665442986-&f_WT=2&keywords=Product%20Owner&savedSearchId=1730274666&searchAlertRefId=396ebb5d-e2e9-457a-9360-bfbc4c560803',         #Product Owner\n",
    "                        'https://www.linkedin.com/jobs/search/?alertAction=viewjobs&currentJobId=3311656801&f_AL=true&f_E=2%2C3%2C4&f_JT=F&f_TPR=a1665442986-&f_WT=2&keywords=Data%20Scientist&savedSearchId=1730274650&searchAlertRefId=23093265-c066-42b3-a4db-d2bdef7f737e']        #Data Scientist\n",
    "\n",
    "# Upsizing of the windows and setting window position\n",
    "browser.set_window_position(1, 1)\n",
    "browser.maximize_window()"
   ]
  },
  {
   "cell_type": "code",
   "execution_count": 5,
   "metadata": {},
   "outputs": [
    {
     "name": "stdout",
     "output_type": "stream",
     "text": [
      "The number of jobs of this search is 16432\n",
      "7\n",
      "paso por aca 0\n"
     ]
    },
    {
     "name": "stderr",
     "output_type": "stream",
     "text": [
      "C:\\Users\\Pedro Vallarino\\AppData\\Local\\Temp\\ipykernel_4900\\3286375655.py:25: FutureWarning: The frame.append method is deprecated and will be removed from pandas in a future version. Use pandas.concat instead.\n",
      "  df = df.append({\n"
     ]
    },
    {
     "data": {
      "text/html": [
       "<div>\n",
       "<style scoped>\n",
       "    .dataframe tbody tr th:only-of-type {\n",
       "        vertical-align: middle;\n",
       "    }\n",
       "\n",
       "    .dataframe tbody tr th {\n",
       "        vertical-align: top;\n",
       "    }\n",
       "\n",
       "    .dataframe thead th {\n",
       "        text-align: right;\n",
       "    }\n",
       "</style>\n",
       "<table border=\"1\" class=\"dataframe\">\n",
       "  <thead>\n",
       "    <tr style=\"text-align: right;\">\n",
       "      <th></th>\n",
       "      <th>Job Title</th>\n",
       "      <th>Job Company</th>\n",
       "      <th>Job Location</th>\n",
       "      <th>Job Description</th>\n",
       "      <th>Job Words</th>\n",
       "    </tr>\n",
       "  </thead>\n",
       "  <tbody>\n",
       "    <tr>\n",
       "      <th>0</th>\n",
       "      <td>Product Analyst</td>\n",
       "      <td>Tiro Partners Limited</td>\n",
       "      <td>Berlín, Alemania</td>\n",
       "      <td>Why SoftwareONE?\\n\\nAbout Goatpath\\n\\nGoatpath...</td>\n",
       "      <td>[Why, SoftwareONE?, About, Goatpath, Goatpath,...</td>\n",
       "    </tr>\n",
       "  </tbody>\n",
       "</table>\n",
       "</div>"
      ],
      "text/plain": [
       "         Job Title            Job Company      Job Location  \\\n",
       "0  Product Analyst  Tiro Partners Limited  Berlín, Alemania   \n",
       "\n",
       "                                     Job Description  \\\n",
       "0  Why SoftwareONE?\\n\\nAbout Goatpath\\n\\nGoatpath...   \n",
       "\n",
       "                                           Job Words  \n",
       "0  [Why, SoftwareONE?, About, Goatpath, Goatpath,...  "
      ]
     },
     "metadata": {},
     "output_type": "display_data"
    },
    {
     "name": "stdout",
     "output_type": "stream",
     "text": [
      "paso por aca 1\n"
     ]
    },
    {
     "name": "stderr",
     "output_type": "stream",
     "text": [
      "C:\\Users\\Pedro Vallarino\\AppData\\Local\\Temp\\ipykernel_4900\\3286375655.py:25: FutureWarning: The frame.append method is deprecated and will be removed from pandas in a future version. Use pandas.concat instead.\n",
      "  df = df.append({\n"
     ]
    },
    {
     "data": {
      "text/html": [
       "<div>\n",
       "<style scoped>\n",
       "    .dataframe tbody tr th:only-of-type {\n",
       "        vertical-align: middle;\n",
       "    }\n",
       "\n",
       "    .dataframe tbody tr th {\n",
       "        vertical-align: top;\n",
       "    }\n",
       "\n",
       "    .dataframe thead th {\n",
       "        text-align: right;\n",
       "    }\n",
       "</style>\n",
       "<table border=\"1\" class=\"dataframe\">\n",
       "  <thead>\n",
       "    <tr style=\"text-align: right;\">\n",
       "      <th></th>\n",
       "      <th>Job Title</th>\n",
       "      <th>Job Company</th>\n",
       "      <th>Job Location</th>\n",
       "      <th>Job Description</th>\n",
       "      <th>Job Words</th>\n",
       "    </tr>\n",
       "  </thead>\n",
       "  <tbody>\n",
       "    <tr>\n",
       "      <th>0</th>\n",
       "      <td>Product Analyst</td>\n",
       "      <td>Tiro Partners Limited</td>\n",
       "      <td>Berlín, Alemania</td>\n",
       "      <td>Why SoftwareONE?\\n\\nAbout Goatpath\\n\\nGoatpath...</td>\n",
       "      <td>[Why, SoftwareONE?, About, Goatpath, Goatpath,...</td>\n",
       "    </tr>\n",
       "    <tr>\n",
       "      <th>1</th>\n",
       "      <td>Product Owner E-Commerce Moda Retail Remoto</td>\n",
       "      <td>Oxigent Technologies</td>\n",
       "      <td>Barcelona, Cataluña, España</td>\n",
       "      <td>Why SoftwareONE?\\n\\nAbout Goatpath\\n\\nGoatpath...</td>\n",
       "      <td>[Why, SoftwareONE?, About, Goatpath, Goatpath,...</td>\n",
       "    </tr>\n",
       "  </tbody>\n",
       "</table>\n",
       "</div>"
      ],
      "text/plain": [
       "                                     Job Title            Job Company  \\\n",
       "0                              Product Analyst  Tiro Partners Limited   \n",
       "1  Product Owner E-Commerce Moda Retail Remoto   Oxigent Technologies   \n",
       "\n",
       "                  Job Location  \\\n",
       "0             Berlín, Alemania   \n",
       "1  Barcelona, Cataluña, España   \n",
       "\n",
       "                                     Job Description  \\\n",
       "0  Why SoftwareONE?\\n\\nAbout Goatpath\\n\\nGoatpath...   \n",
       "1  Why SoftwareONE?\\n\\nAbout Goatpath\\n\\nGoatpath...   \n",
       "\n",
       "                                           Job Words  \n",
       "0  [Why, SoftwareONE?, About, Goatpath, Goatpath,...  \n",
       "1  [Why, SoftwareONE?, About, Goatpath, Goatpath,...  "
      ]
     },
     "metadata": {},
     "output_type": "display_data"
    },
    {
     "name": "stdout",
     "output_type": "stream",
     "text": [
      "paso por aca 2\n"
     ]
    },
    {
     "name": "stderr",
     "output_type": "stream",
     "text": [
      "C:\\Users\\Pedro Vallarino\\AppData\\Local\\Temp\\ipykernel_4900\\3286375655.py:25: FutureWarning: The frame.append method is deprecated and will be removed from pandas in a future version. Use pandas.concat instead.\n",
      "  df = df.append({\n"
     ]
    },
    {
     "data": {
      "text/html": [
       "<div>\n",
       "<style scoped>\n",
       "    .dataframe tbody tr th:only-of-type {\n",
       "        vertical-align: middle;\n",
       "    }\n",
       "\n",
       "    .dataframe tbody tr th {\n",
       "        vertical-align: top;\n",
       "    }\n",
       "\n",
       "    .dataframe thead th {\n",
       "        text-align: right;\n",
       "    }\n",
       "</style>\n",
       "<table border=\"1\" class=\"dataframe\">\n",
       "  <thead>\n",
       "    <tr style=\"text-align: right;\">\n",
       "      <th></th>\n",
       "      <th>Job Title</th>\n",
       "      <th>Job Company</th>\n",
       "      <th>Job Location</th>\n",
       "      <th>Job Description</th>\n",
       "      <th>Job Words</th>\n",
       "    </tr>\n",
       "  </thead>\n",
       "  <tbody>\n",
       "    <tr>\n",
       "      <th>0</th>\n",
       "      <td>Product Analyst</td>\n",
       "      <td>Tiro Partners Limited</td>\n",
       "      <td>Berlín, Alemania</td>\n",
       "      <td>Why SoftwareONE?\\n\\nAbout Goatpath\\n\\nGoatpath...</td>\n",
       "      <td>[Why, SoftwareONE?, About, Goatpath, Goatpath,...</td>\n",
       "    </tr>\n",
       "    <tr>\n",
       "      <th>1</th>\n",
       "      <td>Product Owner E-Commerce Moda Retail Remoto</td>\n",
       "      <td>Oxigent Technologies</td>\n",
       "      <td>Barcelona, Cataluña, España</td>\n",
       "      <td>Why SoftwareONE?\\n\\nAbout Goatpath\\n\\nGoatpath...</td>\n",
       "      <td>[Why, SoftwareONE?, About, Goatpath, Goatpath,...</td>\n",
       "    </tr>\n",
       "    <tr>\n",
       "      <th>2</th>\n",
       "      <td>Product Owner - Charging Solutions</td>\n",
       "      <td>GCS Recruitment Specialists</td>\n",
       "      <td>Irlanda</td>\n",
       "      <td>Why SoftwareONE?\\n\\nAbout Goatpath\\n\\nGoatpath...</td>\n",
       "      <td>[Why, SoftwareONE?, About, Goatpath, Goatpath,...</td>\n",
       "    </tr>\n",
       "  </tbody>\n",
       "</table>\n",
       "</div>"
      ],
      "text/plain": [
       "                                     Job Title                  Job Company  \\\n",
       "0                              Product Analyst        Tiro Partners Limited   \n",
       "1  Product Owner E-Commerce Moda Retail Remoto         Oxigent Technologies   \n",
       "2           Product Owner - Charging Solutions  GCS Recruitment Specialists   \n",
       "\n",
       "                  Job Location  \\\n",
       "0             Berlín, Alemania   \n",
       "1  Barcelona, Cataluña, España   \n",
       "2                      Irlanda   \n",
       "\n",
       "                                     Job Description  \\\n",
       "0  Why SoftwareONE?\\n\\nAbout Goatpath\\n\\nGoatpath...   \n",
       "1  Why SoftwareONE?\\n\\nAbout Goatpath\\n\\nGoatpath...   \n",
       "2  Why SoftwareONE?\\n\\nAbout Goatpath\\n\\nGoatpath...   \n",
       "\n",
       "                                           Job Words  \n",
       "0  [Why, SoftwareONE?, About, Goatpath, Goatpath,...  \n",
       "1  [Why, SoftwareONE?, About, Goatpath, Goatpath,...  \n",
       "2  [Why, SoftwareONE?, About, Goatpath, Goatpath,...  "
      ]
     },
     "metadata": {},
     "output_type": "display_data"
    },
    {
     "name": "stdout",
     "output_type": "stream",
     "text": [
      "paso por aca 3\n"
     ]
    },
    {
     "name": "stderr",
     "output_type": "stream",
     "text": [
      "C:\\Users\\Pedro Vallarino\\AppData\\Local\\Temp\\ipykernel_4900\\3286375655.py:25: FutureWarning: The frame.append method is deprecated and will be removed from pandas in a future version. Use pandas.concat instead.\n",
      "  df = df.append({\n"
     ]
    },
    {
     "data": {
      "text/html": [
       "<div>\n",
       "<style scoped>\n",
       "    .dataframe tbody tr th:only-of-type {\n",
       "        vertical-align: middle;\n",
       "    }\n",
       "\n",
       "    .dataframe tbody tr th {\n",
       "        vertical-align: top;\n",
       "    }\n",
       "\n",
       "    .dataframe thead th {\n",
       "        text-align: right;\n",
       "    }\n",
       "</style>\n",
       "<table border=\"1\" class=\"dataframe\">\n",
       "  <thead>\n",
       "    <tr style=\"text-align: right;\">\n",
       "      <th></th>\n",
       "      <th>Job Title</th>\n",
       "      <th>Job Company</th>\n",
       "      <th>Job Location</th>\n",
       "      <th>Job Description</th>\n",
       "      <th>Job Words</th>\n",
       "    </tr>\n",
       "  </thead>\n",
       "  <tbody>\n",
       "    <tr>\n",
       "      <th>0</th>\n",
       "      <td>Product Analyst</td>\n",
       "      <td>Tiro Partners Limited</td>\n",
       "      <td>Berlín, Alemania</td>\n",
       "      <td>Why SoftwareONE?\\n\\nAbout Goatpath\\n\\nGoatpath...</td>\n",
       "      <td>[Why, SoftwareONE?, About, Goatpath, Goatpath,...</td>\n",
       "    </tr>\n",
       "    <tr>\n",
       "      <th>1</th>\n",
       "      <td>Product Owner E-Commerce Moda Retail Remoto</td>\n",
       "      <td>Oxigent Technologies</td>\n",
       "      <td>Barcelona, Cataluña, España</td>\n",
       "      <td>Why SoftwareONE?\\n\\nAbout Goatpath\\n\\nGoatpath...</td>\n",
       "      <td>[Why, SoftwareONE?, About, Goatpath, Goatpath,...</td>\n",
       "    </tr>\n",
       "    <tr>\n",
       "      <th>2</th>\n",
       "      <td>Product Owner - Charging Solutions</td>\n",
       "      <td>GCS Recruitment Specialists</td>\n",
       "      <td>Irlanda</td>\n",
       "      <td>Why SoftwareONE?\\n\\nAbout Goatpath\\n\\nGoatpath...</td>\n",
       "      <td>[Why, SoftwareONE?, About, Goatpath, Goatpath,...</td>\n",
       "    </tr>\n",
       "    <tr>\n",
       "      <th>3</th>\n",
       "      <td>Business Analyst</td>\n",
       "      <td>Luxoft</td>\n",
       "      <td>Polonia</td>\n",
       "      <td>Why SoftwareONE?\\n\\nAbout Goatpath\\n\\nGoatpath...</td>\n",
       "      <td>[Why, SoftwareONE?, About, Goatpath, Goatpath,...</td>\n",
       "    </tr>\n",
       "  </tbody>\n",
       "</table>\n",
       "</div>"
      ],
      "text/plain": [
       "                                     Job Title                  Job Company  \\\n",
       "0                              Product Analyst        Tiro Partners Limited   \n",
       "1  Product Owner E-Commerce Moda Retail Remoto         Oxigent Technologies   \n",
       "2           Product Owner - Charging Solutions  GCS Recruitment Specialists   \n",
       "3                             Business Analyst                       Luxoft   \n",
       "\n",
       "                  Job Location  \\\n",
       "0             Berlín, Alemania   \n",
       "1  Barcelona, Cataluña, España   \n",
       "2                      Irlanda   \n",
       "3                      Polonia   \n",
       "\n",
       "                                     Job Description  \\\n",
       "0  Why SoftwareONE?\\n\\nAbout Goatpath\\n\\nGoatpath...   \n",
       "1  Why SoftwareONE?\\n\\nAbout Goatpath\\n\\nGoatpath...   \n",
       "2  Why SoftwareONE?\\n\\nAbout Goatpath\\n\\nGoatpath...   \n",
       "3  Why SoftwareONE?\\n\\nAbout Goatpath\\n\\nGoatpath...   \n",
       "\n",
       "                                           Job Words  \n",
       "0  [Why, SoftwareONE?, About, Goatpath, Goatpath,...  \n",
       "1  [Why, SoftwareONE?, About, Goatpath, Goatpath,...  \n",
       "2  [Why, SoftwareONE?, About, Goatpath, Goatpath,...  \n",
       "3  [Why, SoftwareONE?, About, Goatpath, Goatpath,...  "
      ]
     },
     "metadata": {},
     "output_type": "display_data"
    },
    {
     "name": "stdout",
     "output_type": "stream",
     "text": [
      "paso por aca 4\n"
     ]
    },
    {
     "name": "stderr",
     "output_type": "stream",
     "text": [
      "C:\\Users\\Pedro Vallarino\\AppData\\Local\\Temp\\ipykernel_4900\\3286375655.py:25: FutureWarning: The frame.append method is deprecated and will be removed from pandas in a future version. Use pandas.concat instead.\n",
      "  df = df.append({\n"
     ]
    },
    {
     "data": {
      "text/html": [
       "<div>\n",
       "<style scoped>\n",
       "    .dataframe tbody tr th:only-of-type {\n",
       "        vertical-align: middle;\n",
       "    }\n",
       "\n",
       "    .dataframe tbody tr th {\n",
       "        vertical-align: top;\n",
       "    }\n",
       "\n",
       "    .dataframe thead th {\n",
       "        text-align: right;\n",
       "    }\n",
       "</style>\n",
       "<table border=\"1\" class=\"dataframe\">\n",
       "  <thead>\n",
       "    <tr style=\"text-align: right;\">\n",
       "      <th></th>\n",
       "      <th>Job Title</th>\n",
       "      <th>Job Company</th>\n",
       "      <th>Job Location</th>\n",
       "      <th>Job Description</th>\n",
       "      <th>Job Words</th>\n",
       "    </tr>\n",
       "  </thead>\n",
       "  <tbody>\n",
       "    <tr>\n",
       "      <th>0</th>\n",
       "      <td>Product Analyst</td>\n",
       "      <td>Tiro Partners Limited</td>\n",
       "      <td>Berlín, Alemania</td>\n",
       "      <td>Why SoftwareONE?\\n\\nAbout Goatpath\\n\\nGoatpath...</td>\n",
       "      <td>[Why, SoftwareONE?, About, Goatpath, Goatpath,...</td>\n",
       "    </tr>\n",
       "    <tr>\n",
       "      <th>1</th>\n",
       "      <td>Product Owner E-Commerce Moda Retail Remoto</td>\n",
       "      <td>Oxigent Technologies</td>\n",
       "      <td>Barcelona, Cataluña, España</td>\n",
       "      <td>Why SoftwareONE?\\n\\nAbout Goatpath\\n\\nGoatpath...</td>\n",
       "      <td>[Why, SoftwareONE?, About, Goatpath, Goatpath,...</td>\n",
       "    </tr>\n",
       "    <tr>\n",
       "      <th>2</th>\n",
       "      <td>Product Owner - Charging Solutions</td>\n",
       "      <td>GCS Recruitment Specialists</td>\n",
       "      <td>Irlanda</td>\n",
       "      <td>Why SoftwareONE?\\n\\nAbout Goatpath\\n\\nGoatpath...</td>\n",
       "      <td>[Why, SoftwareONE?, About, Goatpath, Goatpath,...</td>\n",
       "    </tr>\n",
       "    <tr>\n",
       "      <th>3</th>\n",
       "      <td>Business Analyst</td>\n",
       "      <td>Luxoft</td>\n",
       "      <td>Polonia</td>\n",
       "      <td>Why SoftwareONE?\\n\\nAbout Goatpath\\n\\nGoatpath...</td>\n",
       "      <td>[Why, SoftwareONE?, About, Goatpath, Goatpath,...</td>\n",
       "    </tr>\n",
       "    <tr>\n",
       "      <th>4</th>\n",
       "      <td>Product Analyst</td>\n",
       "      <td>Alumio</td>\n",
       "      <td>Varsovia, Mazovia, Polonia</td>\n",
       "      <td>Why SoftwareONE?\\n\\nAbout Goatpath\\n\\nGoatpath...</td>\n",
       "      <td>[Why, SoftwareONE?, About, Goatpath, Goatpath,...</td>\n",
       "    </tr>\n",
       "  </tbody>\n",
       "</table>\n",
       "</div>"
      ],
      "text/plain": [
       "                                     Job Title                  Job Company  \\\n",
       "0                              Product Analyst        Tiro Partners Limited   \n",
       "1  Product Owner E-Commerce Moda Retail Remoto         Oxigent Technologies   \n",
       "2           Product Owner - Charging Solutions  GCS Recruitment Specialists   \n",
       "3                             Business Analyst                       Luxoft   \n",
       "4                              Product Analyst                       Alumio   \n",
       "\n",
       "                  Job Location  \\\n",
       "0             Berlín, Alemania   \n",
       "1  Barcelona, Cataluña, España   \n",
       "2                      Irlanda   \n",
       "3                      Polonia   \n",
       "4   Varsovia, Mazovia, Polonia   \n",
       "\n",
       "                                     Job Description  \\\n",
       "0  Why SoftwareONE?\\n\\nAbout Goatpath\\n\\nGoatpath...   \n",
       "1  Why SoftwareONE?\\n\\nAbout Goatpath\\n\\nGoatpath...   \n",
       "2  Why SoftwareONE?\\n\\nAbout Goatpath\\n\\nGoatpath...   \n",
       "3  Why SoftwareONE?\\n\\nAbout Goatpath\\n\\nGoatpath...   \n",
       "4  Why SoftwareONE?\\n\\nAbout Goatpath\\n\\nGoatpath...   \n",
       "\n",
       "                                           Job Words  \n",
       "0  [Why, SoftwareONE?, About, Goatpath, Goatpath,...  \n",
       "1  [Why, SoftwareONE?, About, Goatpath, Goatpath,...  \n",
       "2  [Why, SoftwareONE?, About, Goatpath, Goatpath,...  \n",
       "3  [Why, SoftwareONE?, About, Goatpath, Goatpath,...  \n",
       "4  [Why, SoftwareONE?, About, Goatpath, Goatpath,...  "
      ]
     },
     "metadata": {},
     "output_type": "display_data"
    },
    {
     "name": "stdout",
     "output_type": "stream",
     "text": [
      "paso por aca 5\n"
     ]
    },
    {
     "name": "stderr",
     "output_type": "stream",
     "text": [
      "C:\\Users\\Pedro Vallarino\\AppData\\Local\\Temp\\ipykernel_4900\\3286375655.py:25: FutureWarning: The frame.append method is deprecated and will be removed from pandas in a future version. Use pandas.concat instead.\n",
      "  df = df.append({\n"
     ]
    },
    {
     "data": {
      "text/html": [
       "<div>\n",
       "<style scoped>\n",
       "    .dataframe tbody tr th:only-of-type {\n",
       "        vertical-align: middle;\n",
       "    }\n",
       "\n",
       "    .dataframe tbody tr th {\n",
       "        vertical-align: top;\n",
       "    }\n",
       "\n",
       "    .dataframe thead th {\n",
       "        text-align: right;\n",
       "    }\n",
       "</style>\n",
       "<table border=\"1\" class=\"dataframe\">\n",
       "  <thead>\n",
       "    <tr style=\"text-align: right;\">\n",
       "      <th></th>\n",
       "      <th>Job Title</th>\n",
       "      <th>Job Company</th>\n",
       "      <th>Job Location</th>\n",
       "      <th>Job Description</th>\n",
       "      <th>Job Words</th>\n",
       "    </tr>\n",
       "  </thead>\n",
       "  <tbody>\n",
       "    <tr>\n",
       "      <th>0</th>\n",
       "      <td>Product Analyst</td>\n",
       "      <td>Tiro Partners Limited</td>\n",
       "      <td>Berlín, Alemania</td>\n",
       "      <td>Why SoftwareONE?\\n\\nAbout Goatpath\\n\\nGoatpath...</td>\n",
       "      <td>[Why, SoftwareONE?, About, Goatpath, Goatpath,...</td>\n",
       "    </tr>\n",
       "    <tr>\n",
       "      <th>1</th>\n",
       "      <td>Product Owner E-Commerce Moda Retail Remoto</td>\n",
       "      <td>Oxigent Technologies</td>\n",
       "      <td>Barcelona, Cataluña, España</td>\n",
       "      <td>Why SoftwareONE?\\n\\nAbout Goatpath\\n\\nGoatpath...</td>\n",
       "      <td>[Why, SoftwareONE?, About, Goatpath, Goatpath,...</td>\n",
       "    </tr>\n",
       "    <tr>\n",
       "      <th>2</th>\n",
       "      <td>Product Owner - Charging Solutions</td>\n",
       "      <td>GCS Recruitment Specialists</td>\n",
       "      <td>Irlanda</td>\n",
       "      <td>Why SoftwareONE?\\n\\nAbout Goatpath\\n\\nGoatpath...</td>\n",
       "      <td>[Why, SoftwareONE?, About, Goatpath, Goatpath,...</td>\n",
       "    </tr>\n",
       "    <tr>\n",
       "      <th>3</th>\n",
       "      <td>Business Analyst</td>\n",
       "      <td>Luxoft</td>\n",
       "      <td>Polonia</td>\n",
       "      <td>Why SoftwareONE?\\n\\nAbout Goatpath\\n\\nGoatpath...</td>\n",
       "      <td>[Why, SoftwareONE?, About, Goatpath, Goatpath,...</td>\n",
       "    </tr>\n",
       "    <tr>\n",
       "      <th>4</th>\n",
       "      <td>Product Analyst</td>\n",
       "      <td>Alumio</td>\n",
       "      <td>Varsovia, Mazovia, Polonia</td>\n",
       "      <td>Why SoftwareONE?\\n\\nAbout Goatpath\\n\\nGoatpath...</td>\n",
       "      <td>[Why, SoftwareONE?, About, Goatpath, Goatpath,...</td>\n",
       "    </tr>\n",
       "    <tr>\n",
       "      <th>5</th>\n",
       "      <td>Senior Product Analyst</td>\n",
       "      <td>JatApp</td>\n",
       "      <td>Ciudad de Kíev, Ucrania</td>\n",
       "      <td>Why SoftwareONE?\\n\\nAbout Goatpath\\n\\nGoatpath...</td>\n",
       "      <td>[Why, SoftwareONE?, About, Goatpath, Goatpath,...</td>\n",
       "    </tr>\n",
       "  </tbody>\n",
       "</table>\n",
       "</div>"
      ],
      "text/plain": [
       "                                     Job Title                  Job Company  \\\n",
       "0                              Product Analyst        Tiro Partners Limited   \n",
       "1  Product Owner E-Commerce Moda Retail Remoto         Oxigent Technologies   \n",
       "2           Product Owner - Charging Solutions  GCS Recruitment Specialists   \n",
       "3                             Business Analyst                       Luxoft   \n",
       "4                              Product Analyst                       Alumio   \n",
       "5                       Senior Product Analyst                       JatApp   \n",
       "\n",
       "                  Job Location  \\\n",
       "0             Berlín, Alemania   \n",
       "1  Barcelona, Cataluña, España   \n",
       "2                      Irlanda   \n",
       "3                      Polonia   \n",
       "4   Varsovia, Mazovia, Polonia   \n",
       "5      Ciudad de Kíev, Ucrania   \n",
       "\n",
       "                                     Job Description  \\\n",
       "0  Why SoftwareONE?\\n\\nAbout Goatpath\\n\\nGoatpath...   \n",
       "1  Why SoftwareONE?\\n\\nAbout Goatpath\\n\\nGoatpath...   \n",
       "2  Why SoftwareONE?\\n\\nAbout Goatpath\\n\\nGoatpath...   \n",
       "3  Why SoftwareONE?\\n\\nAbout Goatpath\\n\\nGoatpath...   \n",
       "4  Why SoftwareONE?\\n\\nAbout Goatpath\\n\\nGoatpath...   \n",
       "5  Why SoftwareONE?\\n\\nAbout Goatpath\\n\\nGoatpath...   \n",
       "\n",
       "                                           Job Words  \n",
       "0  [Why, SoftwareONE?, About, Goatpath, Goatpath,...  \n",
       "1  [Why, SoftwareONE?, About, Goatpath, Goatpath,...  \n",
       "2  [Why, SoftwareONE?, About, Goatpath, Goatpath,...  \n",
       "3  [Why, SoftwareONE?, About, Goatpath, Goatpath,...  \n",
       "4  [Why, SoftwareONE?, About, Goatpath, Goatpath,...  \n",
       "5  [Why, SoftwareONE?, About, Goatpath, Goatpath,...  "
      ]
     },
     "metadata": {},
     "output_type": "display_data"
    },
    {
     "name": "stdout",
     "output_type": "stream",
     "text": [
      "paso por aca 6\n"
     ]
    },
    {
     "ename": "StaleElementReferenceException",
     "evalue": "Message: stale element reference: element is not attached to the page document\n  (Session info: chrome=106.0.5249.119)\n",
     "output_type": "error",
     "traceback": [
      "\u001b[1;31m---------------------------------------------------------------------------\u001b[0m",
      "\u001b[1;31mStaleElementReferenceException\u001b[0m            Traceback (most recent call last)",
      "\u001b[1;32mc:\\Users\\Pedro Vallarino\\Desktop\\Repos\\Python\\Linkedin Web Scraper\\main.ipynb Celda 5\u001b[0m in \u001b[0;36m<cell line: 1>\u001b[1;34m()\u001b[0m\n\u001b[0;32m     <a href='vscode-notebook-cell:/c%3A/Users/Pedro%20Vallarino/Desktop/Repos/Python/Linkedin%20Web%20Scraper/main.ipynb#W4sZmlsZQ%3D%3D?line=21'>22</a>\u001b[0m \u001b[39mprint\u001b[39m(\u001b[39m'\u001b[39m\u001b[39mpaso por aca\u001b[39m\u001b[39m'\u001b[39m, contador)\n\u001b[0;32m     <a href='vscode-notebook-cell:/c%3A/Users/Pedro%20Vallarino/Desktop/Repos/Python/Linkedin%20Web%20Scraper/main.ipynb#W4sZmlsZQ%3D%3D?line=22'>23</a>\u001b[0m contador \u001b[39m+\u001b[39m\u001b[39m=\u001b[39m \u001b[39m1\u001b[39m\n\u001b[1;32m---> <a href='vscode-notebook-cell:/c%3A/Users/Pedro%20Vallarino/Desktop/Repos/Python/Linkedin%20Web%20Scraper/main.ipynb#W4sZmlsZQ%3D%3D?line=23'>24</a>\u001b[0m job\u001b[39m.\u001b[39;49mclick()\n\u001b[0;32m     <a href='vscode-notebook-cell:/c%3A/Users/Pedro%20Vallarino/Desktop/Repos/Python/Linkedin%20Web%20Scraper/main.ipynb#W4sZmlsZQ%3D%3D?line=24'>25</a>\u001b[0m df \u001b[39m=\u001b[39m df\u001b[39m.\u001b[39mappend({\n\u001b[0;32m     <a href='vscode-notebook-cell:/c%3A/Users/Pedro%20Vallarino/Desktop/Repos/Python/Linkedin%20Web%20Scraper/main.ipynb#W4sZmlsZQ%3D%3D?line=25'>26</a>\u001b[0m             \u001b[39m'\u001b[39m\u001b[39mJob Title\u001b[39m\u001b[39m'\u001b[39m:       job\u001b[39m.\u001b[39mget_attribute(\u001b[39m'\u001b[39m\u001b[39minnerText\u001b[39m\u001b[39m'\u001b[39m)\u001b[39m.\u001b[39msplit(\u001b[39m'\u001b[39m\u001b[39m\\n\u001b[39;00m\u001b[39m'\u001b[39m)[\u001b[39m0\u001b[39m],\n\u001b[0;32m     <a href='vscode-notebook-cell:/c%3A/Users/Pedro%20Vallarino/Desktop/Repos/Python/Linkedin%20Web%20Scraper/main.ipynb#W4sZmlsZQ%3D%3D?line=26'>27</a>\u001b[0m             \u001b[39m'\u001b[39m\u001b[39mJob Company\u001b[39m\u001b[39m'\u001b[39m:     job\u001b[39m.\u001b[39mget_attribute(\u001b[39m'\u001b[39m\u001b[39minnerText\u001b[39m\u001b[39m'\u001b[39m)\u001b[39m.\u001b[39msplit(\u001b[39m'\u001b[39m\u001b[39m\\n\u001b[39;00m\u001b[39m'\u001b[39m)[\u001b[39m1\u001b[39m],\n\u001b[1;32m   (...)\u001b[0m\n\u001b[0;32m     <a href='vscode-notebook-cell:/c%3A/Users/Pedro%20Vallarino/Desktop/Repos/Python/Linkedin%20Web%20Scraper/main.ipynb#W4sZmlsZQ%3D%3D?line=29'>30</a>\u001b[0m             \u001b[39m'\u001b[39m\u001b[39mJob Words\u001b[39m\u001b[39m'\u001b[39m:       browser\u001b[39m.\u001b[39mfind_element_by_id(\u001b[39m'\u001b[39m\u001b[39mjob-details\u001b[39m\u001b[39m'\u001b[39m)\u001b[39m.\u001b[39mget_attribute(\u001b[39m'\u001b[39m\u001b[39minnerText\u001b[39m\u001b[39m'\u001b[39m)\u001b[39m.\u001b[39msplit()\n\u001b[0;32m     <a href='vscode-notebook-cell:/c%3A/Users/Pedro%20Vallarino/Desktop/Repos/Python/Linkedin%20Web%20Scraper/main.ipynb#W4sZmlsZQ%3D%3D?line=30'>31</a>\u001b[0m             }, ignore_index \u001b[39m=\u001b[39m \u001b[39mTrue\u001b[39;00m)\n\u001b[0;32m     <a href='vscode-notebook-cell:/c%3A/Users/Pedro%20Vallarino/Desktop/Repos/Python/Linkedin%20Web%20Scraper/main.ipynb#W4sZmlsZQ%3D%3D?line=32'>33</a>\u001b[0m display(df) \n",
      "File \u001b[1;32mc:\\Users\\Pedro Vallarino\\AppData\\Local\\Programs\\Python\\Python310\\lib\\site-packages\\selenium\\webdriver\\remote\\webelement.py:80\u001b[0m, in \u001b[0;36mWebElement.click\u001b[1;34m(self)\u001b[0m\n\u001b[0;32m     78\u001b[0m \u001b[39mdef\u001b[39;00m \u001b[39mclick\u001b[39m(\u001b[39mself\u001b[39m):\n\u001b[0;32m     79\u001b[0m     \u001b[39m\"\"\"Clicks the element.\"\"\"\u001b[39;00m\n\u001b[1;32m---> 80\u001b[0m     \u001b[39mself\u001b[39;49m\u001b[39m.\u001b[39;49m_execute(Command\u001b[39m.\u001b[39;49mCLICK_ELEMENT)\n",
      "File \u001b[1;32mc:\\Users\\Pedro Vallarino\\AppData\\Local\\Programs\\Python\\Python310\\lib\\site-packages\\selenium\\webdriver\\remote\\webelement.py:633\u001b[0m, in \u001b[0;36mWebElement._execute\u001b[1;34m(self, command, params)\u001b[0m\n\u001b[0;32m    631\u001b[0m     params \u001b[39m=\u001b[39m {}\n\u001b[0;32m    632\u001b[0m params[\u001b[39m'\u001b[39m\u001b[39mid\u001b[39m\u001b[39m'\u001b[39m] \u001b[39m=\u001b[39m \u001b[39mself\u001b[39m\u001b[39m.\u001b[39m_id\n\u001b[1;32m--> 633\u001b[0m \u001b[39mreturn\u001b[39;00m \u001b[39mself\u001b[39;49m\u001b[39m.\u001b[39;49m_parent\u001b[39m.\u001b[39;49mexecute(command, params)\n",
      "File \u001b[1;32mc:\\Users\\Pedro Vallarino\\AppData\\Local\\Programs\\Python\\Python310\\lib\\site-packages\\selenium\\webdriver\\remote\\webdriver.py:321\u001b[0m, in \u001b[0;36mWebDriver.execute\u001b[1;34m(self, driver_command, params)\u001b[0m\n\u001b[0;32m    319\u001b[0m response \u001b[39m=\u001b[39m \u001b[39mself\u001b[39m\u001b[39m.\u001b[39mcommand_executor\u001b[39m.\u001b[39mexecute(driver_command, params)\n\u001b[0;32m    320\u001b[0m \u001b[39mif\u001b[39;00m response:\n\u001b[1;32m--> 321\u001b[0m     \u001b[39mself\u001b[39;49m\u001b[39m.\u001b[39;49merror_handler\u001b[39m.\u001b[39;49mcheck_response(response)\n\u001b[0;32m    322\u001b[0m     response[\u001b[39m'\u001b[39m\u001b[39mvalue\u001b[39m\u001b[39m'\u001b[39m] \u001b[39m=\u001b[39m \u001b[39mself\u001b[39m\u001b[39m.\u001b[39m_unwrap_value(\n\u001b[0;32m    323\u001b[0m         response\u001b[39m.\u001b[39mget(\u001b[39m'\u001b[39m\u001b[39mvalue\u001b[39m\u001b[39m'\u001b[39m, \u001b[39mNone\u001b[39;00m))\n\u001b[0;32m    324\u001b[0m     \u001b[39mreturn\u001b[39;00m response\n",
      "File \u001b[1;32mc:\\Users\\Pedro Vallarino\\AppData\\Local\\Programs\\Python\\Python310\\lib\\site-packages\\selenium\\webdriver\\remote\\errorhandler.py:242\u001b[0m, in \u001b[0;36mErrorHandler.check_response\u001b[1;34m(self, response)\u001b[0m\n\u001b[0;32m    240\u001b[0m         alert_text \u001b[39m=\u001b[39m value[\u001b[39m'\u001b[39m\u001b[39malert\u001b[39m\u001b[39m'\u001b[39m]\u001b[39m.\u001b[39mget(\u001b[39m'\u001b[39m\u001b[39mtext\u001b[39m\u001b[39m'\u001b[39m)\n\u001b[0;32m    241\u001b[0m     \u001b[39mraise\u001b[39;00m exception_class(message, screen, stacktrace, alert_text)\n\u001b[1;32m--> 242\u001b[0m \u001b[39mraise\u001b[39;00m exception_class(message, screen, stacktrace)\n",
      "\u001b[1;31mStaleElementReferenceException\u001b[0m: Message: stale element reference: element is not attached to the page document\n  (Session info: chrome=106.0.5249.119)\n"
     ]
    }
   ],
   "source": [
    "for link in linkedin_job_links:\n",
    "\n",
    "    browser.get(link)\n",
    "    contador = 0\n",
    "    pages = []\n",
    "    df = []\n",
    "    \n",
    "    df = pd.DataFrame(columns=['Job Title','Job Company','Job Location','Job Description','Job Words'])\n",
    "\n",
    "    number_of_jobs = re.findall(r'\\d+', browser.find_element_by_xpath('//*[@id=\"main\"]/div/section[1]/header/div[1]/small').get_attribute('innerText'))\n",
    "    number_of_jobs = ''.join(number_of_jobs)\n",
    "    number_of_jobs = int(number_of_jobs)\n",
    "    print('The number of jobs of this search is',number_of_jobs)\n",
    "\n",
    "    jobs = browser.find_element_by_xpath(\"//ul[contains(@class,'scaffold-layout__list-container')]\").find_elements_by_xpath('./*')\n",
    "    print(len(jobs))\n",
    "\n",
    "    # Se clickea cada tarjeta de trabajo y se sacan todos los detalles de la misma\n",
    "    for job in jobs:\n",
    "        print('paso por aca', contador)\n",
    "        contador += 1\n",
    "        job.click()\n",
    "        df = df.append({\n",
    "                    'Job Title':       job.get_attribute('innerText').split('\\n')[0],\n",
    "                    'Job Company':     job.get_attribute('innerText').split('\\n')[1],\n",
    "                    'Job Location':    job.get_attribute('innerText').split('\\n')[2],\n",
    "                    'Job Description': browser.find_element_by_id('job-details').get_attribute('innerText'),\n",
    "                    'Job Words':       browser.find_element_by_id('job-details').get_attribute('innerText').split()\n",
    "                    }, ignore_index = True)\n",
    "\n",
    "        display(df) \n",
    "\n",
    "    pagination_elements = browser.find_elements_by_xpath(\"//li[contains(@class,'artdeco-pagination__indicator artdeco-pagination')]\")\n",
    "    \n",
    "    for element in pagination_elements:\n",
    "        # Analisis de los elementos que tienen el total de hojas y la pagina actual\n",
    "        if element.find_element_by_css_selector('button').get_attribute('aria-current') == 'true':\n",
    "            current_page = element\n",
    "            print('The current page is', element.get_attribute('data-test-pagination-page-btn'))\n",
    "        \n",
    "    for element in pagination_elements:\n",
    "        try:\n",
    "            if int(element.get_attribute('InnerText')) == int(current_page.get_attribute('InnerText')) + 1:\n",
    "                element.click\n",
    "        except:\n",
    "            pass\n",
    "\n",
    "    break"
   ]
  },
  {
   "cell_type": "code",
   "execution_count": 4,
   "metadata": {},
   "outputs": [
    {
     "data": {
      "text/plain": [
       "24"
      ]
     },
     "execution_count": 4,
     "metadata": {},
     "output_type": "execute_result"
    }
   ],
   "source": [
    "jobs = browser.find_element_by_css_selector('body').find_element_by_xpath(\"//ul[contains(@class,'scaffold-layout__list-container')]\").find_elements_by_xpath('./*')\n",
    "len(jobs)"
   ]
  },
  {
   "cell_type": "code",
   "execution_count": 153,
   "metadata": {},
   "outputs": [
    {
     "name": "stdout",
     "output_type": "stream",
     "text": [
      "Senior Business Analyst\n",
      "Atos\n",
      "Espacio Económico Europeo\n",
      "En remoto\n",
      "Ocultar empleo\n",
      "18 antiguos alumnos trabajan aquí\n",
      "Promocionado\n",
      "Solicitud sencilla\n"
     ]
    }
   ],
   "source": [
    "print(jobs[6].get_attribute('innerText'))"
   ]
  },
  {
   "cell_type": "code",
   "execution_count": 8,
   "metadata": {},
   "outputs": [
    {
     "ename": "StaleElementReferenceException",
     "evalue": "Message: stale element reference: element is not attached to the page document\n  (Session info: chrome=106.0.5249.119)\n",
     "output_type": "error",
     "traceback": [
      "\u001b[1;31m---------------------------------------------------------------------------\u001b[0m",
      "\u001b[1;31mStaleElementReferenceException\u001b[0m            Traceback (most recent call last)",
      "\u001b[1;32mc:\\Users\\Pedro Vallarino\\Desktop\\Repos\\Python\\Linkedin Web Scraper\\main.ipynb Celda 8\u001b[0m in \u001b[0;36m<cell line: 1>\u001b[1;34m()\u001b[0m\n\u001b[1;32m----> <a href='vscode-notebook-cell:/c%3A/Users/Pedro%20Vallarino/Desktop/Repos/Python/Linkedin%20Web%20Scraper/main.ipynb#Y206sZmlsZQ%3D%3D?line=0'>1</a>\u001b[0m jobs[\u001b[39m0\u001b[39;49m]\u001b[39m.\u001b[39;49mget_attribute(\u001b[39m'\u001b[39;49m\u001b[39minnerHTML\u001b[39;49m\u001b[39m'\u001b[39;49m)\n",
      "File \u001b[1;32mc:\\Users\\Pedro Vallarino\\AppData\\Local\\Programs\\Python\\Python310\\lib\\site-packages\\selenium\\webdriver\\remote\\webelement.py:139\u001b[0m, in \u001b[0;36mWebElement.get_attribute\u001b[1;34m(self, name)\u001b[0m\n\u001b[0;32m    137\u001b[0m attributeValue \u001b[39m=\u001b[39m \u001b[39m'\u001b[39m\u001b[39m'\u001b[39m\n\u001b[0;32m    138\u001b[0m \u001b[39mif\u001b[39;00m \u001b[39mself\u001b[39m\u001b[39m.\u001b[39m_w3c:\n\u001b[1;32m--> 139\u001b[0m     attributeValue \u001b[39m=\u001b[39m \u001b[39mself\u001b[39;49m\u001b[39m.\u001b[39;49mparent\u001b[39m.\u001b[39;49mexecute_script(\n\u001b[0;32m    140\u001b[0m         \u001b[39m\"\u001b[39;49m\u001b[39mreturn (\u001b[39;49m\u001b[39m%s\u001b[39;49;00m\u001b[39m).apply(null, arguments);\u001b[39;49m\u001b[39m\"\u001b[39;49m \u001b[39m%\u001b[39;49m getAttribute_js,\n\u001b[0;32m    141\u001b[0m         \u001b[39mself\u001b[39;49m, name)\n\u001b[0;32m    142\u001b[0m \u001b[39melse\u001b[39;00m:\n\u001b[0;32m    143\u001b[0m     resp \u001b[39m=\u001b[39m \u001b[39mself\u001b[39m\u001b[39m.\u001b[39m_execute(Command\u001b[39m.\u001b[39mGET_ELEMENT_ATTRIBUTE, {\u001b[39m'\u001b[39m\u001b[39mname\u001b[39m\u001b[39m'\u001b[39m: name})\n",
      "File \u001b[1;32mc:\\Users\\Pedro Vallarino\\AppData\\Local\\Programs\\Python\\Python310\\lib\\site-packages\\selenium\\webdriver\\remote\\webdriver.py:634\u001b[0m, in \u001b[0;36mWebDriver.execute_script\u001b[1;34m(self, script, *args)\u001b[0m\n\u001b[0;32m    631\u001b[0m \u001b[39melse\u001b[39;00m:\n\u001b[0;32m    632\u001b[0m     command \u001b[39m=\u001b[39m Command\u001b[39m.\u001b[39mEXECUTE_SCRIPT\n\u001b[1;32m--> 634\u001b[0m \u001b[39mreturn\u001b[39;00m \u001b[39mself\u001b[39;49m\u001b[39m.\u001b[39;49mexecute(command, {\n\u001b[0;32m    635\u001b[0m     \u001b[39m'\u001b[39;49m\u001b[39mscript\u001b[39;49m\u001b[39m'\u001b[39;49m: script,\n\u001b[0;32m    636\u001b[0m     \u001b[39m'\u001b[39;49m\u001b[39margs\u001b[39;49m\u001b[39m'\u001b[39;49m: converted_args})[\u001b[39m'\u001b[39m\u001b[39mvalue\u001b[39m\u001b[39m'\u001b[39m]\n",
      "File \u001b[1;32mc:\\Users\\Pedro Vallarino\\AppData\\Local\\Programs\\Python\\Python310\\lib\\site-packages\\selenium\\webdriver\\remote\\webdriver.py:321\u001b[0m, in \u001b[0;36mWebDriver.execute\u001b[1;34m(self, driver_command, params)\u001b[0m\n\u001b[0;32m    319\u001b[0m response \u001b[39m=\u001b[39m \u001b[39mself\u001b[39m\u001b[39m.\u001b[39mcommand_executor\u001b[39m.\u001b[39mexecute(driver_command, params)\n\u001b[0;32m    320\u001b[0m \u001b[39mif\u001b[39;00m response:\n\u001b[1;32m--> 321\u001b[0m     \u001b[39mself\u001b[39;49m\u001b[39m.\u001b[39;49merror_handler\u001b[39m.\u001b[39;49mcheck_response(response)\n\u001b[0;32m    322\u001b[0m     response[\u001b[39m'\u001b[39m\u001b[39mvalue\u001b[39m\u001b[39m'\u001b[39m] \u001b[39m=\u001b[39m \u001b[39mself\u001b[39m\u001b[39m.\u001b[39m_unwrap_value(\n\u001b[0;32m    323\u001b[0m         response\u001b[39m.\u001b[39mget(\u001b[39m'\u001b[39m\u001b[39mvalue\u001b[39m\u001b[39m'\u001b[39m, \u001b[39mNone\u001b[39;00m))\n\u001b[0;32m    324\u001b[0m     \u001b[39mreturn\u001b[39;00m response\n",
      "File \u001b[1;32mc:\\Users\\Pedro Vallarino\\AppData\\Local\\Programs\\Python\\Python310\\lib\\site-packages\\selenium\\webdriver\\remote\\errorhandler.py:242\u001b[0m, in \u001b[0;36mErrorHandler.check_response\u001b[1;34m(self, response)\u001b[0m\n\u001b[0;32m    240\u001b[0m         alert_text \u001b[39m=\u001b[39m value[\u001b[39m'\u001b[39m\u001b[39malert\u001b[39m\u001b[39m'\u001b[39m]\u001b[39m.\u001b[39mget(\u001b[39m'\u001b[39m\u001b[39mtext\u001b[39m\u001b[39m'\u001b[39m)\n\u001b[0;32m    241\u001b[0m     \u001b[39mraise\u001b[39;00m exception_class(message, screen, stacktrace, alert_text)\n\u001b[1;32m--> 242\u001b[0m \u001b[39mraise\u001b[39;00m exception_class(message, screen, stacktrace)\n",
      "\u001b[1;31mStaleElementReferenceException\u001b[0m: Message: stale element reference: element is not attached to the page document\n  (Session info: chrome=106.0.5249.119)\n"
     ]
    }
   ],
   "source": [
    "jobs[0].get_attribute('innerHTML')"
   ]
  },
  {
   "cell_type": "code",
   "execution_count": null,
   "metadata": {},
   "outputs": [],
   "source": []
  }
 ],
 "metadata": {
  "kernelspec": {
   "display_name": "Python 3.10.4 64-bit",
   "language": "python",
   "name": "python3"
  },
  "language_info": {
   "codemirror_mode": {
    "name": "ipython",
    "version": 3
   },
   "file_extension": ".py",
   "mimetype": "text/x-python",
   "name": "python",
   "nbconvert_exporter": "python",
   "pygments_lexer": "ipython3",
   "version": "3.10.4"
  },
  "orig_nbformat": 4,
  "vscode": {
   "interpreter": {
    "hash": "5eab50eec49d5a3ddbbcb7afb1b75079b1a0651d7988c01e8d65eaa58a70a5c8"
   }
  }
 },
 "nbformat": 4,
 "nbformat_minor": 2
}
