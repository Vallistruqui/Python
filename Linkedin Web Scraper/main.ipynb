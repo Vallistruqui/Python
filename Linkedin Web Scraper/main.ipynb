{
 "cells": [
  {
   "cell_type": "code",
   "execution_count": 113,
   "metadata": {},
   "outputs": [],
   "source": [
    "from selenium import webdriver\n",
    "from webdriver_manager.chrome import ChromeDriverManager\n",
    "from selenium.webdriver.common.by import By\n",
    "import time\n",
    "import pandas as pd\n",
    "import re\n",
    "\n",
    "# Initiate the browser\n",
    "browser  = webdriver.Chrome(ChromeDriverManager().install())\n",
    "\n",
    "# Open the Website\n",
    "browser.get('https://www.linkedin.com/login/es?fromSignIn=true&trk=guest_homepage-basic_nav-header-signin')\n",
    "\n",
    "#Login info\n",
    "linkedin_username = 'vallarinopedro@gmail.com'\n",
    "linkedin_password = 'vV1^7I22l#a%gYW^!Jl1'\n",
    "\n",
    "#Input password\n",
    "browser.find_element(By.XPATH,'//*[@id=\"username\"]').send_keys(linkedin_username)\n",
    "browser.find_element(By.XPATH,'//*[@id=\"password\"]').send_keys(linkedin_password)\n",
    "browser.find_element(By.XPATH,'//*[@id=\"organic-div\"]/form/div[3]/button').click()\n",
    "\n",
    "browser.get('https://www.linkedin.com/jobs/search/?currentJobId=3222732029&f_AL=true&f_E=2%2C3%2C4&f_JT=F&f_WT=2&geoId=92000000&keywords=Data%20Analyst')\n",
    "number_of_jobs = re.findall(r'\\d+', browser.find_element_by_xpath('//*[@id=\"main\"]/div/section[1]/header/div[1]/small').get_attribute('innerText'))\n",
    "number_of_jobs = ''.join(number_of_jobs)\n",
    "number_of_jobs = int(number_of_jobs)"
   ]
  },
  {
   "cell_type": "code",
   "execution_count": 114,
   "metadata": {},
   "outputs": [],
   "source": [
    "browser.set_window_position(1, 1)\n",
    "browser.maximize_window()\n",
    "\n",
    "element = browser.find_element(By.XPATH,'//*[@id=\"ember310\"]')\n",
    "job_lists = browser.find_element(By.CLASS_NAME,'scaffold-layout__list-container')"
   ]
  },
  {
   "cell_type": "code",
   "execution_count": 127,
   "metadata": {},
   "outputs": [
    {
     "data": {
      "text/plain": [
       "129"
      ]
     },
     "execution_count": 127,
     "metadata": {},
     "output_type": "execute_result"
    }
   ],
   "source": [
    "jobs = job_lists.find_elements_by_tag_name('li')\n",
    "len(jobs)s"
   ]
  },
  {
   "cell_type": "code",
   "execution_count": 124,
   "metadata": {},
   "outputs": [
    {
     "name": "stdout",
     "output_type": "stream",
     "text": [
      "Buen url https://www.linkedin.com/jobs/view/3268188032/?eBP=CwEAAAGDUqpeI8ZqGoL5dGQMSc_c9ybyKacFHjJGyy14efUytkTGDB9Y6rIJT3ogpY1C9TDZUbVuxyxpjlfDIqBO1uAuBgl_jmXLsrPDpqyKY5aedRSyab-evzjzFRKl-ZxWs9LJ0_xgJzuNIHtXMjnX9_oTQUwGrhgmP-8LNnaR3o5hRyULysXkJtmcNevaLueMoza7drd0sdU56Qq3HRtH5ns6e_Q72ZgYvlvBvwu8q6OwJmsJeoSk1MjnSN94Ec0x6zvNQcA7uGTzWhT_DvcdYAK1RyrYtRATSmNXyYZmzDwUH-V51QX4CLOZG5gd6YiyQYnOc5zR3jIIOVQG5JZ27C5nEQ&recommendedFlavor=ACTIVELY_HIRING_COMPANY&refId=m%2BneNncb623YFQqgoQezFw%3D%3D&trackingId=gx0RocplyZfbs6FshiRNbQ%3D%3D&trk=flagship3_search_srp_jobs\n",
      "Buen url https://www.linkedin.com/jobs/view/3268188032/?eBP=CwEAAAGDUqpeI8ZqGoL5dGQMSc_c9ybyKacFHjJGyy14efUytkTGDB9Y6rIJT3ogpY1C9TDZUbVuxyxpjlfDIqBO1uAuBgl_jmXLsrPDpqyKY5aedRSyab-evzjzFRKl-ZxWs9LJ0_xgJzuNIHtXMjnX9_oTQUwGrhgmP-8LNnaR3o5hRyULysXkJtmcNevaLueMoza7drd0sdU56Qq3HRtH5ns6e_Q72ZgYvlvBvwu8q6OwJmsJeoSk1MjnSN94Ec0x6zvNQcA7uGTzWhT_DvcdYAK1RyrYtRATSmNXyYZmzDwUH-V51QX4CLOZG5gd6YiyQYnOc5zR3jIIOVQG5JZ27C5nEQ&recommendedFlavor=ACTIVELY_HIRING_COMPANY&refId=m%2BneNncb623YFQqgoQezFw%3D%3D&trackingId=gx0RocplyZfbs6FshiRNbQ%3D%3D&trk=flagship3_search_srp_jobs\n",
      "Mal url https://www.linkedin.com/company/10019053/\n",
      "Buen url https://www.linkedin.com/jobs/view/3265507437/?eBP=CwEAAAGDUqpeI6WTZQ-BKbd36FkbSMBXuHEGto7y4asPY6r3LxEAl-n9yv_o17bA1InyZ0zP5d8Jep1DscAfHqegJFrjZ9rwNswexWsCzPTl7G6sBjyO811oeVDJ_FoNXmbvsSO4_9pdgX7umKFZympSu_JPDt7tk8lwQy00AoIyAK-cKyL3tyJCS-e63SMvRfTdFO6p5tBxIk-HHcJpP9AQVq04NumpBvCz95Yo_Mq3aHz8AAGUJgc5n3aJc3MsxgapGfG2OyOB21_A54y-RIb2dVqNEePUS3wcJsrMKT7z6I94gZmDtdTOYhRgv_xyZeR6gISOlJhjHUq8hJYLmvmJvWJLClrdB1vHtAwjqZX0jkG--KnZ0U7wNzo-iM3UMBg&recommendedFlavor=SCHOOL_RECRUIT&refId=m%2BneNncb623YFQqgoQezFw%3D%3D&trackingId=Dhlx%2FyhTAukn8dG4pykEZA%3D%3D&trk=flagship3_search_srp_jobs\n",
      "Buen url https://www.linkedin.com/jobs/view/3265507437/?eBP=CwEAAAGDUqpeI6WTZQ-BKbd36FkbSMBXuHEGto7y4asPY6r3LxEAl-n9yv_o17bA1InyZ0zP5d8Jep1DscAfHqegJFrjZ9rwNswexWsCzPTl7G6sBjyO811oeVDJ_FoNXmbvsSO4_9pdgX7umKFZympSu_JPDt7tk8lwQy00AoIyAK-cKyL3tyJCS-e63SMvRfTdFO6p5tBxIk-HHcJpP9AQVq04NumpBvCz95Yo_Mq3aHz8AAGUJgc5n3aJc3MsxgapGfG2OyOB21_A54y-RIb2dVqNEePUS3wcJsrMKT7z6I94gZmDtdTOYhRgv_xyZeR6gISOlJhjHUq8hJYLmvmJvWJLClrdB1vHtAwjqZX0jkG--KnZ0U7wNzo-iM3UMBg&recommendedFlavor=SCHOOL_RECRUIT&refId=m%2BneNncb623YFQqgoQezFw%3D%3D&trackingId=Dhlx%2FyhTAukn8dG4pykEZA%3D%3D&trk=flagship3_search_srp_jobs\n",
      "Mal url https://www.linkedin.com/company/2057437/\n",
      "Mal url https://www.linkedin.com/search/results/people/?currentCompany=2057437&origin=JOB_PAGE_CANNED_SEARCH&schoolFilter=194043\n",
      "Buen url https://www.linkedin.com/jobs/view/3267654080/?eBP=CwEAAAGDUqpeI4fIOYUpqYQlt08KgKBkCU3PrAwccFRB6y-n8kruB7onepbtL5XzVEDYdLE-ffpDjK5tarkKkkYxUIMLeNn0Ev8xw14V738nKGT2WP5piD2u1NgCakHHx9rFSVP8KyKnabjm4mOmsx5XqjLU9jajYS5nDm58fuaGaZ2im835Q0A1H_7b1Xl6VW8DBc-gLch71UIYWIgXxmNw7aqeA6qtILoEtf-VAUfBW8GXuG4-_LoS7QudOPGiEBRyL8sXCki6CbOxZHiG659Q66jASnlQiATbegqgbnAu66pfFetWPisqXTa1t1mB9m24EpSscDp9ln3o2jtLklb-HNuHAcv99uSXYJEmRmTWSUvP4R8zU3Nz-fn_4bqIRDA&recommendedFlavor=ACTIVELY_HIRING_COMPANY&refId=m%2BneNncb623YFQqgoQezFw%3D%3D&trackingId=GFqAPaJROf4vkM8LJDqa9A%3D%3D&trk=flagship3_search_srp_jobs\n",
      "Buen url https://www.linkedin.com/jobs/view/3267654080/?eBP=CwEAAAGDUqpeI4fIOYUpqYQlt08KgKBkCU3PrAwccFRB6y-n8kruB7onepbtL5XzVEDYdLE-ffpDjK5tarkKkkYxUIMLeNn0Ev8xw14V738nKGT2WP5piD2u1NgCakHHx9rFSVP8KyKnabjm4mOmsx5XqjLU9jajYS5nDm58fuaGaZ2im835Q0A1H_7b1Xl6VW8DBc-gLch71UIYWIgXxmNw7aqeA6qtILoEtf-VAUfBW8GXuG4-_LoS7QudOPGiEBRyL8sXCki6CbOxZHiG659Q66jASnlQiATbegqgbnAu66pfFetWPisqXTa1t1mB9m24EpSscDp9ln3o2jtLklb-HNuHAcv99uSXYJEmRmTWSUvP4R8zU3Nz-fn_4bqIRDA&recommendedFlavor=ACTIVELY_HIRING_COMPANY&refId=m%2BneNncb623YFQqgoQezFw%3D%3D&trackingId=GFqAPaJROf4vkM8LJDqa9A%3D%3D&trk=flagship3_search_srp_jobs\n",
      "Mal url https://www.linkedin.com/company/10669690/\n",
      "Buen url https://www.linkedin.com/jobs/view/3271327925/?eBP=CwEAAAGDUqpeI-7cBWkfcctoT1m2moSQbnDolyYE38S_7jJi0CKcHGKDLaGDAAF2RlKx732YgoMjV0iytytlxVPNgJwHY7VaMCSfqJeSg6HqbazsXkQMcfl6PL3RAz-6ZGf_kmX4OGMg8isgnUJtckyZ2q6BSsBlxMwpdbotEIWEORA-TnyHuMFjBE62k5wX9agwIxPxJqnBYd0ILx39VGchbeVbLLqQN1v6pLECVjsObvZJ_dEKOjT5iy2Nmlu3BaaPlAV2ladPypva3-AMAFWVR1yquJ0gpXSukWwkolUaCC2xdIEvDdVGV2MBEFu2l5QxcQyhRW4Rx0dpbIXsxyxyFJQpzI72&recommendedFlavor=SCHOOL_RECRUIT&refId=m%2BneNncb623YFQqgoQezFw%3D%3D&trackingId=1D9SzBatLZUBFpiWXCY0dg%3D%3D&trk=flagship3_search_srp_jobs\n",
      "Buen url https://www.linkedin.com/jobs/view/3271327925/?eBP=CwEAAAGDUqpeI-7cBWkfcctoT1m2moSQbnDolyYE38S_7jJi0CKcHGKDLaGDAAF2RlKx732YgoMjV0iytytlxVPNgJwHY7VaMCSfqJeSg6HqbazsXkQMcfl6PL3RAz-6ZGf_kmX4OGMg8isgnUJtckyZ2q6BSsBlxMwpdbotEIWEORA-TnyHuMFjBE62k5wX9agwIxPxJqnBYd0ILx39VGchbeVbLLqQN1v6pLECVjsObvZJ_dEKOjT5iy2Nmlu3BaaPlAV2ladPypva3-AMAFWVR1yquJ0gpXSukWwkolUaCC2xdIEvDdVGV2MBEFu2l5QxcQyhRW4Rx0dpbIXsxyxyFJQpzI72&recommendedFlavor=SCHOOL_RECRUIT&refId=m%2BneNncb623YFQqgoQezFw%3D%3D&trackingId=1D9SzBatLZUBFpiWXCY0dg%3D%3D&trk=flagship3_search_srp_jobs\n",
      "Mal url https://www.linkedin.com/company/75005848/\n",
      "Mal url https://www.linkedin.com/search/results/people/?currentCompany=75005848&origin=JOB_PAGE_CANNED_SEARCH&schoolFilter=194043\n",
      "Buen url https://www.linkedin.com/jobs/view/3269396863/?eBP=JOB_SEARCH_ORGANIC&recommendedFlavor=ACTIVELY_HIRING_COMPANY&refId=m%2BneNncb623YFQqgoQezFw%3D%3D&trackingId=rN5rJsiesl7ZZR3qod%2F%2FFQ%3D%3D&trk=flagship3_search_srp_jobs\n",
      "Buen url https://www.linkedin.com/jobs/view/3269396863/?eBP=JOB_SEARCH_ORGANIC&recommendedFlavor=ACTIVELY_HIRING_COMPANY&refId=m%2BneNncb623YFQqgoQezFw%3D%3D&trackingId=rN5rJsiesl7ZZR3qod%2F%2FFQ%3D%3D&trk=flagship3_search_srp_jobs\n",
      "Mal url https://www.linkedin.com/company/3512405/\n",
      "Buen url https://www.linkedin.com/jobs/view/3243536098/?eBP=JOB_SEARCH_ORGANIC&recommendedFlavor=ACTIVELY_HIRING_COMPANY&refId=m%2BneNncb623YFQqgoQezFw%3D%3D&trackingId=BkpeaY6H2u0DMfoD1AP7yw%3D%3D&trk=flagship3_search_srp_jobs\n",
      "Buen url https://www.linkedin.com/jobs/view/3243536098/?eBP=JOB_SEARCH_ORGANIC&recommendedFlavor=ACTIVELY_HIRING_COMPANY&refId=m%2BneNncb623YFQqgoQezFw%3D%3D&trackingId=BkpeaY6H2u0DMfoD1AP7yw%3D%3D&trk=flagship3_search_srp_jobs\n",
      "Mal url https://www.linkedin.com/company/994527/\n",
      "Buen url https://www.linkedin.com/jobs/view/3160887601/?eBP=CwEAAAGDUqpeIzVtTFnrbb5b2QFnp1ypVh6pE6vSs_tUjbLffj_fK1j3l8a8d9KDPwKKmy-0g0qBEoaMHDzxts2_3OSfGASVQzs1s1qCAgDFnZOS5OIDx02Qtg6YuetORy5M1RTDM3IEPJG-7gjgxeh-yZmfbo34PA5DIO6kA-fCYIUdhMtKywERElKLp6OsIBizdS1EHa1nvdVq-d2q-fLS3bHJEIqoDui2euvhvk-5e5pouoJkZ8dEpd6YUqx2E7ktrZqsy-th90Q8aZfUN9YgYN28FPcbpKZUyoM59LmtnPraqJIqg5V8_q_OE6E_Phpp4Zh6uj4-af3WnfhMFAkgyPv4qlohBr7eOWW2wbLfPxKvxMjhpoJnMX6xpEZuses&recommendedFlavor=ACTIVELY_HIRING_COMPANY&refId=m%2BneNncb623YFQqgoQezFw%3D%3D&trackingId=C8NHgx4YirXDLCxvka4YFw%3D%3D&trk=flagship3_search_srp_jobs\n",
      "Buen url https://www.linkedin.com/jobs/view/3160887601/?eBP=CwEAAAGDUqpeIzVtTFnrbb5b2QFnp1ypVh6pE6vSs_tUjbLffj_fK1j3l8a8d9KDPwKKmy-0g0qBEoaMHDzxts2_3OSfGASVQzs1s1qCAgDFnZOS5OIDx02Qtg6YuetORy5M1RTDM3IEPJG-7gjgxeh-yZmfbo34PA5DIO6kA-fCYIUdhMtKywERElKLp6OsIBizdS1EHa1nvdVq-d2q-fLS3bHJEIqoDui2euvhvk-5e5pouoJkZ8dEpd6YUqx2E7ktrZqsy-th90Q8aZfUN9YgYN28FPcbpKZUyoM59LmtnPraqJIqg5V8_q_OE6E_Phpp4Zh6uj4-af3WnfhMFAkgyPv4qlohBr7eOWW2wbLfPxKvxMjhpoJnMX6xpEZuses&recommendedFlavor=ACTIVELY_HIRING_COMPANY&refId=m%2BneNncb623YFQqgoQezFw%3D%3D&trackingId=C8NHgx4YirXDLCxvka4YFw%3D%3D&trk=flagship3_search_srp_jobs\n",
      "Mal url https://www.linkedin.com/company/78869/\n"
     ]
    }
   ],
   "source": [
    "for job in jobs:\n",
    "    if job.get_attribute('href').find('jobs') > 0:\n",
    "        job.click()\n",
    "        time.sleep(1)\n",
    "        print('Buen url', job.get_attribute('href'))\n",
    "    else:\n",
    "        time.sleep(1)\n",
    "        print('Mal url', job.get_attribute('href'))"
   ]
  },
  {
   "cell_type": "code",
   "execution_count": 106,
   "metadata": {},
   "outputs": [
    {
     "ename": "StaleElementReferenceException",
     "evalue": "Message: stale element reference: element is not attached to the page document\n  (Session info: chrome=105.0.5195.127)\n",
     "output_type": "error",
     "traceback": [
      "\u001b[1;31m---------------------------------------------------------------------------\u001b[0m",
      "\u001b[1;31mStaleElementReferenceException\u001b[0m            Traceback (most recent call last)",
      "\u001b[1;32mc:\\Users\\Pedro Vallarino\\Desktop\\Repos\\Python\\Linkedin Web Scraper\\main.ipynb Celda 4\u001b[0m in \u001b[0;36m<cell line: 1>\u001b[1;34m()\u001b[0m\n\u001b[0;32m      <a href='vscode-notebook-cell:/c%3A/Users/Pedro%20Vallarino/Desktop/Repos/Python/Linkedin%20Web%20Scraper/main.ipynb#X10sZmlsZQ%3D%3D?line=0'>1</a>\u001b[0m \u001b[39mfor\u001b[39;00m job \u001b[39min\u001b[39;00m jobs:\n\u001b[0;32m      <a href='vscode-notebook-cell:/c%3A/Users/Pedro%20Vallarino/Desktop/Repos/Python/Linkedin%20Web%20Scraper/main.ipynb#X10sZmlsZQ%3D%3D?line=1'>2</a>\u001b[0m     \u001b[39m#print(job)\u001b[39;00m\n\u001b[0;32m      <a href='vscode-notebook-cell:/c%3A/Users/Pedro%20Vallarino/Desktop/Repos/Python/Linkedin%20Web%20Scraper/main.ipynb#X10sZmlsZQ%3D%3D?line=2'>3</a>\u001b[0m     \u001b[39m#job_1 = job.get_attribute('href')\u001b[39;00m\n\u001b[0;32m      <a href='vscode-notebook-cell:/c%3A/Users/Pedro%20Vallarino/Desktop/Repos/Python/Linkedin%20Web%20Scraper/main.ipynb#X10sZmlsZQ%3D%3D?line=3'>4</a>\u001b[0m     \u001b[39m#print(job_1)\u001b[39;00m\n\u001b[1;32m----> <a href='vscode-notebook-cell:/c%3A/Users/Pedro%20Vallarino/Desktop/Repos/Python/Linkedin%20Web%20Scraper/main.ipynb#X10sZmlsZQ%3D%3D?line=4'>5</a>\u001b[0m     job\u001b[39m.\u001b[39;49mclick()\n\u001b[0;32m      <a href='vscode-notebook-cell:/c%3A/Users/Pedro%20Vallarino/Desktop/Repos/Python/Linkedin%20Web%20Scraper/main.ipynb#X10sZmlsZQ%3D%3D?line=5'>6</a>\u001b[0m     time\u001b[39m.\u001b[39msleep(\u001b[39m5\u001b[39m)\n",
      "File \u001b[1;32mc:\\Users\\Pedro Vallarino\\AppData\\Local\\Programs\\Python\\Python310\\lib\\site-packages\\selenium\\webdriver\\remote\\webelement.py:80\u001b[0m, in \u001b[0;36mWebElement.click\u001b[1;34m(self)\u001b[0m\n\u001b[0;32m     78\u001b[0m \u001b[39mdef\u001b[39;00m \u001b[39mclick\u001b[39m(\u001b[39mself\u001b[39m):\n\u001b[0;32m     79\u001b[0m     \u001b[39m\"\"\"Clicks the element.\"\"\"\u001b[39;00m\n\u001b[1;32m---> 80\u001b[0m     \u001b[39mself\u001b[39;49m\u001b[39m.\u001b[39;49m_execute(Command\u001b[39m.\u001b[39;49mCLICK_ELEMENT)\n",
      "File \u001b[1;32mc:\\Users\\Pedro Vallarino\\AppData\\Local\\Programs\\Python\\Python310\\lib\\site-packages\\selenium\\webdriver\\remote\\webelement.py:633\u001b[0m, in \u001b[0;36mWebElement._execute\u001b[1;34m(self, command, params)\u001b[0m\n\u001b[0;32m    631\u001b[0m     params \u001b[39m=\u001b[39m {}\n\u001b[0;32m    632\u001b[0m params[\u001b[39m'\u001b[39m\u001b[39mid\u001b[39m\u001b[39m'\u001b[39m] \u001b[39m=\u001b[39m \u001b[39mself\u001b[39m\u001b[39m.\u001b[39m_id\n\u001b[1;32m--> 633\u001b[0m \u001b[39mreturn\u001b[39;00m \u001b[39mself\u001b[39;49m\u001b[39m.\u001b[39;49m_parent\u001b[39m.\u001b[39;49mexecute(command, params)\n",
      "File \u001b[1;32mc:\\Users\\Pedro Vallarino\\AppData\\Local\\Programs\\Python\\Python310\\lib\\site-packages\\selenium\\webdriver\\remote\\webdriver.py:321\u001b[0m, in \u001b[0;36mWebDriver.execute\u001b[1;34m(self, driver_command, params)\u001b[0m\n\u001b[0;32m    319\u001b[0m response \u001b[39m=\u001b[39m \u001b[39mself\u001b[39m\u001b[39m.\u001b[39mcommand_executor\u001b[39m.\u001b[39mexecute(driver_command, params)\n\u001b[0;32m    320\u001b[0m \u001b[39mif\u001b[39;00m response:\n\u001b[1;32m--> 321\u001b[0m     \u001b[39mself\u001b[39;49m\u001b[39m.\u001b[39;49merror_handler\u001b[39m.\u001b[39;49mcheck_response(response)\n\u001b[0;32m    322\u001b[0m     response[\u001b[39m'\u001b[39m\u001b[39mvalue\u001b[39m\u001b[39m'\u001b[39m] \u001b[39m=\u001b[39m \u001b[39mself\u001b[39m\u001b[39m.\u001b[39m_unwrap_value(\n\u001b[0;32m    323\u001b[0m         response\u001b[39m.\u001b[39mget(\u001b[39m'\u001b[39m\u001b[39mvalue\u001b[39m\u001b[39m'\u001b[39m, \u001b[39mNone\u001b[39;00m))\n\u001b[0;32m    324\u001b[0m     \u001b[39mreturn\u001b[39;00m response\n",
      "File \u001b[1;32mc:\\Users\\Pedro Vallarino\\AppData\\Local\\Programs\\Python\\Python310\\lib\\site-packages\\selenium\\webdriver\\remote\\errorhandler.py:242\u001b[0m, in \u001b[0;36mErrorHandler.check_response\u001b[1;34m(self, response)\u001b[0m\n\u001b[0;32m    240\u001b[0m         alert_text \u001b[39m=\u001b[39m value[\u001b[39m'\u001b[39m\u001b[39malert\u001b[39m\u001b[39m'\u001b[39m]\u001b[39m.\u001b[39mget(\u001b[39m'\u001b[39m\u001b[39mtext\u001b[39m\u001b[39m'\u001b[39m)\n\u001b[0;32m    241\u001b[0m     \u001b[39mraise\u001b[39;00m exception_class(message, screen, stacktrace, alert_text)\n\u001b[1;32m--> 242\u001b[0m \u001b[39mraise\u001b[39;00m exception_class(message, screen, stacktrace)\n",
      "\u001b[1;31mStaleElementReferenceException\u001b[0m: Message: stale element reference: element is not attached to the page document\n  (Session info: chrome=105.0.5195.127)\n"
     ]
    }
   ],
   "source": [
    "for job in jobs:\n",
    "    \n",
    "    #print(job)\n",
    "    #job_1 = job.get_attribute('href')\n",
    "    #print(job_1)\n",
    "    job.click()\n",
    "    time.sleep(5)\n",
    "\n",
    "#i = 2\n",
    "#while i <= int(number_of_jobs/25)+1: \n",
    "    #i = i + 1\n",
    "    #element.location_once_scrolled_into_view\n",
    "\n",
    "#try:\n",
    "#    browser.find_element_by_xpath('/html/body/main/div/section/button').click()\n",
    "#    time.sleep(5)\n",
    "#except:\n",
    "#    pass\n",
    "#    time.sleep(5)"
   ]
  },
  {
   "cell_type": "code",
   "execution_count": 27,
   "metadata": {},
   "outputs": [
    {
     "ename": "AttributeError",
     "evalue": "'WebElement' object has no attribute 'getAttribute'",
     "output_type": "error",
     "traceback": [
      "\u001b[1;31m---------------------------------------------------------------------------\u001b[0m",
      "\u001b[1;31mAttributeError\u001b[0m                            Traceback (most recent call last)",
      "\u001b[1;32mc:\\Users\\Pedro Vallarino\\Desktop\\Repos\\Python\\Linkedin Web Scraper\\main.ipynb Celda 8\u001b[0m in \u001b[0;36m<cell line: 8>\u001b[1;34m()\u001b[0m\n\u001b[0;32m      <a href='vscode-notebook-cell:/c%3A/Users/Pedro%20Vallarino/Desktop/Repos/Python/Linkedin%20Web%20Scraper/main.ipynb#W2sZmlsZQ%3D%3D?line=5'>6</a>\u001b[0m job_link \u001b[39m=\u001b[39m []\n\u001b[0;32m      <a href='vscode-notebook-cell:/c%3A/Users/Pedro%20Vallarino/Desktop/Repos/Python/Linkedin%20Web%20Scraper/main.ipynb#W2sZmlsZQ%3D%3D?line=7'>8</a>\u001b[0m \u001b[39mfor\u001b[39;00m job \u001b[39min\u001b[39;00m jobs:\n\u001b[1;32m----> <a href='vscode-notebook-cell:/c%3A/Users/Pedro%20Vallarino/Desktop/Repos/Python/Linkedin%20Web%20Scraper/main.ipynb#W2sZmlsZQ%3D%3D?line=8'>9</a>\u001b[0m     job_id0 \u001b[39m=\u001b[39m job\u001b[39m.\u001b[39;49mgetAttribute(\u001b[39m'\u001b[39m\u001b[39mdata-id\u001b[39m\u001b[39m'\u001b[39m)\n\u001b[0;32m     <a href='vscode-notebook-cell:/c%3A/Users/Pedro%20Vallarino/Desktop/Repos/Python/Linkedin%20Web%20Scraper/main.ipynb#W2sZmlsZQ%3D%3D?line=9'>10</a>\u001b[0m     job_id\u001b[39m.\u001b[39mappend(job_id0)\n\u001b[0;32m     <a href='vscode-notebook-cell:/c%3A/Users/Pedro%20Vallarino/Desktop/Repos/Python/Linkedin%20Web%20Scraper/main.ipynb#W2sZmlsZQ%3D%3D?line=11'>12</a>\u001b[0m     job_title0 \u001b[39m=\u001b[39m job\u001b[39m.\u001b[39mfind_element_by_css_selector(\u001b[39m'\u001b[39m\u001b[39mh3\u001b[39m\u001b[39m'\u001b[39m)\u001b[39m.\u001b[39mget_attribute(\u001b[39m'\u001b[39m\u001b[39minnerText\u001b[39m\u001b[39m'\u001b[39m)\n",
      "\u001b[1;31mAttributeError\u001b[0m: 'WebElement' object has no attribute 'getAttribute'"
     ]
    }
   ],
   "source": [
    "job_id= []\n",
    "job_title = []\n",
    "company_name = []\n",
    "location = []\n",
    "date = []\n",
    "job_link = []\n",
    "\n",
    "for job in jobs:\n",
    "    job_id0 = job.get('data-id')\n",
    "    job_id.append(job_id0)\n",
    " \n",
    "    job_title0 = job.find_element_by_css_selector('h3').get_attribute('innerText')\n",
    "    job_title.append(job_title0)\n",
    " \n",
    "    company_name0 = job.find_element_by_css_selector('h4').get_attribute('innerText')\n",
    "    company_name.append(company_name0)\n",
    " \n",
    "    location0 = job.find_element_by_css_selector('[class=”job-result-card__location”]').get_attribute('innerText')\n",
    "    location.append(location0)\n",
    " \n",
    "    date0 = job.find_element_by_css_selector('div>div>time').get_attribute('datetime')\n",
    "    date.append(date0)\n",
    " \n",
    "    job_link0 = job.find_element_by_css_selector('a').get_attribute('href')\n",
    "    job_link.append(job_link0)"
   ]
  },
  {
   "cell_type": "code",
   "execution_count": null,
   "metadata": {},
   "outputs": [],
   "source": []
  }
 ],
 "metadata": {
  "kernelspec": {
   "display_name": "Python 3.10.4 64-bit",
   "language": "python",
   "name": "python3"
  },
  "language_info": {
   "codemirror_mode": {
    "name": "ipython",
    "version": 3
   },
   "file_extension": ".py",
   "mimetype": "text/x-python",
   "name": "python",
   "nbconvert_exporter": "python",
   "pygments_lexer": "ipython3",
   "version": "3.10.4"
  },
  "orig_nbformat": 4,
  "vscode": {
   "interpreter": {
    "hash": "5eab50eec49d5a3ddbbcb7afb1b75079b1a0651d7988c01e8d65eaa58a70a5c8"
   }
  }
 },
 "nbformat": 4,
 "nbformat_minor": 2
}
