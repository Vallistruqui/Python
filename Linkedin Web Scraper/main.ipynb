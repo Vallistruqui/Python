{
 "cells": [
  {
   "cell_type": "code",
   "execution_count": 9,
   "metadata": {},
   "outputs": [],
   "source": [
    "from selenium import webdriver\n",
    "from webdriver_manager.chrome import ChromeDriverManager\n",
    "from selenium.webdriver.common.by import By\n",
    "import time\n",
    "import pandas as pd\n",
    "import re\n",
    "\n",
    "# Initiate the browser\n",
    "browser  = webdriver.Chrome(ChromeDriverManager().install())\n",
    "\n",
    "# Open the Website\n",
    "browser.get('https://www.linkedin.com/login/es?fromSignIn=true&trk=guest_homepage-basic_nav-header-signin')\n",
    "\n",
    "#Login info\n",
    "linkedin_username = 'vallarinopedro@gmail.com'\n",
    "linkedin_password = 'vV1^7I22l#a%gYW^!Jl1'\n",
    "\n",
    "#Input password\n",
    "browser.find_element(By.XPATH,'//*[@id=\"username\"]').send_keys(linkedin_username)\n",
    "browser.find_element(By.XPATH,'//*[@id=\"password\"]').send_keys(linkedin_password)\n",
    "browser.find_element(By.XPATH,'//*[@id=\"organic-div\"]/form/div[3]/button').click()\n",
    "\n",
    "browser.get('https://www.linkedin.com/jobs/search/?currentJobId=3222732029&f_AL=true&f_E=2%2C3%2C4&f_JT=F&f_WT=2&geoId=92000000&keywords=Data%20Analyst')\n",
    "number_of_jobs = re.findall(r'\\d+', browser.find_element_by_xpath('//*[@id=\"main\"]/div/section[1]/header/div[1]/small').get_attribute('innerText'))\n",
    "number_of_jobs = ''.join(number_of_jobs)\n",
    "number_of_jobs = int(number_of_jobs)\n",
    "\n",
    "time.sleep(5)\n",
    "\n",
    "from selenium.webdriver.common.keys import Keys\n",
    "\n",
    "job_titles = browser.find_elements_by_class_name('jobs-search-results__list-item')\n",
    "browser.find_element_by_tag_name('body').send_keys(Keys.PAGE_DOWN)\n",
    "\n",
    "browser.close()"
   ]
  },
  {
   "cell_type": "code",
   "execution_count": null,
   "metadata": {},
   "outputs": [],
   "source": [
    "\n",
    "'''\n",
    "i = 2\n",
    "while i <= int(number_of_jobs/25)+1: \n",
    "    i = i + 1\n",
    "\n",
    "\n",
    "jobs = job_lists.find_elements_by_tag_name('li') # return a list\n",
    "\n",
    "     try:\n",
    "     wd.find_element_by_xpath(‘/html/body/main/div/section/button’).click()\n",
    "     time.sleep(5)\n",
    "     except:\n",
    "         pass\n",
    "         time.sleep(5) '''"
   ]
  },
  {
   "cell_type": "code",
   "execution_count": null,
   "metadata": {},
   "outputs": [],
   "source": [
    "job_id= []\n",
    "job_title = []\n",
    "company_name = []\n",
    "location = []\n",
    "date = []\n",
    "job_link = []\n",
    "\n",
    "for job in jobs:\n",
    "    job_id0 = job.get_attribute('data-id')\n",
    "    job_id.append(job_id0)\n",
    " \n",
    "    job_title0 = job.find_element_by_css_selector('h3').get_attribute('innerText')\n",
    "    job_title.append(job_title0)\n",
    " \n",
    "    company_name0 = job.find_element_by_css_selector('h4').get_attribute('innerText')\n",
    "    company_name.append(company_name0)\n",
    " \n",
    "    location0 = job.find_element_by_css_selector('[class=”job-result-card__location”]').get_attribute('innerText')\n",
    "    location.append(location0)\n",
    " \n",
    "    date0 = job.find_element_by_css_selector('div>div>time').get_attribute('datetime')\n",
    "    date.append(date0)\n",
    " \n",
    "    job_link0 = job.find_element_by_css_selector('a').get_attribute('href')\n",
    "    job_link.append(job_link0)"
   ]
  }
 ],
 "metadata": {
  "kernelspec": {
   "display_name": "Python 3.10.4 64-bit",
   "language": "python",
   "name": "python3"
  },
  "language_info": {
   "codemirror_mode": {
    "name": "ipython",
    "version": 3
   },
   "file_extension": ".py",
   "mimetype": "text/x-python",
   "name": "python",
   "nbconvert_exporter": "python",
   "pygments_lexer": "ipython3",
   "version": "3.10.4"
  },
  "orig_nbformat": 4,
  "vscode": {
   "interpreter": {
    "hash": "5eab50eec49d5a3ddbbcb7afb1b75079b1a0651d7988c01e8d65eaa58a70a5c8"
   }
  }
 },
 "nbformat": 4,
 "nbformat_minor": 2
}
