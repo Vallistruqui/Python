{
 "cells": [
  {
   "cell_type": "code",
   "execution_count": 9,
   "metadata": {},
   "outputs": [
    {
     "name": "stdout",
     "output_type": "stream",
     "text": [
      "The number of jobs of this search is 16429\n",
      "The current page is 1\n",
      "The current page is 2\n",
      "The current page is 3\n",
      "The current page is 4\n",
      "The current page is 5\n",
      "The current page is 6\n",
      "The current page is 7\n",
      "The current page is 8\n",
      "The current page is 9\n",
      "The current page is 10\n",
      "The current page is 11\n"
     ]
    },
    {
     "ename": "KeyboardInterrupt",
     "evalue": "",
     "output_type": "error",
     "traceback": [
      "\u001b[1;31m---------------------------------------------------------------------------\u001b[0m",
      "\u001b[1;31mKeyboardInterrupt\u001b[0m                         Traceback (most recent call last)",
      "\u001b[1;32mc:\\Users\\Pedro Vallarino\\Desktop\\Repos\\Python\\Linkedin Web Scraper\\main.ipynb Celda 1\u001b[0m in \u001b[0;36m<cell line: 33>\u001b[1;34m()\u001b[0m\n\u001b[0;32m     <a href='vscode-notebook-cell:/c%3A/Users/Pedro%20Vallarino/Desktop/Repos/Python/Linkedin%20Web%20Scraper/main.ipynb#W3sZmlsZQ%3D%3D?line=49'>50</a>\u001b[0m \u001b[39mfor\u001b[39;00m job \u001b[39min\u001b[39;00m jobs:\n\u001b[0;32m     <a href='vscode-notebook-cell:/c%3A/Users/Pedro%20Vallarino/Desktop/Repos/Python/Linkedin%20Web%20Scraper/main.ipynb#W3sZmlsZQ%3D%3D?line=50'>51</a>\u001b[0m     job\u001b[39m.\u001b[39mlocation_once_scrolled_into_view\n\u001b[1;32m---> <a href='vscode-notebook-cell:/c%3A/Users/Pedro%20Vallarino/Desktop/Repos/Python/Linkedin%20Web%20Scraper/main.ipynb#W3sZmlsZQ%3D%3D?line=51'>52</a>\u001b[0m     time\u001b[39m.\u001b[39;49msleep(\u001b[39m0.1\u001b[39;49m)\n\u001b[0;32m     <a href='vscode-notebook-cell:/c%3A/Users/Pedro%20Vallarino/Desktop/Repos/Python/Linkedin%20Web%20Scraper/main.ipynb#W3sZmlsZQ%3D%3D?line=53'>54</a>\u001b[0m \u001b[39m# This second time the jobs element has all the neccesary information inside of them\u001b[39;00m\n\u001b[0;32m     <a href='vscode-notebook-cell:/c%3A/Users/Pedro%20Vallarino/Desktop/Repos/Python/Linkedin%20Web%20Scraper/main.ipynb#W3sZmlsZQ%3D%3D?line=54'>55</a>\u001b[0m jobs \u001b[39m=\u001b[39m browser\u001b[39m.\u001b[39mfind_element(By\u001b[39m.\u001b[39mXPATH,\u001b[39m\"\u001b[39m\u001b[39m//ul[contains(@class,\u001b[39m\u001b[39m'\u001b[39m\u001b[39mscaffold-layout__list-container\u001b[39m\u001b[39m'\u001b[39m\u001b[39m)]\u001b[39m\u001b[39m\"\u001b[39m)\u001b[39m.\u001b[39mfind_elements_by_xpath(\u001b[39m'\u001b[39m\u001b[39m./*\u001b[39m\u001b[39m'\u001b[39m)\n",
      "\u001b[1;31mKeyboardInterrupt\u001b[0m: "
     ]
    }
   ],
   "source": [
    "from selenium import webdriver\n",
    "from webdriver_manager.chrome import ChromeDriverManager\n",
    "import pandas as pd\n",
    "import re\n",
    "import time\n",
    "import random\n",
    "from selenium.webdriver.common.by import By\n",
    "\n",
    "# Initiate the browser\n",
    "browser  = webdriver.Chrome(ChromeDriverManager().install())\n",
    "\n",
    "# Open the Website\n",
    "browser.get('https://www.linkedin.com/login/es?fromSignIn=true&trk=guest_homepage-basic_nav-header-signin')\n",
    "\n",
    "#Login info\n",
    "linkedin_username = 'vallarinopedro@gmail.com'\n",
    "linkedin_password = 'vV1^7I22l#a%gYW^!Jl1'\n",
    "\n",
    "#Input password\n",
    "browser.find_element(By.XPATH,'//*[@id=\"username\"]').send_keys(linkedin_username)\n",
    "browser.find_element(By.XPATH,'//*[@id=\"password\"]').send_keys(linkedin_password)\n",
    "browser.find_element(By.XPATH,'//*[@id=\"organic-div\"]/form/div[3]/button').click()\n",
    "\n",
    "linkedin_job_links =   ['https://www.linkedin.com/jobs/search/?alertAction=viewjobs&currentJobId=3302691806&f_E=2%2C3%2C4&f_JT=F&f_TPR=r2592000&f_WT=2&geoId=92000000&keywords=Product%20Analyst&location=En%20todo%20el%20mundo&sortBy=R',                                            #Product Analyst\n",
    "                        'https://www.linkedin.com/jobs/search/?alertAction=viewjobs&currentJobId=3307733341&f_AL=true&f_E=2%2C3%2C4&f_JT=F&f_TPR=a1665442986-&f_WT=2&keywords=Data%20Analyst&savedSearchId=1730274642&searchAlertRefId=c2107651-3613-43d7-8e29-2ea3afb4dce7',          #Data Analyst\n",
    "                        'https://www.linkedin.com/jobs/search/?alertAction=viewjobs&currentJobId=3312018922&f_AL=true&f_E=2%2C3%2C4&f_JT=F&f_TPR=a1665442986-&f_WT=2&keywords=Product%20Owner&savedSearchId=1730274666&searchAlertRefId=396ebb5d-e2e9-457a-9360-bfbc4c560803',         #Product Owner\n",
    "                        'https://www.linkedin.com/jobs/search/?alertAction=viewjobs&currentJobId=3311656801&f_AL=true&f_E=2%2C3%2C4&f_JT=F&f_TPR=a1665442986-&f_WT=2&keywords=Data%20Scientist&savedSearchId=1730274650&searchAlertRefId=23093265-c066-42b3-a4db-d2bdef7f737e']        #Data Scientist\n",
    "\n",
    "# Upsizing of the windows and setting window position\n",
    "browser.set_window_position(1, 1)\n",
    "browser.maximize_window()\n",
    "\n",
    "for link in linkedin_job_links:\n",
    "    df = pd.DataFrame(columns=['Job Title','Job Company','Job Location','Job Description','Job Words'])\n",
    "    browser.get(link)\n",
    "\n",
    "    number_of_jobs = re.findall(r'\\d+', browser.find_element(By.XPATH,'//*[@id=\"main\"]/div/section[1]/header/div[1]/small').get_attribute('innerText'))\n",
    "    number_of_jobs = ''.join(number_of_jobs)\n",
    "    number_of_jobs = int(number_of_jobs)\n",
    "    print('The number of jobs of this search is',number_of_jobs)\n",
    "\n",
    "    while True:\n",
    "        # For DOM load, 2 second wait time is appropiate\n",
    "        time.sleep(2)\n",
    "\n",
    "        # All job cards are loaded to then be reference points to scroll by\n",
    "        jobs = browser.find_element(By.XPATH,\"//ul[contains(@class,'scaffold-layout__list-container')]\").find_elements_by_xpath('./*')\n",
    "\n",
    "        # Due to lazy loading scroll down is necessary to load all the neccesary information in the HTML \n",
    "        for job in jobs:\n",
    "            job.location_once_scrolled_into_view\n",
    "            time.sleep(0.1)\n",
    "\n",
    "        # This second time the jobs element has all the neccesary information inside of them\n",
    "        jobs = browser.find_element(By.XPATH,\"//ul[contains(@class,'scaffold-layout__list-container')]\").find_elements_by_xpath('./*')\n",
    "\n",
    "        for job in jobs:\n",
    "            insert_row = {\n",
    "                        'Job Title':       job.get_attribute('innerText').split('\\n')[0],\n",
    "                        'Job Company':     job.get_attribute('innerText').split('\\n')[1],\n",
    "                        'Job Location':    job.get_attribute('innerText').split('\\n')[2],\n",
    "                        'Job Description': browser.find_element(By.ID,'job-details').get_attribute('innerText'),\n",
    "                        'Job Words':       browser.find_element(By.ID,'job-details').get_attribute('innerText').split() \n",
    "                        }\n",
    "\n",
    "            df = pd.concat([df, pd.DataFrame([insert_row])])\n",
    "            \n",
    "        pagination_elements = browser.find_elements(By.XPATH,\"//li[contains(@class,'artdeco-pagination__indicator artdeco-pagination__indicator--number')]\")\n",
    "\n",
    "        # Actual page analysis\n",
    "        for page_number in pagination_elements:\n",
    "            if page_number.find_element(By.CSS_SELECTOR,'button').get_attribute('aria-current') == 'true':\n",
    "                current_page = page_number\n",
    "                print('The current page is', page_number.get_attribute('data-test-pagination-page-btn'))\n",
    "\n",
    "            try:\n",
    "                if int(re.findall(r'\\d+',page_number.find_element(By.CSS_SELECTOR,'button').get_attribute('aria-label'))[0]) == int(re.findall(r'\\d+',current_page.find_element(By.CSS_SELECTOR,'button').get_attribute('aria-label'))[0]) + 1:\n",
    "                    page_number.click()\n",
    "                    break\n",
    "            except:\n",
    "                pass"
   ]
  },
  {
   "cell_type": "code",
   "execution_count": 8,
   "metadata": {},
   "outputs": [
    {
     "data": {
      "text/plain": [
       "40"
      ]
     },
     "execution_count": 8,
     "metadata": {},
     "output_type": "execute_result"
    }
   ],
   "source": [
    "int(re.findall(r'\\d+',page_number.find_element(By.CSS_SELECTOR,'button').get_attribute('aria-label'))[0])"
   ]
  },
  {
   "cell_type": "code",
   "execution_count": null,
   "metadata": {},
   "outputs": [],
   "source": []
  }
 ],
 "metadata": {
  "kernelspec": {
   "display_name": "Python 3.10.4 64-bit",
   "language": "python",
   "name": "python3"
  },
  "language_info": {
   "codemirror_mode": {
    "name": "ipython",
    "version": 3
   },
   "file_extension": ".py",
   "mimetype": "text/x-python",
   "name": "python",
   "nbconvert_exporter": "python",
   "pygments_lexer": "ipython3",
   "version": "3.10.4"
  },
  "orig_nbformat": 4,
  "vscode": {
   "interpreter": {
    "hash": "5eab50eec49d5a3ddbbcb7afb1b75079b1a0651d7988c01e8d65eaa58a70a5c8"
   }
  }
 },
 "nbformat": 4,
 "nbformat_minor": 2
}
